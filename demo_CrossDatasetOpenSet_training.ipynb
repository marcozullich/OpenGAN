{
 "cells": [
  {
   "cell_type": "markdown",
   "metadata": {},
   "source": [
    "OpenGAN: Open-Set Recognition via Open Data Generation\n",
    "================\n",
    "**Supplemental Material for ICCV2021 Submission**\n",
    "\n",
    "\n",
    "In this notebook, we demonstrate how we train the GAN-fea model on the TinyImageNet train-set, providing the closed-set images."
   ]
  },
  {
   "cell_type": "markdown",
   "metadata": {},
   "source": [
    "import packages\n",
    "------------------\n",
    "\n",
    "Some packages are installed automatically through Anaconda. PyTorch should be also installed."
   ]
  },
  {
   "cell_type": "code",
   "execution_count": 124,
   "metadata": {},
   "outputs": [
    {
     "name": "stdout",
     "output_type": "stream",
     "text": [
      "3.10.4 (main, Mar 31 2022, 08:41:55) [GCC 7.5.0]\n",
      "1.11.0\n",
      "Random Seed:  999\n"
     ]
    },
    {
     "data": {
      "text/plain": [
       "<torch._C.Generator at 0x7f2a81571eb0>"
      ]
     },
     "execution_count": 124,
     "metadata": {},
     "output_type": "execute_result"
    }
   ],
   "source": [
    "from __future__ import print_function, division\n",
    "import os, random, time, copy\n",
    "from skimage import io, transform\n",
    "import numpy as np\n",
    "import pandas as pd\n",
    "import os.path as path\n",
    "import scipy.io as sio\n",
    "from scipy import misc\n",
    "from scipy import ndimage, signal\n",
    "import scipy\n",
    "import pickle\n",
    "import sys\n",
    "import math\n",
    "import matplotlib.pyplot as plt\n",
    "import PIL.Image\n",
    "from io import BytesIO\n",
    "\n",
    "\n",
    "import torch\n",
    "from torch.utils.data import Dataset, DataLoader\n",
    "import torch.nn as nn\n",
    "import torch.optim as optim\n",
    "from torch.optim import lr_scheduler \n",
    "import torch.nn.functional as F\n",
    "from torch.autograd import Variable\n",
    "import torchvision\n",
    "from torchvision import datasets, models, transforms\n",
    "import torchvision.utils as vutils\n",
    "from torchvision import transforms as T\n",
    "import torchinfo\n",
    "\n",
    "from utils.eval_funcs import *\n",
    "from utils.dataset_tinyimagenet import *\n",
    "\n",
    "import warnings # ignore warnings\n",
    "warnings.filterwarnings(\"ignore\")\n",
    "print(sys.version)\n",
    "print(torch.__version__)\n",
    "\n",
    "\n",
    "manualSeed = 999\n",
    "print(\"Random Seed: \", manualSeed)\n",
    "random.seed(manualSeed)\n",
    "torch.manual_seed(manualSeed)"
   ]
  },
  {
   "cell_type": "markdown",
   "metadata": {},
   "source": [
    "Setup config parameters\n",
    " -----------------\n",
    " \n",
    " There are several things to setup, like which GPU to use, where to read images and save files, etc. Please read and understand this. By default, you should be able to run this script smoothly by changing nothing."
   ]
  },
  {
   "cell_type": "code",
   "execution_count": 214,
   "metadata": {
    "scrolled": true
   },
   "outputs": [
    {
     "name": "stdout",
     "output_type": "stream",
     "text": [
      "./exp/step002_GANfea_redux_val_p2Res18sc\n"
     ]
    }
   ],
   "source": [
    "# set the random seed\n",
    "torch.manual_seed(0)\n",
    "\n",
    "################## set attributes for this project/experiment ##################\n",
    "# config result folder\n",
    "exp_dir = './exp' # experiment directory, used for reading the init model\n",
    "\n",
    "modelFlag = 'Res18sc'\n",
    "\n",
    "project_name = 'step002_GANfea_redux_val_p2' + modelFlag   # we save all the checkpoints in this directory\n",
    "\n",
    "# set device, which gpu to use.\n",
    "device ='cpu'\n",
    "if torch.cuda.is_available(): \n",
    "    device='cuda:0'\n",
    "\n",
    "\n",
    "total_epoch_num = 600 # total number of epoch in training\n",
    "batch_size = 128    \n",
    "\n",
    "newsize = (64, 64)\n",
    "\n",
    "\n",
    "path_to_feats = './feats' # the path to cached off-the-shelf features\n",
    "pklName = path.join(path_to_feats, modelFlag.lower()+'.pkl')\n",
    "\n",
    "\n",
    "\n",
    "# For GAN-fea, we set the hyper-parameters as below.\n",
    "\n",
    "# Number of channels in the training images. For color images this is 3\n",
    "nc = 512\n",
    "\n",
    "# Size of z latent vector (i.e. size of generator input)\n",
    "nz = 100\n",
    "# nz = 16\n",
    "\n",
    "# Size of feature maps in generator\n",
    "ngf = 64\n",
    "\n",
    "# Size of feature maps in discriminator\n",
    "ndf = 64\n",
    "\n",
    "# Beta1 hyperparam for Adam optimizers\n",
    "beta1 = 0.5\n",
    "\n",
    "# Number of GPUs available. Use 0 for CPU mode.\n",
    "ngpu = 1\n",
    "\n",
    "\n",
    "\n",
    "# TinyImageNet has 200 classes.\n",
    "nClassTotal = 200\n",
    "nClassCloseset = nClassTotal\n",
    "\n",
    "#project_name += '_K{}run{}'.format(nClassCloseset, runIdx)\n",
    "if not os.path.exists(exp_dir): os.makedirs(exp_dir)\n",
    "\n",
    "\n",
    "num_epochs = total_epoch_num\n",
    "torch.cuda.device_count()\n",
    "torch.cuda.empty_cache()\n",
    "\n",
    "save_dir = os.path.join(exp_dir, project_name)\n",
    "print(save_dir)    \n",
    "if not os.path.exists(save_dir): os.makedirs(save_dir)\n",
    "\n",
    "log_filename = os.path.join(save_dir, 'train.log')"
   ]
  },
  {
   "cell_type": "markdown",
   "metadata": {},
   "source": [
    "Define model architecture\n",
    "---------\n",
    "\n",
    "Here is the definition of the model architectures for generator and discriminator. Both are multi-layer perceptron (MLP) networks."
   ]
  },
  {
   "cell_type": "code",
   "execution_count": 206,
   "metadata": {},
   "outputs": [],
   "source": [
    "def weights_init(m):\n",
    "    classname = m.__class__.__name__\n",
    "    if classname.find('Conv') != -1:\n",
    "        nn.init.normal_(m.weight.data, 0.0, 0.02)\n",
    "    elif classname.find('BatchNorm') != -1:\n",
    "        nn.init.normal_(m.weight.data, 1.0, 0.02)\n",
    "        nn.init.constant_(m.bias.data, 0)     \n",
    "        \n",
    "\n",
    "class Generator(nn.Module):\n",
    "    def __init__(self, ngpu=1, nz=100, ngf=64, nc=512):\n",
    "        super(Generator, self).__init__()\n",
    "        self.ngpu = ngpu\n",
    "        self.nz = nz\n",
    "        self.ngf = ngf\n",
    "        self.nc = nc\n",
    "        \n",
    "        self.main = nn.Sequential(\n",
    "            # input is Z, going into a convolution\n",
    "            # Conv2d(in_channels, out_channels, kernel_size, stride=1, padding=0, dilation=1, groups=1, bias=True, padding_mode='zeros')\n",
    "            nn.Conv2d( self.nz, self.ngf * 8, 1, 1, 0, bias=False),\n",
    "            nn.BatchNorm2d(self.ngf * 8),\n",
    "            nn.ReLU(True),\n",
    "            # state size. (self.ngf*8) x 4 x 4\n",
    "            nn.Conv2d(self.ngf * 8, self.ngf * 4, 1, 1, 0, bias=False),\n",
    "            nn.BatchNorm2d(self.ngf * 4),\n",
    "            nn.ReLU(True),\n",
    "            # state size. (self.ngf*4) x 8 x 8\n",
    "            nn.Conv2d( self.ngf * 4, self.ngf * 2, 1, 1, 0, bias=False),\n",
    "            nn.BatchNorm2d(self.ngf * 2),\n",
    "            nn.ReLU(True),\n",
    "            # state size. (self.ngf*2) x 16 x 16\n",
    "            nn.Conv2d( self.ngf * 2, self.ngf*4, 1, 1, 0, bias=False),\n",
    "            nn.BatchNorm2d(self.ngf*4),\n",
    "            nn.ReLU(True),\n",
    "            # state size. (self.ngf) x 32 x 32\n",
    "            nn.Conv2d( self.ngf*4, self.nc, 1, 1, 0, bias=True),\n",
    "            #nn.Tanh()\n",
    "            # state size. (self.nc) x 64 x 64\n",
    "        )\n",
    "\n",
    "    def forward(self, input):\n",
    "        return self.main(input)\n",
    "\n",
    "    \n",
    "class Discriminator(nn.Module):\n",
    "    def __init__(self, ngpu=1, nc=512, ndf=64):\n",
    "        super(Discriminator, self).__init__()\n",
    "        self.ngpu = ngpu\n",
    "        self.nc = nc\n",
    "        self.ndf = ndf\n",
    "        self.main = nn.Sequential(\n",
    "            nn.Conv2d(self.nc, self.ndf*8, 1, 1, 0, bias=False),\n",
    "            nn.LeakyReLU(0.2, inplace=True),\n",
    "            nn.Conv2d(self.ndf*8, self.ndf*4, 1, 1, 0, bias=False),\n",
    "            nn.BatchNorm2d(self.ndf*4),\n",
    "            nn.LeakyReLU(0.2, inplace=True),\n",
    "            nn.Conv2d(self.ndf*4, self.ndf*2, 1, 1, 0, bias=False),\n",
    "            nn.BatchNorm2d(self.ndf*2),\n",
    "            nn.LeakyReLU(0.2, inplace=True),\n",
    "            nn.Conv2d(self.ndf*2, self.ndf, 1, 1, 0, bias=False),\n",
    "            nn.BatchNorm2d(self.ndf),\n",
    "            nn.LeakyReLU(0.2, inplace=True),\n",
    "            nn.Conv2d(self.ndf, 1, 1, 1, 0, bias=False),\n",
    "            nn.Sigmoid()\n",
    "        )\n",
    "\n",
    "    def forward(self, input):\n",
    "        return self.main(input)\n",
    "\n",
    "class DiscriminatorFunnel(nn.Module):\n",
    "    def __init__(self, ngpu=1, nc=512, ndf=64):\n",
    "        super(DiscriminatorFunnel, self).__init__()\n",
    "        self.ngpu = ngpu\n",
    "        self.nc = nc\n",
    "        self.ndf = ndf\n",
    "        self.main = nn.Sequential(\n",
    "            nn.Conv2d(self.nc, self.ndf*8, 3, 1, 0, bias=False),\n",
    "            nn.LeakyReLU(0.2, inplace=True),\n",
    "            nn.Conv2d(self.ndf*8, self.ndf*4, 3, 1, 0, bias=False),\n",
    "            nn.BatchNorm2d(self.ndf*4),\n",
    "            nn.LeakyReLU(0.2, inplace=True),\n",
    "            nn.Conv2d(self.ndf*4, self.ndf*2, 3, 1, 0, bias=False),\n",
    "            nn.BatchNorm2d(self.ndf*2),\n",
    "            nn.LeakyReLU(0.2, inplace=True),\n",
    "            nn.Conv2d(self.ndf*2, self.ndf, 2, 1, 0, bias=False),\n",
    "            nn.BatchNorm2d(self.ndf),\n",
    "            nn.LeakyReLU(0.2, inplace=True),\n",
    "            nn.Conv2d(self.ndf, 1, 1, 1, 0, bias=False),\n",
    "            nn.Sigmoid()\n",
    "        )\n",
    "\n",
    "    def forward(self, input):\n",
    "        return self.main(input)"
   ]
  },
  {
   "cell_type": "markdown",
   "metadata": {},
   "source": [
    "## initialize the networks"
   ]
  },
  {
   "cell_type": "code",
   "execution_count": 215,
   "metadata": {},
   "outputs": [
    {
     "name": "stdout",
     "output_type": "stream",
     "text": [
      "cuda:0\n"
     ]
    }
   ],
   "source": [
    "netG = Generator(ngpu=ngpu, nz=nz, ngf=ngf, nc=nc).to(device)\n",
    "netD = DiscriminatorFunnel(ngpu=ngpu, nc=nc, ndf=ndf).to(device)\n",
    "\n",
    "# Handle multi-gpu if desired\n",
    "if ('cuda' in device) and (ngpu > 1):\n",
    "    netD = nn.DataParallel(netD, list(range(ngpu)))\n",
    "\n",
    "    # Apply the weights_init function to randomly initialize all weights\n",
    "#  to mean=0, stdev=0.2.\n",
    "netD.apply(weights_init)\n",
    "\n",
    "\n",
    "if ('cuda' in device) and (ngpu > 1):\n",
    "    netG = nn.DataParallel(netG, list(range(ngpu)))\n",
    "netG.apply(weights_init)\n",
    "\n",
    "print(device)"
   ]
  },
  {
   "cell_type": "markdown",
   "metadata": {},
   "source": [
    "## Sanity Check"
   ]
  },
  {
   "cell_type": "code",
   "execution_count": 171,
   "metadata": {},
   "outputs": [
    {
     "name": "stdout",
     "output_type": "stream",
     "text": [
      "torch.Size([128, 100, 8, 8]) torch.Size([128, 512, 8, 8]) torch.Size([128, 1, 1, 1])\n"
     ]
    }
   ],
   "source": [
    "noise = torch.randn(batch_size, nz, 8, 8, device=device)\n",
    "# Generate fake image batch with G\n",
    "fake = netG(noise)\n",
    "predLabel = netD(fake)\n",
    "\n",
    "print(noise.shape, fake.shape, predLabel.shape)"
   ]
  },
  {
   "cell_type": "markdown",
   "metadata": {},
   "source": [
    "## Dataset setup\n",
    "\n",
    "Load the pretrained network"
   ]
  },
  {
   "cell_type": "code",
   "execution_count": 172,
   "metadata": {},
   "outputs": [],
   "source": [
    "backbone_weights = torch.load(\"resnet18_minusvalid_no_aug.pt_resnet18_0.pt\")\n",
    "backbone_weights.keys()\n",
    "backbone_weights[\"fc.weight\"].shape\n",
    "\n",
    "backbone = torchvision.models.resnet18(num_classes=backbone_weights[\"fc.weight\"].shape[0])\n",
    "backbone.load_state_dict(backbone_weights)\n",
    "backbone = backbone.cuda()\n"
   ]
  },
  {
   "cell_type": "markdown",
   "metadata": {},
   "source": [
    "Add a forward hook for storing intermediate representations"
   ]
  },
  {
   "cell_type": "code",
   "execution_count": 173,
   "metadata": {},
   "outputs": [],
   "source": [
    "features = []\n",
    "def get_features(module, input_, output):\n",
    "    features.append(output.cpu().detach())\n",
    "\n",
    "handle = backbone.layer4.register_forward_hook(get_features)"
   ]
  },
  {
   "cell_type": "markdown",
   "metadata": {},
   "source": [
    "Load the dataset"
   ]
  },
  {
   "cell_type": "code",
   "execution_count": 175,
   "metadata": {},
   "outputs": [],
   "source": [
    "import sys\n",
    "sys.path.append(\"../CV_thesis_GiovanniPinna/\")\n",
    "from data import get_dataloaders\n",
    "\n",
    "transform = T.Compose([\n",
    "        T.Resize((256, 256)),\n",
    "        # data.To01(),\n",
    "        T.ToTensor(),\n",
    "        T.Normalize(mean=(0.5, 0.5, 0.5), std=(0.5, 0.5, 0.5))\n",
    "    ])\n",
    "\n",
    "batch_size_eval = 64\n",
    "\n",
    "root_data = \"../CV_thesis_GiovanniPinna/ImageSet\"\n",
    "\n",
    "trainloader, testloader = get_dataloaders(root_data + \"/train_final\", root_data + \"/valid_final\", transform, transform, batch_size_eval, batch_size_eval)"
   ]
  },
  {
   "cell_type": "code",
   "execution_count": 5,
   "metadata": {},
   "outputs": [],
   "source": [
    "torch.cuda.empty_cache()"
   ]
  },
  {
   "cell_type": "markdown",
   "metadata": {},
   "source": [
    "get hidden features (scroll down to get pretrained ones)"
   ]
  },
  {
   "cell_type": "code",
   "execution_count": 176,
   "metadata": {},
   "outputs": [
    {
     "name": "stdout",
     "output_type": "stream",
     "text": [
      "Done 1/43\n",
      "Done 2/43\n",
      "Done 3/43\n",
      "Done 4/43\n",
      "Done 5/43\n",
      "Done 6/43\n",
      "Done 7/43\n",
      "Done 8/43\n",
      "Done 9/43\n",
      "Done 10/43\n",
      "Done 11/43\n",
      "Done 12/43\n",
      "Done 13/43\n",
      "Done 14/43\n",
      "Done 15/43\n",
      "Done 16/43\n",
      "Done 17/43\n",
      "Done 18/43\n",
      "Done 19/43\n",
      "Done 20/43\n",
      "Done 21/43\n",
      "Done 22/43\n",
      "Done 23/43\n",
      "Done 24/43\n",
      "Done 25/43\n",
      "Done 26/43\n",
      "Done 27/43\n",
      "Done 28/43\n",
      "Done 29/43\n",
      "Done 30/43\n",
      "Done 31/43\n",
      "Done 32/43\n",
      "Done 33/43\n",
      "Done 34/43\n",
      "Done 35/43\n",
      "Done 36/43\n",
      "Done 37/43\n",
      "Done 38/43\n",
      "Done 39/43\n",
      "Done 40/43\n",
      "Done 41/43\n",
      "Done 42/43\n",
      "Done 43/43\n"
     ]
    }
   ],
   "source": [
    "for i, (data, _) in enumerate(trainloader):\n",
    "    print(f\"Done {i+1}/{len(trainloader)}\")\n",
    "    _ = backbone(data.cuda())"
   ]
  },
  {
   "cell_type": "code",
   "execution_count": 178,
   "metadata": {},
   "outputs": [
    {
     "ename": "TypeError",
     "evalue": "cat() received an invalid combination of arguments - got (Tensor, dim=int), but expected one of:\n * (tuple of Tensors tensors, int dim, *, Tensor out)\n * (tuple of Tensors tensors, name dim, *, Tensor out)\n",
     "output_type": "error",
     "traceback": [
      "\u001b[0;31m---------------------------------------------------------------------------\u001b[0m",
      "\u001b[0;31mTypeError\u001b[0m                                 Traceback (most recent call last)",
      "\u001b[1;32m/media/zullich/LabControlli1/OpenGAN/demo_CrossDatasetOpenSet_training.ipynb Cell 21\u001b[0m in \u001b[0;36m<cell line: 2>\u001b[0;34m()\u001b[0m\n\u001b[1;32m      <a href='vscode-notebook-cell:/media/zullich/LabControlli1/OpenGAN/demo_CrossDatasetOpenSet_training.ipynb#X26sZmlsZQ%3D%3D?line=0'>1</a>\u001b[0m \u001b[39m# save\u001b[39;00m\n\u001b[0;32m----> <a href='vscode-notebook-cell:/media/zullich/LabControlli1/OpenGAN/demo_CrossDatasetOpenSet_training.ipynb#X26sZmlsZQ%3D%3D?line=1'>2</a>\u001b[0m features \u001b[39m=\u001b[39m torch\u001b[39m.\u001b[39;49mcat(features, dim\u001b[39m=\u001b[39;49m\u001b[39m0\u001b[39;49m)\n\u001b[1;32m      <a href='vscode-notebook-cell:/media/zullich/LabControlli1/OpenGAN/demo_CrossDatasetOpenSet_training.ipynb#X26sZmlsZQ%3D%3D?line=2'>3</a>\u001b[0m torch\u001b[39m.\u001b[39msave(features, \u001b[39m\"\u001b[39m\u001b[39mpunzoni_resnet18_features_final_minusval.pt\u001b[39m\u001b[39m\"\u001b[39m)\n",
      "\u001b[0;31mTypeError\u001b[0m: cat() received an invalid combination of arguments - got (Tensor, dim=int), but expected one of:\n * (tuple of Tensors tensors, int dim, *, Tensor out)\n * (tuple of Tensors tensors, name dim, *, Tensor out)\n"
     ]
    }
   ],
   "source": [
    "# save\n",
    "features = torch.cat(features, dim=0)\n",
    "torch.save(features, \"punzoni_resnet18_features_final_minusval.pt\")"
   ]
  },
  {
   "cell_type": "markdown",
   "metadata": {},
   "source": [
    "### Load the preevaluated features"
   ]
  },
  {
   "cell_type": "code",
   "execution_count": 179,
   "metadata": {},
   "outputs": [],
   "source": [
    "features = torch.load(\"punzoni_resnet18_features_final_minusval.pt\")"
   ]
  },
  {
   "cell_type": "markdown",
   "metadata": {},
   "source": [
    "## a helper function to read cached off-the-shelf features per closed images"
   ]
  },
  {
   "cell_type": "code",
   "execution_count": 180,
   "metadata": {},
   "outputs": [],
   "source": [
    "class FeatDataset(Dataset):\n",
    "    def __init__(self, data):\n",
    "        self.data = data\n",
    "        self.current_set_len = data.shape[0]        \n",
    "        \n",
    "    def __len__(self):        \n",
    "        return self.current_set_len\n",
    "    \n",
    "    def __getitem__(self, idx):\n",
    "        curdata = self.data[idx]        \n",
    "        return curdata"
   ]
  },
  {
   "cell_type": "code",
   "execution_count": 181,
   "metadata": {},
   "outputs": [],
   "source": [
    "trainset_closeset = FeatDataset(data=features)\n",
    "dataloader = DataLoader(trainset_closeset, batch_size=batch_size, shuffle=True, num_workers=1)"
   ]
  },
  {
   "cell_type": "code",
   "execution_count": 182,
   "metadata": {},
   "outputs": [
    {
     "name": "stdout",
     "output_type": "stream",
     "text": [
      "torch.Size([128, 512, 8, 8])\n"
     ]
    }
   ],
   "source": [
    "data_sampler = iter(dataloader)\n",
    "feaList = next(data_sampler)\n",
    "print(feaList.shape)"
   ]
  },
  {
   "cell_type": "markdown",
   "metadata": {},
   "source": [
    "setup training\n",
    "-----------"
   ]
  },
  {
   "cell_type": "code",
   "execution_count": 216,
   "metadata": {},
   "outputs": [],
   "source": [
    "### FINETUNE\n",
    "\n",
    "netD.load_state_dict(torch.load(\"exp/step002_GANfea_redux_valRes18sc/epoch-600.DNet\"))\n",
    "netG.load_state_dict(torch.load(\"exp/step002_GANfea_redux_valRes18sc/epoch-600.GNet\"))\n",
    "num_epochs = 300"
   ]
  },
  {
   "cell_type": "code",
   "execution_count": 217,
   "metadata": {},
   "outputs": [],
   "source": [
    "# Initialize BCELoss function\n",
    "criterion = nn.BCELoss()\n",
    "\n",
    "# Create batch of latent vectors that we will use to visualize\n",
    "#  the progression of the generator\n",
    "fixed_noise = torch.randn(64, nz, 1, 1, device=device)\n",
    "\n",
    "# Establish convention for real and fake labels during training\n",
    "real_label = 1\n",
    "fake_label = 0\n",
    "\n",
    "lr = 0.0001\n",
    "\n",
    "# Setup Adam optimizers for both G and D\n",
    "optimizerD = optim.Adam(netD.parameters(), lr=lr/5, betas=(beta1, 0.999))\n",
    "optimizerG = optim.Adam(netG.parameters(), lr=lr, betas=(beta1, 0.999))"
   ]
  },
  {
   "cell_type": "code",
   "execution_count": 218,
   "metadata": {},
   "outputs": [
    {
     "name": "stdout",
     "output_type": "stream",
     "text": [
      "Starting Training Loop...\n",
      "[0/300][0/22]\tLoss_D: 0.6155\tLoss_G: 1.8944\tD(x): 0.8423\tD(G(z)): 0.1621 / 0.1541\n",
      "[1/300][0/22]\tLoss_D: 0.5924\tLoss_G: 1.8877\tD(x): 0.8536\tD(G(z)): 0.1577 / 0.1545\n",
      "[2/300][0/22]\tLoss_D: 0.5952\tLoss_G: 1.9027\tD(x): 0.8592\tD(G(z)): 0.1558 / 0.1526\n",
      "[3/300][0/22]\tLoss_D: 0.6160\tLoss_G: 1.8570\tD(x): 0.8171\tD(G(z)): 0.1664 / 0.1609\n",
      "[4/300][0/22]\tLoss_D: 0.6088\tLoss_G: 1.8838\tD(x): 0.8535\tD(G(z)): 0.1582 / 0.1556\n",
      "[5/300][0/22]\tLoss_D: 0.6034\tLoss_G: 1.9111\tD(x): 0.8600\tD(G(z)): 0.1538 / 0.1504\n",
      "[6/300][0/22]\tLoss_D: 0.5870\tLoss_G: 1.8955\tD(x): 0.8529\tD(G(z)): 0.1569 / 0.1542\n",
      "[7/300][0/22]\tLoss_D: 0.5925\tLoss_G: 1.9078\tD(x): 0.8438\tD(G(z)): 0.1547 / 0.1518\n",
      "[8/300][0/22]\tLoss_D: 0.5940\tLoss_G: 1.9461\tD(x): 0.8464\tD(G(z)): 0.1505 / 0.1464\n",
      "[9/300][0/22]\tLoss_D: 0.6107\tLoss_G: 1.8795\tD(x): 0.8370\tD(G(z)): 0.1620 / 0.1570\n",
      "[10/300][0/22]\tLoss_D: 0.5868\tLoss_G: 1.9246\tD(x): 0.8364\tD(G(z)): 0.1541 / 0.1502\n",
      "[11/300][0/22]\tLoss_D: 0.5954\tLoss_G: 1.9043\tD(x): 0.8625\tD(G(z)): 0.1561 / 0.1525\n",
      "[12/300][0/22]\tLoss_D: 0.6041\tLoss_G: 1.8918\tD(x): 0.8393\tD(G(z)): 0.1598 / 0.1555\n",
      "[13/300][0/22]\tLoss_D: 0.5967\tLoss_G: 1.9150\tD(x): 0.8513\tD(G(z)): 0.1555 / 0.1514\n",
      "[14/300][0/22]\tLoss_D: 0.6066\tLoss_G: 1.8880\tD(x): 0.8604\tD(G(z)): 0.1609 / 0.1555\n",
      "[15/300][0/22]\tLoss_D: 0.5942\tLoss_G: 1.8917\tD(x): 0.8482\tD(G(z)): 0.1608 / 0.1557\n",
      "[16/300][0/22]\tLoss_D: 0.5741\tLoss_G: 1.9175\tD(x): 0.8589\tD(G(z)): 0.1571 / 0.1514\n",
      "[17/300][0/22]\tLoss_D: 0.5748\tLoss_G: 1.9179\tD(x): 0.8512\tD(G(z)): 0.1569 / 0.1506\n",
      "[18/300][0/22]\tLoss_D: 0.5936\tLoss_G: 1.9566\tD(x): 0.8476\tD(G(z)): 0.1490 / 0.1456\n",
      "[19/300][0/22]\tLoss_D: 0.5899\tLoss_G: 1.9485\tD(x): 0.8443\tD(G(z)): 0.1513 / 0.1468\n",
      "[20/300][0/22]\tLoss_D: 0.6072\tLoss_G: 1.9627\tD(x): 0.8306\tD(G(z)): 0.1477 / 0.1455\n",
      "[21/300][0/22]\tLoss_D: 0.5999\tLoss_G: 1.9736\tD(x): 0.8353\tD(G(z)): 0.1462 / 0.1428\n",
      "[22/300][0/22]\tLoss_D: 0.6301\tLoss_G: 1.9373\tD(x): 0.7956\tD(G(z)): 0.1514 / 0.1484\n",
      "[23/300][0/22]\tLoss_D: 0.6081\tLoss_G: 1.9191\tD(x): 0.8282\tD(G(z)): 0.1544 / 0.1502\n",
      "[24/300][0/22]\tLoss_D: 0.6253\tLoss_G: 1.9451\tD(x): 0.7742\tD(G(z)): 0.1497 / 0.1469\n",
      "[25/300][0/22]\tLoss_D: 0.6552\tLoss_G: 1.9782\tD(x): 0.7770\tD(G(z)): 0.1466 / 0.1423\n",
      "[26/300][0/22]\tLoss_D: 0.5790\tLoss_G: 1.9523\tD(x): 0.8608\tD(G(z)): 0.1500 / 0.1466\n",
      "[27/300][0/22]\tLoss_D: 0.6046\tLoss_G: 1.9754\tD(x): 0.8318\tD(G(z)): 0.1458 / 0.1428\n",
      "[28/300][0/22]\tLoss_D: 0.5833\tLoss_G: 1.9445\tD(x): 0.8483\tD(G(z)): 0.1516 / 0.1477\n",
      "[29/300][0/22]\tLoss_D: 0.5797\tLoss_G: 1.9656\tD(x): 0.8674\tD(G(z)): 0.1505 / 0.1449\n",
      "[30/300][0/22]\tLoss_D: 0.6013\tLoss_G: 1.9323\tD(x): 0.8519\tD(G(z)): 0.1544 / 0.1501\n",
      "[31/300][0/22]\tLoss_D: 0.5897\tLoss_G: 1.9749\tD(x): 0.8571\tD(G(z)): 0.1483 / 0.1446\n",
      "[32/300][0/22]\tLoss_D: 0.5865\tLoss_G: 2.0244\tD(x): 0.8387\tD(G(z)): 0.1386 / 0.1359\n",
      "[33/300][0/22]\tLoss_D: 0.5719\tLoss_G: 1.9576\tD(x): 0.8469\tD(G(z)): 0.1492 / 0.1453\n",
      "[34/300][0/22]\tLoss_D: 0.5881\tLoss_G: 1.9554\tD(x): 0.8493\tD(G(z)): 0.1503 / 0.1459\n",
      "[35/300][0/22]\tLoss_D: 0.6086\tLoss_G: 1.9985\tD(x): 0.8283\tD(G(z)): 0.1444 / 0.1406\n",
      "[36/300][0/22]\tLoss_D: 0.5691\tLoss_G: 1.9522\tD(x): 0.8652\tD(G(z)): 0.1489 / 0.1453\n",
      "[37/300][0/22]\tLoss_D: 0.6087\tLoss_G: 1.9523\tD(x): 0.8333\tD(G(z)): 0.1521 / 0.1472\n",
      "[38/300][0/22]\tLoss_D: 0.5912\tLoss_G: 1.9639\tD(x): 0.8653\tD(G(z)): 0.1480 / 0.1446\n",
      "[39/300][0/22]\tLoss_D: 0.5609\tLoss_G: 1.9760\tD(x): 0.8752\tD(G(z)): 0.1448 / 0.1418\n",
      "[40/300][0/22]\tLoss_D: 0.5891\tLoss_G: 1.9877\tD(x): 0.8599\tD(G(z)): 0.1452 / 0.1402\n",
      "[41/300][0/22]\tLoss_D: 0.5875\tLoss_G: 2.0013\tD(x): 0.8526\tD(G(z)): 0.1415 / 0.1389\n",
      "[42/300][0/22]\tLoss_D: 0.5736\tLoss_G: 1.9963\tD(x): 0.8593\tD(G(z)): 0.1430 / 0.1394\n",
      "[43/300][0/22]\tLoss_D: 0.5581\tLoss_G: 2.0085\tD(x): 0.8635\tD(G(z)): 0.1421 / 0.1389\n",
      "[44/300][0/22]\tLoss_D: 0.5757\tLoss_G: 2.0109\tD(x): 0.8684\tD(G(z)): 0.1408 / 0.1371\n",
      "[45/300][0/22]\tLoss_D: 0.5676\tLoss_G: 2.0309\tD(x): 0.8626\tD(G(z)): 0.1403 / 0.1365\n",
      "[46/300][0/22]\tLoss_D: 0.5664\tLoss_G: 1.9874\tD(x): 0.8593\tD(G(z)): 0.1439 / 0.1411\n",
      "[47/300][0/22]\tLoss_D: 0.5749\tLoss_G: 2.0073\tD(x): 0.8637\tD(G(z)): 0.1433 / 0.1396\n",
      "[48/300][0/22]\tLoss_D: 0.5881\tLoss_G: 2.0124\tD(x): 0.8636\tD(G(z)): 0.1433 / 0.1384\n",
      "[49/300][0/22]\tLoss_D: 0.5736\tLoss_G: 2.0189\tD(x): 0.8751\tD(G(z)): 0.1387 / 0.1365\n",
      "[50/300][0/22]\tLoss_D: 0.5765\tLoss_G: 2.0015\tD(x): 0.8714\tD(G(z)): 0.1424 / 0.1389\n",
      "[51/300][0/22]\tLoss_D: 0.5700\tLoss_G: 1.9881\tD(x): 0.8594\tD(G(z)): 0.1446 / 0.1409\n",
      "[52/300][0/22]\tLoss_D: 0.5781\tLoss_G: 2.0340\tD(x): 0.8703\tD(G(z)): 0.1366 / 0.1342\n",
      "[53/300][0/22]\tLoss_D: 0.5708\tLoss_G: 2.0562\tD(x): 0.8620\tD(G(z)): 0.1353 / 0.1321\n",
      "[54/300][0/22]\tLoss_D: 0.5722\tLoss_G: 2.0214\tD(x): 0.8635\tD(G(z)): 0.1391 / 0.1360\n",
      "[55/300][0/22]\tLoss_D: 0.5811\tLoss_G: 2.0268\tD(x): 0.8574\tD(G(z)): 0.1377 / 0.1349\n",
      "[56/300][0/22]\tLoss_D: 0.5824\tLoss_G: 2.0441\tD(x): 0.8558\tD(G(z)): 0.1361 / 0.1332\n",
      "[57/300][0/22]\tLoss_D: 0.5640\tLoss_G: 2.0189\tD(x): 0.8709\tD(G(z)): 0.1391 / 0.1364\n",
      "[58/300][0/22]\tLoss_D: 0.5699\tLoss_G: 2.0382\tD(x): 0.8840\tD(G(z)): 0.1367 / 0.1341\n",
      "[59/300][0/22]\tLoss_D: 0.5844\tLoss_G: 2.0094\tD(x): 0.8740\tD(G(z)): 0.1419 / 0.1378\n",
      "[60/300][0/22]\tLoss_D: 0.5846\tLoss_G: 2.0362\tD(x): 0.8697\tD(G(z)): 0.1384 / 0.1350\n",
      "[61/300][0/22]\tLoss_D: 0.5806\tLoss_G: 2.0363\tD(x): 0.8478\tD(G(z)): 0.1379 / 0.1341\n",
      "[62/300][0/22]\tLoss_D: 0.5591\tLoss_G: 2.0356\tD(x): 0.8783\tD(G(z)): 0.1366 / 0.1334\n",
      "[63/300][0/22]\tLoss_D: 0.5592\tLoss_G: 2.0662\tD(x): 0.8684\tD(G(z)): 0.1341 / 0.1308\n",
      "[64/300][0/22]\tLoss_D: 0.5986\tLoss_G: 2.0451\tD(x): 0.8623\tD(G(z)): 0.1400 / 0.1353\n",
      "[65/300][0/22]\tLoss_D: 0.5921\tLoss_G: 2.0671\tD(x): 0.8627\tD(G(z)): 0.1329 / 0.1305\n",
      "[66/300][0/22]\tLoss_D: 0.5611\tLoss_G: 2.0369\tD(x): 0.8775\tD(G(z)): 0.1392 / 0.1344\n",
      "[67/300][0/22]\tLoss_D: 0.5769\tLoss_G: 1.9935\tD(x): 0.8705\tD(G(z)): 0.1469 / 0.1410\n",
      "[68/300][0/22]\tLoss_D: 0.5693\tLoss_G: 2.0656\tD(x): 0.8720\tD(G(z)): 0.1340 / 0.1305\n",
      "[69/300][0/22]\tLoss_D: 0.5811\tLoss_G: 2.0363\tD(x): 0.8638\tD(G(z)): 0.1370 / 0.1341\n",
      "[70/300][0/22]\tLoss_D: 0.5748\tLoss_G: 2.0634\tD(x): 0.8778\tD(G(z)): 0.1342 / 0.1311\n",
      "[71/300][0/22]\tLoss_D: 0.5685\tLoss_G: 2.0980\tD(x): 0.8630\tD(G(z)): 0.1302 / 0.1265\n",
      "[72/300][0/22]\tLoss_D: 0.5582\tLoss_G: 2.1046\tD(x): 0.8749\tD(G(z)): 0.1279 / 0.1254\n",
      "[73/300][0/22]\tLoss_D: 0.5839\tLoss_G: 2.0845\tD(x): 0.8671\tD(G(z)): 0.1307 / 0.1281\n",
      "[74/300][0/22]\tLoss_D: 0.5835\tLoss_G: 2.0468\tD(x): 0.8632\tD(G(z)): 0.1378 / 0.1335\n",
      "[75/300][0/22]\tLoss_D: 0.5693\tLoss_G: 2.0817\tD(x): 0.8643\tD(G(z)): 0.1342 / 0.1298\n",
      "[76/300][0/22]\tLoss_D: 0.5801\tLoss_G: 2.0826\tD(x): 0.8618\tD(G(z)): 0.1317 / 0.1289\n",
      "[77/300][0/22]\tLoss_D: 0.5624\tLoss_G: 2.0803\tD(x): 0.8823\tD(G(z)): 0.1344 / 0.1293\n",
      "[78/300][0/22]\tLoss_D: 0.5792\tLoss_G: 2.0792\tD(x): 0.8704\tD(G(z)): 0.1318 / 0.1285\n",
      "[79/300][0/22]\tLoss_D: 0.5610\tLoss_G: 2.1147\tD(x): 0.8743\tD(G(z)): 0.1281 / 0.1248\n",
      "[80/300][0/22]\tLoss_D: 0.5792\tLoss_G: 2.0970\tD(x): 0.8800\tD(G(z)): 0.1279 / 0.1261\n",
      "[81/300][0/22]\tLoss_D: 0.5514\tLoss_G: 2.0932\tD(x): 0.8725\tD(G(z)): 0.1314 / 0.1285\n",
      "[82/300][0/22]\tLoss_D: 0.5693\tLoss_G: 2.1135\tD(x): 0.8626\tD(G(z)): 0.1290 / 0.1253\n",
      "[83/300][0/22]\tLoss_D: 0.5590\tLoss_G: 2.1130\tD(x): 0.8807\tD(G(z)): 0.1259 / 0.1241\n",
      "[84/300][0/22]\tLoss_D: 0.5731\tLoss_G: 2.0645\tD(x): 0.8631\tD(G(z)): 0.1358 / 0.1321\n",
      "[85/300][0/22]\tLoss_D: 0.5712\tLoss_G: 2.1036\tD(x): 0.8717\tD(G(z)): 0.1291 / 0.1261\n",
      "[86/300][0/22]\tLoss_D: 0.5439\tLoss_G: 2.1133\tD(x): 0.8816\tD(G(z)): 0.1290 / 0.1249\n",
      "[87/300][0/22]\tLoss_D: 0.5608\tLoss_G: 2.0800\tD(x): 0.8863\tD(G(z)): 0.1319 / 0.1287\n",
      "[88/300][0/22]\tLoss_D: 0.5692\tLoss_G: 2.0979\tD(x): 0.8881\tD(G(z)): 0.1290 / 0.1262\n",
      "[89/300][0/22]\tLoss_D: 0.5527\tLoss_G: 2.1354\tD(x): 0.8705\tD(G(z)): 0.1242 / 0.1214\n",
      "[90/300][0/22]\tLoss_D: 0.5763\tLoss_G: 2.0667\tD(x): 0.8833\tD(G(z)): 0.1347 / 0.1313\n",
      "[91/300][0/22]\tLoss_D: 0.5987\tLoss_G: 2.1536\tD(x): 0.8253\tD(G(z)): 0.1211 / 0.1190\n",
      "[92/300][0/22]\tLoss_D: 0.5669\tLoss_G: 2.1230\tD(x): 0.8669\tD(G(z)): 0.1261 / 0.1235\n",
      "[93/300][0/22]\tLoss_D: 0.5459\tLoss_G: 2.1011\tD(x): 0.8755\tD(G(z)): 0.1332 / 0.1280\n",
      "[94/300][0/22]\tLoss_D: 0.5472\tLoss_G: 2.1210\tD(x): 0.8905\tD(G(z)): 0.1269 / 0.1246\n",
      "[95/300][0/22]\tLoss_D: 0.5646\tLoss_G: 2.1216\tD(x): 0.8712\tD(G(z)): 0.1275 / 0.1239\n",
      "[96/300][0/22]\tLoss_D: 0.5635\tLoss_G: 2.1014\tD(x): 0.8771\tD(G(z)): 0.1305 / 0.1262\n",
      "[97/300][0/22]\tLoss_D: 0.5440\tLoss_G: 2.0879\tD(x): 0.8867\tD(G(z)): 0.1322 / 0.1280\n",
      "[98/300][0/22]\tLoss_D: 0.5740\tLoss_G: 2.1105\tD(x): 0.8855\tD(G(z)): 0.1299 / 0.1262\n",
      "[99/300][0/22]\tLoss_D: 0.5699\tLoss_G: 2.0975\tD(x): 0.8797\tD(G(z)): 0.1297 / 0.1270\n",
      "[100/300][0/22]\tLoss_D: 0.5770\tLoss_G: 2.1446\tD(x): 0.8693\tD(G(z)): 0.1224 / 0.1204\n",
      "[101/300][0/22]\tLoss_D: 0.5417\tLoss_G: 2.1270\tD(x): 0.8864\tD(G(z)): 0.1273 / 0.1231\n",
      "[102/300][0/22]\tLoss_D: 0.5617\tLoss_G: 2.1475\tD(x): 0.8785\tD(G(z)): 0.1246 / 0.1211\n",
      "[103/300][0/22]\tLoss_D: 0.5357\tLoss_G: 2.1382\tD(x): 0.8838\tD(G(z)): 0.1247 / 0.1213\n",
      "[104/300][0/22]\tLoss_D: 0.5782\tLoss_G: 2.1525\tD(x): 0.8844\tD(G(z)): 0.1232 / 0.1211\n",
      "[105/300][0/22]\tLoss_D: 0.5828\tLoss_G: 2.0993\tD(x): 0.8632\tD(G(z)): 0.1295 / 0.1274\n",
      "[106/300][0/22]\tLoss_D: 0.5520\tLoss_G: 2.1296\tD(x): 0.8840\tD(G(z)): 0.1256 / 0.1228\n",
      "[107/300][0/22]\tLoss_D: 0.5777\tLoss_G: 2.1048\tD(x): 0.8826\tD(G(z)): 0.1300 / 0.1263\n",
      "[108/300][0/22]\tLoss_D: 0.5630\tLoss_G: 2.0951\tD(x): 0.8849\tD(G(z)): 0.1307 / 0.1281\n",
      "[109/300][0/22]\tLoss_D: 0.5582\tLoss_G: 2.1512\tD(x): 0.8892\tD(G(z)): 0.1222 / 0.1196\n",
      "[110/300][0/22]\tLoss_D: 0.5783\tLoss_G: 2.1404\tD(x): 0.8833\tD(G(z)): 0.1240 / 0.1214\n",
      "[111/300][0/22]\tLoss_D: 0.5753\tLoss_G: 2.1244\tD(x): 0.8820\tD(G(z)): 0.1292 / 0.1246\n",
      "[112/300][0/22]\tLoss_D: 0.5652\tLoss_G: 2.1843\tD(x): 0.8870\tD(G(z)): 0.1203 / 0.1178\n",
      "[113/300][0/22]\tLoss_D: 0.5636\tLoss_G: 2.1616\tD(x): 0.8859\tD(G(z)): 0.1218 / 0.1190\n",
      "[114/300][0/22]\tLoss_D: 0.5673\tLoss_G: 2.1506\tD(x): 0.8650\tD(G(z)): 0.1259 / 0.1218\n",
      "[115/300][0/22]\tLoss_D: 0.5578\tLoss_G: 2.1374\tD(x): 0.8765\tD(G(z)): 0.1257 / 0.1225\n",
      "[116/300][0/22]\tLoss_D: 0.5637\tLoss_G: 2.1722\tD(x): 0.8818\tD(G(z)): 0.1210 / 0.1184\n",
      "[117/300][0/22]\tLoss_D: 0.5909\tLoss_G: 2.1737\tD(x): 0.8483\tD(G(z)): 0.1199 / 0.1174\n",
      "[118/300][0/22]\tLoss_D: 0.5498\tLoss_G: 2.2114\tD(x): 0.8834\tD(G(z)): 0.1193 / 0.1154\n",
      "[119/300][0/22]\tLoss_D: 0.5418\tLoss_G: 2.2124\tD(x): 0.8965\tD(G(z)): 0.1155 / 0.1134\n",
      "[120/300][0/22]\tLoss_D: 0.5541\tLoss_G: 2.1991\tD(x): 0.8817\tD(G(z)): 0.1175 / 0.1155\n",
      "[121/300][0/22]\tLoss_D: 0.5464\tLoss_G: 2.2441\tD(x): 0.8741\tD(G(z)): 0.1111 / 0.1094\n",
      "[122/300][0/22]\tLoss_D: 0.5610\tLoss_G: 2.2096\tD(x): 0.8656\tD(G(z)): 0.1175 / 0.1142\n",
      "[123/300][0/22]\tLoss_D: 0.5585\tLoss_G: 2.1747\tD(x): 0.8780\tD(G(z)): 0.1211 / 0.1187\n",
      "[124/300][0/22]\tLoss_D: 0.5884\tLoss_G: 2.2468\tD(x): 0.8794\tD(G(z)): 0.1104 / 0.1091\n",
      "[125/300][0/22]\tLoss_D: 0.5547\tLoss_G: 2.1792\tD(x): 0.8798\tD(G(z)): 0.1189 / 0.1166\n",
      "[126/300][0/22]\tLoss_D: 0.5391\tLoss_G: 2.2725\tD(x): 0.8926\tD(G(z)): 0.1073 / 0.1059\n",
      "[127/300][0/22]\tLoss_D: 0.5399\tLoss_G: 2.1958\tD(x): 0.8753\tD(G(z)): 0.1168 / 0.1142\n",
      "[128/300][0/22]\tLoss_D: 0.5460\tLoss_G: 2.1925\tD(x): 0.8876\tD(G(z)): 0.1186 / 0.1155\n",
      "[129/300][0/22]\tLoss_D: 0.5619\tLoss_G: 2.1924\tD(x): 0.8839\tD(G(z)): 0.1187 / 0.1158\n",
      "[130/300][0/22]\tLoss_D: 0.5407\tLoss_G: 2.2227\tD(x): 0.8948\tD(G(z)): 0.1155 / 0.1132\n",
      "[131/300][0/22]\tLoss_D: 0.5506\tLoss_G: 2.2572\tD(x): 0.8963\tD(G(z)): 0.1100 / 0.1074\n",
      "[132/300][0/22]\tLoss_D: 0.5175\tLoss_G: 2.2436\tD(x): 0.9000\tD(G(z)): 0.1133 / 0.1098\n",
      "[133/300][0/22]\tLoss_D: 0.5692\tLoss_G: 2.2672\tD(x): 0.8760\tD(G(z)): 0.1095 / 0.1076\n",
      "[134/300][0/22]\tLoss_D: 0.5383\tLoss_G: 2.2267\tD(x): 0.8959\tD(G(z)): 0.1138 / 0.1115\n",
      "[135/300][0/22]\tLoss_D: 0.5646\tLoss_G: 2.2524\tD(x): 0.8855\tD(G(z)): 0.1096 / 0.1082\n",
      "[136/300][0/22]\tLoss_D: 0.5539\tLoss_G: 2.2388\tD(x): 0.8952\tD(G(z)): 0.1122 / 0.1108\n",
      "[137/300][0/22]\tLoss_D: 0.5592\tLoss_G: 2.2797\tD(x): 0.8802\tD(G(z)): 0.1065 / 0.1052\n",
      "[138/300][0/22]\tLoss_D: 0.5586\tLoss_G: 2.2941\tD(x): 0.8907\tD(G(z)): 0.1053 / 0.1039\n",
      "[139/300][0/22]\tLoss_D: 0.5528\tLoss_G: 2.2658\tD(x): 0.8988\tD(G(z)): 0.1087 / 0.1070\n",
      "[140/300][0/22]\tLoss_D: 0.6116\tLoss_G: 2.2439\tD(x): 0.8190\tD(G(z)): 0.1145 / 0.1103\n",
      "[141/300][0/22]\tLoss_D: 0.5572\tLoss_G: 2.2316\tD(x): 0.8906\tD(G(z)): 0.1139 / 0.1120\n",
      "[142/300][0/22]\tLoss_D: 0.5699\tLoss_G: 2.2414\tD(x): 0.8923\tD(G(z)): 0.1112 / 0.1103\n",
      "[143/300][0/22]\tLoss_D: 0.5720\tLoss_G: 2.2224\tD(x): 0.8702\tD(G(z)): 0.1146 / 0.1129\n",
      "[144/300][0/22]\tLoss_D: 0.5687\tLoss_G: 2.1847\tD(x): 0.8544\tD(G(z)): 0.1171 / 0.1157\n",
      "[145/300][0/22]\tLoss_D: 0.6120\tLoss_G: 2.1748\tD(x): 0.7936\tD(G(z)): 0.1199 / 0.1176\n",
      "[146/300][0/22]\tLoss_D: 0.5650\tLoss_G: 2.1976\tD(x): 0.8596\tD(G(z)): 0.1165 / 0.1153\n",
      "[147/300][0/22]\tLoss_D: 0.5371\tLoss_G: 2.2063\tD(x): 0.9002\tD(G(z)): 0.1154 / 0.1140\n",
      "[148/300][0/22]\tLoss_D: 0.5519\tLoss_G: 2.1899\tD(x): 0.8899\tD(G(z)): 0.1164 / 0.1153\n",
      "[149/300][0/22]\tLoss_D: 0.5652\tLoss_G: 2.1859\tD(x): 0.9004\tD(G(z)): 0.1186 / 0.1168\n",
      "[150/300][0/22]\tLoss_D: 0.5687\tLoss_G: 2.2222\tD(x): 0.8873\tD(G(z)): 0.1151 / 0.1131\n",
      "[151/300][0/22]\tLoss_D: 0.5523\tLoss_G: 2.1851\tD(x): 0.8919\tD(G(z)): 0.1199 / 0.1172\n",
      "[152/300][0/22]\tLoss_D: 0.5699\tLoss_G: 2.1805\tD(x): 0.8650\tD(G(z)): 0.1193 / 0.1169\n",
      "[153/300][0/22]\tLoss_D: 0.5592\tLoss_G: 2.2003\tD(x): 0.8944\tD(G(z)): 0.1167 / 0.1149\n",
      "[154/300][0/22]\tLoss_D: 0.5525\tLoss_G: 2.2148\tD(x): 0.8807\tD(G(z)): 0.1184 / 0.1146\n",
      "[155/300][0/22]\tLoss_D: 0.5588\tLoss_G: 2.2200\tD(x): 0.8972\tD(G(z)): 0.1143 / 0.1124\n",
      "[156/300][0/22]\tLoss_D: 0.5354\tLoss_G: 2.1987\tD(x): 0.8886\tD(G(z)): 0.1177 / 0.1148\n",
      "[157/300][0/22]\tLoss_D: 0.5450\tLoss_G: 2.2572\tD(x): 0.9012\tD(G(z)): 0.1099 / 0.1082\n",
      "[158/300][0/22]\tLoss_D: 0.5674\tLoss_G: 2.2558\tD(x): 0.8755\tD(G(z)): 0.1123 / 0.1105\n",
      "[159/300][0/22]\tLoss_D: 0.5457\tLoss_G: 2.2151\tD(x): 0.8975\tD(G(z)): 0.1229 / 0.1135\n",
      "[160/300][0/22]\tLoss_D: 0.5576\tLoss_G: 2.2350\tD(x): 0.8996\tD(G(z)): 0.1153 / 0.1129\n",
      "[161/300][0/22]\tLoss_D: 0.5535\tLoss_G: 2.2231\tD(x): 0.8817\tD(G(z)): 0.1181 / 0.1138\n",
      "[162/300][0/22]\tLoss_D: 0.5419\tLoss_G: 2.2527\tD(x): 0.9001\tD(G(z)): 0.1104 / 0.1087\n",
      "[163/300][0/22]\tLoss_D: 0.5367\tLoss_G: 2.2064\tD(x): 0.8881\tD(G(z)): 0.1211 / 0.1152\n",
      "[164/300][0/22]\tLoss_D: 0.5527\tLoss_G: 2.2698\tD(x): 0.8797\tD(G(z)): 0.1114 / 0.1078\n",
      "[165/300][0/22]\tLoss_D: 0.5301\tLoss_G: 2.2301\tD(x): 0.8904\tD(G(z)): 0.1198 / 0.1137\n",
      "[166/300][0/22]\tLoss_D: 0.5614\tLoss_G: 2.2651\tD(x): 0.8902\tD(G(z)): 0.1123 / 0.1084\n",
      "[167/300][0/22]\tLoss_D: 0.5545\tLoss_G: 2.2672\tD(x): 0.8765\tD(G(z)): 0.1104 / 0.1077\n",
      "[168/300][0/22]\tLoss_D: 0.5411\tLoss_G: 2.2752\tD(x): 0.8913\tD(G(z)): 0.1076 / 0.1058\n",
      "[169/300][0/22]\tLoss_D: 0.5619\tLoss_G: 2.2827\tD(x): 0.8669\tD(G(z)): 0.1102 / 0.1063\n",
      "[170/300][0/22]\tLoss_D: 0.5693\tLoss_G: 2.2964\tD(x): 0.8769\tD(G(z)): 0.1076 / 0.1048\n",
      "[171/300][0/22]\tLoss_D: 0.5647\tLoss_G: 2.2622\tD(x): 0.8840\tD(G(z)): 0.1092 / 0.1073\n",
      "[172/300][0/22]\tLoss_D: 0.5633\tLoss_G: 2.2352\tD(x): 0.8936\tD(G(z)): 0.1138 / 0.1109\n",
      "[173/300][0/22]\tLoss_D: 0.5521\tLoss_G: 2.2418\tD(x): 0.8954\tD(G(z)): 0.1141 / 0.1102\n",
      "[174/300][0/22]\tLoss_D: 0.5563\tLoss_G: 2.2914\tD(x): 0.8945\tD(G(z)): 0.1071 / 0.1044\n",
      "[175/300][0/22]\tLoss_D: 0.5385\tLoss_G: 2.2685\tD(x): 0.9067\tD(G(z)): 0.1093 / 0.1078\n",
      "[176/300][0/22]\tLoss_D: 0.5477\tLoss_G: 2.2577\tD(x): 0.8976\tD(G(z)): 0.1101 / 0.1074\n",
      "[177/300][0/22]\tLoss_D: 0.5474\tLoss_G: 2.2781\tD(x): 0.8813\tD(G(z)): 0.1097 / 0.1076\n",
      "[178/300][0/22]\tLoss_D: 0.5453\tLoss_G: 2.2858\tD(x): 0.8951\tD(G(z)): 0.1079 / 0.1058\n",
      "[179/300][0/22]\tLoss_D: 0.5534\tLoss_G: 2.2783\tD(x): 0.8921\tD(G(z)): 0.1073 / 0.1050\n",
      "[180/300][0/22]\tLoss_D: 0.5386\tLoss_G: 2.3109\tD(x): 0.8958\tD(G(z)): 0.1045 / 0.1027\n",
      "[181/300][0/22]\tLoss_D: 0.5579\tLoss_G: 2.3140\tD(x): 0.8960\tD(G(z)): 0.1051 / 0.1023\n",
      "[182/300][0/22]\tLoss_D: 0.5423\tLoss_G: 2.3090\tD(x): 0.8921\tD(G(z)): 0.1051 / 0.1029\n",
      "[183/300][0/22]\tLoss_D: 0.5554\tLoss_G: 2.3008\tD(x): 0.9060\tD(G(z)): 0.1080 / 0.1051\n",
      "[184/300][0/22]\tLoss_D: 0.5370\tLoss_G: 2.3193\tD(x): 0.9021\tD(G(z)): 0.1034 / 0.1019\n",
      "[185/300][0/22]\tLoss_D: 0.5462\tLoss_G: 2.3416\tD(x): 0.9056\tD(G(z)): 0.1018 / 0.0993\n",
      "[186/300][0/22]\tLoss_D: 0.5495\tLoss_G: 2.2704\tD(x): 0.9000\tD(G(z)): 0.1111 / 0.1074\n",
      "[187/300][0/22]\tLoss_D: 0.6721\tLoss_G: 2.2624\tD(x): 0.7671\tD(G(z)): 0.1123 / 0.1082\n",
      "[188/300][0/22]\tLoss_D: 0.5598\tLoss_G: 2.3231\tD(x): 0.8885\tD(G(z)): 0.1043 / 0.1020\n",
      "[189/300][0/22]\tLoss_D: 0.5564\tLoss_G: 2.3287\tD(x): 0.8904\tD(G(z)): 0.1028 / 0.1006\n",
      "[190/300][0/22]\tLoss_D: 0.5316\tLoss_G: 2.3454\tD(x): 0.8990\tD(G(z)): 0.1030 / 0.0995\n",
      "[191/300][0/22]\tLoss_D: 0.5455\tLoss_G: 2.2987\tD(x): 0.8893\tD(G(z)): 0.1071 / 0.1041\n",
      "[192/300][0/22]\tLoss_D: 0.5401\tLoss_G: 2.3343\tD(x): 0.8944\tD(G(z)): 0.1018 / 0.0996\n",
      "[193/300][0/22]\tLoss_D: 0.5526\tLoss_G: 2.3211\tD(x): 0.9070\tD(G(z)): 0.1039 / 0.1014\n",
      "[194/300][0/22]\tLoss_D: 0.5690\tLoss_G: 2.2709\tD(x): 0.9019\tD(G(z)): 0.1094 / 0.1070\n",
      "[195/300][0/22]\tLoss_D: 0.5261\tLoss_G: 2.3260\tD(x): 0.8999\tD(G(z)): 0.1032 / 0.1011\n",
      "[196/300][0/22]\tLoss_D: 0.5494\tLoss_G: 2.3079\tD(x): 0.8837\tD(G(z)): 0.1055 / 0.1031\n",
      "[197/300][0/22]\tLoss_D: 0.5556\tLoss_G: 2.2711\tD(x): 0.8929\tD(G(z)): 0.1077 / 0.1058\n",
      "[198/300][0/22]\tLoss_D: 0.5210\tLoss_G: 2.3171\tD(x): 0.9116\tD(G(z)): 0.1057 / 0.1030\n",
      "[199/300][0/22]\tLoss_D: 0.5517\tLoss_G: 2.3084\tD(x): 0.8878\tD(G(z)): 0.1070 / 0.1038\n",
      "[200/300][0/22]\tLoss_D: 0.5323\tLoss_G: 2.2896\tD(x): 0.9063\tD(G(z)): 0.1093 / 0.1054\n",
      "[201/300][0/22]\tLoss_D: 0.5610\tLoss_G: 2.2805\tD(x): 0.8929\tD(G(z)): 0.1092 / 0.1056\n",
      "[202/300][0/22]\tLoss_D: 0.5432\tLoss_G: 2.3302\tD(x): 0.9010\tD(G(z)): 0.1028 / 0.1002\n",
      "[203/300][0/22]\tLoss_D: 0.5359\tLoss_G: 2.3339\tD(x): 0.9118\tD(G(z)): 0.1009 / 0.0995\n",
      "[204/300][0/22]\tLoss_D: 0.5416\tLoss_G: 2.2961\tD(x): 0.9077\tD(G(z)): 0.1073 / 0.1039\n",
      "[205/300][0/22]\tLoss_D: 0.5594\tLoss_G: 2.3261\tD(x): 0.9098\tD(G(z)): 0.1037 / 0.1008\n",
      "[206/300][0/22]\tLoss_D: 0.5466\tLoss_G: 2.3521\tD(x): 0.9042\tD(G(z)): 0.0994 / 0.0979\n",
      "[207/300][0/22]\tLoss_D: 0.5281\tLoss_G: 2.3361\tD(x): 0.9060\tD(G(z)): 0.1031 / 0.0998\n",
      "[208/300][0/22]\tLoss_D: 0.5534\tLoss_G: 2.3363\tD(x): 0.8947\tD(G(z)): 0.1023 / 0.0995\n",
      "[209/300][0/22]\tLoss_D: 0.5591\tLoss_G: 2.3388\tD(x): 0.9067\tD(G(z)): 0.1021 / 0.0995\n",
      "[210/300][0/22]\tLoss_D: 0.5689\tLoss_G: 2.3507\tD(x): 0.9135\tD(G(z)): 0.0990 / 0.0976\n",
      "[211/300][0/22]\tLoss_D: 0.5304\tLoss_G: 2.3465\tD(x): 0.9044\tD(G(z)): 0.1013 / 0.0994\n",
      "[212/300][0/22]\tLoss_D: 0.5335\tLoss_G: 2.3261\tD(x): 0.9075\tD(G(z)): 0.1039 / 0.1012\n",
      "[213/300][0/22]\tLoss_D: 0.5470\tLoss_G: 2.4110\tD(x): 0.9053\tD(G(z)): 0.0962 / 0.0933\n",
      "[214/300][0/22]\tLoss_D: 0.5473\tLoss_G: 2.3376\tD(x): 0.9136\tD(G(z)): 0.1050 / 0.1008\n",
      "[215/300][0/22]\tLoss_D: 0.5566\tLoss_G: 2.3718\tD(x): 0.9022\tD(G(z)): 0.0979 / 0.0963\n",
      "[216/300][0/22]\tLoss_D: 0.5442\tLoss_G: 2.3332\tD(x): 0.8986\tD(G(z)): 0.1007 / 0.0993\n",
      "[217/300][0/22]\tLoss_D: 0.5522\tLoss_G: 2.3978\tD(x): 0.9036\tD(G(z)): 0.0963 / 0.0938\n",
      "[218/300][0/22]\tLoss_D: 0.5494\tLoss_G: 2.3490\tD(x): 0.9029\tD(G(z)): 0.1025 / 0.0986\n",
      "[219/300][0/22]\tLoss_D: 0.5275\tLoss_G: 2.3465\tD(x): 0.8951\tD(G(z)): 0.1019 / 0.0994\n",
      "[220/300][0/22]\tLoss_D: 0.5628\tLoss_G: 2.3863\tD(x): 0.8846\tD(G(z)): 0.0962 / 0.0942\n",
      "[221/300][0/22]\tLoss_D: 0.5720\tLoss_G: 2.3272\tD(x): 0.8938\tD(G(z)): 0.1039 / 0.1014\n",
      "[222/300][0/22]\tLoss_D: 0.5570\tLoss_G: 2.3402\tD(x): 0.8897\tD(G(z)): 0.0999 / 0.0986\n",
      "[223/300][0/22]\tLoss_D: 0.5467\tLoss_G: 2.3455\tD(x): 0.9020\tD(G(z)): 0.1014 / 0.0990\n",
      "[224/300][0/22]\tLoss_D: 0.5483\tLoss_G: 2.4264\tD(x): 0.9178\tD(G(z)): 0.0923 / 0.0916\n",
      "[225/300][0/22]\tLoss_D: 0.5408\tLoss_G: 2.3569\tD(x): 0.8931\tD(G(z)): 0.0987 / 0.0978\n",
      "[226/300][0/22]\tLoss_D: 0.5401\tLoss_G: 2.4091\tD(x): 0.8983\tD(G(z)): 0.0932 / 0.0921\n",
      "[227/300][0/22]\tLoss_D: 0.5425\tLoss_G: 2.3816\tD(x): 0.8996\tD(G(z)): 0.0968 / 0.0956\n",
      "[228/300][0/22]\tLoss_D: 0.5609\tLoss_G: 2.3723\tD(x): 0.8942\tD(G(z)): 0.0969 / 0.0961\n",
      "[229/300][0/22]\tLoss_D: 0.5315\tLoss_G: 2.3685\tD(x): 0.8936\tD(G(z)): 0.0981 / 0.0967\n",
      "[230/300][0/22]\tLoss_D: 0.5424\tLoss_G: 2.3201\tD(x): 0.9058\tD(G(z)): 0.1039 / 0.1021\n",
      "[231/300][0/22]\tLoss_D: 0.5264\tLoss_G: 2.3913\tD(x): 0.9068\tD(G(z)): 0.0961 / 0.0950\n",
      "[232/300][0/22]\tLoss_D: 0.5225\tLoss_G: 2.3673\tD(x): 0.8972\tD(G(z)): 0.1028 / 0.0972\n",
      "[233/300][0/22]\tLoss_D: 0.5377\tLoss_G: 2.3764\tD(x): 0.9104\tD(G(z)): 0.0964 / 0.0952\n",
      "[234/300][0/22]\tLoss_D: 0.5447\tLoss_G: 2.3439\tD(x): 0.9108\tD(G(z)): 0.1007 / 0.0993\n",
      "[235/300][0/22]\tLoss_D: 0.5328\tLoss_G: 2.3571\tD(x): 0.9167\tD(G(z)): 0.0989 / 0.0971\n",
      "[236/300][0/22]\tLoss_D: 0.5502\tLoss_G: 2.3356\tD(x): 0.8835\tD(G(z)): 0.1024 / 0.1007\n",
      "[237/300][0/22]\tLoss_D: 0.5602\tLoss_G: 2.3394\tD(x): 0.9082\tD(G(z)): 0.1004 / 0.0996\n",
      "[238/300][0/22]\tLoss_D: 0.5487\tLoss_G: 2.3734\tD(x): 0.9009\tD(G(z)): 0.0971 / 0.0961\n",
      "[239/300][0/22]\tLoss_D: 0.5443\tLoss_G: 2.3860\tD(x): 0.8872\tD(G(z)): 0.0977 / 0.0960\n",
      "[240/300][0/22]\tLoss_D: 0.5490\tLoss_G: 2.3653\tD(x): 0.9118\tD(G(z)): 0.0985 / 0.0969\n",
      "[241/300][0/22]\tLoss_D: 0.5169\tLoss_G: 2.3725\tD(x): 0.9168\tD(G(z)): 0.1013 / 0.0976\n",
      "[242/300][0/22]\tLoss_D: 0.5395\tLoss_G: 2.3318\tD(x): 0.9086\tD(G(z)): 0.1023 / 0.1004\n",
      "[243/300][0/22]\tLoss_D: 0.5336\tLoss_G: 2.3857\tD(x): 0.9072\tD(G(z)): 0.0974 / 0.0954\n",
      "[244/300][0/22]\tLoss_D: 0.5462\tLoss_G: 2.3890\tD(x): 0.9008\tD(G(z)): 0.0959 / 0.0947\n",
      "[245/300][0/22]\tLoss_D: 0.5329\tLoss_G: 2.3603\tD(x): 0.9083\tD(G(z)): 0.0990 / 0.0972\n",
      "[246/300][0/22]\tLoss_D: 0.5372\tLoss_G: 2.4244\tD(x): 0.9019\tD(G(z)): 0.0922 / 0.0908\n",
      "[247/300][0/22]\tLoss_D: 0.5706\tLoss_G: 2.3641\tD(x): 0.9038\tD(G(z)): 0.0991 / 0.0978\n",
      "[248/300][0/22]\tLoss_D: 0.5665\tLoss_G: 2.3802\tD(x): 0.9148\tD(G(z)): 0.0980 / 0.0963\n",
      "[249/300][0/22]\tLoss_D: 0.5542\tLoss_G: 2.3252\tD(x): 0.9014\tD(G(z)): 0.1030 / 0.1009\n",
      "[250/300][0/22]\tLoss_D: 0.5176\tLoss_G: 2.3787\tD(x): 0.9075\tD(G(z)): 0.1013 / 0.0975\n",
      "[251/300][0/22]\tLoss_D: 0.5366\tLoss_G: 2.4151\tD(x): 0.9107\tD(G(z)): 0.0931 / 0.0920\n",
      "[252/300][0/22]\tLoss_D: 0.5354\tLoss_G: 2.4129\tD(x): 0.9202\tD(G(z)): 0.0934 / 0.0925\n",
      "[253/300][0/22]\tLoss_D: 0.5367\tLoss_G: 2.3720\tD(x): 0.9120\tD(G(z)): 0.1011 / 0.0969\n",
      "[254/300][0/22]\tLoss_D: 0.5181\tLoss_G: 2.3325\tD(x): 0.9058\tD(G(z)): 0.1038 / 0.1003\n",
      "[255/300][0/22]\tLoss_D: 0.5520\tLoss_G: 2.4025\tD(x): 0.9107\tD(G(z)): 0.0946 / 0.0936\n",
      "[256/300][0/22]\tLoss_D: 0.5484\tLoss_G: 2.4273\tD(x): 0.8879\tD(G(z)): 0.0924 / 0.0909\n",
      "[257/300][0/22]\tLoss_D: 0.5604\tLoss_G: 2.3783\tD(x): 0.9187\tD(G(z)): 0.0987 / 0.0961\n",
      "[258/300][0/22]\tLoss_D: 0.5353\tLoss_G: 2.4276\tD(x): 0.8900\tD(G(z)): 0.0940 / 0.0916\n",
      "[259/300][0/22]\tLoss_D: 0.5343\tLoss_G: 2.3655\tD(x): 0.9003\tD(G(z)): 0.0988 / 0.0971\n",
      "[260/300][0/22]\tLoss_D: 0.5411\tLoss_G: 2.3884\tD(x): 0.8654\tD(G(z)): 0.0979 / 0.0954\n",
      "[261/300][0/22]\tLoss_D: 0.5558\tLoss_G: 2.3833\tD(x): 0.9011\tD(G(z)): 0.1003 / 0.0958\n",
      "[262/300][0/22]\tLoss_D: 0.5345\tLoss_G: 2.4044\tD(x): 0.9093\tD(G(z)): 0.0967 / 0.0936\n",
      "[263/300][0/22]\tLoss_D: 0.5326\tLoss_G: 2.4334\tD(x): 0.9169\tD(G(z)): 0.0931 / 0.0918\n",
      "[264/300][0/22]\tLoss_D: 0.5359\tLoss_G: 2.3659\tD(x): 0.9165\tD(G(z)): 0.0978 / 0.0964\n",
      "[265/300][0/22]\tLoss_D: 0.5432\tLoss_G: 2.4123\tD(x): 0.9192\tD(G(z)): 0.0998 / 0.0949\n",
      "[266/300][0/22]\tLoss_D: 0.5493\tLoss_G: 2.3854\tD(x): 0.9112\tD(G(z)): 0.0973 / 0.0949\n",
      "[267/300][0/22]\tLoss_D: 0.5628\tLoss_G: 2.3417\tD(x): 0.8894\tD(G(z)): 0.1026 / 0.1001\n",
      "[268/300][0/22]\tLoss_D: 0.5426\tLoss_G: 2.4218\tD(x): 0.9126\tD(G(z)): 0.0945 / 0.0927\n",
      "[269/300][0/22]\tLoss_D: 0.5247\tLoss_G: 2.4049\tD(x): 0.9088\tD(G(z)): 0.0949 / 0.0936\n",
      "[270/300][0/22]\tLoss_D: 0.5562\tLoss_G: 2.3899\tD(x): 0.9074\tD(G(z)): 0.0967 / 0.0949\n",
      "[271/300][0/22]\tLoss_D: 0.5433\tLoss_G: 2.4326\tD(x): 0.9091\tD(G(z)): 0.0923 / 0.0906\n",
      "[272/300][0/22]\tLoss_D: 0.5606\tLoss_G: 2.4148\tD(x): 0.9111\tD(G(z)): 0.0950 / 0.0931\n",
      "[273/300][0/22]\tLoss_D: 0.5478\tLoss_G: 2.4196\tD(x): 0.9083\tD(G(z)): 0.0951 / 0.0924\n",
      "[274/300][0/22]\tLoss_D: 0.5362\tLoss_G: 2.4465\tD(x): 0.9063\tD(G(z)): 0.0928 / 0.0904\n",
      "[275/300][0/22]\tLoss_D: 0.5420\tLoss_G: 2.4027\tD(x): 0.9052\tD(G(z)): 0.0972 / 0.0939\n",
      "[276/300][0/22]\tLoss_D: 0.5433\tLoss_G: 2.4132\tD(x): 0.8950\tD(G(z)): 0.0951 / 0.0931\n",
      "[277/300][0/22]\tLoss_D: 0.5470\tLoss_G: 2.4123\tD(x): 0.8937\tD(G(z)): 0.0934 / 0.0922\n",
      "[278/300][0/22]\tLoss_D: 0.5512\tLoss_G: 2.3926\tD(x): 0.9042\tD(G(z)): 0.0971 / 0.0941\n",
      "[279/300][0/22]\tLoss_D: 0.5331\tLoss_G: 2.3605\tD(x): 0.9168\tD(G(z)): 0.0994 / 0.0973\n",
      "[280/300][0/22]\tLoss_D: 0.5514\tLoss_G: 2.3963\tD(x): 0.9139\tD(G(z)): 0.0973 / 0.0939\n",
      "[281/300][0/22]\tLoss_D: 0.5285\tLoss_G: 2.4153\tD(x): 0.9203\tD(G(z)): 0.0942 / 0.0918\n",
      "[282/300][0/22]\tLoss_D: 0.5464\tLoss_G: 2.4015\tD(x): 0.9097\tD(G(z)): 0.0962 / 0.0943\n",
      "[283/300][0/22]\tLoss_D: 0.5480\tLoss_G: 2.4764\tD(x): 0.9197\tD(G(z)): 0.0886 / 0.0869\n",
      "[284/300][0/22]\tLoss_D: 0.5540\tLoss_G: 2.4093\tD(x): 0.9018\tD(G(z)): 0.0946 / 0.0924\n",
      "[285/300][0/22]\tLoss_D: 0.5329\tLoss_G: 2.4482\tD(x): 0.9086\tD(G(z)): 0.0923 / 0.0900\n",
      "[286/300][0/22]\tLoss_D: 0.5459\tLoss_G: 2.3940\tD(x): 0.9224\tD(G(z)): 0.0956 / 0.0937\n",
      "[287/300][0/22]\tLoss_D: 0.5438\tLoss_G: 2.4211\tD(x): 0.9010\tD(G(z)): 0.0945 / 0.0918\n",
      "[288/300][0/22]\tLoss_D: 0.5613\tLoss_G: 2.3918\tD(x): 0.8988\tD(G(z)): 0.1017 / 0.0959\n",
      "[289/300][0/22]\tLoss_D: 0.5588\tLoss_G: 2.4321\tD(x): 0.8941\tD(G(z)): 0.0922 / 0.0906\n",
      "[290/300][0/22]\tLoss_D: 0.5207\tLoss_G: 2.4550\tD(x): 0.9100\tD(G(z)): 0.0903 / 0.0889\n",
      "[291/300][0/22]\tLoss_D: 0.5400\tLoss_G: 2.4460\tD(x): 0.9194\tD(G(z)): 0.0913 / 0.0893\n",
      "[292/300][0/22]\tLoss_D: 0.5369\tLoss_G: 2.4635\tD(x): 0.8998\tD(G(z)): 0.0893 / 0.0881\n",
      "[293/300][0/22]\tLoss_D: 0.5435\tLoss_G: 2.4284\tD(x): 0.9165\tD(G(z)): 0.0929 / 0.0913\n",
      "[294/300][0/22]\tLoss_D: 0.5423\tLoss_G: 2.4527\tD(x): 0.9149\tD(G(z)): 0.0915 / 0.0890\n",
      "[295/300][0/22]\tLoss_D: 0.5380\tLoss_G: 2.4228\tD(x): 0.9135\tD(G(z)): 0.0957 / 0.0928\n",
      "[296/300][0/22]\tLoss_D: 0.5038\tLoss_G: 2.5009\tD(x): 0.9132\tD(G(z)): 0.0862 / 0.0846\n",
      "[297/300][0/22]\tLoss_D: 0.5473\tLoss_G: 2.4681\tD(x): 0.8840\tD(G(z)): 0.0909 / 0.0893\n",
      "[298/300][0/22]\tLoss_D: 0.5465\tLoss_G: 2.4582\tD(x): 0.9121\tD(G(z)): 0.0916 / 0.0882\n",
      "[299/300][0/22]\tLoss_D: 0.5522\tLoss_G: 2.4271\tD(x): 0.8861\tD(G(z)): 0.0929 / 0.0909\n"
     ]
    }
   ],
   "source": [
    "# Training Loop\n",
    "\n",
    "# Lists to keep track of progress\n",
    "img_list = []\n",
    "G_losses = []\n",
    "D_losses = []\n",
    "iters = 0\n",
    "\n",
    "label_smoothing_factor = 0.15\n",
    "\n",
    "print(\"Starting Training Loop...\")\n",
    "# For each epoch\n",
    "for epoch in range(num_epochs):\n",
    "    # For each batch in the dataloader\n",
    "    for i, data in enumerate(dataloader, 0):\n",
    "        ############################\n",
    "        # (1) Update D network: maximize log(D(x)) + log(1 - D(G(z)))\n",
    "        ###########################\n",
    "        ## Train with all-real batch\n",
    "        netD.zero_grad()\n",
    "        # Format batch\n",
    "        real_cpu = data.to(device)\n",
    "        b_size = real_cpu.size(0)\n",
    "        label = torch.full((b_size,), real_label, dtype=torch.float, device=device)\n",
    "        # labels smoothing\n",
    "        label -= (torch.rand(b_size, device=device) * label_smoothing_factor * (1 if real_label==1 else -1))\n",
    "        # Forward pass real batch through D\n",
    "        output = netD(real_cpu).view(-1)\n",
    "        # Calculate loss on all-real batch\n",
    "        errD_real = criterion(output, label)\n",
    "        # Calculate gradients for D in backward pass\n",
    "        errD_real.backward()\n",
    "        D_x = output.mean().item()\n",
    "\n",
    "        ## Train with all-fake batch\n",
    "        # Generate batch of latent vectors\n",
    "        noise = torch.randn(b_size, nz, 8, 8, device=device)\n",
    "        # Generate fake image batch with G\n",
    "        fake = netG(noise)\n",
    "        label.fill_(fake_label)\n",
    "        # labels smoothing\n",
    "        label += (torch.rand(b_size, device=device) * label_smoothing_factor * (1 if fake_label==0 else -1))\n",
    "        # Classify all fake batch with D\n",
    "        output = netD(fake.detach()).view(-1)\n",
    "        # Calculate D's loss on the all-fake batch\n",
    "        errD_fake = criterion(output, label)\n",
    "        # Calculate the gradients for this batch\n",
    "        errD_fake.backward()\n",
    "        D_G_z1 = output.mean().item()\n",
    "        # Add the gradients from the all-real and all-fake batches\n",
    "        errD = errD_real + errD_fake\n",
    "        # Update D\n",
    "        optimizerD.step()\n",
    "        \n",
    "\n",
    "        ############################\n",
    "        # (2) Update G network: maximize log(D(G(z)))\n",
    "        ###########################\n",
    "        netG.zero_grad()\n",
    "        label.fill_(real_label)  # fake labels are real for generator cost\n",
    "        # Since we just updated D, perform another forward pass of all-fake batch through D\n",
    "        output = netD(fake).view(-1)\n",
    "        # Calculate G's loss based on this output\n",
    "        errG = criterion(output, label)\n",
    "        # Calculate gradients for G\n",
    "        errG.backward()\n",
    "        D_G_z2 = output.mean().item()\n",
    "        # Update G\n",
    "        optimizerG.step()\n",
    "\n",
    "        # Output training stats\n",
    "        if i % 200 == 0:\n",
    "            print('[%d/%d][%d/%d]\\tLoss_D: %.4f\\tLoss_G: %.4f\\tD(x): %.4f\\tD(G(z)): %.4f / %.4f'\n",
    "                  % (epoch, num_epochs, i, len(dataloader),\n",
    "                     errD.item(), errG.item(), D_x, D_G_z1, D_G_z2))\n",
    "\n",
    "        # Save Losses for plotting later\n",
    "        G_losses.append(errG.item())\n",
    "        D_losses.append(errD.item())\n",
    "\n",
    "        # Check how the generator is doing by saving G's output on fixed_noise\n",
    "        if (iters % 500 == 0) or ((epoch == num_epochs-1) and (i == len(dataloader)-1)):\n",
    "            with torch.no_grad():\n",
    "                fake = netG(fixed_noise).detach().cpu()\n",
    "            img_list.append(vutils.make_grid(fake, padding=2, normalize=True))\n",
    "\n",
    "        iters += 1\n",
    "        \n",
    "        \n",
    "    cur_model_wts = copy.deepcopy(netG.state_dict())\n",
    "    path_to_save_paramOnly = os.path.join(save_dir, 'epoch-{}.GNet'.format(epoch+1))\n",
    "    torch.save(cur_model_wts, path_to_save_paramOnly)\n",
    "    \n",
    "    cur_model_wts = copy.deepcopy(netD.state_dict())\n",
    "    path_to_save_paramOnly = os.path.join(save_dir, 'epoch-{}.DNet'.format(epoch+1))\n",
    "    torch.save(cur_model_wts, path_to_save_paramOnly)"
   ]
  },
  {
   "cell_type": "markdown",
   "metadata": {},
   "source": [
    "## drawing the error curves"
   ]
  },
  {
   "cell_type": "code",
   "execution_count": 219,
   "metadata": {},
   "outputs": [
    {
     "data": {
      "image/png": "[encoded data removed]",
      "text/plain": [
       "<Figure size 720x360 with 1 Axes>"
      ]
     },
     "metadata": {
      "needs_background": "light"
     },
     "output_type": "display_data"
    }
   ],
   "source": [
    "plt.figure(figsize=(10,5))\n",
    "plt.title(\"Generator and Discriminator Loss During Training\")\n",
    "plt.plot(G_losses,label=\"G\")\n",
    "plt.plot(D_losses,label=\"D\")\n",
    "plt.xlabel(\"iterations\")\n",
    "plt.ylabel(\"Loss\")\n",
    "plt.legend()\n",
    "plt.savefig('learningCurves_{}.png'.format(modelFlag), bbox_inches='tight',transparent=True)\n",
    "# plt.show()"
   ]
  },
  {
   "cell_type": "markdown",
   "metadata": {},
   "source": [
    "## Testing"
   ]
  },
  {
   "cell_type": "code",
   "execution_count": 11,
   "metadata": {},
   "outputs": [
    {
     "data": {
      "text/plain": [
       "<All keys matched successfully>"
      ]
     },
     "execution_count": 11,
     "metadata": {},
     "output_type": "execute_result"
    }
   ],
   "source": [
    "netD.load_state_dict(torch.load(\"exp/step002_GANfea_v1_Res18sc/epoch-300.DNet\"))"
   ]
  },
  {
   "cell_type": "code",
   "execution_count": 220,
   "metadata": {},
   "outputs": [
    {
     "ename": "ValueError",
     "evalue": "too many values to unpack (expected 2)",
     "output_type": "error",
     "traceback": [
      "\u001b[0;31m---------------------------------------------------------------------------\u001b[0m",
      "\u001b[0;31mValueError\u001b[0m                                Traceback (most recent call last)",
      "\u001b[1;32m/media/zullich/LabControlli1/OpenGAN/demo_CrossDatasetOpenSet_training.ipynb Cell 36\u001b[0m in \u001b[0;36m<cell line: 4>\u001b[0;34m()\u001b[0m\n\u001b[1;32m      <a href='vscode-notebook-cell:/media/zullich/LabControlli1/OpenGAN/demo_CrossDatasetOpenSet_training.ipynb#X50sZmlsZQ%3D%3D?line=0'>1</a>\u001b[0m features \u001b[39m=\u001b[39m []\n\u001b[1;32m      <a href='vscode-notebook-cell:/media/zullich/LabControlli1/OpenGAN/demo_CrossDatasetOpenSet_training.ipynb#X50sZmlsZQ%3D%3D?line=2'>3</a>\u001b[0m backbone\u001b[39m.\u001b[39meval()\n\u001b[0;32m----> <a href='vscode-notebook-cell:/media/zullich/LabControlli1/OpenGAN/demo_CrossDatasetOpenSet_training.ipynb#X50sZmlsZQ%3D%3D?line=3'>4</a>\u001b[0m \u001b[39mfor\u001b[39;00m i, (data, _) \u001b[39min\u001b[39;00m \u001b[39menumerate\u001b[39m(testloader):\n\u001b[1;32m      <a href='vscode-notebook-cell:/media/zullich/LabControlli1/OpenGAN/demo_CrossDatasetOpenSet_training.ipynb#X50sZmlsZQ%3D%3D?line=4'>5</a>\u001b[0m     \u001b[39mprint\u001b[39m(\u001b[39mf\u001b[39m\u001b[39m\"\u001b[39m\u001b[39mDoing \u001b[39m\u001b[39m{\u001b[39;00mi\u001b[39m+\u001b[39m\u001b[39m1\u001b[39m\u001b[39m}\u001b[39;00m\u001b[39m/\u001b[39m\u001b[39m{\u001b[39;00m\u001b[39mlen\u001b[39m(testloader)\u001b[39m}\u001b[39;00m\u001b[39m\"\u001b[39m)\n\u001b[1;32m      <a href='vscode-notebook-cell:/media/zullich/LabControlli1/OpenGAN/demo_CrossDatasetOpenSet_training.ipynb#X50sZmlsZQ%3D%3D?line=5'>6</a>\u001b[0m     _ \u001b[39m=\u001b[39m backbone(data\u001b[39m.\u001b[39mcuda())\n",
      "\u001b[0;31mValueError\u001b[0m: too many values to unpack (expected 2)"
     ]
    }
   ],
   "source": [
    "features = []\n",
    "\n",
    "backbone.eval()\n",
    "for i, (data, _) in enumerate(testloader):\n",
    "    print(f\"Doing {i+1}/{len(testloader)}\")\n",
    "    _ = backbone(data.cuda())"
   ]
  },
  {
   "cell_type": "code",
   "execution_count": 188,
   "metadata": {},
   "outputs": [],
   "source": [
    "features = torch.cat(features, dim=0)"
   ]
  },
  {
   "cell_type": "code",
   "execution_count": 27,
   "metadata": {},
   "outputs": [],
   "source": [
    "torch.save(features, \"punzoni_res18_features_TEST.pt\")"
   ]
  },
  {
   "cell_type": "code",
   "execution_count": 13,
   "metadata": {},
   "outputs": [],
   "source": [
    "features = torch.load(\"punzoni_res18_features_TEST.pt\")"
   ]
  },
  {
   "cell_type": "code",
   "execution_count": 189,
   "metadata": {},
   "outputs": [],
   "source": [
    "testset_closeset = FeatDataset(data=features)\n",
    "testloader = DataLoader(testset_closeset, batch_size=batch_size, shuffle=True, num_workers=1)"
   ]
  },
  {
   "cell_type": "code",
   "execution_count": 221,
   "metadata": {},
   "outputs": [
    {
     "data": {
      "text/plain": [
       "313"
      ]
     },
     "execution_count": 221,
     "metadata": {},
     "output_type": "execute_result"
    }
   ],
   "source": [
    "len(testset_closeset)"
   ]
  },
  {
   "cell_type": "code",
   "execution_count": 222,
   "metadata": {},
   "outputs": [
    {
     "name": "stdout",
     "output_type": "stream",
     "text": [
      "Correctly identified items: 1.0\n",
      "Correctly identified fakes: 0.978\n"
     ]
    },
    {
     "data": {
      "text/plain": [
       "Text(0.5, 1.0, 'ROC score 0.99998')"
      ]
     },
     "execution_count": 222,
     "metadata": {},
     "output_type": "execute_result"
    },
    {
     "data": {
      "image/png": "[encoded data removed]",
      "text/plain": [
       "<Figure size 432x288 with 1 Axes>"
      ]
     },
     "metadata": {
      "needs_background": "light"
     },
     "output_type": "display_data"
    }
   ],
   "source": [
    "x = next(iter(testloader)).cuda()\n",
    "(netD(x).view(-1) >= .5).sum().item() / x.size(0)\n",
    "\n",
    "correct = 0\n",
    "netD.train()\n",
    "\n",
    "outputs_close = []\n",
    "with torch.no_grad():\n",
    "    for test_data in testloader:\n",
    "        output = netD(test_data.cuda()).view(-1)\n",
    "        outputs_close += [output.cpu()]\n",
    "        correct += (output >= .5).sum().item()\n",
    "\n",
    "outputs_close = torch.cat(outputs_close).numpy()\n",
    "\n",
    "print(\"Correctly identified items:\", correct/len(testloader.dataset))\n",
    "\n",
    "correct_fake = 0\n",
    "outputs_open = []\n",
    "with torch.no_grad():\n",
    "    for ite in range(10):\n",
    "        #noise = torch.randn(100, 512, 8, 8, device=device)\n",
    "        features = []\n",
    "        noiseimg = torch.randn(100, 3, 256, 256, device=device)\n",
    "        _ = backbone(noiseimg)\n",
    "        feats = features[0].cuda()\n",
    "        assert feats.shape == (100, 512, 8, 8), f\"Features shape is {feats.shape}, expected (100, 512, 8, 8)\"\n",
    "        output = netD(feats).view(-1)\n",
    "        outputs_open.append(output.cpu())\n",
    "        correct_fake += (output < .5).sum().item()\n",
    "outputs_open = torch.cat(outputs_open).numpy()\n",
    "\n",
    "print(\"Correctly identified fakes:\", correct_fake/1000)\n",
    "\n",
    "roc_score, roc_to_plot = evaluate_openset(outputs_open, outputs_close)\n",
    "plt.plot(roc_to_plot['fp'], roc_to_plot['tp'])\n",
    "plt.grid('on')\n",
    "plt.xlabel('False Positive Rate')\n",
    "plt.ylabel('True Positive Rate')\n",
    "plt.title('ROC score {:.5f}'.format(roc_score))"
   ]
  },
  {
   "cell_type": "markdown",
   "metadata": {},
   "source": [
    "test con punzoni **grandi**"
   ]
  },
  {
   "cell_type": "code",
   "execution_count": 223,
   "metadata": {},
   "outputs": [],
   "source": [
    "from PIL import Image\n",
    "\n",
    "transform = T.Compose([\n",
    "        T.Resize((256, 256)),\n",
    "        T.ToTensor(),\n",
    "        T.Normalize(mean=(0.5, 0.5, 0.5), std=(0.5, 0.5, 0.5))\n",
    "    ])\n",
    "\n",
    "batch_size_eval = 64\n",
    "\n",
    "root_data = \"../CV_thesis_GiovanniPinna/ImageSet/train/Grandi/\"\n",
    "root_testdata = \"../CV_thesis_GiovanniPinna/ImageSet/test/Grandi/\"\n",
    "\n",
    "imgs = [transform(Image.open(os.path.join(root_data,i))) for i in os.listdir(root_data)]\n",
    "imgs += [transform(Image.open(os.path.join(root_testdata,i))) for i in os.listdir(root_testdata)]\n",
    "imgs = torch.stack(imgs)"
   ]
  },
  {
   "cell_type": "code",
   "execution_count": 224,
   "metadata": {},
   "outputs": [],
   "source": [
    "features = []\n",
    "\n",
    "backbone.eval()\n",
    "_ = backbone(imgs.cuda())"
   ]
  },
  {
   "cell_type": "code",
   "execution_count": 225,
   "metadata": {},
   "outputs": [],
   "source": [
    "netD.train()\n",
    "output_composti = netD(features[0].cuda()).view(-1).detach().cpu().numpy()"
   ]
  },
  {
   "cell_type": "code",
   "execution_count": 226,
   "metadata": {},
   "outputs": [
    {
     "data": {
      "text/plain": [
       "array([0.03614169, 0.13188133, 0.22271664, 0.40477863, 0.36695084,\n",
       "       0.25565153, 0.45886257, 0.06041168, 0.02849863, 0.03334023,\n",
       "       0.19013801, 0.05493907, 0.11447396, 0.13238226, 0.10767952],\n",
       "      dtype=float32)"
      ]
     },
     "execution_count": 226,
     "metadata": {},
     "output_type": "execute_result"
    }
   ],
   "source": [
    "output_composti"
   ]
  },
  {
   "cell_type": "markdown",
   "metadata": {},
   "source": [
    "test con **no punzoni**"
   ]
  },
  {
   "cell_type": "code",
   "execution_count": 227,
   "metadata": {},
   "outputs": [],
   "source": [
    "transform = T.Compose([\n",
    "        T.Resize((256, 256)),\n",
    "        T.ToTensor(),\n",
    "        T.Normalize(mean=(0.5, 0.5, 0.5), std=(0.5, 0.5, 0.5))\n",
    "    ])\n",
    "\n",
    "batch_size_eval = 64\n",
    "\n",
    "root_data = \"../CV_thesis_GiovanniPinna/ImageSet/No_punzoni/No_punzoni/\"\n",
    "\n",
    "imgs = [transform(Image.open(os.path.join(root_data,i))) for i in os.listdir(root_data)]\n",
    "imgs = torch.stack(imgs)\n",
    "\n",
    "features = []\n",
    "\n",
    "backbone.eval()\n",
    "_ = backbone(imgs.cuda())\n",
    "\n",
    "netD.train()\n",
    "outputs_nopunz = netD(features[0].cuda()).view(-1)\n",
    "outputs_nopunz = outputs_nopunz.detach().cpu().numpy()\n"
   ]
  },
  {
   "cell_type": "code",
   "execution_count": 228,
   "metadata": {},
   "outputs": [
    {
     "data": {
      "text/plain": [
       "array([0.27878183, 0.42130584, 0.02073064, 0.1769452 , 0.02638935,\n",
       "       0.15796275, 0.15667205, 0.19017813, 0.10892434, 0.52115977,\n",
       "       0.07141458, 0.45866367, 0.00710254, 0.38995004, 0.04471656],\n",
       "      dtype=float32)"
      ]
     },
     "execution_count": 228,
     "metadata": {},
     "output_type": "execute_result"
    }
   ],
   "source": [
    "outputs_nopunz"
   ]
  },
  {
   "cell_type": "code",
   "execution_count": 162,
   "metadata": {},
   "outputs": [
    {
     "data": {
      "text/plain": [
       "Text(0.5, 1.0, 'ROC score 0.99437')"
      ]
     },
     "execution_count": 162,
     "metadata": {},
     "output_type": "execute_result"
    },
    {
     "data": {
      "image/png": "[encoded data removed]",
      "text/plain": [
       "<Figure size 432x288 with 1 Axes>"
      ]
     },
     "metadata": {
      "needs_background": "light"
     },
     "output_type": "display_data"
    }
   ],
   "source": [
    "roc_score, roc_to_plot = evaluate_openset(outputs_nopunz, outputs_close)\n",
    "plt.plot(roc_to_plot['fp'], roc_to_plot['tp'])\n",
    "plt.grid('on')\n",
    "plt.xlabel('False Positive Rate')\n",
    "plt.ylabel('True Positive Rate')\n",
    "plt.title('ROC score {:.5f}'.format(roc_score))"
   ]
  },
  {
   "cell_type": "markdown",
   "metadata": {},
   "source": [
    "test con **altri punzoni extra**"
   ]
  },
  {
   "cell_type": "code",
   "execution_count": 229,
   "metadata": {},
   "outputs": [],
   "source": [
    "transform = T.Compose([\n",
    "        T.Resize((256, 256)),\n",
    "        T.ToTensor(),\n",
    "        T.Normalize(mean=(0.5, 0.5, 0.5), std=(0.5, 0.5, 0.5))\n",
    "    ])\n",
    "\n",
    "batch_size_eval = 64\n",
    "\n",
    "root_data = \"../CV_thesis_GiovanniPinna/ImageSet/extra_train/\"\n",
    "\n",
    "extra_ds = torchvision.datasets.ImageFolder(root=root_data, transform=transform)\n",
    "extra_dl = torch.utils.data.DataLoader(extra_ds, batch_size=len(extra_ds), shuffle=False, num_workers=1)\n",
    "\n",
    "features = []\n",
    "\n",
    "backbone.eval()\n",
    "_ = backbone(next(iter(extra_dl))[0].cuda())\n",
    "\n",
    "netD.train()\n",
    "outputs_extra = netD(features[0].cuda()).view(-1)\n",
    "outputs_extra = outputs_extra.detach().cpu().numpy()\n"
   ]
  },
  {
   "cell_type": "code",
   "execution_count": 230,
   "metadata": {},
   "outputs": [
    {
     "data": {
      "text/plain": [
       "array([0.28935257, 0.375004  , 0.14068295, 0.41131547, 0.34069493,\n",
       "       0.19066136, 0.5747589 , 0.74599713, 0.55927753, 0.3160395 ,\n",
       "       0.11001829, 0.23722832, 0.33327243, 0.15292104, 0.26261202,\n",
       "       0.11334129, 0.48497576, 0.34152555, 0.38191482], dtype=float32)"
      ]
     },
     "execution_count": 230,
     "metadata": {},
     "output_type": "execute_result"
    }
   ],
   "source": [
    "outputs_extra"
   ]
  },
  {
   "cell_type": "code",
   "execution_count": 231,
   "metadata": {},
   "outputs": [
    {
     "data": {
      "text/plain": [
       "array([0.88747036, 0.9004076 , 0.8224729 , 0.8692346 , 0.8922849 ,\n",
       "       0.90174043, 0.90096986, 0.8950197 , 0.895969  , 0.90580523,\n",
       "       0.89768773, 0.9415842 , 0.89414734, 0.89606667, 0.9048079 ,\n",
       "       0.88658625, 0.89229983, 0.8857224 , 0.8864584 , 0.89086044,\n",
       "       0.8820801 , 0.89312416, 0.89979017, 0.8940206 , 0.89560527,\n",
       "       0.8943877 , 0.8958931 , 0.89298934, 0.87646574, 0.89878464,\n",
       "       0.898369  , 0.907703  , 0.9287664 , 0.8948314 , 0.897249  ,\n",
       "       0.89277667, 0.88637996, 0.89627165, 0.91777635, 0.94600356,\n",
       "       0.8972681 , 0.8925855 , 0.9216061 , 0.89862293, 0.89566827,\n",
       "       0.84723383, 0.7826829 , 0.89397746, 0.8982131 , 0.89285237,\n",
       "       0.8975709 , 0.89852   , 0.90325814, 0.8784707 , 0.90291476,\n",
       "       0.9082935 , 0.9316184 , 0.8848186 , 0.89115256, 0.89234483,\n",
       "       0.894168  , 0.90512645, 0.8905836 , 0.90028644, 0.88301677,\n",
       "       0.89084005, 0.89166784, 0.9001026 , 0.89439857, 0.8897256 ,\n",
       "       0.89027566, 0.89235014, 0.94366115, 0.8909313 , 0.89579886,\n",
       "       0.9262912 , 0.9014518 , 0.9000437 , 0.8939608 , 0.90190107,\n",
       "       0.8966326 , 0.888393  , 0.8213801 , 0.8902486 , 0.8278379 ,\n",
       "       0.90114266, 0.8957473 , 0.8927591 , 0.8927991 , 0.89490294,\n",
       "       0.89820683, 0.88642746, 0.9087643 , 0.89077026, 0.9066177 ,\n",
       "       0.89703083, 0.8924158 , 0.880495  , 0.90718824, 0.94376296,\n",
       "       0.90552187, 0.8808114 , 0.8854831 , 0.86916035, 0.89158785,\n",
       "       0.8922242 , 0.88017267, 0.8994449 , 0.890609  , 0.9021883 ,\n",
       "       0.8965601 , 0.93689674, 0.8857099 , 0.8931642 , 0.89442205,\n",
       "       0.8887707 , 0.89097196, 0.90780103, 0.8926918 , 0.90379554,\n",
       "       0.88555795, 0.8957089 , 0.8957378 , 0.88897544, 0.8202122 ,\n",
       "       0.8861375 , 0.8856471 , 0.889237  , 0.9157407 , 0.9122058 ,\n",
       "       0.920035  , 0.9193393 , 0.92078096, 0.90749395, 0.91314614,\n",
       "       0.9221961 , 0.91767013, 0.9063958 , 0.91618526, 0.96451455,\n",
       "       0.92579204, 0.9168622 , 0.92026234, 0.89758927, 0.91974473,\n",
       "       0.9020091 , 0.90494514, 0.9191624 , 0.890345  , 0.9171236 ,\n",
       "       0.9167999 , 0.9534794 , 0.9580502 , 0.9158352 , 0.91142195,\n",
       "       0.9086081 , 0.9100081 , 0.9212212 , 0.8962429 , 0.9113249 ,\n",
       "       0.9167362 , 0.9038553 , 0.92014545, 0.9171302 , 0.91013026,\n",
       "       0.904389  , 0.9163039 , 0.9153561 , 0.8939746 , 0.91972446,\n",
       "       0.9207899 , 0.91255194, 0.89381284, 0.9255283 , 0.90754086,\n",
       "       0.8991532 , 0.93124837, 0.9173142 , 0.9019331 , 0.9005735 ,\n",
       "       0.9215121 , 0.9334656 , 0.9040363 , 0.91750735, 0.8468014 ,\n",
       "       0.94281924, 0.8985411 , 0.91455334, 0.8952642 , 0.9324645 ,\n",
       "       0.894224  , 0.91863745, 0.91563416, 0.91319823, 0.9154034 ,\n",
       "       0.9211279 , 0.89877987, 0.91698366, 0.92594993, 0.9280499 ,\n",
       "       0.918541  , 0.89312625, 0.9590918 , 0.92080396, 0.9263092 ,\n",
       "       0.899955  , 0.9202238 , 0.9079147 , 0.964028  , 0.9164312 ,\n",
       "       0.9134677 , 0.89923704, 0.92082065, 0.9205717 , 0.90715545,\n",
       "       0.92191035, 0.90556985, 0.91770464, 0.9003195 , 0.9304387 ,\n",
       "       0.9088366 , 0.9111644 , 0.92683935, 0.91657346, 0.9203706 ,\n",
       "       0.9215244 , 0.919849  , 0.92226696, 0.9146043 , 0.907252  ,\n",
       "       0.9140195 , 0.92205477, 0.92302   , 0.92985016, 0.9165976 ,\n",
       "       0.9162125 , 0.90894336, 0.8772755 , 0.9183625 , 0.9158647 ,\n",
       "       0.956936  , 0.9165593 , 0.9182231 , 0.9134356 , 0.9175031 ,\n",
       "       0.9258003 , 0.91934454, 0.89939183, 0.9095887 , 0.91705954,\n",
       "       0.9211772 , 0.95823   , 0.89708245, 0.90467393, 0.91400576,\n",
       "       0.9234935 , 0.89845854, 0.91020507, 0.92675775, 0.89955825,\n",
       "       0.88435847, 0.893995  , 0.91748637, 0.9053694 , 0.8922306 ,\n",
       "       0.9058929 , 0.8039542 , 0.9169944 , 0.90589815, 0.88628715,\n",
       "       0.9150207 , 0.8492791 , 0.88820297, 0.8929383 , 0.91061115,\n",
       "       0.90908283, 0.9308806 , 0.91006464, 0.9186043 , 0.9073814 ,\n",
       "       0.8884667 , 0.9150938 , 0.925592  , 0.9016398 , 0.8910106 ,\n",
       "       0.72686356, 0.9048983 , 0.9100773 , 0.8929961 , 0.9034814 ,\n",
       "       0.9160916 , 0.8911966 , 0.9079359 , 0.83556056, 0.9045578 ,\n",
       "       0.9251749 , 0.9112652 , 0.89954054, 0.911175  , 0.90672255,\n",
       "       0.8687372 , 0.89679253, 0.92465115, 0.93901974, 0.91485155,\n",
       "       0.9062827 , 0.917936  , 0.97620296, 0.91472226, 0.89651304,\n",
       "       0.9134107 , 0.8880495 , 0.9103566 ], dtype=float32)"
      ]
     },
     "execution_count": 231,
     "metadata": {},
     "output_type": "execute_result"
    }
   ],
   "source": [
    "outputs_close"
   ]
  },
  {
   "cell_type": "code",
   "execution_count": 166,
   "metadata": {},
   "outputs": [
    {
     "data": {
      "text/plain": [
       "Text(0.5, 1.0, 'ROC score 0.99751')"
      ]
     },
     "execution_count": 166,
     "metadata": {},
     "output_type": "execute_result"
    },
    {
     "data": {
      "image/png": "[encoded data removed]",
      "text/plain": [
       "<Figure size 432x288 with 1 Axes>"
      ]
     },
     "metadata": {
      "needs_background": "light"
     },
     "output_type": "display_data"
    }
   ],
   "source": [
    "roc_score, roc_to_plot = evaluate_openset(outputs_extra, outputs_close)\n",
    "plt.plot(roc_to_plot['fp'], roc_to_plot['tp'])\n",
    "plt.grid('on')\n",
    "plt.xlabel('False Positive Rate')\n",
    "plt.ylabel('True Positive Rate')\n",
    "plt.title('ROC score {:.5f}'.format(roc_score))"
   ]
  },
  {
   "cell_type": "code",
   "execution_count": 69,
   "metadata": {},
   "outputs": [
    {
     "data": {
      "text/plain": [
       "0.9984245586353054"
      ]
     },
     "execution_count": 69,
     "metadata": {},
     "output_type": "execute_result"
    }
   ],
   "source": [
    "import sklearn\n",
    "\n",
    "def mean_ap(outputs1, outputs2):\n",
    "    y_true = [1] * len(outputs1) + [0] * len(outputs2)\n",
    "    y_score = np.concatenate([outputs1, outputs2])\n",
    "    return sklearn.metrics.average_precision_score(y_true, y_score)\n",
    "\n",
    "mean_ap(outputs_close, outputs_extra)"
   ]
  },
  {
   "cell_type": "code",
   "execution_count": 70,
   "metadata": {},
   "outputs": [
    {
     "data": {
      "text/plain": [
       "0.9999882176370101"
      ]
     },
     "execution_count": 70,
     "metadata": {},
     "output_type": "execute_result"
    }
   ],
   "source": [
    "mean_ap(outputs_close, outputs_nopunz)"
   ]
  },
  {
   "cell_type": "code",
   "execution_count": 236,
   "metadata": {},
   "outputs": [
    {
     "data": {
      "image/png": "[encoded data removed]",
      "text/plain": [
       "<Figure size 432x288 with 1 Axes>"
      ]
     },
     "metadata": {
      "needs_background": "light"
     },
     "output_type": "display_data"
    }
   ],
   "source": [
    "plt.hist(outputs_close, label=\"punzoni closeset\", density=True, bins=100, alpha=0.5)\n",
    "plt.hist(outputs_extra, label=\"punzoni extra\", density=True, alpha=0.5)\n",
    "plt.hist(outputs_open, label=\"punzoni random\", density=True, alpha=0.5)\n",
    "plt.hist(outputs_nopunz, label=\"nopunzoni\", density=True, bins=30, alpha=0.5)\n",
    "plt.legend(loc='upper right')\n",
    "plt.title('Overlapping')\n",
    "plt.show()"
   ]
  },
  {
   "cell_type": "code",
   "execution_count": 235,
   "metadata": {},
   "outputs": [
    {
     "data": {
      "image/png": "[encoded data removed]",
      "text/plain": [
       "<Figure size 432x288 with 1 Axes>"
      ]
     },
     "metadata": {
      "needs_background": "light"
     },
     "output_type": "display_data"
    }
   ],
   "source": [
    "plt.hist(outputs_close, label=\"punzoni closeset\", density=True, bins=100, alpha=0.5)\n",
    "plt.hist(outputs_extra, label=\"no punzoni\", density=True, bins=20, alpha=0.5)\n",
    "\n",
    "plt.legend(loc='upper right')\n",
    "plt.title('Overlapping')\n",
    "plt.show()"
   ]
  },
  {
   "cell_type": "markdown",
   "metadata": {},
   "source": [
    "# QUANTITATIVE ASSESSMENT"
   ]
  },
  {
   "cell_type": "code",
   "execution_count": 247,
   "metadata": {},
   "outputs": [
    {
     "data": {
      "text/plain": [
       "tensor([0.0100, 0.0200, 0.0300, 0.0400, 0.0500, 0.0600, 0.0700, 0.0800, 0.0900,\n",
       "        0.1000, 0.1100, 0.1200, 0.1300, 0.1400, 0.1500, 0.1600, 0.1700, 0.1800,\n",
       "        0.1900, 0.2000, 0.2100, 0.2200, 0.2300, 0.2400, 0.2500, 0.2600, 0.2700,\n",
       "        0.2800, 0.2900, 0.3000, 0.3100, 0.3200, 0.3300, 0.3400, 0.3500, 0.3600,\n",
       "        0.3700, 0.3800, 0.3900, 0.4000, 0.4100, 0.4200, 0.4300, 0.4400, 0.4500,\n",
       "        0.4600, 0.4700, 0.4800, 0.4900, 0.5000, 0.5100, 0.5200, 0.5300, 0.5400,\n",
       "        0.5500, 0.5600, 0.5700, 0.5800, 0.5900, 0.6000, 0.6100, 0.6200, 0.6300,\n",
       "        0.6400, 0.6500, 0.6600, 0.6700, 0.6800, 0.6900, 0.7000, 0.7100, 0.7200,\n",
       "        0.7300, 0.7400, 0.7500, 0.7600, 0.7700, 0.7800, 0.7900, 0.8000, 0.8100,\n",
       "        0.8200, 0.8300, 0.8400, 0.8500, 0.8600, 0.8700, 0.8800, 0.8900, 0.9000,\n",
       "        0.9100, 0.9200, 0.9300, 0.9400, 0.9500, 0.9600, 0.9700, 0.9800, 0.9900])"
      ]
     },
     "execution_count": 247,
     "metadata": {},
     "output_type": "execute_result"
    }
   ],
   "source": [
    "torch.linspace(0+.01,1-.01,int(1/0.01)-1)"
   ]
  },
  {
   "cell_type": "code",
   "execution_count": 248,
   "metadata": {},
   "outputs": [],
   "source": [
    "from typing import Collection, Union, List\n",
    "\n",
    "def eval_on_threshold(outlier_scores:torch.Tensor, threshold:float, comparison_fn=torch.gt) -> float:\n",
    "    '''\n",
    "    Thresholds the outlier scores on the given threshold with respect to the specified comparison operator.\n",
    "    \n",
    "    Parameters\n",
    "    ----------\n",
    "    outlier_scores: a torch.Tensor containing the outlier scores for a data set (e.g., train, validation...)\n",
    "    threshold: a float specifying the threshold to use\n",
    "    comparison_fn: a torch.Tensor comparison function (e.g., torch.gt, torch.le). Defaults to torch.gt. It operates the comparison between the outlier scores and the threshold. E.g., if comparison_fn is torch.gt, then it evals on outlier scores being greater than the threshold.\n",
    "    '''\n",
    "    return (comparison_fn(outlier_scores, threshold)).sum().item()\n",
    "\n",
    "def eval_multiple_outlier_scores_series_on_thresholds(outlier_scores:Collection[torch.Tensor], comparison_fns:Collection, thresholds:Union[float,Collection[float]], series_names:Collection[str]=None) -> List[float]:\n",
    "    '''\n",
    "    Evaluates multiple outlier scores on multiple thresholds with respect to the specified comparison operators.\n",
    "    \n",
    "    Parameters\n",
    "    ----------\n",
    "    outlier_scores: a collection of torch.Tensor containing the outlier scores for a data set (e.g., train, validation...)\n",
    "    comparison_fns: a collection of torch.Tensor comparison functions (e.g., torch.gt, torch.le). It operates the comparison between the outlier scores and the threshold. Must have same size as outlier_scores.\n",
    "    thresholds: a collection of floats specifying the thresholds to use. Can be a float or a collection of floats.\n",
    "    series_names: a collection of strings specifying the names of the series. Defaults to None. If specified, must have same size as outlier_scores.\n",
    "    '''\n",
    "    assert len(outlier_scores) == len(comparison_fns), f\"Expected len(outlier_scores) ({len(outlier_scores)}) to be equal to len(comparison_fns) ({len(comparison_fns)})\"\n",
    "    if series_names is not None:\n",
    "        assert len(outlier_scores) == len(series_names), f\"Expected len(outlier_scores) ({len(outlier_scores)}) to be equal to len(series_names) ({len(series_names)})\"\n",
    "    else:\n",
    "        series_names = range(len(outlier_scores))\n",
    "    \n",
    "    if isinstance(thresholds, float):\n",
    "        thresholds = [thresholds]\n",
    "\n",
    "    results = {\"threshold\": []}\n",
    "    for name in series_names:\n",
    "        results[name + \"_N\"] = []\n",
    "        results[name + \"_N_corr\"] = []\n",
    "        results[name + \"_pct\"] = []\n",
    "    for th in thresholds:\n",
    "        results[\"threshold\"].append(th)\n",
    "        for scores, fn, name in zip(outlier_scores, comparison_fns, series_names):\n",
    "            results[name + \"_N\"].append(len(scores))\n",
    "            N_corr = eval_on_threshold(scores, th, fn)\n",
    "            results[name + \"_N_corr\"].append(N_corr)\n",
    "            results[name + \"_pct\"].append(N_corr / len(scores))\n",
    "    return results"
   ]
  },
  {
   "cell_type": "code",
   "execution_count": 251,
   "metadata": {},
   "outputs": [],
   "source": [
    "results = eval_multiple_outlier_scores_series_on_thresholds([torch.from_numpy(outputs_close), torch.from_numpy(outputs_nopunz), torch.from_numpy(outputs_extra), torch.from_numpy(outputs_open)], [torch.gt, torch.lt, torch.lt, torch.lt], torch.linspace(0+.01,1-.01,int(1/0.01)-1), (\"validation\", \"crops\", \"ood\", \"random\"))\n",
    "results = pd.DataFrame(results)\n",
    "    "
   ]
  },
  {
   "cell_type": "code",
   "execution_count": 255,
   "metadata": {},
   "outputs": [
    {
     "ename": "AttributeError",
     "evalue": "'DataFrame' object has no attribute 'all_pct'",
     "output_type": "error",
     "traceback": [
      "\u001b[0;31m---------------------------------------------------------------------------\u001b[0m",
      "\u001b[0;31mAttributeError\u001b[0m                            Traceback (most recent call last)",
      "\u001b[1;32m/media/zullich/LabControlli1/OpenGAN/demo_CrossDatasetOpenSet_training.ipynb Cell 65\u001b[0m in \u001b[0;36m<cell line: 2>\u001b[0;34m()\u001b[0m\n\u001b[1;32m      <a href='vscode-notebook-cell:/media/zullich/LabControlli1/OpenGAN/demo_CrossDatasetOpenSet_training.ipynb#Y124sZmlsZQ%3D%3D?line=0'>1</a>\u001b[0m results[\u001b[39m\"\u001b[39m\u001b[39mW_sens_spec\u001b[39m\u001b[39m\"\u001b[39m] \u001b[39m=\u001b[39m \u001b[39m5\u001b[39m \u001b[39m*\u001b[39m results\u001b[39m.\u001b[39mvalidation_pct \u001b[39m*\u001b[39m results\u001b[39m.\u001b[39mood_pct \u001b[39m/\u001b[39m (\u001b[39m4\u001b[39m\u001b[39m*\u001b[39mresults\u001b[39m.\u001b[39mvalidation_pct \u001b[39m+\u001b[39m results\u001b[39m.\u001b[39mood_pct)\n\u001b[0;32m----> <a href='vscode-notebook-cell:/media/zullich/LabControlli1/OpenGAN/demo_CrossDatasetOpenSet_training.ipynb#Y124sZmlsZQ%3D%3D?line=1'>2</a>\u001b[0m results[\u001b[39m\"\u001b[39m\u001b[39mWA_sens_spec\u001b[39m\u001b[39m\"\u001b[39m] \u001b[39m=\u001b[39m \u001b[39m5\u001b[39m \u001b[39m*\u001b[39m results\u001b[39m.\u001b[39mvalidation_pct \u001b[39m*\u001b[39m results\u001b[39m.\u001b[39;49mall_pct \u001b[39m/\u001b[39m (\u001b[39m4\u001b[39m\u001b[39m*\u001b[39mresults\u001b[39m.\u001b[39mvalidation_pct \u001b[39m+\u001b[39m results\u001b[39m.\u001b[39mall_pct)\n\u001b[1;32m      <a href='vscode-notebook-cell:/media/zullich/LabControlli1/OpenGAN/demo_CrossDatasetOpenSet_training.ipynb#Y124sZmlsZQ%3D%3D?line=2'>3</a>\u001b[0m results\u001b[39m.\u001b[39mnlargest(\u001b[39m10\u001b[39m, \u001b[39m\"\u001b[39m\u001b[39mW_sens_spec\u001b[39m\u001b[39m\"\u001b[39m)\n",
      "File \u001b[0;32m~/giovanni/lib/python3.10/site-packages/pandas/core/generic.py:5575\u001b[0m, in \u001b[0;36mNDFrame.__getattr__\u001b[0;34m(self, name)\u001b[0m\n\u001b[1;32m   5568\u001b[0m \u001b[39mif\u001b[39;00m (\n\u001b[1;32m   5569\u001b[0m     name \u001b[39mnot\u001b[39;00m \u001b[39min\u001b[39;00m \u001b[39mself\u001b[39m\u001b[39m.\u001b[39m_internal_names_set\n\u001b[1;32m   5570\u001b[0m     \u001b[39mand\u001b[39;00m name \u001b[39mnot\u001b[39;00m \u001b[39min\u001b[39;00m \u001b[39mself\u001b[39m\u001b[39m.\u001b[39m_metadata\n\u001b[1;32m   5571\u001b[0m     \u001b[39mand\u001b[39;00m name \u001b[39mnot\u001b[39;00m \u001b[39min\u001b[39;00m \u001b[39mself\u001b[39m\u001b[39m.\u001b[39m_accessors\n\u001b[1;32m   5572\u001b[0m     \u001b[39mand\u001b[39;00m \u001b[39mself\u001b[39m\u001b[39m.\u001b[39m_info_axis\u001b[39m.\u001b[39m_can_hold_identifiers_and_holds_name(name)\n\u001b[1;32m   5573\u001b[0m ):\n\u001b[1;32m   5574\u001b[0m     \u001b[39mreturn\u001b[39;00m \u001b[39mself\u001b[39m[name]\n\u001b[0;32m-> 5575\u001b[0m \u001b[39mreturn\u001b[39;00m \u001b[39mobject\u001b[39;49m\u001b[39m.\u001b[39;49m\u001b[39m__getattribute__\u001b[39;49m(\u001b[39mself\u001b[39;49m, name)\n",
      "\u001b[0;31mAttributeError\u001b[0m: 'DataFrame' object has no attribute 'all_pct'"
     ]
    }
   ],
   "source": [
    "results[\"W_sens_spec\"] = 5 * results.validation_pct * results.ood_pct / (4*results.validation_pct + results.ood_pct)\n",
    "results[\"WA_sens_spec\"] = 5 * results.validation_pct * results.all_pct / (4*results.validation_pct + results.all_pct)\n",
    "results.nlargest(10, \"W_sens_spec\")"
   ]
  }
 ],
 "metadata": {
  "kernelspec": {
   "display_name": "Python 3.10.4 ('giovanni')",
   "language": "python",
   "name": "python3"
  },
  "language_info": {
   "codemirror_mode": {
    "name": "ipython",
    "version": 3
   },
   "file_extension": ".py",
   "mimetype": "text/x-python",
   "name": "python",
   "nbconvert_exporter": "python",
   "pygments_lexer": "ipython3",
   "version": "3.10.4"
  },
  "vscode": {
   "interpreter": {
    "hash": "ee65a9bd9b244ab144c7288d6cb3046655f4298486ef114fafae143a4f9bde35"
   }
  }
 },
 "nbformat": 4,
 "nbformat_minor": 2
}
