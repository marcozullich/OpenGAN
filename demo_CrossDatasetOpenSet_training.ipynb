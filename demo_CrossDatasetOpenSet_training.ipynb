{
 "cells": [
  {
   "cell_type": "markdown",
   "metadata": {},
   "source": [
    "OpenGAN: Open-Set Recognition via Open Data Generation\n",
    "================\n",
    "**Supplemental Material for ICCV2021 Submission**\n",
    "\n",
    "\n",
    "In this notebook, we demonstrate how we train the GAN-fea model on the TinyImageNet train-set, providing the closed-set images."
   ]
  },
  {
   "cell_type": "markdown",
   "metadata": {},
   "source": [
    "import packages\n",
    "------------------\n",
    "\n",
    "Some packages are installed automatically through Anaconda. PyTorch should be also installed."
   ]
  },
  {
   "cell_type": "code",
   "execution_count": 1,
   "metadata": {},
   "outputs": [
    {
     "name": "stderr",
     "output_type": "stream",
     "text": [
      "/home/zullich/giovanni/lib/python3.10/site-packages/tqdm/auto.py:22: TqdmWarning: IProgress not found. Please update jupyter and ipywidgets. See https://ipywidgets.readthedocs.io/en/stable/user_install.html\n",
      "  from .autonotebook import tqdm as notebook_tqdm\n"
     ]
    },
    {
     "name": "stdout",
     "output_type": "stream",
     "text": [
      "3.10.4 (main, Mar 31 2022, 08:41:55) [GCC 7.5.0]\n",
      "1.11.0\n",
      "Random Seed:  999\n"
     ]
    },
    {
     "data": {
      "text/plain": [
       "<torch._C.Generator at 0x7f2ace9c29f0>"
      ]
     },
     "execution_count": 1,
     "metadata": {},
     "output_type": "execute_result"
    }
   ],
   "source": [
    "from __future__ import print_function, division\n",
    "import os, random, time, copy\n",
    "from skimage import io, transform\n",
    "import numpy as np\n",
    "import pandas as pd\n",
    "import os.path as path\n",
    "import scipy.io as sio\n",
    "from scipy import misc\n",
    "from scipy import ndimage, signal\n",
    "import scipy\n",
    "import pickle\n",
    "import sys\n",
    "import math\n",
    "import matplotlib.pyplot as plt\n",
    "import PIL.Image\n",
    "from io import BytesIO\n",
    "\n",
    "\n",
    "import torch\n",
    "from torch.utils.data import Dataset, DataLoader\n",
    "import torch.nn as nn\n",
    "import torch.optim as optim\n",
    "from torch.optim import lr_scheduler \n",
    "import torch.nn.functional as F\n",
    "from torch.autograd import Variable\n",
    "import torchvision\n",
    "from torchvision import datasets, models, transforms\n",
    "import torchvision.utils as vutils\n",
    "from torchvision import transforms as T\n",
    "import torchinfo\n",
    "\n",
    "from utils.eval_funcs import *\n",
    "from utils.dataset_tinyimagenet import *\n",
    "\n",
    "import warnings # ignore warnings\n",
    "warnings.filterwarnings(\"ignore\")\n",
    "print(sys.version)\n",
    "print(torch.__version__)\n",
    "\n",
    "\n",
    "manualSeed = 999\n",
    "print(\"Random Seed: \", manualSeed)\n",
    "random.seed(manualSeed)\n",
    "torch.manual_seed(manualSeed)"
   ]
  },
  {
   "cell_type": "markdown",
   "metadata": {},
   "source": [
    "Setup config parameters\n",
    " -----------------\n",
    " \n",
    " There are several things to setup, like which GPU to use, where to read images and save files, etc. Please read and understand this. By default, you should be able to run this script smoothly by changing nothing."
   ]
  },
  {
   "cell_type": "code",
   "execution_count": 3,
   "metadata": {
    "scrolled": true
   },
   "outputs": [
    {
     "name": "stdout",
     "output_type": "stream",
     "text": [
      "./exp/step002_GANfea_redux_val_p3Res18sc\n"
     ]
    }
   ],
   "source": [
    "# set the random seed\n",
    "torch.manual_seed(0)\n",
    "\n",
    "################## set attributes for this project/experiment ##################\n",
    "# config result folder\n",
    "exp_dir = './exp' # experiment directory, used for reading the init model\n",
    "\n",
    "modelFlag = 'Res18sc'\n",
    "\n",
    "project_name = 'step002_GANfea_redux_val_p3' + modelFlag   # we save all the checkpoints in this directory\n",
    "\n",
    "# set device, which gpu to use.\n",
    "device ='cpu'\n",
    "if torch.cuda.is_available(): \n",
    "    device='cuda:0'\n",
    "\n",
    "\n",
    "total_epoch_num = 600 # total number of epoch in training\n",
    "batch_size = 128    \n",
    "\n",
    "newsize = (64, 64)\n",
    "\n",
    "\n",
    "path_to_feats = './feats' # the path to cached off-the-shelf features\n",
    "pklName = path.join(path_to_feats, modelFlag.lower()+'.pkl')\n",
    "\n",
    "\n",
    "\n",
    "# For GAN-fea, we set the hyper-parameters as below.\n",
    "\n",
    "# Number of channels in the training images. For color images this is 3\n",
    "nc = 512\n",
    "\n",
    "# Size of z latent vector (i.e. size of generator input)\n",
    "nz = 100\n",
    "# nz = 16\n",
    "spatial_dim_noise = 8\n",
    "\n",
    "# Size of feature maps in generator\n",
    "ngf = 64\n",
    "\n",
    "# Size of feature maps in discriminator\n",
    "ndf = 64\n",
    "\n",
    "# Beta1 hyperparam for Adam optimizers\n",
    "beta1 = 0.5\n",
    "\n",
    "# Number of GPUs available. Use 0 for CPU mode.\n",
    "ngpu = 1\n",
    "\n",
    "# # TinyImageNet has 200 classes.\n",
    "# nClassTotal = 200\n",
    "# nClassCloseset = nClassTotal\n",
    "\n",
    "#project_name += '_K{}run{}'.format(nClassCloseset, runIdx)\n",
    "if not os.path.exists(exp_dir): os.makedirs(exp_dir)\n",
    "\n",
    "\n",
    "num_epochs = total_epoch_num\n",
    "torch.cuda.device_count()\n",
    "torch.cuda.empty_cache()\n",
    "\n",
    "save_dir = os.path.join(exp_dir, project_name)\n",
    "print(save_dir)    \n",
    "if not os.path.exists(save_dir): os.makedirs(save_dir)\n",
    "\n",
    "log_filename = os.path.join(save_dir, 'train.log')"
   ]
  },
  {
   "cell_type": "markdown",
   "metadata": {},
   "source": [
    "Define model architecture\n",
    "---------\n",
    "\n",
    "Here is the definition of the model architectures for generator and discriminator. Both are multi-layer perceptron (MLP) networks."
   ]
  },
  {
   "cell_type": "code",
   "execution_count": 4,
   "metadata": {},
   "outputs": [],
   "source": [
    "def weights_init(m):\n",
    "    classname = m.__class__.__name__\n",
    "    if classname.find('Conv') != -1:\n",
    "        nn.init.normal_(m.weight.data, 0.0, 0.02)\n",
    "    elif classname.find('BatchNorm') != -1:\n",
    "        nn.init.normal_(m.weight.data, 1.0, 0.02)\n",
    "        nn.init.constant_(m.bias.data, 0)     \n",
    "        \n",
    "\n",
    "class Generator(nn.Module):\n",
    "    def __init__(self, ngpu=1, nz=100, ngf=64, nc=512):\n",
    "        super(Generator, self).__init__()\n",
    "        self.ngpu = ngpu\n",
    "        self.nz = nz\n",
    "        self.ngf = ngf\n",
    "        self.nc = nc\n",
    "        \n",
    "        self.main = nn.Sequential(\n",
    "            # input is Z, going into a convolution\n",
    "            # Conv2d(in_channels, out_channels, kernel_size, stride=1, padding=0, dilation=1, groups=1, bias=True, padding_mode='zeros')\n",
    "            nn.Conv2d( self.nz, self.ngf * 8, 1, 1, 0, bias=False),\n",
    "            nn.BatchNorm2d(self.ngf * 8),\n",
    "            nn.ReLU(True),\n",
    "            # state size. (self.ngf*8) x 4 x 4\n",
    "            nn.Conv2d(self.ngf * 8, self.ngf * 4, 1, 1, 0, bias=False),\n",
    "            nn.BatchNorm2d(self.ngf * 4),\n",
    "            nn.ReLU(True),\n",
    "            # state size. (self.ngf*4) x 8 x 8\n",
    "            nn.Conv2d( self.ngf * 4, self.ngf * 2, 1, 1, 0, bias=False),\n",
    "            nn.BatchNorm2d(self.ngf * 2),\n",
    "            nn.ReLU(True),\n",
    "            # state size. (self.ngf*2) x 16 x 16\n",
    "            nn.Conv2d( self.ngf * 2, self.ngf*4, 1, 1, 0, bias=False),\n",
    "            nn.BatchNorm2d(self.ngf*4),\n",
    "            nn.ReLU(True),\n",
    "            # state size. (self.ngf) x 32 x 32\n",
    "            nn.Conv2d( self.ngf*4, self.nc, 1, 1, 0, bias=True),\n",
    "            #nn.Tanh()\n",
    "            # state size. (self.nc) x 64 x 64\n",
    "        )\n",
    "\n",
    "    def forward(self, input):\n",
    "        return self.main(input)\n",
    "\n",
    "    \n",
    "class Discriminator(nn.Module):\n",
    "    def __init__(self, ngpu=1, nc=512, ndf=64):\n",
    "        super(Discriminator, self).__init__()\n",
    "        self.ngpu = ngpu\n",
    "        self.nc = nc\n",
    "        self.ndf = ndf\n",
    "        self.main = nn.Sequential(\n",
    "            nn.Conv2d(self.nc, self.ndf*8, 1, 1, 0, bias=False),\n",
    "            nn.LeakyReLU(0.2, inplace=True),\n",
    "            nn.Conv2d(self.ndf*8, self.ndf*4, 1, 1, 0, bias=False),\n",
    "            nn.BatchNorm2d(self.ndf*4),\n",
    "            nn.LeakyReLU(0.2, inplace=True),\n",
    "            nn.Conv2d(self.ndf*4, self.ndf*2, 1, 1, 0, bias=False),\n",
    "            nn.BatchNorm2d(self.ndf*2),\n",
    "            nn.LeakyReLU(0.2, inplace=True),\n",
    "            nn.Conv2d(self.ndf*2, self.ndf, 1, 1, 0, bias=False),\n",
    "            nn.BatchNorm2d(self.ndf),\n",
    "            nn.LeakyReLU(0.2, inplace=True),\n",
    "            nn.Conv2d(self.ndf, 1, 1, 1, 0, bias=False),\n",
    "            nn.Sigmoid()\n",
    "        )\n",
    "\n",
    "    def forward(self, input):\n",
    "        return self.main(input)\n",
    "\n",
    "class DiscriminatorFunnel(nn.Module):\n",
    "    def __init__(self, ngpu=1, nc=512, ndf=64):\n",
    "        super(DiscriminatorFunnel, self).__init__()\n",
    "        self.ngpu = ngpu\n",
    "        self.nc = nc\n",
    "        self.ndf = ndf\n",
    "        self.main = nn.Sequential(\n",
    "            nn.Conv2d(self.nc, self.ndf*8, 3, 1, 0, bias=False),\n",
    "            nn.LeakyReLU(0.2, inplace=True),\n",
    "            nn.Conv2d(self.ndf*8, self.ndf*4, 3, 1, 0, bias=False),\n",
    "            nn.BatchNorm2d(self.ndf*4),\n",
    "            nn.LeakyReLU(0.2, inplace=True),\n",
    "            nn.Conv2d(self.ndf*4, self.ndf*2, 3, 1, 0, bias=False),\n",
    "            nn.BatchNorm2d(self.ndf*2),\n",
    "            nn.LeakyReLU(0.2, inplace=True),\n",
    "            nn.Conv2d(self.ndf*2, self.ndf, 2, 1, 0, bias=False),\n",
    "            nn.BatchNorm2d(self.ndf),\n",
    "            nn.LeakyReLU(0.2, inplace=True),\n",
    "            nn.Conv2d(self.ndf, 1, 1, 1, 0, bias=False),\n",
    "            nn.Sigmoid()\n",
    "        )\n",
    "\n",
    "    def forward(self, input):\n",
    "        return self.main(input)"
   ]
  },
  {
   "cell_type": "markdown",
   "metadata": {},
   "source": [
    "## initialize the networks"
   ]
  },
  {
   "cell_type": "code",
   "execution_count": 5,
   "metadata": {},
   "outputs": [
    {
     "name": "stdout",
     "output_type": "stream",
     "text": [
      "cuda:0\n"
     ]
    }
   ],
   "source": [
    "netG = Generator(ngpu=ngpu, nz=nz, ngf=ngf, nc=nc).to(device)\n",
    "netD = DiscriminatorFunnel(ngpu=ngpu, nc=nc, ndf=ndf).to(device)\n",
    "    # Apply the weights_init function to randomly initialize all weights\n",
    "#  to mean=0, stdev=0.2.\n",
    "netD.apply(weights_init)\n",
    "netG.apply(weights_init)\n"
   ]
  },
  {
   "cell_type": "markdown",
   "metadata": {},
   "source": [
    "## Sanity Check"
   ]
  },
  {
   "cell_type": "code",
   "execution_count": 6,
   "metadata": {},
   "outputs": [
    {
     "name": "stdout",
     "output_type": "stream",
     "text": [
      "torch.Size([128, 100, 8, 8]) torch.Size([128, 512, 8, 8]) torch.Size([128, 1, 1, 1])\n"
     ]
    }
   ],
   "source": [
    "noise = torch.randn(batch_size, nz, spatial_dim_noise, spatial_dim_noise, device=device)\n",
    "# Generate fake image batch with G\n",
    "fake = netG(noise)\n",
    "predLabel = netD(fake)\n",
    "\n",
    "print(noise.shape, fake.shape, predLabel.shape)"
   ]
  },
  {
   "cell_type": "markdown",
   "metadata": {},
   "source": [
    "## Dataset setup\n",
    "\n",
    "Load the pretrained network"
   ]
  },
  {
   "cell_type": "code",
   "execution_count": 7,
   "metadata": {},
   "outputs": [],
   "source": [
    "backbone_weights = torch.load(\"resnet18_minusvalid_no_aug.pt_resnet18_0.pt\")\n",
    "backbone_weights.keys()\n",
    "backbone_weights[\"fc.weight\"].shape\n",
    "\n",
    "backbone = torchvision.models.resnet18(num_classes=backbone_weights[\"fc.weight\"].shape[0])\n",
    "backbone.load_state_dict(backbone_weights)\n",
    "backbone = backbone.cuda()\n"
   ]
  },
  {
   "cell_type": "markdown",
   "metadata": {},
   "source": [
    "Add a forward hook for storing intermediate representations"
   ]
  },
  {
   "cell_type": "code",
   "execution_count": 9,
   "metadata": {},
   "outputs": [],
   "source": [
    "features = []\n",
    "def get_features(module, input_, output):\n",
    "    features.append(output.cpu().detach())\n",
    "\n",
    "handle = backbone.layer4.register_forward_hook(get_features)"
   ]
  },
  {
   "cell_type": "markdown",
   "metadata": {},
   "source": [
    "Load the dataset"
   ]
  },
  {
   "cell_type": "code",
   "execution_count": 10,
   "metadata": {},
   "outputs": [],
   "source": [
    "import sys\n",
    "sys.path.append(\"../CV_thesis_GiovanniPinna/\")\n",
    "from data import get_dataloaders\n",
    "\n",
    "transform = T.Compose([\n",
    "        T.Resize((256, 256)),\n",
    "        # data.To01(),\n",
    "        T.ToTensor(),\n",
    "        T.Normalize(mean=(0.5, 0.5, 0.5), std=(0.5, 0.5, 0.5))\n",
    "    ])\n",
    "\n",
    "batch_size_eval = 64\n",
    "\n",
    "root_data = \"../CV_thesis_GiovanniPinna/ImageSet\"\n",
    "\n",
    "trainloader, testloader = get_dataloaders(root_data + \"/train_final\", root_data + \"/valid_final\", transform, transform, batch_size_eval, batch_size_eval)"
   ]
  },
  {
   "cell_type": "markdown",
   "metadata": {},
   "source": [
    "get hidden features (scroll down to get pretrained ones)"
   ]
  },
  {
   "cell_type": "code",
   "execution_count": 12,
   "metadata": {},
   "outputs": [
    {
     "name": "stdout",
     "output_type": "stream",
     "text": [
      "Done 1/43\n",
      "Done 2/43\n",
      "Done 3/43\n",
      "Done 4/43\n",
      "Done 5/43\n",
      "Done 6/43\n",
      "Done 7/43\n",
      "Done 8/43\n",
      "Done 9/43\n",
      "Done 10/43\n",
      "Done 11/43\n",
      "Done 12/43\n",
      "Done 13/43\n",
      "Done 14/43\n",
      "Done 15/43\n",
      "Done 16/43\n",
      "Done 17/43\n",
      "Done 18/43\n",
      "Done 19/43\n",
      "Done 20/43\n",
      "Done 21/43\n",
      "Done 22/43\n",
      "Done 23/43\n",
      "Done 24/43\n",
      "Done 25/43\n",
      "Done 26/43\n",
      "Done 27/43\n",
      "Done 28/43\n",
      "Done 29/43\n",
      "Done 30/43\n",
      "Done 31/43\n",
      "Done 32/43\n",
      "Done 33/43\n",
      "Done 34/43\n",
      "Done 35/43\n",
      "Done 36/43\n",
      "Done 37/43\n",
      "Done 38/43\n",
      "Done 39/43\n",
      "Done 40/43\n",
      "Done 41/43\n",
      "Done 42/43\n",
      "Done 43/43\n"
     ]
    }
   ],
   "source": [
    "for i, (data, _) in enumerate(trainloader):\n",
    "    print(f\"Done {i+1}/{len(trainloader)}\")\n",
    "    _ = backbone(data.cuda())"
   ]
  },
  {
   "cell_type": "code",
   "execution_count": 178,
   "metadata": {},
   "outputs": [
    {
     "ename": "TypeError",
     "evalue": "cat() received an invalid combination of arguments - got (Tensor, dim=int), but expected one of:\n * (tuple of Tensors tensors, int dim, *, Tensor out)\n * (tuple of Tensors tensors, name dim, *, Tensor out)\n",
     "output_type": "error",
     "traceback": [
      "\u001b[0;31m---------------------------------------------------------------------------\u001b[0m",
      "\u001b[0;31mTypeError\u001b[0m                                 Traceback (most recent call last)",
      "\u001b[1;32m/media/zullich/LabControlli1/OpenGAN/demo_CrossDatasetOpenSet_training.ipynb Cell 21\u001b[0m in \u001b[0;36m<cell line: 2>\u001b[0;34m()\u001b[0m\n\u001b[1;32m      <a href='vscode-notebook-cell:/media/zullich/LabControlli1/OpenGAN/demo_CrossDatasetOpenSet_training.ipynb#X26sZmlsZQ%3D%3D?line=0'>1</a>\u001b[0m \u001b[39m# save\u001b[39;00m\n\u001b[0;32m----> <a href='vscode-notebook-cell:/media/zullich/LabControlli1/OpenGAN/demo_CrossDatasetOpenSet_training.ipynb#X26sZmlsZQ%3D%3D?line=1'>2</a>\u001b[0m features \u001b[39m=\u001b[39m torch\u001b[39m.\u001b[39;49mcat(features, dim\u001b[39m=\u001b[39;49m\u001b[39m0\u001b[39;49m)\n\u001b[1;32m      <a href='vscode-notebook-cell:/media/zullich/LabControlli1/OpenGAN/demo_CrossDatasetOpenSet_training.ipynb#X26sZmlsZQ%3D%3D?line=2'>3</a>\u001b[0m torch\u001b[39m.\u001b[39msave(features, \u001b[39m\"\u001b[39m\u001b[39mpunzoni_resnet18_features_final_minusval.pt\u001b[39m\u001b[39m\"\u001b[39m)\n",
      "\u001b[0;31mTypeError\u001b[0m: cat() received an invalid combination of arguments - got (Tensor, dim=int), but expected one of:\n * (tuple of Tensors tensors, int dim, *, Tensor out)\n * (tuple of Tensors tensors, name dim, *, Tensor out)\n"
     ]
    }
   ],
   "source": [
    "# save\n",
    "features = torch.cat(features, dim=0)\n",
    "torch.save(features, \"punzoni_resnet18_features_final_minusval.pt\")"
   ]
  },
  {
   "cell_type": "markdown",
   "metadata": {},
   "source": [
    "### Load the preevaluated features"
   ]
  },
  {
   "cell_type": "code",
   "execution_count": 279,
   "metadata": {},
   "outputs": [],
   "source": [
    "features = torch.load(\"punzoni_resnet18_features_final_minusval.pt\")"
   ]
  },
  {
   "cell_type": "markdown",
   "metadata": {},
   "source": [
    "## a helper function to read cached off-the-shelf features per closed images"
   ]
  },
  {
   "cell_type": "code",
   "execution_count": 13,
   "metadata": {},
   "outputs": [],
   "source": [
    "class FeatDataset(Dataset):\n",
    "    def __init__(self, data):\n",
    "        self.data = data\n",
    "        self.current_set_len = data.shape[0]        \n",
    "        \n",
    "    def __len__(self):        \n",
    "        return self.current_set_len\n",
    "    \n",
    "    def __getitem__(self, idx):\n",
    "        curdata = self.data[idx]        \n",
    "        return curdata"
   ]
  },
  {
   "cell_type": "code",
   "execution_count": 14,
   "metadata": {},
   "outputs": [
    {
     "ename": "AttributeError",
     "evalue": "'list' object has no attribute 'shape'",
     "output_type": "error",
     "traceback": [
      "\u001b[0;31m---------------------------------------------------------------------------\u001b[0m",
      "\u001b[0;31mAttributeError\u001b[0m                            Traceback (most recent call last)",
      "\u001b[1;32m/media/zullich/LabControlli1/OpenGAN/demo_CrossDatasetOpenSet_training.ipynb Cell 26\u001b[0m in \u001b[0;36m<cell line: 1>\u001b[0;34m()\u001b[0m\n\u001b[0;32m----> <a href='vscode-notebook-cell:/media/zullich/LabControlli1/OpenGAN/demo_CrossDatasetOpenSet_training.ipynb#X34sZmlsZQ%3D%3D?line=0'>1</a>\u001b[0m trainset_closeset \u001b[39m=\u001b[39m FeatDataset(data\u001b[39m=\u001b[39;49mfeatures)\n\u001b[1;32m      <a href='vscode-notebook-cell:/media/zullich/LabControlli1/OpenGAN/demo_CrossDatasetOpenSet_training.ipynb#X34sZmlsZQ%3D%3D?line=1'>2</a>\u001b[0m dataloader \u001b[39m=\u001b[39m DataLoader(trainset_closeset, batch_size\u001b[39m=\u001b[39mbatch_size, shuffle\u001b[39m=\u001b[39m\u001b[39mTrue\u001b[39;00m, num_workers\u001b[39m=\u001b[39m\u001b[39m1\u001b[39m)\n",
      "\u001b[1;32m/media/zullich/LabControlli1/OpenGAN/demo_CrossDatasetOpenSet_training.ipynb Cell 26\u001b[0m in \u001b[0;36mFeatDataset.__init__\u001b[0;34m(self, data)\u001b[0m\n\u001b[1;32m      <a href='vscode-notebook-cell:/media/zullich/LabControlli1/OpenGAN/demo_CrossDatasetOpenSet_training.ipynb#X34sZmlsZQ%3D%3D?line=1'>2</a>\u001b[0m \u001b[39mdef\u001b[39;00m \u001b[39m__init__\u001b[39m(\u001b[39mself\u001b[39m, data):\n\u001b[1;32m      <a href='vscode-notebook-cell:/media/zullich/LabControlli1/OpenGAN/demo_CrossDatasetOpenSet_training.ipynb#X34sZmlsZQ%3D%3D?line=2'>3</a>\u001b[0m     \u001b[39mself\u001b[39m\u001b[39m.\u001b[39mdata \u001b[39m=\u001b[39m data\n\u001b[0;32m----> <a href='vscode-notebook-cell:/media/zullich/LabControlli1/OpenGAN/demo_CrossDatasetOpenSet_training.ipynb#X34sZmlsZQ%3D%3D?line=3'>4</a>\u001b[0m     \u001b[39mself\u001b[39m\u001b[39m.\u001b[39mcurrent_set_len \u001b[39m=\u001b[39m data\u001b[39m.\u001b[39;49mshape[\u001b[39m0\u001b[39m]\n",
      "\u001b[0;31mAttributeError\u001b[0m: 'list' object has no attribute 'shape'"
     ]
    }
   ],
   "source": [
    "trainset_closeset = FeatDataset(data=features)\n",
    "dataloader = DataLoader(trainset_closeset, batch_size=batch_size, shuffle=True, num_workers=1)"
   ]
  },
  {
   "cell_type": "code",
   "execution_count": null,
   "metadata": {},
   "outputs": [
    {
     "name": "stdout",
     "output_type": "stream",
     "text": [
      "torch.Size([128, 512, 8, 8])\n"
     ]
    }
   ],
   "source": [
    "data_sampler = iter(dataloader)\n",
    "feaList = next(data_sampler)\n",
    "print(feaList.shape)"
   ]
  },
  {
   "cell_type": "markdown",
   "metadata": {},
   "source": [
    "setup training\n",
    "-----------"
   ]
  },
  {
   "cell_type": "code",
   "execution_count": 308,
   "metadata": {},
   "outputs": [],
   "source": [
    "# Initialize BCELoss function\n",
    "criterion = nn.BCELoss()\n",
    "\n",
    "# Create batch of latent vectors that we will use to visualize\n",
    "#  the progression of the generator\n",
    "fixed_noise = torch.randn(64, nz, 1, 1, device=device)\n",
    "\n",
    "# Establish convention for real and fake labels during training\n",
    "real_label = 1\n",
    "fake_label = 0\n",
    "\n",
    "lr = 0.0001\n",
    "\n",
    "# Setup Adam optimizers for both G and D\n",
    "optimizerD = optim.Adam(netD.parameters(), lr=lr/5, betas=(beta1, 0.999))\n",
    "optimizerG = optim.Adam(netG.parameters(), lr=lr, betas=(beta1, 0.999))"
   ]
  },
  {
   "cell_type": "code",
   "execution_count": 309,
   "metadata": {},
   "outputs": [
    {
     "name": "stdout",
     "output_type": "stream",
     "text": [
      "Starting Training Loop...\n",
      "[0/300][0/22]\tLoss_D: 0.5453\tLoss_G: 2.4832\tD(x): 0.9081\tD(G(z)): 0.0878 / 0.0859\n",
      "[1/300][0/22]\tLoss_D: 0.5306\tLoss_G: 2.4886\tD(x): 0.9185\tD(G(z)): 0.0877 / 0.0855\n",
      "[2/300][0/22]\tLoss_D: 0.5284\tLoss_G: 2.4420\tD(x): 0.9104\tD(G(z)): 0.0919 / 0.0900\n",
      "[3/300][0/22]\tLoss_D: 0.5395\tLoss_G: 2.4700\tD(x): 0.9131\tD(G(z)): 0.0893 / 0.0876\n",
      "[4/300][0/22]\tLoss_D: 0.5585\tLoss_G: 2.4886\tD(x): 0.9007\tD(G(z)): 0.0877 / 0.0866\n",
      "[5/300][0/22]\tLoss_D: 0.5553\tLoss_G: 2.4806\tD(x): 0.9021\tD(G(z)): 0.0882 / 0.0865\n"
     ]
    },
    {
     "ename": "KeyboardInterrupt",
     "evalue": "",
     "output_type": "error",
     "traceback": [
      "\u001b[0;31m---------------------------------------------------------------------------\u001b[0m",
      "\u001b[0;31mKeyboardInterrupt\u001b[0m                         Traceback (most recent call last)",
      "\u001b[1;32m/media/zullich/LabControlli1/OpenGAN/demo_CrossDatasetOpenSet_training.ipynb Cell 31\u001b[0m in \u001b[0;36m<cell line: 13>\u001b[0;34m()\u001b[0m\n\u001b[1;32m     <a href='vscode-notebook-cell:/media/zullich/LabControlli1/OpenGAN/demo_CrossDatasetOpenSet_training.ipynb#X42sZmlsZQ%3D%3D?line=30'>31</a>\u001b[0m \u001b[39m# Calculate gradients for D in backward pass\u001b[39;00m\n\u001b[1;32m     <a href='vscode-notebook-cell:/media/zullich/LabControlli1/OpenGAN/demo_CrossDatasetOpenSet_training.ipynb#X42sZmlsZQ%3D%3D?line=31'>32</a>\u001b[0m errD_real\u001b[39m.\u001b[39mbackward()\n\u001b[0;32m---> <a href='vscode-notebook-cell:/media/zullich/LabControlli1/OpenGAN/demo_CrossDatasetOpenSet_training.ipynb#X42sZmlsZQ%3D%3D?line=32'>33</a>\u001b[0m D_x \u001b[39m=\u001b[39m output\u001b[39m.\u001b[39;49mmean()\u001b[39m.\u001b[39;49mitem()\n\u001b[1;32m     <a href='vscode-notebook-cell:/media/zullich/LabControlli1/OpenGAN/demo_CrossDatasetOpenSet_training.ipynb#X42sZmlsZQ%3D%3D?line=34'>35</a>\u001b[0m \u001b[39m## Train with all-fake batch\u001b[39;00m\n\u001b[1;32m     <a href='vscode-notebook-cell:/media/zullich/LabControlli1/OpenGAN/demo_CrossDatasetOpenSet_training.ipynb#X42sZmlsZQ%3D%3D?line=35'>36</a>\u001b[0m \u001b[39m# Generate batch of latent vectors\u001b[39;00m\n\u001b[1;32m     <a href='vscode-notebook-cell:/media/zullich/LabControlli1/OpenGAN/demo_CrossDatasetOpenSet_training.ipynb#X42sZmlsZQ%3D%3D?line=36'>37</a>\u001b[0m noise \u001b[39m=\u001b[39m torch\u001b[39m.\u001b[39mrandn(b_size, nz, spatial_dim_noise, spatial_dim_noise, device\u001b[39m=\u001b[39mdevice)\n",
      "\u001b[0;31mKeyboardInterrupt\u001b[0m: "
     ]
    }
   ],
   "source": [
    "# Training Loop\n",
    "\n",
    "# Lists to keep track of progress\n",
    "# img_list = []\n",
    "G_losses = []\n",
    "D_losses = []\n",
    "iters = 0\n",
    "\n",
    "label_smoothing_factor = 0.15\n",
    "\n",
    "print(\"Starting Training Loop...\")\n",
    "# For each epoch\n",
    "for epoch in range(num_epochs):\n",
    "    # For each batch in the dataloader\n",
    "    for i, data in enumerate(dataloader, 0):\n",
    "        ############################\n",
    "        # (1) Update D network: maximize log(D(x)) + log(1 - D(G(z)))\n",
    "        ###########################\n",
    "        ## Train with all-real batch\n",
    "        netD.zero_grad()\n",
    "        # Format batch\n",
    "        real_cpu = data.to(device)\n",
    "        b_size = real_cpu.size(0)\n",
    "        label = torch.full((b_size,), real_label, dtype=torch.float, device=device)\n",
    "        # labels smoothing\n",
    "        label -= (torch.rand(b_size, device=device) * label_smoothing_factor * (1 if real_label==1 else -1))\n",
    "        # Forward pass real batch through D\n",
    "        output = netD(real_cpu).view(-1)\n",
    "        # Calculate loss on all-real batch\n",
    "        errD_real = criterion(output, label)\n",
    "        # Calculate gradients for D in backward pass\n",
    "        errD_real.backward()\n",
    "        D_x = output.mean().item()\n",
    "\n",
    "        ## Train with all-fake batch\n",
    "        # Generate batch of latent vectors\n",
    "        noise = torch.randn(b_size, nz, spatial_dim_noise, spatial_dim_noise, device=device)\n",
    "        # Generate fake image batch with G\n",
    "        fake = netG(noise)\n",
    "        label.fill_(fake_label)\n",
    "        # labels smoothing\n",
    "        label += (torch.rand(b_size, device=device) * label_smoothing_factor * (1 if fake_label==0 else -1))\n",
    "        # Classify all fake batch with D\n",
    "        output = netD(fake.detach()).view(-1)\n",
    "        # Calculate D's loss on the all-fake batch\n",
    "        errD_fake = criterion(output, label)\n",
    "        # Calculate the gradients for this batch\n",
    "        errD_fake.backward()\n",
    "        D_G_z1 = output.mean().item()\n",
    "        # Add the gradients from the all-real and all-fake batches\n",
    "        errD = errD_real + errD_fake\n",
    "        # Update D\n",
    "        optimizerD.step()\n",
    "        \n",
    "\n",
    "        ############################\n",
    "        # (2) Update G network: maximize log(D(G(z)))\n",
    "        ###########################\n",
    "        netG.zero_grad()\n",
    "        label.fill_(real_label)  # fake labels are real for generator cost\n",
    "        # Since we just updated D, perform another forward pass of all-fake batch through D\n",
    "        output = netD(fake).view(-1)\n",
    "        # Calculate G's loss based on this output\n",
    "        errG = criterion(output, label)\n",
    "        # Calculate gradients for G\n",
    "        errG.backward()\n",
    "        D_G_z2 = output.mean().item()\n",
    "        # Update G\n",
    "        optimizerG.step()\n",
    "\n",
    "        # Output training stats\n",
    "        if i % 200 == 0:\n",
    "            print('[%d/%d][%d/%d]\\tLoss_D: %.4f\\tLoss_G: %.4f\\tD(x): %.4f\\tD(G(z)): %.4f / %.4f'\n",
    "                  % (epoch, num_epochs, i, len(dataloader),\n",
    "                     errD.item(), errG.item(), D_x, D_G_z1, D_G_z2))\n",
    "\n",
    "        # Save Losses for plotting later\n",
    "        G_losses.append(errG.item())\n",
    "        D_losses.append(errD.item())\n",
    "\n",
    "        # Check how the generator is doing by saving G's output on fixed_noise\n",
    "        # if (iters % 500 == 0) or ((epoch == num_epochs-1) and (i == len(dataloader)-1)):\n",
    "        #     with torch.no_grad():\n",
    "        #         fake = netG(fixed_noise).detach().cpu()\n",
    "        #     img_list.append(vutils.make_grid(fake, padding=2, normalize=True))\n",
    "\n",
    "        # iters += 1\n",
    "        \n",
    "        \n",
    "    cur_model_wts = copy.deepcopy(netG.state_dict())\n",
    "    path_to_save_paramOnly = os.path.join(save_dir, 'epoch-{}.GNet'.format(epoch+1))\n",
    "    torch.save(cur_model_wts, path_to_save_paramOnly)\n",
    "    \n",
    "    cur_model_wts = copy.deepcopy(netD.state_dict())\n",
    "    path_to_save_paramOnly = os.path.join(save_dir, 'epoch-{}.DNet'.format(epoch+1))\n",
    "    torch.save(cur_model_wts, path_to_save_paramOnly)"
   ]
  },
  {
   "cell_type": "markdown",
   "metadata": {},
   "source": [
    "## drawing the error curves"
   ]
  },
  {
   "cell_type": "code",
   "execution_count": 294,
   "metadata": {},
   "outputs": [
    {
     "data": {
      "image/png": "[encoded data removed]",
      "text/plain": [
       "<Figure size 720x360 with 1 Axes>"
      ]
     },
     "metadata": {
      "needs_background": "light"
     },
     "output_type": "display_data"
    }
   ],
   "source": [
    "plt.figure(figsize=(10,5))\n",
    "plt.title(\"Generator and Discriminator Loss During Training\")\n",
    "plt.plot(G_losses,label=\"G\")\n",
    "plt.plot(D_losses,label=\"D\")\n",
    "plt.xlabel(\"iterations\")\n",
    "plt.ylabel(\"Loss\")\n",
    "plt.legend()\n",
    "plt.savefig('learningCurves_{}.png'.format(modelFlag), bbox_inches='tight',transparent=True)\n",
    "# plt.show()"
   ]
  },
  {
   "cell_type": "markdown",
   "metadata": {},
   "source": [
    "## Testing"
   ]
  },
  {
   "cell_type": "code",
   "execution_count": 11,
   "metadata": {},
   "outputs": [
    {
     "data": {
      "text/plain": [
       "<All keys matched successfully>"
      ]
     },
     "execution_count": 11,
     "metadata": {},
     "output_type": "execute_result"
    }
   ],
   "source": [
    "netD.load_state_dict(torch.load(\"exp/step002_GANfea_v1_Res18sc/epoch-300.DNet\"))"
   ]
  },
  {
   "cell_type": "code",
   "execution_count": 17,
   "metadata": {},
   "outputs": [
    {
     "name": "stdout",
     "output_type": "stream",
     "text": [
      "Doing 1/5\n",
      "Doing 2/5\n",
      "Doing 3/5\n",
      "Doing 4/5\n",
      "Doing 5/5\n"
     ]
    }
   ],
   "source": [
    "features = []\n",
    "\n",
    "backbone.eval()\n",
    "for i, (data, _) in enumerate(testloader):\n",
    "    print(f\"Doing {i+1}/{len(testloader)}\")\n",
    "    _ = backbone(data.cuda())"
   ]
  },
  {
   "cell_type": "code",
   "execution_count": 18,
   "metadata": {},
   "outputs": [],
   "source": [
    "features = torch.cat(features, dim=0)"
   ]
  },
  {
   "cell_type": "code",
   "execution_count": 27,
   "metadata": {},
   "outputs": [],
   "source": [
    "torch.save(features, \"punzoni_res18_features_TEST.pt\")"
   ]
  },
  {
   "cell_type": "code",
   "execution_count": 13,
   "metadata": {},
   "outputs": [],
   "source": [
    "features = torch.load(\"punzoni_res18_features_TEST.pt\")"
   ]
  },
  {
   "cell_type": "code",
   "execution_count": 19,
   "metadata": {},
   "outputs": [],
   "source": [
    "testset_closeset = FeatDataset(data=features)\n",
    "testloader = DataLoader(testset_closeset, batch_size=batch_size, shuffle=True, num_workers=1)"
   ]
  },
  {
   "cell_type": "code",
   "execution_count": 20,
   "metadata": {},
   "outputs": [
    {
     "data": {
      "text/plain": [
       "626"
      ]
     },
     "execution_count": 20,
     "metadata": {},
     "output_type": "execute_result"
    }
   ],
   "source": [
    "len(testset_closeset)"
   ]
  },
  {
   "cell_type": "code",
   "execution_count": 21,
   "metadata": {},
   "outputs": [
    {
     "name": "stdout",
     "output_type": "stream",
     "text": [
      "Correctly identified items: 1.0\n",
      "Correctly identified fakes: 0.983\n"
     ]
    },
    {
     "data": {
      "text/plain": [
       "Text(0.5, 1.0, 'ROC score 0.99998')"
      ]
     },
     "execution_count": 21,
     "metadata": {},
     "output_type": "execute_result"
    },
    {
     "data": {
      "image/png": "[encoded data removed]",
      "text/plain": [
       "<Figure size 432x288 with 1 Axes>"
      ]
     },
     "metadata": {
      "needs_background": "light"
     },
     "output_type": "display_data"
    }
   ],
   "source": [
    "x = next(iter(testloader)).cuda()\n",
    "(netD(x).view(-1) >= .5).sum().item() / x.size(0)\n",
    "\n",
    "correct = 0\n",
    "netD.train()\n",
    "\n",
    "outputs_close = []\n",
    "with torch.no_grad():\n",
    "    for test_data in testloader:\n",
    "        output = netD(test_data.cuda()).view(-1)\n",
    "        outputs_close += [output.cpu()]\n",
    "        correct += (output >= .5).sum().item()\n",
    "\n",
    "outputs_close = torch.cat(outputs_close).numpy()\n",
    "\n",
    "print(\"Correctly identified items:\", correct/len(testloader.dataset))\n",
    "\n",
    "correct_fake = 0\n",
    "outputs_open = []\n",
    "with torch.no_grad():\n",
    "    for ite in range(10):\n",
    "        #noise = torch.randn(100, 512, 8, 8, device=device)\n",
    "        features = []\n",
    "        noiseimg = torch.randn(100, 3, 256, 256, device=device)\n",
    "        _ = backbone(noiseimg)\n",
    "        feats = features[0].cuda()\n",
    "        assert feats.shape == (100, 512, 8, 8), f\"Features shape is {feats.shape}, expected (100, 512, 8, 8)\"\n",
    "        output = netD(feats).view(-1)\n",
    "        outputs_open.append(output.cpu())\n",
    "        correct_fake += (output < .5).sum().item()\n",
    "outputs_open = torch.cat(outputs_open).numpy()\n",
    "\n",
    "print(\"Correctly identified fakes:\", correct_fake/1000)\n",
    "\n",
    "roc_score, roc_to_plot = evaluate_openset(outputs_open, outputs_close)\n",
    "plt.plot(roc_to_plot['fp'], roc_to_plot['tp'])\n",
    "plt.grid('on')\n",
    "plt.xlabel('False Positive Rate')\n",
    "plt.ylabel('True Positive Rate')\n",
    "plt.title('ROC score {:.5f}'.format(roc_score))"
   ]
  },
  {
   "cell_type": "markdown",
   "metadata": {},
   "source": [
    "test con punzoni **grandi**"
   ]
  },
  {
   "cell_type": "code",
   "execution_count": 223,
   "metadata": {},
   "outputs": [],
   "source": [
    "from PIL import Image\n",
    "\n",
    "transform = T.Compose([\n",
    "        T.Resize((256, 256)),\n",
    "        T.ToTensor(),\n",
    "        T.Normalize(mean=(0.5, 0.5, 0.5), std=(0.5, 0.5, 0.5))\n",
    "    ])\n",
    "\n",
    "batch_size_eval = 64\n",
    "\n",
    "root_data = \"../CV_thesis_GiovanniPinna/ImageSet/train/Grandi/\"\n",
    "root_testdata = \"../CV_thesis_GiovanniPinna/ImageSet/test/Grandi/\"\n",
    "\n",
    "imgs = [transform(Image.open(os.path.join(root_data,i))) for i in os.listdir(root_data)]\n",
    "imgs += [transform(Image.open(os.path.join(root_testdata,i))) for i in os.listdir(root_testdata)]\n",
    "imgs = torch.stack(imgs)"
   ]
  },
  {
   "cell_type": "code",
   "execution_count": 224,
   "metadata": {},
   "outputs": [],
   "source": [
    "features = []\n",
    "\n",
    "backbone.eval()\n",
    "_ = backbone(imgs.cuda())"
   ]
  },
  {
   "cell_type": "code",
   "execution_count": 225,
   "metadata": {},
   "outputs": [],
   "source": [
    "netD.train()\n",
    "output_composti = netD(features[0].cuda()).view(-1).detach().cpu().numpy()"
   ]
  },
  {
   "cell_type": "code",
   "execution_count": 226,
   "metadata": {},
   "outputs": [
    {
     "data": {
      "text/plain": [
       "array([0.03614169, 0.13188133, 0.22271664, 0.40477863, 0.36695084,\n",
       "       0.25565153, 0.45886257, 0.06041168, 0.02849863, 0.03334023,\n",
       "       0.19013801, 0.05493907, 0.11447396, 0.13238226, 0.10767952],\n",
       "      dtype=float32)"
      ]
     },
     "execution_count": 226,
     "metadata": {},
     "output_type": "execute_result"
    }
   ],
   "source": [
    "output_composti"
   ]
  },
  {
   "cell_type": "markdown",
   "metadata": {},
   "source": [
    "test con **no punzoni**"
   ]
  },
  {
   "cell_type": "code",
   "execution_count": 227,
   "metadata": {},
   "outputs": [],
   "source": [
    "transform = T.Compose([\n",
    "        T.Resize((256, 256)),\n",
    "        T.ToTensor(),\n",
    "        T.Normalize(mean=(0.5, 0.5, 0.5), std=(0.5, 0.5, 0.5))\n",
    "    ])\n",
    "\n",
    "batch_size_eval = 64\n",
    "\n",
    "root_data = \"../CV_thesis_GiovanniPinna/ImageSet/No_punzoni/No_punzoni/\"\n",
    "\n",
    "imgs = [transform(Image.open(os.path.join(root_data,i))) for i in os.listdir(root_data)]\n",
    "imgs = torch.stack(imgs)\n",
    "\n",
    "features = []\n",
    "\n",
    "backbone.eval()\n",
    "_ = backbone(imgs.cuda())\n",
    "\n",
    "netD.train()\n",
    "outputs_nopunz = netD(features[0].cuda()).view(-1)\n",
    "outputs_nopunz = outputs_nopunz.detach().cpu().numpy()\n"
   ]
  },
  {
   "cell_type": "code",
   "execution_count": 228,
   "metadata": {},
   "outputs": [
    {
     "data": {
      "text/plain": [
       "array([0.27878183, 0.42130584, 0.02073064, 0.1769452 , 0.02638935,\n",
       "       0.15796275, 0.15667205, 0.19017813, 0.10892434, 0.52115977,\n",
       "       0.07141458, 0.45866367, 0.00710254, 0.38995004, 0.04471656],\n",
       "      dtype=float32)"
      ]
     },
     "execution_count": 228,
     "metadata": {},
     "output_type": "execute_result"
    }
   ],
   "source": [
    "outputs_nopunz"
   ]
  },
  {
   "cell_type": "code",
   "execution_count": 162,
   "metadata": {},
   "outputs": [
    {
     "data": {
      "text/plain": [
       "Text(0.5, 1.0, 'ROC score 0.99437')"
      ]
     },
     "execution_count": 162,
     "metadata": {},
     "output_type": "execute_result"
    },
    {
     "data": {
      "image/png": "[encoded data removed]",
      "text/plain": [
       "<Figure size 432x288 with 1 Axes>"
      ]
     },
     "metadata": {
      "needs_background": "light"
     },
     "output_type": "display_data"
    }
   ],
   "source": [
    "roc_score, roc_to_plot = evaluate_openset(outputs_nopunz, outputs_close)\n",
    "plt.plot(roc_to_plot['fp'], roc_to_plot['tp'])\n",
    "plt.grid('on')\n",
    "plt.xlabel('False Positive Rate')\n",
    "plt.ylabel('True Positive Rate')\n",
    "plt.title('ROC score {:.5f}'.format(roc_score))"
   ]
  },
  {
   "cell_type": "markdown",
   "metadata": {},
   "source": [
    "test con **altri punzoni extra**"
   ]
  },
  {
   "cell_type": "code",
   "execution_count": 1,
   "metadata": {},
   "outputs": [
    {
     "ename": "NameError",
     "evalue": "name 'T' is not defined",
     "output_type": "error",
     "traceback": [
      "\u001b[0;31m---------------------------------------------------------------------------\u001b[0m",
      "\u001b[0;31mNameError\u001b[0m                                 Traceback (most recent call last)",
      "\u001b[1;32m/media/zullich/LabControlli1/OpenGAN/demo_CrossDatasetOpenSet_training.ipynb Cell 53\u001b[0m in \u001b[0;36m<cell line: 1>\u001b[0;34m()\u001b[0m\n\u001b[0;32m----> <a href='vscode-notebook-cell:/media/zullich/LabControlli1/OpenGAN/demo_CrossDatasetOpenSet_training.ipynb#Y103sZmlsZQ%3D%3D?line=0'>1</a>\u001b[0m transform \u001b[39m=\u001b[39m T\u001b[39m.\u001b[39mCompose([\n\u001b[1;32m      <a href='vscode-notebook-cell:/media/zullich/LabControlli1/OpenGAN/demo_CrossDatasetOpenSet_training.ipynb#Y103sZmlsZQ%3D%3D?line=1'>2</a>\u001b[0m         T\u001b[39m.\u001b[39mResize((\u001b[39m256\u001b[39m, \u001b[39m256\u001b[39m)),\n\u001b[1;32m      <a href='vscode-notebook-cell:/media/zullich/LabControlli1/OpenGAN/demo_CrossDatasetOpenSet_training.ipynb#Y103sZmlsZQ%3D%3D?line=2'>3</a>\u001b[0m         T\u001b[39m.\u001b[39mToTensor(),\n\u001b[1;32m      <a href='vscode-notebook-cell:/media/zullich/LabControlli1/OpenGAN/demo_CrossDatasetOpenSet_training.ipynb#Y103sZmlsZQ%3D%3D?line=3'>4</a>\u001b[0m         T\u001b[39m.\u001b[39mNormalize(mean\u001b[39m=\u001b[39m(\u001b[39m0.5\u001b[39m, \u001b[39m0.5\u001b[39m, \u001b[39m0.5\u001b[39m), std\u001b[39m=\u001b[39m(\u001b[39m0.5\u001b[39m, \u001b[39m0.5\u001b[39m, \u001b[39m0.5\u001b[39m))\n\u001b[1;32m      <a href='vscode-notebook-cell:/media/zullich/LabControlli1/OpenGAN/demo_CrossDatasetOpenSet_training.ipynb#Y103sZmlsZQ%3D%3D?line=4'>5</a>\u001b[0m     ])\n\u001b[1;32m      <a href='vscode-notebook-cell:/media/zullich/LabControlli1/OpenGAN/demo_CrossDatasetOpenSet_training.ipynb#Y103sZmlsZQ%3D%3D?line=6'>7</a>\u001b[0m batch_size_eval \u001b[39m=\u001b[39m \u001b[39m64\u001b[39m\n\u001b[1;32m      <a href='vscode-notebook-cell:/media/zullich/LabControlli1/OpenGAN/demo_CrossDatasetOpenSet_training.ipynb#Y103sZmlsZQ%3D%3D?line=8'>9</a>\u001b[0m root_data \u001b[39m=\u001b[39m \u001b[39m\"\u001b[39m\u001b[39m../CV_thesis_GiovanniPinna/ImageSet/extra_train/\u001b[39m\u001b[39m\"\u001b[39m\n",
      "\u001b[0;31mNameError\u001b[0m: name 'T' is not defined"
     ]
    }
   ],
   "source": [
    "transform = T.Compose([\n",
    "        T.Resize((256, 256)),\n",
    "        T.ToTensor(),\n",
    "        T.Normalize(mean=(0.5, 0.5, 0.5), std=(0.5, 0.5, 0.5))\n",
    "    ])\n",
    "\n",
    "batch_size_eval = 64\n",
    "\n",
    "root_data = \"../CV_thesis_GiovanniPinna/ImageSet/extra_train/\"\n",
    "\n",
    "extra_ds = torchvision.datasets.ImageFolder(root=root_data, transform=transform)\n",
    "extra_dl = torch.utils.data.DataLoader(extra_ds, batch_size=len(extra_ds), shuffle=False, num_workers=1)\n",
    "\n",
    "features = []\n",
    "\n",
    "backbone.eval()\n",
    "_ = backbone(next(iter(extra_dl))[0].cuda())\n",
    "\n",
    "netD.train()\n",
    "outputs_extra = netD(features[0].cuda()).view(-1)\n",
    "outputs_extra = outputs_extra.detach().cpu().numpy()\n"
   ]
  },
  {
   "cell_type": "code",
   "execution_count": 312,
   "metadata": {},
   "outputs": [],
   "source": [
    "torch.save(torch.from_numpy(outputs_extra), \"outputs_ood_train.pt\")\n",
    "torch.save(torch.from_numpy(outputs_close), \"outputs_valid.pt\")\n",
    "torch.save(torch.from_numpy(outputs_nopunz), \"outputs_crops.pt\")\n",
    "torch.save(torch.from_numpy(outputs_open), \"outputs_random.pt\")"
   ]
  },
  {
   "cell_type": "code",
   "execution_count": 230,
   "metadata": {},
   "outputs": [
    {
     "data": {
      "text/plain": [
       "array([0.28935257, 0.375004  , 0.14068295, 0.41131547, 0.34069493,\n",
       "       0.19066136, 0.5747589 , 0.74599713, 0.55927753, 0.3160395 ,\n",
       "       0.11001829, 0.23722832, 0.33327243, 0.15292104, 0.26261202,\n",
       "       0.11334129, 0.48497576, 0.34152555, 0.38191482], dtype=float32)"
      ]
     },
     "execution_count": 230,
     "metadata": {},
     "output_type": "execute_result"
    }
   ],
   "source": [
    "outputs_extra"
   ]
  },
  {
   "cell_type": "code",
   "execution_count": 231,
   "metadata": {},
   "outputs": [
    {
     "data": {
      "text/plain": [
       "array([0.88747036, 0.9004076 , 0.8224729 , 0.8692346 , 0.8922849 ,\n",
       "       0.90174043, 0.90096986, 0.8950197 , 0.895969  , 0.90580523,\n",
       "       0.89768773, 0.9415842 , 0.89414734, 0.89606667, 0.9048079 ,\n",
       "       0.88658625, 0.89229983, 0.8857224 , 0.8864584 , 0.89086044,\n",
       "       0.8820801 , 0.89312416, 0.89979017, 0.8940206 , 0.89560527,\n",
       "       0.8943877 , 0.8958931 , 0.89298934, 0.87646574, 0.89878464,\n",
       "       0.898369  , 0.907703  , 0.9287664 , 0.8948314 , 0.897249  ,\n",
       "       0.89277667, 0.88637996, 0.89627165, 0.91777635, 0.94600356,\n",
       "       0.8972681 , 0.8925855 , 0.9216061 , 0.89862293, 0.89566827,\n",
       "       0.84723383, 0.7826829 , 0.89397746, 0.8982131 , 0.89285237,\n",
       "       0.8975709 , 0.89852   , 0.90325814, 0.8784707 , 0.90291476,\n",
       "       0.9082935 , 0.9316184 , 0.8848186 , 0.89115256, 0.89234483,\n",
       "       0.894168  , 0.90512645, 0.8905836 , 0.90028644, 0.88301677,\n",
       "       0.89084005, 0.89166784, 0.9001026 , 0.89439857, 0.8897256 ,\n",
       "       0.89027566, 0.89235014, 0.94366115, 0.8909313 , 0.89579886,\n",
       "       0.9262912 , 0.9014518 , 0.9000437 , 0.8939608 , 0.90190107,\n",
       "       0.8966326 , 0.888393  , 0.8213801 , 0.8902486 , 0.8278379 ,\n",
       "       0.90114266, 0.8957473 , 0.8927591 , 0.8927991 , 0.89490294,\n",
       "       0.89820683, 0.88642746, 0.9087643 , 0.89077026, 0.9066177 ,\n",
       "       0.89703083, 0.8924158 , 0.880495  , 0.90718824, 0.94376296,\n",
       "       0.90552187, 0.8808114 , 0.8854831 , 0.86916035, 0.89158785,\n",
       "       0.8922242 , 0.88017267, 0.8994449 , 0.890609  , 0.9021883 ,\n",
       "       0.8965601 , 0.93689674, 0.8857099 , 0.8931642 , 0.89442205,\n",
       "       0.8887707 , 0.89097196, 0.90780103, 0.8926918 , 0.90379554,\n",
       "       0.88555795, 0.8957089 , 0.8957378 , 0.88897544, 0.8202122 ,\n",
       "       0.8861375 , 0.8856471 , 0.889237  , 0.9157407 , 0.9122058 ,\n",
       "       0.920035  , 0.9193393 , 0.92078096, 0.90749395, 0.91314614,\n",
       "       0.9221961 , 0.91767013, 0.9063958 , 0.91618526, 0.96451455,\n",
       "       0.92579204, 0.9168622 , 0.92026234, 0.89758927, 0.91974473,\n",
       "       0.9020091 , 0.90494514, 0.9191624 , 0.890345  , 0.9171236 ,\n",
       "       0.9167999 , 0.9534794 , 0.9580502 , 0.9158352 , 0.91142195,\n",
       "       0.9086081 , 0.9100081 , 0.9212212 , 0.8962429 , 0.9113249 ,\n",
       "       0.9167362 , 0.9038553 , 0.92014545, 0.9171302 , 0.91013026,\n",
       "       0.904389  , 0.9163039 , 0.9153561 , 0.8939746 , 0.91972446,\n",
       "       0.9207899 , 0.91255194, 0.89381284, 0.9255283 , 0.90754086,\n",
       "       0.8991532 , 0.93124837, 0.9173142 , 0.9019331 , 0.9005735 ,\n",
       "       0.9215121 , 0.9334656 , 0.9040363 , 0.91750735, 0.8468014 ,\n",
       "       0.94281924, 0.8985411 , 0.91455334, 0.8952642 , 0.9324645 ,\n",
       "       0.894224  , 0.91863745, 0.91563416, 0.91319823, 0.9154034 ,\n",
       "       0.9211279 , 0.89877987, 0.91698366, 0.92594993, 0.9280499 ,\n",
       "       0.918541  , 0.89312625, 0.9590918 , 0.92080396, 0.9263092 ,\n",
       "       0.899955  , 0.9202238 , 0.9079147 , 0.964028  , 0.9164312 ,\n",
       "       0.9134677 , 0.89923704, 0.92082065, 0.9205717 , 0.90715545,\n",
       "       0.92191035, 0.90556985, 0.91770464, 0.9003195 , 0.9304387 ,\n",
       "       0.9088366 , 0.9111644 , 0.92683935, 0.91657346, 0.9203706 ,\n",
       "       0.9215244 , 0.919849  , 0.92226696, 0.9146043 , 0.907252  ,\n",
       "       0.9140195 , 0.92205477, 0.92302   , 0.92985016, 0.9165976 ,\n",
       "       0.9162125 , 0.90894336, 0.8772755 , 0.9183625 , 0.9158647 ,\n",
       "       0.956936  , 0.9165593 , 0.9182231 , 0.9134356 , 0.9175031 ,\n",
       "       0.9258003 , 0.91934454, 0.89939183, 0.9095887 , 0.91705954,\n",
       "       0.9211772 , 0.95823   , 0.89708245, 0.90467393, 0.91400576,\n",
       "       0.9234935 , 0.89845854, 0.91020507, 0.92675775, 0.89955825,\n",
       "       0.88435847, 0.893995  , 0.91748637, 0.9053694 , 0.8922306 ,\n",
       "       0.9058929 , 0.8039542 , 0.9169944 , 0.90589815, 0.88628715,\n",
       "       0.9150207 , 0.8492791 , 0.88820297, 0.8929383 , 0.91061115,\n",
       "       0.90908283, 0.9308806 , 0.91006464, 0.9186043 , 0.9073814 ,\n",
       "       0.8884667 , 0.9150938 , 0.925592  , 0.9016398 , 0.8910106 ,\n",
       "       0.72686356, 0.9048983 , 0.9100773 , 0.8929961 , 0.9034814 ,\n",
       "       0.9160916 , 0.8911966 , 0.9079359 , 0.83556056, 0.9045578 ,\n",
       "       0.9251749 , 0.9112652 , 0.89954054, 0.911175  , 0.90672255,\n",
       "       0.8687372 , 0.89679253, 0.92465115, 0.93901974, 0.91485155,\n",
       "       0.9062827 , 0.917936  , 0.97620296, 0.91472226, 0.89651304,\n",
       "       0.9134107 , 0.8880495 , 0.9103566 ], dtype=float32)"
      ]
     },
     "execution_count": 231,
     "metadata": {},
     "output_type": "execute_result"
    }
   ],
   "source": [
    "outputs_close"
   ]
  },
  {
   "cell_type": "code",
   "execution_count": 166,
   "metadata": {},
   "outputs": [
    {
     "data": {
      "text/plain": [
       "Text(0.5, 1.0, 'ROC score 0.99751')"
      ]
     },
     "execution_count": 166,
     "metadata": {},
     "output_type": "execute_result"
    },
    {
     "data": {
      "image/png": "[encoded data removed]",
      "text/plain": [
       "<Figure size 432x288 with 1 Axes>"
      ]
     },
     "metadata": {
      "needs_background": "light"
     },
     "output_type": "display_data"
    }
   ],
   "source": [
    "roc_score, roc_to_plot = evaluate_openset(outputs_extra, outputs_close)\n",
    "plt.plot(roc_to_plot['fp'], roc_to_plot['tp'])\n",
    "plt.grid('on')\n",
    "plt.xlabel('False Positive Rate')\n",
    "plt.ylabel('True Positive Rate')\n",
    "plt.title('ROC score {:.5f}'.format(roc_score))"
   ]
  },
  {
   "cell_type": "code",
   "execution_count": 69,
   "metadata": {},
   "outputs": [
    {
     "data": {
      "text/plain": [
       "0.9984245586353054"
      ]
     },
     "execution_count": 69,
     "metadata": {},
     "output_type": "execute_result"
    }
   ],
   "source": [
    "import sklearn\n",
    "\n",
    "def mean_ap(outputs1, outputs2):\n",
    "    y_true = [1] * len(outputs1) + [0] * len(outputs2)\n",
    "    y_score = np.concatenate([outputs1, outputs2])\n",
    "    return sklearn.metrics.average_precision_score(y_true, y_score)\n",
    "\n",
    "mean_ap(outputs_close, outputs_extra)"
   ]
  },
  {
   "cell_type": "code",
   "execution_count": 70,
   "metadata": {},
   "outputs": [
    {
     "data": {
      "text/plain": [
       "0.9999882176370101"
      ]
     },
     "execution_count": 70,
     "metadata": {},
     "output_type": "execute_result"
    }
   ],
   "source": [
    "mean_ap(outputs_close, outputs_nopunz)"
   ]
  },
  {
   "cell_type": "code",
   "execution_count": 236,
   "metadata": {},
   "outputs": [
    {
     "data": {
      "image/png": "[encoded data removed]",
      "text/plain": [
       "<Figure size 432x288 with 1 Axes>"
      ]
     },
     "metadata": {
      "needs_background": "light"
     },
     "output_type": "display_data"
    }
   ],
   "source": [
    "plt.hist(outputs_close, label=\"punzoni closeset\", density=True, bins=100, alpha=0.5)\n",
    "plt.hist(outputs_extra, label=\"punzoni extra\", density=True, alpha=0.5)\n",
    "plt.hist(outputs_open, label=\"punzoni random\", density=True, alpha=0.5)\n",
    "plt.hist(outputs_nopunz, label=\"nopunzoni\", density=True, bins=30, alpha=0.5)\n",
    "plt.legend(loc='upper right')\n",
    "plt.title('Overlapping')\n",
    "plt.show()"
   ]
  },
  {
   "cell_type": "code",
   "execution_count": 18,
   "metadata": {},
   "outputs": [],
   "source": [
    "outputs_close = torch.load(\"outputs_valid.pt\")\n",
    "outputs_extra = torch.load(\"outputs_ood_train.pt\")\n",
    "outputs_open = torch.load(\"outputs_random.pt\")"
   ]
  },
  {
   "cell_type": "code",
   "execution_count": 17,
   "metadata": {},
   "outputs": [
    {
     "data": {
      "image/png": "[encoded data removed]",
      "text/plain": [
       "<Figure size 576x180 with 1 Axes>"
      ]
     },
     "metadata": {
      "needs_background": "light"
     },
     "output_type": "display_data"
    }
   ],
   "source": [
    "from matplotlib import pyplot as plt, font_manager as fm, rcParams\n",
    "palatino_path = os.path.expanduser(\"~/.fonts/Palatino Linotype.ttf\")\n",
    "fm.fontManager.addfont(palatino_path)\n",
    "rcParams['font.family'] = 'Palatino Linotype'\n",
    "\n",
    "fig = plt.figure(figsize=(8,2.5))\n",
    "plt.axvline(0.77, color=\"r\", linestyle=\"--\", label=f\"threshold ({0.77:.4f})\")\n",
    "plt.hist(outputs_close.numpy(), label=\"Validation dataset\", density=True, bins=75, alpha=0.5)\n",
    "plt.hist(outputs_extra.numpy(), label=\"OOD training set\", density=True, bins=40, alpha=0.5)\n",
    "plt.ylabel(\"Density\")\n",
    "plt.xlabel(\"Confidence value (s)\")\n",
    "\n",
    "plt.legend(loc='upper left')\n",
    "plt.tight_layout()\n",
    "\n",
    "plt.savefig(\"validation_vs_ood_opengan.pdf\")"
   ]
  },
  {
   "cell_type": "code",
   "execution_count": 34,
   "metadata": {},
   "outputs": [
    {
     "data": {
      "image/png": "[encoded data removed]",
      "text/plain": [
       "<Figure size 576x180 with 1 Axes>"
      ]
     },
     "metadata": {
      "needs_background": "light"
     },
     "output_type": "display_data"
    }
   ],
   "source": [
    "from matplotlib import pyplot as plt, font_manager as fm, rcParams\n",
    "palatino_path = os.path.expanduser(\"~/.fonts/Palatino Linotype.ttf\")\n",
    "fm.fontManager.addfont(palatino_path)\n",
    "rcParams['font.family'] = 'Palatino Linotype'\n",
    "\n",
    "fig = plt.figure(figsize=(8,2.5))\n",
    "plt.axvline(0.77, color=\"r\", linestyle=\"--\", label=f\"threshold ({0.77:.4f})\")\n",
    "plt.hist(outputs_open.numpy(), label=\"Random images\", density=True, bins=75, color=\"teal\")\n",
    "plt.ylabel(\"Density\")\n",
    "plt.xlabel(\"Confidence value (s)\")\n",
    "plt.xlim((0,1))\n",
    "\n",
    "plt.legend(loc='upper right')\n",
    "plt.tight_layout()\n",
    "\n",
    "plt.savefig(\"opengan_randimgs.pdf\")"
   ]
  },
  {
   "cell_type": "code",
   "execution_count": 33,
   "metadata": {},
   "outputs": [
    {
     "data": {
      "image/png": "[encoded data removed]",
      "text/plain": [
       "<Figure size 576x180 with 1 Axes>"
      ]
     },
     "metadata": {
      "needs_background": "light"
     },
     "output_type": "display_data"
    }
   ],
   "source": [
    "outputs_ii = torch.load(\"/media/zullich/LabControlli1/punches_recognition/models/ii_delta_0.5.pth_rand.pth\")\n",
    "\n",
    "from matplotlib import pyplot as plt, font_manager as fm, rcParams\n",
    "palatino_path = os.path.expanduser(\"~/.fonts/Palatino Linotype.ttf\")\n",
    "fm.fontManager.addfont(palatino_path)\n",
    "rcParams['font.family'] = 'Palatino Linotype'\n",
    "\n",
    "fig = plt.figure(figsize=(8,2.5))\n",
    "plt.axvline(2.8008, color=\"r\", linestyle=\"--\", label=f\"threshold ({2.8008:.4f})\")\n",
    "plt.hist(outputs_ii.numpy(), label=\"Random images\", density=True, bins=10, color=\"brown\")\n",
    "plt.ylabel(\"Density\")\n",
    "plt.xlabel(\"OS\")\n",
    "plt.xlim((0, 70))\n",
    "\n",
    "plt.legend(loc='upper right')\n",
    "plt.tight_layout()\n",
    "\n",
    "plt.savefig(\"ii_randimgs.pdf\")"
   ]
  },
  {
   "cell_type": "code",
   "execution_count": 26,
   "metadata": {},
   "outputs": [
    {
     "data": {
      "text/plain": [
       "tensor(118.7478)"
      ]
     },
     "execution_count": 26,
     "metadata": {},
     "output_type": "execute_result"
    }
   ],
   "source": [
    "outputs_ii.norm(), "
   ]
  },
  {
   "cell_type": "markdown",
   "metadata": {},
   "source": [
    "# QUANTITATIVE ASSESSMENT"
   ]
  },
  {
   "cell_type": "code",
   "execution_count": 247,
   "metadata": {},
   "outputs": [
    {
     "data": {
      "text/plain": [
       "tensor([0.0100, 0.0200, 0.0300, 0.0400, 0.0500, 0.0600, 0.0700, 0.0800, 0.0900,\n",
       "        0.1000, 0.1100, 0.1200, 0.1300, 0.1400, 0.1500, 0.1600, 0.1700, 0.1800,\n",
       "        0.1900, 0.2000, 0.2100, 0.2200, 0.2300, 0.2400, 0.2500, 0.2600, 0.2700,\n",
       "        0.2800, 0.2900, 0.3000, 0.3100, 0.3200, 0.3300, 0.3400, 0.3500, 0.3600,\n",
       "        0.3700, 0.3800, 0.3900, 0.4000, 0.4100, 0.4200, 0.4300, 0.4400, 0.4500,\n",
       "        0.4600, 0.4700, 0.4800, 0.4900, 0.5000, 0.5100, 0.5200, 0.5300, 0.5400,\n",
       "        0.5500, 0.5600, 0.5700, 0.5800, 0.5900, 0.6000, 0.6100, 0.6200, 0.6300,\n",
       "        0.6400, 0.6500, 0.6600, 0.6700, 0.6800, 0.6900, 0.7000, 0.7100, 0.7200,\n",
       "        0.7300, 0.7400, 0.7500, 0.7600, 0.7700, 0.7800, 0.7900, 0.8000, 0.8100,\n",
       "        0.8200, 0.8300, 0.8400, 0.8500, 0.8600, 0.8700, 0.8800, 0.8900, 0.9000,\n",
       "        0.9100, 0.9200, 0.9300, 0.9400, 0.9500, 0.9600, 0.9700, 0.9800, 0.9900])"
      ]
     },
     "execution_count": 247,
     "metadata": {},
     "output_type": "execute_result"
    }
   ],
   "source": [
    "torch.linspace(0+.01,1-.01,int(1/0.01)-1)"
   ]
  },
  {
   "cell_type": "code",
   "execution_count": 248,
   "metadata": {},
   "outputs": [],
   "source": [
    "from typing import Collection, Union, List\n",
    "\n",
    "def eval_on_threshold(outlier_scores:torch.Tensor, threshold:float, comparison_fn=torch.gt) -> float:\n",
    "    '''\n",
    "    Thresholds the outlier scores on the given threshold with respect to the specified comparison operator.\n",
    "    \n",
    "    Parameters\n",
    "    ----------\n",
    "    outlier_scores: a torch.Tensor containing the outlier scores for a data set (e.g., train, validation...)\n",
    "    threshold: a float specifying the threshold to use\n",
    "    comparison_fn: a torch.Tensor comparison function (e.g., torch.gt, torch.le). Defaults to torch.gt. It operates the comparison between the outlier scores and the threshold. E.g., if comparison_fn is torch.gt, then it evals on outlier scores being greater than the threshold.\n",
    "    '''\n",
    "    return (comparison_fn(outlier_scores, threshold)).sum().item()\n",
    "\n",
    "def eval_multiple_outlier_scores_series_on_thresholds(outlier_scores:Collection[torch.Tensor], comparison_fns:Collection, thresholds:Union[float,Collection[float]], series_names:Collection[str]=None) -> List[float]:\n",
    "    '''\n",
    "    Evaluates multiple outlier scores on multiple thresholds with respect to the specified comparison operators.\n",
    "    \n",
    "    Parameters\n",
    "    ----------\n",
    "    outlier_scores: a collection of torch.Tensor containing the outlier scores for a data set (e.g., train, validation...)\n",
    "    comparison_fns: a collection of torch.Tensor comparison functions (e.g., torch.gt, torch.le). It operates the comparison between the outlier scores and the threshold. Must have same size as outlier_scores.\n",
    "    thresholds: a collection of floats specifying the thresholds to use. Can be a float or a collection of floats.\n",
    "    series_names: a collection of strings specifying the names of the series. Defaults to None. If specified, must have same size as outlier_scores.\n",
    "    '''\n",
    "    assert len(outlier_scores) == len(comparison_fns), f\"Expected len(outlier_scores) ({len(outlier_scores)}) to be equal to len(comparison_fns) ({len(comparison_fns)})\"\n",
    "    if series_names is not None:\n",
    "        assert len(outlier_scores) == len(series_names), f\"Expected len(outlier_scores) ({len(outlier_scores)}) to be equal to len(series_names) ({len(series_names)})\"\n",
    "    else:\n",
    "        series_names = range(len(outlier_scores))\n",
    "    \n",
    "    if isinstance(thresholds, float):\n",
    "        thresholds = [thresholds]\n",
    "\n",
    "    results = {\"threshold\": []}\n",
    "    for name in series_names:\n",
    "        results[name + \"_N\"] = []\n",
    "        results[name + \"_N_corr\"] = []\n",
    "        results[name + \"_pct\"] = []\n",
    "    for th in thresholds:\n",
    "        results[\"threshold\"].append(th)\n",
    "        for scores, fn, name in zip(outlier_scores, comparison_fns, series_names):\n",
    "            results[name + \"_N\"].append(len(scores))\n",
    "            N_corr = eval_on_threshold(scores, th, fn)\n",
    "            results[name + \"_N_corr\"].append(N_corr)\n",
    "            results[name + \"_pct\"].append(N_corr / len(scores))\n",
    "    return results"
   ]
  },
  {
   "cell_type": "code",
   "execution_count": 251,
   "metadata": {},
   "outputs": [],
   "source": [
    "results = eval_multiple_outlier_scores_series_on_thresholds([torch.from_numpy(outputs_close), torch.from_numpy(outputs_nopunz), torch.from_numpy(outputs_extra), torch.from_numpy(outputs_open)], [torch.gt, torch.lt, torch.lt, torch.lt], torch.linspace(0+.01,1-.01,int(1/0.01)-1), (\"validation\", \"crops\", \"ood\", \"random\"))\n",
    "results = pd.DataFrame(results)\n",
    "    "
   ]
  },
  {
   "cell_type": "code",
   "execution_count": 256,
   "metadata": {},
   "outputs": [
    {
     "data": {
      "text/html": [
       "<div>\n",
       "<style scoped>\n",
       "    .dataframe tbody tr th:only-of-type {\n",
       "        vertical-align: middle;\n",
       "    }\n",
       "\n",
       "    .dataframe tbody tr th {\n",
       "        vertical-align: top;\n",
       "    }\n",
       "\n",
       "    .dataframe thead th {\n",
       "        text-align: right;\n",
       "    }\n",
       "</style>\n",
       "<table border=\"1\" class=\"dataframe\">\n",
       "  <thead>\n",
       "    <tr style=\"text-align: right;\">\n",
       "      <th></th>\n",
       "      <th>threshold</th>\n",
       "      <th>validation_N</th>\n",
       "      <th>validation_N_corr</th>\n",
       "      <th>validation_pct</th>\n",
       "      <th>crops_N</th>\n",
       "      <th>crops_N_corr</th>\n",
       "      <th>crops_pct</th>\n",
       "      <th>ood_N</th>\n",
       "      <th>ood_N_corr</th>\n",
       "      <th>ood_pct</th>\n",
       "      <th>random_N</th>\n",
       "      <th>random_N_corr</th>\n",
       "      <th>random_pct</th>\n",
       "      <th>W_sens_spec</th>\n",
       "    </tr>\n",
       "  </thead>\n",
       "  <tbody>\n",
       "    <tr>\n",
       "      <th>0</th>\n",
       "      <td>tensor(0.0100)</td>\n",
       "      <td>313</td>\n",
       "      <td>313</td>\n",
       "      <td>1.000000</td>\n",
       "      <td>15</td>\n",
       "      <td>1</td>\n",
       "      <td>0.066667</td>\n",
       "      <td>19</td>\n",
       "      <td>0</td>\n",
       "      <td>0.0</td>\n",
       "      <td>1000</td>\n",
       "      <td>17</td>\n",
       "      <td>0.017</td>\n",
       "      <td>0.000000</td>\n",
       "    </tr>\n",
       "    <tr>\n",
       "      <th>1</th>\n",
       "      <td>tensor(0.0200)</td>\n",
       "      <td>313</td>\n",
       "      <td>313</td>\n",
       "      <td>1.000000</td>\n",
       "      <td>15</td>\n",
       "      <td>1</td>\n",
       "      <td>0.066667</td>\n",
       "      <td>19</td>\n",
       "      <td>0</td>\n",
       "      <td>0.0</td>\n",
       "      <td>1000</td>\n",
       "      <td>42</td>\n",
       "      <td>0.042</td>\n",
       "      <td>0.000000</td>\n",
       "    </tr>\n",
       "    <tr>\n",
       "      <th>2</th>\n",
       "      <td>tensor(0.0300)</td>\n",
       "      <td>313</td>\n",
       "      <td>313</td>\n",
       "      <td>1.000000</td>\n",
       "      <td>15</td>\n",
       "      <td>3</td>\n",
       "      <td>0.200000</td>\n",
       "      <td>19</td>\n",
       "      <td>0</td>\n",
       "      <td>0.0</td>\n",
       "      <td>1000</td>\n",
       "      <td>92</td>\n",
       "      <td>0.092</td>\n",
       "      <td>0.000000</td>\n",
       "    </tr>\n",
       "    <tr>\n",
       "      <th>3</th>\n",
       "      <td>tensor(0.0400)</td>\n",
       "      <td>313</td>\n",
       "      <td>313</td>\n",
       "      <td>1.000000</td>\n",
       "      <td>15</td>\n",
       "      <td>3</td>\n",
       "      <td>0.200000</td>\n",
       "      <td>19</td>\n",
       "      <td>0</td>\n",
       "      <td>0.0</td>\n",
       "      <td>1000</td>\n",
       "      <td>134</td>\n",
       "      <td>0.134</td>\n",
       "      <td>0.000000</td>\n",
       "    </tr>\n",
       "    <tr>\n",
       "      <th>4</th>\n",
       "      <td>tensor(0.0500)</td>\n",
       "      <td>313</td>\n",
       "      <td>313</td>\n",
       "      <td>1.000000</td>\n",
       "      <td>15</td>\n",
       "      <td>4</td>\n",
       "      <td>0.266667</td>\n",
       "      <td>19</td>\n",
       "      <td>0</td>\n",
       "      <td>0.0</td>\n",
       "      <td>1000</td>\n",
       "      <td>181</td>\n",
       "      <td>0.181</td>\n",
       "      <td>0.000000</td>\n",
       "    </tr>\n",
       "    <tr>\n",
       "      <th>...</th>\n",
       "      <td>...</td>\n",
       "      <td>...</td>\n",
       "      <td>...</td>\n",
       "      <td>...</td>\n",
       "      <td>...</td>\n",
       "      <td>...</td>\n",
       "      <td>...</td>\n",
       "      <td>...</td>\n",
       "      <td>...</td>\n",
       "      <td>...</td>\n",
       "      <td>...</td>\n",
       "      <td>...</td>\n",
       "      <td>...</td>\n",
       "      <td>...</td>\n",
       "    </tr>\n",
       "    <tr>\n",
       "      <th>94</th>\n",
       "      <td>tensor(0.9500)</td>\n",
       "      <td>313</td>\n",
       "      <td>8</td>\n",
       "      <td>0.025559</td>\n",
       "      <td>15</td>\n",
       "      <td>15</td>\n",
       "      <td>1.000000</td>\n",
       "      <td>19</td>\n",
       "      <td>19</td>\n",
       "      <td>1.0</td>\n",
       "      <td>1000</td>\n",
       "      <td>1000</td>\n",
       "      <td>1.000</td>\n",
       "      <td>0.115942</td>\n",
       "    </tr>\n",
       "    <tr>\n",
       "      <th>95</th>\n",
       "      <td>tensor(0.9600)</td>\n",
       "      <td>313</td>\n",
       "      <td>3</td>\n",
       "      <td>0.009585</td>\n",
       "      <td>15</td>\n",
       "      <td>15</td>\n",
       "      <td>1.000000</td>\n",
       "      <td>19</td>\n",
       "      <td>19</td>\n",
       "      <td>1.0</td>\n",
       "      <td>1000</td>\n",
       "      <td>1000</td>\n",
       "      <td>1.000</td>\n",
       "      <td>0.046154</td>\n",
       "    </tr>\n",
       "    <tr>\n",
       "      <th>96</th>\n",
       "      <td>tensor(0.9700)</td>\n",
       "      <td>313</td>\n",
       "      <td>1</td>\n",
       "      <td>0.003195</td>\n",
       "      <td>15</td>\n",
       "      <td>15</td>\n",
       "      <td>1.000000</td>\n",
       "      <td>19</td>\n",
       "      <td>19</td>\n",
       "      <td>1.0</td>\n",
       "      <td>1000</td>\n",
       "      <td>1000</td>\n",
       "      <td>1.000</td>\n",
       "      <td>0.015773</td>\n",
       "    </tr>\n",
       "    <tr>\n",
       "      <th>97</th>\n",
       "      <td>tensor(0.9800)</td>\n",
       "      <td>313</td>\n",
       "      <td>0</td>\n",
       "      <td>0.000000</td>\n",
       "      <td>15</td>\n",
       "      <td>15</td>\n",
       "      <td>1.000000</td>\n",
       "      <td>19</td>\n",
       "      <td>19</td>\n",
       "      <td>1.0</td>\n",
       "      <td>1000</td>\n",
       "      <td>1000</td>\n",
       "      <td>1.000</td>\n",
       "      <td>0.000000</td>\n",
       "    </tr>\n",
       "    <tr>\n",
       "      <th>98</th>\n",
       "      <td>tensor(0.9900)</td>\n",
       "      <td>313</td>\n",
       "      <td>0</td>\n",
       "      <td>0.000000</td>\n",
       "      <td>15</td>\n",
       "      <td>15</td>\n",
       "      <td>1.000000</td>\n",
       "      <td>19</td>\n",
       "      <td>19</td>\n",
       "      <td>1.0</td>\n",
       "      <td>1000</td>\n",
       "      <td>1000</td>\n",
       "      <td>1.000</td>\n",
       "      <td>0.000000</td>\n",
       "    </tr>\n",
       "  </tbody>\n",
       "</table>\n",
       "<p>99 rows × 14 columns</p>\n",
       "</div>"
      ],
      "text/plain": [
       "         threshold  validation_N  validation_N_corr  validation_pct  crops_N  \\\n",
       "0   tensor(0.0100)           313                313        1.000000       15   \n",
       "1   tensor(0.0200)           313                313        1.000000       15   \n",
       "2   tensor(0.0300)           313                313        1.000000       15   \n",
       "3   tensor(0.0400)           313                313        1.000000       15   \n",
       "4   tensor(0.0500)           313                313        1.000000       15   \n",
       "..             ...           ...                ...             ...      ...   \n",
       "94  tensor(0.9500)           313                  8        0.025559       15   \n",
       "95  tensor(0.9600)           313                  3        0.009585       15   \n",
       "96  tensor(0.9700)           313                  1        0.003195       15   \n",
       "97  tensor(0.9800)           313                  0        0.000000       15   \n",
       "98  tensor(0.9900)           313                  0        0.000000       15   \n",
       "\n",
       "    crops_N_corr  crops_pct  ood_N  ood_N_corr  ood_pct  random_N  \\\n",
       "0              1   0.066667     19           0      0.0      1000   \n",
       "1              1   0.066667     19           0      0.0      1000   \n",
       "2              3   0.200000     19           0      0.0      1000   \n",
       "3              3   0.200000     19           0      0.0      1000   \n",
       "4              4   0.266667     19           0      0.0      1000   \n",
       "..           ...        ...    ...         ...      ...       ...   \n",
       "94            15   1.000000     19          19      1.0      1000   \n",
       "95            15   1.000000     19          19      1.0      1000   \n",
       "96            15   1.000000     19          19      1.0      1000   \n",
       "97            15   1.000000     19          19      1.0      1000   \n",
       "98            15   1.000000     19          19      1.0      1000   \n",
       "\n",
       "    random_N_corr  random_pct  W_sens_spec  \n",
       "0              17       0.017     0.000000  \n",
       "1              42       0.042     0.000000  \n",
       "2              92       0.092     0.000000  \n",
       "3             134       0.134     0.000000  \n",
       "4             181       0.181     0.000000  \n",
       "..            ...         ...          ...  \n",
       "94           1000       1.000     0.115942  \n",
       "95           1000       1.000     0.046154  \n",
       "96           1000       1.000     0.015773  \n",
       "97           1000       1.000     0.000000  \n",
       "98           1000       1.000     0.000000  \n",
       "\n",
       "[99 rows x 14 columns]"
      ]
     },
     "execution_count": 256,
     "metadata": {},
     "output_type": "execute_result"
    }
   ],
   "source": [
    "results"
   ]
  },
  {
   "cell_type": "code",
   "execution_count": 257,
   "metadata": {},
   "outputs": [
    {
     "data": {
      "text/html": [
       "<div>\n",
       "<style scoped>\n",
       "    .dataframe tbody tr th:only-of-type {\n",
       "        vertical-align: middle;\n",
       "    }\n",
       "\n",
       "    .dataframe tbody tr th {\n",
       "        vertical-align: top;\n",
       "    }\n",
       "\n",
       "    .dataframe thead th {\n",
       "        text-align: right;\n",
       "    }\n",
       "</style>\n",
       "<table border=\"1\" class=\"dataframe\">\n",
       "  <thead>\n",
       "    <tr style=\"text-align: right;\">\n",
       "      <th></th>\n",
       "      <th>threshold</th>\n",
       "      <th>validation_N</th>\n",
       "      <th>validation_N_corr</th>\n",
       "      <th>validation_pct</th>\n",
       "      <th>crops_N</th>\n",
       "      <th>crops_N_corr</th>\n",
       "      <th>crops_pct</th>\n",
       "      <th>ood_N</th>\n",
       "      <th>ood_N_corr</th>\n",
       "      <th>ood_pct</th>\n",
       "      <th>random_N</th>\n",
       "      <th>random_N_corr</th>\n",
       "      <th>random_pct</th>\n",
       "      <th>W_sens_spec</th>\n",
       "      <th>all_pct</th>\n",
       "      <th>WA_sens_spec</th>\n",
       "    </tr>\n",
       "  </thead>\n",
       "  <tbody>\n",
       "    <tr>\n",
       "      <th>74</th>\n",
       "      <td>tensor(0.7500)</td>\n",
       "      <td>313</td>\n",
       "      <td>312</td>\n",
       "      <td>0.996805</td>\n",
       "      <td>15</td>\n",
       "      <td>15</td>\n",
       "      <td>1.0</td>\n",
       "      <td>19</td>\n",
       "      <td>19</td>\n",
       "      <td>1.0</td>\n",
       "      <td>1000</td>\n",
       "      <td>999</td>\n",
       "      <td>0.999</td>\n",
       "      <td>0.999359</td>\n",
       "      <td>0.999033</td>\n",
       "      <td>0.998587</td>\n",
       "    </tr>\n",
       "    <tr>\n",
       "      <th>75</th>\n",
       "      <td>tensor(0.7600)</td>\n",
       "      <td>313</td>\n",
       "      <td>312</td>\n",
       "      <td>0.996805</td>\n",
       "      <td>15</td>\n",
       "      <td>15</td>\n",
       "      <td>1.0</td>\n",
       "      <td>19</td>\n",
       "      <td>19</td>\n",
       "      <td>1.0</td>\n",
       "      <td>1000</td>\n",
       "      <td>999</td>\n",
       "      <td>0.999</td>\n",
       "      <td>0.999359</td>\n",
       "      <td>0.999033</td>\n",
       "      <td>0.998587</td>\n",
       "    </tr>\n",
       "    <tr>\n",
       "      <th>76</th>\n",
       "      <td>tensor(0.7700)</td>\n",
       "      <td>313</td>\n",
       "      <td>312</td>\n",
       "      <td>0.996805</td>\n",
       "      <td>15</td>\n",
       "      <td>15</td>\n",
       "      <td>1.0</td>\n",
       "      <td>19</td>\n",
       "      <td>19</td>\n",
       "      <td>1.0</td>\n",
       "      <td>1000</td>\n",
       "      <td>999</td>\n",
       "      <td>0.999</td>\n",
       "      <td>0.999359</td>\n",
       "      <td>0.999033</td>\n",
       "      <td>0.998587</td>\n",
       "    </tr>\n",
       "    <tr>\n",
       "      <th>77</th>\n",
       "      <td>tensor(0.7800)</td>\n",
       "      <td>313</td>\n",
       "      <td>312</td>\n",
       "      <td>0.996805</td>\n",
       "      <td>15</td>\n",
       "      <td>15</td>\n",
       "      <td>1.0</td>\n",
       "      <td>19</td>\n",
       "      <td>19</td>\n",
       "      <td>1.0</td>\n",
       "      <td>1000</td>\n",
       "      <td>999</td>\n",
       "      <td>0.999</td>\n",
       "      <td>0.999359</td>\n",
       "      <td>0.999033</td>\n",
       "      <td>0.998587</td>\n",
       "    </tr>\n",
       "    <tr>\n",
       "      <th>78</th>\n",
       "      <td>tensor(0.7900)</td>\n",
       "      <td>313</td>\n",
       "      <td>311</td>\n",
       "      <td>0.993610</td>\n",
       "      <td>15</td>\n",
       "      <td>15</td>\n",
       "      <td>1.0</td>\n",
       "      <td>19</td>\n",
       "      <td>19</td>\n",
       "      <td>1.0</td>\n",
       "      <td>1000</td>\n",
       "      <td>999</td>\n",
       "      <td>0.999</td>\n",
       "      <td>0.998715</td>\n",
       "      <td>0.999033</td>\n",
       "      <td>0.997944</td>\n",
       "    </tr>\n",
       "    <tr>\n",
       "      <th>79</th>\n",
       "      <td>tensor(0.8000)</td>\n",
       "      <td>313</td>\n",
       "      <td>311</td>\n",
       "      <td>0.993610</td>\n",
       "      <td>15</td>\n",
       "      <td>15</td>\n",
       "      <td>1.0</td>\n",
       "      <td>19</td>\n",
       "      <td>19</td>\n",
       "      <td>1.0</td>\n",
       "      <td>1000</td>\n",
       "      <td>999</td>\n",
       "      <td>0.999</td>\n",
       "      <td>0.998715</td>\n",
       "      <td>0.999033</td>\n",
       "      <td>0.997944</td>\n",
       "    </tr>\n",
       "    <tr>\n",
       "      <th>80</th>\n",
       "      <td>tensor(0.8100)</td>\n",
       "      <td>313</td>\n",
       "      <td>310</td>\n",
       "      <td>0.990415</td>\n",
       "      <td>15</td>\n",
       "      <td>15</td>\n",
       "      <td>1.0</td>\n",
       "      <td>19</td>\n",
       "      <td>19</td>\n",
       "      <td>1.0</td>\n",
       "      <td>1000</td>\n",
       "      <td>999</td>\n",
       "      <td>0.999</td>\n",
       "      <td>0.998068</td>\n",
       "      <td>0.999033</td>\n",
       "      <td>0.997297</td>\n",
       "    </tr>\n",
       "    <tr>\n",
       "      <th>81</th>\n",
       "      <td>tensor(0.8200)</td>\n",
       "      <td>313</td>\n",
       "      <td>310</td>\n",
       "      <td>0.990415</td>\n",
       "      <td>15</td>\n",
       "      <td>15</td>\n",
       "      <td>1.0</td>\n",
       "      <td>19</td>\n",
       "      <td>19</td>\n",
       "      <td>1.0</td>\n",
       "      <td>1000</td>\n",
       "      <td>999</td>\n",
       "      <td>0.999</td>\n",
       "      <td>0.998068</td>\n",
       "      <td>0.999033</td>\n",
       "      <td>0.997297</td>\n",
       "    </tr>\n",
       "    <tr>\n",
       "      <th>82</th>\n",
       "      <td>tensor(0.8300)</td>\n",
       "      <td>313</td>\n",
       "      <td>306</td>\n",
       "      <td>0.977636</td>\n",
       "      <td>15</td>\n",
       "      <td>15</td>\n",
       "      <td>1.0</td>\n",
       "      <td>19</td>\n",
       "      <td>19</td>\n",
       "      <td>1.0</td>\n",
       "      <td>1000</td>\n",
       "      <td>1000</td>\n",
       "      <td>1.000</td>\n",
       "      <td>0.995446</td>\n",
       "      <td>1.000000</td>\n",
       "      <td>0.995446</td>\n",
       "    </tr>\n",
       "    <tr>\n",
       "      <th>83</th>\n",
       "      <td>tensor(0.8400)</td>\n",
       "      <td>313</td>\n",
       "      <td>305</td>\n",
       "      <td>0.974441</td>\n",
       "      <td>15</td>\n",
       "      <td>15</td>\n",
       "      <td>1.0</td>\n",
       "      <td>19</td>\n",
       "      <td>19</td>\n",
       "      <td>1.0</td>\n",
       "      <td>1000</td>\n",
       "      <td>1000</td>\n",
       "      <td>1.000</td>\n",
       "      <td>0.994781</td>\n",
       "      <td>1.000000</td>\n",
       "      <td>0.994781</td>\n",
       "    </tr>\n",
       "  </tbody>\n",
       "</table>\n",
       "</div>"
      ],
      "text/plain": [
       "         threshold  validation_N  validation_N_corr  validation_pct  crops_N  \\\n",
       "74  tensor(0.7500)           313                312        0.996805       15   \n",
       "75  tensor(0.7600)           313                312        0.996805       15   \n",
       "76  tensor(0.7700)           313                312        0.996805       15   \n",
       "77  tensor(0.7800)           313                312        0.996805       15   \n",
       "78  tensor(0.7900)           313                311        0.993610       15   \n",
       "79  tensor(0.8000)           313                311        0.993610       15   \n",
       "80  tensor(0.8100)           313                310        0.990415       15   \n",
       "81  tensor(0.8200)           313                310        0.990415       15   \n",
       "82  tensor(0.8300)           313                306        0.977636       15   \n",
       "83  tensor(0.8400)           313                305        0.974441       15   \n",
       "\n",
       "    crops_N_corr  crops_pct  ood_N  ood_N_corr  ood_pct  random_N  \\\n",
       "74            15        1.0     19          19      1.0      1000   \n",
       "75            15        1.0     19          19      1.0      1000   \n",
       "76            15        1.0     19          19      1.0      1000   \n",
       "77            15        1.0     19          19      1.0      1000   \n",
       "78            15        1.0     19          19      1.0      1000   \n",
       "79            15        1.0     19          19      1.0      1000   \n",
       "80            15        1.0     19          19      1.0      1000   \n",
       "81            15        1.0     19          19      1.0      1000   \n",
       "82            15        1.0     19          19      1.0      1000   \n",
       "83            15        1.0     19          19      1.0      1000   \n",
       "\n",
       "    random_N_corr  random_pct  W_sens_spec   all_pct  WA_sens_spec  \n",
       "74            999       0.999     0.999359  0.999033      0.998587  \n",
       "75            999       0.999     0.999359  0.999033      0.998587  \n",
       "76            999       0.999     0.999359  0.999033      0.998587  \n",
       "77            999       0.999     0.999359  0.999033      0.998587  \n",
       "78            999       0.999     0.998715  0.999033      0.997944  \n",
       "79            999       0.999     0.998715  0.999033      0.997944  \n",
       "80            999       0.999     0.998068  0.999033      0.997297  \n",
       "81            999       0.999     0.998068  0.999033      0.997297  \n",
       "82           1000       1.000     0.995446  1.000000      0.995446  \n",
       "83           1000       1.000     0.994781  1.000000      0.994781  "
      ]
     },
     "execution_count": 257,
     "metadata": {},
     "output_type": "execute_result"
    }
   ],
   "source": [
    "results[\"W_sens_spec\"] = 5 * results.validation_pct * results.ood_pct / (4*results.validation_pct + results.ood_pct)\n",
    "results[\"all_pct\"] = (results.crops_N_corr + results.ood_N_corr + results.random_N_corr) / (results.crops_N + results.ood_N + results.random_N)\n",
    "results[\"WA_sens_spec\"] = 5 * results.validation_pct * results.all_pct / (4*results.validation_pct + results.all_pct)\n",
    "results.nlargest(10, \"W_sens_spec\")"
   ]
  },
  {
   "cell_type": "code",
   "execution_count": 270,
   "metadata": {},
   "outputs": [],
   "source": [
    "results.insert(0, \"Z\", f\"{nz}*{spatial_dim_noise}*{spatial_dim_noise}\")\n",
    "results.insert(0, \"name\", project_name)"
   ]
  },
  {
   "cell_type": "code",
   "execution_count": 271,
   "metadata": {},
   "outputs": [],
   "source": [
    "os.makedirs(\"results\", exist_ok=True)\n",
    "filename = \"results/results.csv\"\n",
    "header = (not os.path.isfile(filename)) or (os.stat().st_size == 0)\n",
    "results.nlargest(1, \"W_sens_spec\").to_csv(filename, index=False, header=header, mode=\"a\")"
   ]
  },
  {
   "cell_type": "markdown",
   "metadata": {},
   "source": [
    "# TEST DATA"
   ]
  },
  {
   "cell_type": "code",
   "execution_count": 26,
   "metadata": {},
   "outputs": [],
   "source": [
    "transform = T.Compose([\n",
    "        T.Resize((256, 256)),\n",
    "        T.ToTensor(),\n",
    "        T.Normalize(mean=(0.5, 0.5, 0.5), std=(0.5, 0.5, 0.5))\n",
    "    ])\n",
    "\n",
    "batch_size_eval = 64\n",
    "\n",
    "root_data = \"../CV_thesis_GiovanniPinna/ImageSet/extra_test/\"\n",
    "\n",
    "extra_ds_t = torchvision.datasets.ImageFolder(root=root_data, transform=transform)\n",
    "extra_dl_t = torch.utils.data.DataLoader(extra_ds_t, batch_size=len(extra_ds_t), shuffle=False, num_workers=1)\n",
    "\n",
    "features = []\n",
    "\n",
    "backbone.eval()\n",
    "_ = backbone(next(iter(extra_dl_t))[0].cuda())\n",
    "\n",
    "netD.train()\n",
    "outputs_extra_t = netD(features[0].cuda()).view(-1)\n",
    "outputs_extra_t = outputs_extra_t.detach().cpu().numpy()"
   ]
  },
  {
   "cell_type": "code",
   "execution_count": 43,
   "metadata": {},
   "outputs": [
    {
     "data": {
      "text/plain": [
       "1.0"
      ]
     },
     "execution_count": 43,
     "metadata": {},
     "output_type": "execute_result"
    }
   ],
   "source": [
    "(outputs_extra_t<=0.77).sum().item() / len(outputs_extra_t)"
   ]
  },
  {
   "cell_type": "code",
   "execution_count": 40,
   "metadata": {},
   "outputs": [
    {
     "name": "stdout",
     "output_type": "stream",
     "text": [
      "torch.Size([128, 3, 256, 256])\n",
      "torch.Size([128, 3, 256, 256])\n",
      "torch.Size([128, 3, 256, 256])\n",
      "torch.Size([128, 3, 256, 256])\n",
      "torch.Size([128, 3, 256, 256])\n",
      "torch.Size([128, 3, 256, 256])\n",
      "torch.Size([2, 3, 256, 256])\n",
      "torch.Size([770, 512, 8, 8])\n"
     ]
    }
   ],
   "source": [
    "transform = T.Compose([\n",
    "        T.Resize((256, 256)),\n",
    "        T.ToTensor(),\n",
    "        T.Normalize(mean=(0.5, 0.5, 0.5), std=(0.5, 0.5, 0.5))\n",
    "    ])\n",
    "\n",
    "batch_size_eval = 64\n",
    "\n",
    "root_data = \"../CV_thesis_GiovanniPinna/ImageSet/test_final/\"\n",
    "\n",
    "test_set = torchvision.datasets.ImageFolder(root=root_data, transform=transform)\n",
    "test_loader = torch.utils.data.DataLoader(test_set, batch_size=128, shuffle=False, num_workers=1)\n",
    "\n",
    "features = []\n",
    "\n",
    "backbone.eval()\n",
    "for data, _ in test_loader:\n",
    "    print(data.shape)\n",
    "    _ = backbone(data.cuda())\n",
    "\n",
    "# features = torch.cat(features)\n",
    "features = torch.cat([f for i, f in enumerate(features) if i%2==0], dim=0)\n",
    "print(features.shape)\n",
    "\n",
    "netD.train()\n",
    "outputs_test = netD(features.cuda()).view(-1)\n",
    "outputs_test = outputs_test.detach().cpu().numpy()"
   ]
  },
  {
   "cell_type": "code",
   "execution_count": 42,
   "metadata": {},
   "outputs": [
    {
     "data": {
      "text/plain": [
       "0.9948051948051948"
      ]
     },
     "execution_count": 42,
     "metadata": {},
     "output_type": "execute_result"
    }
   ],
   "source": [
    "(outputs_test>0.77).sum().item() / len(outputs_test)"
   ]
  }
 ],
 "metadata": {
  "kernelspec": {
   "display_name": "Python 3.10.4 ('giovanni')",
   "language": "python",
   "name": "python3"
  },
  "language_info": {
   "codemirror_mode": {
    "name": "ipython",
    "version": 3
   },
   "file_extension": ".py",
   "mimetype": "text/x-python",
   "name": "python",
   "nbconvert_exporter": "python",
   "pygments_lexer": "ipython3",
   "version": "3.10.4"
  },
  "vscode": {
   "interpreter": {
    "hash": "ee65a9bd9b244ab144c7288d6cb3046655f4298486ef114fafae143a4f9bde35"
   }
  }
 },
 "nbformat": 4,
 "nbformat_minor": 2
}
