{
 "cells": [
  {
   "cell_type": "markdown",
   "metadata": {},
   "source": [
    "OpenGAN: Open-Set Recognition via Open Data Generation\n",
    "================\n",
    "**Supplemental Material for ICCV2021 Submission**\n",
    "\n",
    "\n",
    "In this notebook, we demonstrate how we train the GAN-fea model on the TinyImageNet train-set, providing the closed-set images."
   ]
  },
  {
   "cell_type": "markdown",
   "metadata": {},
   "source": [
    "import packages\n",
    "------------------\n",
    "\n",
    "Some packages are installed automatically through Anaconda. PyTorch should be also installed."
   ]
  },
  {
   "cell_type": "code",
   "execution_count": 1,
   "metadata": {},
   "outputs": [
    {
     "name": "stderr",
     "output_type": "stream",
     "text": [
      "/home/zullich/giovanni/lib/python3.10/site-packages/tqdm/auto.py:22: TqdmWarning: IProgress not found. Please update jupyter and ipywidgets. See https://ipywidgets.readthedocs.io/en/stable/user_install.html\n",
      "  from .autonotebook import tqdm as notebook_tqdm\n"
     ]
    },
    {
     "name": "stdout",
     "output_type": "stream",
     "text": [
      "3.10.4 (main, Mar 31 2022, 08:41:55) [GCC 7.5.0]\n",
      "1.11.0\n",
      "Random Seed:  999\n"
     ]
    },
    {
     "data": {
      "text/plain": [
       "<torch._C.Generator at 0x7f21d46b0090>"
      ]
     },
     "execution_count": 1,
     "metadata": {},
     "output_type": "execute_result"
    }
   ],
   "source": [
    "from __future__ import print_function, division\n",
    "import os, random, time, copy\n",
    "from skimage import io, transform\n",
    "import numpy as np\n",
    "import pandas as pd\n",
    "import os.path as path\n",
    "import scipy.io as sio\n",
    "from scipy import misc\n",
    "from scipy import ndimage, signal\n",
    "import scipy\n",
    "import pickle\n",
    "import sys\n",
    "import math\n",
    "import matplotlib.pyplot as plt\n",
    "import PIL.Image\n",
    "from io import BytesIO\n",
    "\n",
    "\n",
    "import torch\n",
    "from torch.utils.data import Dataset, DataLoader\n",
    "import torch.nn as nn\n",
    "import torch.optim as optim\n",
    "from torch.optim import lr_scheduler \n",
    "import torch.nn.functional as F\n",
    "from torch.autograd import Variable\n",
    "import torchvision\n",
    "from torchvision import datasets, models, transforms\n",
    "import torchvision.utils as vutils\n",
    "from torchvision import transforms as T\n",
    "\n",
    "from typing import Collection\n",
    "\n",
    "from utils.eval_funcs import *\n",
    "from utils.dataset_tinyimagenet import *\n",
    "\n",
    "import warnings # ignore warnings\n",
    "warnings.filterwarnings(\"ignore\")\n",
    "print(sys.version)\n",
    "print(torch.__version__)\n",
    "\n",
    "\n",
    "manualSeed = 999\n",
    "print(\"Random Seed: \", manualSeed)\n",
    "random.seed(manualSeed)\n",
    "torch.manual_seed(manualSeed)"
   ]
  },
  {
   "cell_type": "markdown",
   "metadata": {},
   "source": [
    "Setup config parameters\n",
    " -----------------\n",
    " \n",
    " There are several things to setup, like which GPU to use, where to read images and save files, etc. Please read and understand this. By default, you should be able to run this script smoothly by changing nothing."
   ]
  },
  {
   "cell_type": "code",
   "execution_count": 39,
   "metadata": {
    "scrolled": true
   },
   "outputs": [
    {
     "name": "stdout",
     "output_type": "stream",
     "text": [
      "./exp/OpenGANFullPunzoni\n"
     ]
    }
   ],
   "source": [
    "# set the random seed\n",
    "torch.manual_seed(0)\n",
    "\n",
    "################## set attributes for this project/experiment ##################\n",
    "# config result folder\n",
    "exp_dir = './exp' # experiment directory, used for reading the init model\n",
    "\n",
    "modelFlag = 'Punzoni'\n",
    "\n",
    "project_name = 'OpenGANFull' + modelFlag   # we save all the checkpoints in this directory\n",
    "\n",
    "# set device, which gpu to use.\n",
    "device ='cpu'\n",
    "if torch.cuda.is_available(): \n",
    "    device='cuda:0'\n",
    "\n",
    "\n",
    "total_epoch_num = 500 # total number of epoch in training\n",
    "batch_size = 128    \n",
    "\n",
    "newsize = (64, 64)\n",
    "\n",
    "\n",
    "path_to_feats = './feats' # the path to cached off-the-shelf features\n",
    "pklName = path.join(path_to_feats, modelFlag.lower()+'.pkl')\n",
    "\n",
    "\n",
    "\n",
    "# For GAN-fea, we set the hyper-parameters as below.\n",
    "\n",
    "# Number of channels in the training images. For color images this is 3\n",
    "nc = 512\n",
    "\n",
    "# Size of z latent vector (i.e. size of generator input)\n",
    "nz = 100\n",
    "\n",
    "# Size of feature maps in generator\n",
    "ngf = 64\n",
    "\n",
    "# Size of feature maps in discriminator\n",
    "ndf = 64\n",
    "\n",
    "# Beta1 hyperparam for Adam optimizers\n",
    "beta1 = 0.5\n",
    "\n",
    "# Number of GPUs available. Use 0 for CPU mode.\n",
    "ngpu = 1\n",
    "\n",
    "\n",
    "\n",
    "# TinyImageNet has 200 classes.\n",
    "nClassTotal = 200\n",
    "nClassCloseset = nClassTotal\n",
    "\n",
    "#project_name += '_K{}run{}'.format(nClassCloseset, runIdx)\n",
    "if not os.path.exists(exp_dir): os.makedirs(exp_dir)\n",
    "\n",
    "\n",
    "num_epochs = total_epoch_num\n",
    "torch.cuda.device_count()\n",
    "torch.cuda.empty_cache()\n",
    "\n",
    "save_dir = os.path.join(exp_dir, project_name)\n",
    "print(save_dir)    \n",
    "if not os.path.exists(save_dir): os.makedirs(save_dir)\n",
    "\n",
    "log_filename = os.path.join(save_dir, 'train.log')"
   ]
  },
  {
   "cell_type": "markdown",
   "metadata": {},
   "source": [
    "Define model architecture\n",
    "---------\n",
    "\n",
    "Here is the definition of the model architectures for generator and discriminator. Both are multi-layer perceptron (MLP) networks."
   ]
  },
  {
   "cell_type": "code",
   "execution_count": 3,
   "metadata": {},
   "outputs": [],
   "source": [
    "def weights_init(m):\n",
    "    classname = m.__class__.__name__\n",
    "    if classname.find('Conv') != -1:\n",
    "        nn.init.normal_(m.weight.data, 0.0, 0.02)\n",
    "    elif classname.find('BatchNorm') != -1:\n",
    "        nn.init.normal_(m.weight.data, 1.0, 0.02)\n",
    "        nn.init.constant_(m.bias.data, 0)     \n",
    "        \n",
    "\n",
    "class Generator(nn.Module):\n",
    "    def __init__(self, ngpu=1, nz=100, ngf=64, nc=512):\n",
    "        super(Generator, self).__init__()\n",
    "        self.ngpu = ngpu\n",
    "        self.nz = nz\n",
    "        self.ngf = ngf\n",
    "        self.nc = nc\n",
    "        \n",
    "        self.main = nn.Sequential(\n",
    "            # input is Z, going into a convolution\n",
    "            # Conv2d(in_channels, out_channels, kernel_size, stride=1, padding=0, dilation=1, groups=1, bias=True, padding_mode='zeros')\n",
    "            nn.Conv2d( self.nz, self.ngf * 8, 1, 1, 0, bias=False),\n",
    "            nn.BatchNorm2d(self.ngf * 8),\n",
    "            nn.ReLU(True),\n",
    "            # state size. (self.ngf*8) x 4 x 4\n",
    "            nn.Conv2d(self.ngf * 8, self.ngf * 4, 1, 1, 0, bias=False),\n",
    "            nn.BatchNorm2d(self.ngf * 4),\n",
    "            nn.ReLU(True),\n",
    "            # state size. (self.ngf*4) x 8 x 8\n",
    "            nn.Conv2d( self.ngf * 4, self.ngf * 2, 1, 1, 0, bias=False),\n",
    "            nn.BatchNorm2d(self.ngf * 2),\n",
    "            nn.ReLU(True),\n",
    "            # state size. (self.ngf*2) x 16 x 16\n",
    "            nn.Conv2d( self.ngf * 2, self.ngf*4, 1, 1, 0, bias=False),\n",
    "            nn.BatchNorm2d(self.ngf*4),\n",
    "            nn.ReLU(True),\n",
    "            # state size. (self.ngf) x 32 x 32\n",
    "            nn.Conv2d( self.ngf*4, self.nc, 1, 1, 0, bias=True),\n",
    "            #nn.Tanh()\n",
    "            # state size. (self.nc) x 64 x 64\n",
    "        )\n",
    "\n",
    "    def forward(self, input):\n",
    "        return self.main(input)\n",
    "\n",
    "    \n",
    "class Discriminator(nn.Module):\n",
    "    def __init__(self, ngpu=1, nc=512, ndf=64):\n",
    "        super(Discriminator, self).__init__()\n",
    "        self.ngpu = ngpu\n",
    "        self.nc = nc\n",
    "        self.ndf = ndf\n",
    "        self.main = nn.Sequential(\n",
    "            nn.Conv2d(self.nc, self.ndf*8, 1, 1, 0, bias=False),\n",
    "            nn.LeakyReLU(0.2, inplace=True),\n",
    "            nn.Conv2d(self.ndf*8, self.ndf*4, 1, 1, 0, bias=False),\n",
    "            nn.BatchNorm2d(self.ndf*4),\n",
    "            nn.LeakyReLU(0.2, inplace=True),\n",
    "            nn.Conv2d(self.ndf*4, self.ndf*2, 1, 1, 0, bias=False),\n",
    "            nn.BatchNorm2d(self.ndf*2),\n",
    "            nn.LeakyReLU(0.2, inplace=True),\n",
    "            nn.Conv2d(self.ndf*2, self.ndf, 1, 1, 0, bias=False),\n",
    "            nn.BatchNorm2d(self.ndf),\n",
    "            nn.LeakyReLU(0.2, inplace=True),\n",
    "            nn.Conv2d(self.ndf, 1, 1, 1, 0, bias=False),\n",
    "            nn.Sigmoid()\n",
    "        )\n",
    "\n",
    "    def forward(self, input):\n",
    "        return self.main(input)\n",
    "\n",
    "class DiscriminatorFunnel(nn.Module):\n",
    "    def __init__(self, ngpu=1, nc=512, ndf=64):\n",
    "        super(DiscriminatorFunnel, self).__init__()\n",
    "        self.ngpu = ngpu\n",
    "        self.nc = nc\n",
    "        self.ndf = ndf\n",
    "        self.main = nn.Sequential(\n",
    "            nn.Conv2d(self.nc, self.ndf*8, 3, 1, 0, bias=False),\n",
    "            nn.LeakyReLU(0.2, inplace=True),\n",
    "            nn.Conv2d(self.ndf*8, self.ndf*4, 3, 1, 0, bias=False),\n",
    "            nn.BatchNorm2d(self.ndf*4),\n",
    "            nn.LeakyReLU(0.2, inplace=True),\n",
    "            nn.Conv2d(self.ndf*4, self.ndf*2, 3, 1, 0, bias=False),\n",
    "            nn.BatchNorm2d(self.ndf*2),\n",
    "            nn.LeakyReLU(0.2, inplace=True),\n",
    "            nn.Conv2d(self.ndf*2, self.ndf, 2, 1, 0, bias=False),\n",
    "            nn.BatchNorm2d(self.ndf),\n",
    "            nn.LeakyReLU(0.2, inplace=True),\n",
    "            nn.Conv2d(self.ndf, 1, 1, 1, 0, bias=False),\n",
    "            nn.Sigmoid()\n",
    "        )\n",
    "\n",
    "    def forward(self, input):\n",
    "        return self.main(input)"
   ]
  },
  {
   "cell_type": "markdown",
   "metadata": {},
   "source": [
    "## initialize the networks"
   ]
  },
  {
   "cell_type": "code",
   "execution_count": 42,
   "metadata": {},
   "outputs": [
    {
     "name": "stdout",
     "output_type": "stream",
     "text": [
      "cuda:0\n"
     ]
    }
   ],
   "source": [
    "netG = Generator(ngpu=ngpu, nz=nz, ngf=ngf, nc=nc).to(device)\n",
    "netD = DiscriminatorFunnel(ngpu=ngpu, nc=nc, ndf=ndf).to(device)\n",
    "\n",
    "# Handle multi-gpu if desired\n",
    "if ('cuda' in device) and (ngpu > 1):\n",
    "    netD = nn.DataParallel(netD, list(range(ngpu)))\n",
    "\n",
    "    # Apply the weights_init function to randomly initialize all weights\n",
    "#  to mean=0, stdev=0.2.\n",
    "netD.apply(weights_init)\n",
    "\n",
    "\n",
    "if ('cuda' in device) and (ngpu > 1):\n",
    "    netG = nn.DataParallel(netG, list(range(ngpu)))\n",
    "netG.apply(weights_init)\n",
    "\n",
    "print(device)"
   ]
  },
  {
   "cell_type": "markdown",
   "metadata": {},
   "source": [
    "## Sanity Check"
   ]
  },
  {
   "cell_type": "code",
   "execution_count": 48,
   "metadata": {},
   "outputs": [
    {
     "name": "stdout",
     "output_type": "stream",
     "text": [
      "torch.Size([128, 100, 8, 8]) torch.Size([128, 512, 8, 8]) torch.Size([128, 1, 1, 1])\n"
     ]
    }
   ],
   "source": [
    "noise = torch.randn(batch_size, nz, 8, 8, device=device)\n",
    "# Generate fake image batch with G\n",
    "fake = netG(noise)\n",
    "predLabel = netD(fake)\n",
    "\n",
    "print(noise.shape, fake.shape, predLabel.shape)"
   ]
  },
  {
   "cell_type": "markdown",
   "metadata": {},
   "source": [
    "## Dataset setup\n",
    "\n",
    "Load the pretrained network"
   ]
  },
  {
   "cell_type": "code",
   "execution_count": 5,
   "metadata": {},
   "outputs": [],
   "source": [
    "\n",
    "\n",
    "\n",
    "def load_pretrained_backbone(network_backbone, weights_location, device=\"cuda:0\", final_layer_weights:str=\"fc.weight\"):\n",
    "    '''\n",
    "    Load and instantiate a pretrained backbone from a given file containing a state_dict\n",
    "\n",
    "    Parameters:\n",
    "    -----------\n",
    "    network_backbone: a non-instantiated torch.nn.Module, the backbone for obtaining the features\n",
    "    weights_location: str, the location of the weights file\n",
    "    device: str, the device to load the weights to\n",
    "    final_layer_weights: str, the name of the final layer weights to load, used to set the number of classes of the final network\n",
    "    \n",
    "    Returns:\n",
    "    -----------\n",
    "    a nn.Module, the instantiated backbone on the given device with the pretrained weights\n",
    "    '''\n",
    "    backbone_weights = torch.load(weights_location)\n",
    "    backbone = network_backbone(num_classes=backbone_weights[final_layer_weights].shape[0])\n",
    "    backbone.load_state_dict(backbone_weights)\n",
    "    return backbone.to(device)"
   ]
  },
  {
   "cell_type": "code",
   "execution_count": 6,
   "metadata": {},
   "outputs": [],
   "source": [
    "backbone = load_pretrained_backbone(models.resnet18, \"../CV_thesis_GiovanniPinna/models/resnet18_no_aug.pt_resnet18_0.pt\")"
   ]
  },
  {
   "cell_type": "code",
   "execution_count": 5,
   "metadata": {},
   "outputs": [],
   "source": [
    "# backbone_weights = torch.load(\"../CV_thesis_GiovanniPinna/models/resnet18_no_aug.pt_resnet18_0.pt\")\n",
    "# backbone_weights.keys()\n",
    "# backbone_weights[\"fc.weight\"].shape\n",
    "\n",
    "# backbone = torchvision.models.resnet18(num_classes=backbone_weights[\"fc.weight\"].shape[0])\n",
    "# backbone.load_state_dict(backbone_weights)\n",
    "# backbone = backbone.cuda()\n"
   ]
  },
  {
   "cell_type": "markdown",
   "metadata": {},
   "source": [
    "Add a forward hook for storing intermediate representations"
   ]
  },
  {
   "cell_type": "code",
   "execution_count": 32,
   "metadata": {},
   "outputs": [],
   "source": [
    "def network_add_hook_for_features(network:torch.nn.Module, module_name:str, structure_for_features:list):\n",
    "    '''\n",
    "    Add a hook to a given module in a network to obtain the features of a given structure\n",
    "\n",
    "    Parameters:\n",
    "    -----------\n",
    "    network: an instantiated torch.nn.Module, the network to add the hook to\n",
    "    module_name: str, the name of the module to add the hook to\n",
    "    structure_for_features: list, the structure which will store the features obtained from the forward pass\n",
    "    \n",
    "    Returns:\n",
    "    -----------\n",
    "    a handle to the hook, to remove in case of need\n",
    "    '''\n",
    "    def get_features(module, input_, output):\n",
    "        structure_for_features.append(output.cpu().detach())\n",
    "    return getattr(network, module_name).register_forward_hook(get_features)   "
   ]
  },
  {
   "cell_type": "code",
   "execution_count": 46,
   "metadata": {},
   "outputs": [],
   "source": [
    "features = []\n",
    "handle = network_add_hook_for_features(backbone, \"layer4\", features)"
   ]
  },
  {
   "cell_type": "code",
   "execution_count": 6,
   "metadata": {},
   "outputs": [],
   "source": [
    "# features = []\n",
    "# def get_features(module, input_, output):\n",
    "#     features.append(output.cpu().detach())\n",
    "\n",
    "# handle = backbone.layer4.register_forward_hook(get_features)"
   ]
  },
  {
   "cell_type": "markdown",
   "metadata": {},
   "source": [
    "Load the dataset"
   ]
  },
  {
   "cell_type": "code",
   "execution_count": 7,
   "metadata": {},
   "outputs": [],
   "source": [
    "class BasicDataset(Dataset):\n",
    "    '''\n",
    "    A simple dataset wrapping a container of images without labels.\n",
    "    '''\n",
    "    def __init__(self, data, transform=None):\n",
    "        '''\n",
    "        Parameters:\n",
    "        -----------\n",
    "        data: a generic container of tensors\n",
    "        transform: a pipeline of transformations to apply to the data\n",
    "        '''\n",
    "        self.data = data\n",
    "        self.current_set_len = len(data)\n",
    "        self.transform = transform\n",
    "        \n",
    "    def __len__(self):        \n",
    "        return self.current_set_len\n",
    "    \n",
    "    def __getitem__(self, idx):\n",
    "        curdata = self.data[idx]\n",
    "        if self.transform is not None:\n",
    "            return transform(curdata)\n",
    "        return curdata"
   ]
  },
  {
   "cell_type": "code",
   "execution_count": 8,
   "metadata": {},
   "outputs": [],
   "source": [
    "import sys\n",
    "sys.path.append(\"../CV_thesis_GiovanniPinna/\")\n",
    "from data import get_dataloaders\n",
    "\n",
    "transform = T.Compose([\n",
    "        T.Resize((256, 256)),\n",
    "        T.ToTensor(),\n",
    "        T.Normalize(mean=(0.5, 0.5, 0.5), std=(0.5, 0.5, 0.5))\n",
    "    ])\n",
    "\n",
    "batch_size_eval = 64\n",
    "\n",
    "root_data = \"../CV_thesis_GiovanniPinna/ImageSet\"\n",
    "\n",
    "trainloader, testloader = get_dataloaders(root_data + \"/train_new\", root_data + \"/test_new\", transform, transform, batch_size_eval, batch_size_eval)"
   ]
  },
  {
   "cell_type": "code",
   "execution_count": 40,
   "metadata": {},
   "outputs": [],
   "source": [
    "root_data_open = (\"../CV_thesis_GiovanniPinna/ImageSet/extra/Punch_360/\", \n",
    "                  \"../CV_thesis_GiovanniPinna/ImageSet/extra/Punch_652/\",\n",
    "                  \"../CV_thesis_GiovanniPinna/ImageSet/extra/Punch_680/\",\n",
    "                  \"../CV_thesis_GiovanniPinna/ImageSet/No_punzoni/\")\n",
    "\n",
    "\n",
    "transform_extra = T.Compose([\n",
    "        T.Resize((256, 256)),\n",
    "        T.ToTensor(),\n",
    "        T.RandomHorizontalFlip(p=.5),\n",
    "        T.RandomVerticalFlip(p=.5),\n",
    "        T.ColorJitter(.5, .5, .5, .5),\n",
    "        T.Normalize(mean=(0.5, 0.5, 0.5), std=(0.5, 0.5, 0.5))\n",
    "    ])\n",
    "\n",
    "data_extra = [Image.open(os.path.join(folder, img)) for folder in root_data_open for img in os.listdir(folder)]\n",
    "dataset_extra = BasicDataset(data_extra, transform=transform)"
   ]
  },
  {
   "cell_type": "code",
   "execution_count": 41,
   "metadata": {},
   "outputs": [],
   "source": [
    "extraloader = DataLoader(dataset_extra, batch_size=batch_size, shuffle=False, num_workers=1)"
   ]
  },
  {
   "cell_type": "markdown",
   "metadata": {},
   "source": [
    "## Implement a new type of DataLoader with replacement for `zip`ping with another dataloader\n",
    "\n",
    "We want to implement a \"slave\" `DataLoader` that samples data with replacement, while a \"master\" `DataLoader` samples without replacement.\n",
    "\n",
    "The aim is to be able to create a training loop in which we can `zip` together the 2 `DataLoader`s, but the length of the \"master\" controls the duration of the loop. This will be used when we train the GAN: the majority of the data will form the close-set dataset, linked to the \"master\" Loader, while a small minority will comprise the open-set dataset, from which we will sample without replacement."
   ]
  },
  {
   "cell_type": "code",
   "execution_count": 13,
   "metadata": {},
   "outputs": [],
   "source": [
    "class DataLoaderWithReplacement(torch.utils.data.DataLoader):\n",
    "    def __init__(self, dataset:torch.utils.data.Dataset, batch_size:int, num_workers:int=1, exposed_length:int=1):\n",
    "        '''\n",
    "        A DataLoader sampling with replacement. It relies on the regular DataLoader, from which it inherits.\n",
    "\n",
    "        Parameters:\n",
    "        -----------\n",
    "        dataset: a torch.utils.data.Dataset, the dataset to load the data from\n",
    "        batch_size: int, the batch size for each sampling\n",
    "        num_workers: int, the number of workers to use for the sampling\n",
    "        exposed_length: int, the lenght of the Loader we wish to expose, it can be larger, equal, or smaller than the dataset\n",
    "        '''\n",
    "        sampler = torch.utils.data.RandomSampler(dataset, replacement=True, num_samples=batch_size)\n",
    "        super(DataLoaderWithReplacement, self).__init__(dataset, batch_size=batch_size, num_workers=num_workers, sampler=sampler)\n",
    "        self.length = exposed_length\n",
    "    def __len__(self):\n",
    "        return self.length\n",
    "    def __iter__(self):\n",
    "        while True:\n",
    "            yield super(DataLoaderWithReplacement, self).__iter__().__next__()"
   ]
  },
  {
   "cell_type": "code",
   "execution_count": 43,
   "metadata": {},
   "outputs": [],
   "source": [
    "# in this case, we \"bind\" extra_loader to trainloader, in the sense that they have the same length\n",
    "# in this way, we are able to `zip` them together during the training loop\n",
    "extra_loader = DataLoaderWithReplacement(dataset_extra, batch_size=15, num_workers=1, exposed_length=len(trainloader))"
   ]
  },
  {
   "cell_type": "markdown",
   "metadata": {},
   "source": [
    "## Obtaining the hidden features for training **(run only the first time)**"
   ]
  },
  {
   "cell_type": "code",
   "execution_count": 26,
   "metadata": {},
   "outputs": [],
   "source": [
    "# def get_features_from_loader(trainloader:torch.utils.data.DataLoader, backbone_network:torch.nn.Module, device, verbose:bool=True):\n",
    "#     '''\n",
    "#     Get the features from a given DataLoader and a given backbone network\n",
    "\n",
    "#     Parameters:\n",
    "#     -----------\n",
    "#     trainloader: a torch.utils.data.DataLoader\n",
    "#     backbone_network: an instantiated torch.nn.Module with a hook for gathering the features\n",
    "#     '''\n",
    "#     backbone_network.eval()\n",
    "#     backbone_network.to(device)\n",
    "#     for i, data in enumerate(trainloader):\n",
    "#         if verbose:\n",
    "#             print(\"Getting features from batch {}\".format(i+1))\n",
    "#         if isinstance(data, (tuple, list)):\n",
    "#             data = data[0]\n",
    "#         data = data.to(device)\n",
    "#         with torch.no_grad():\n",
    "#             _ = backbone_network(data)"
   ]
  },
  {
   "cell_type": "code",
   "execution_count": 48,
   "metadata": {},
   "outputs": [],
   "source": [
    "def save_features(features:list, destination:str, empty_features_after_save:bool=True):\n",
    "    torch.save(torch.cat(features, dim=0), destination)\n",
    "    if empty_features_after_save:\n",
    "        features = []"
   ]
  },
  {
   "cell_type": "code",
   "execution_count": 44,
   "metadata": {},
   "outputs": [
    {
     "data": {
      "text/plain": [
       "1"
      ]
     },
     "execution_count": 44,
     "metadata": {},
     "output_type": "execute_result"
    }
   ],
   "source": [
    "features = []\n",
    "for j in range(10):\n",
    "    print(f\"Doing {j+1}/10\")\n",
    "    for i, data in enumerate(extraloader):\n",
    "        data = data.to(device)\n",
    "        _ = backbone(data)\n",
    "\n",
    "len(features)"
   ]
  },
  {
   "cell_type": "code",
   "execution_count": 49,
   "metadata": {},
   "outputs": [],
   "source": [
    "save_features(features, \"punzoni_resnet18_features_EXTRA_aug.pt\")"
   ]
  },
  {
   "cell_type": "code",
   "execution_count": 6,
   "metadata": {},
   "outputs": [
    {
     "name": "stdout",
     "output_type": "stream",
     "text": [
      "Done 0\n",
      "Done 1\n",
      "Done 2\n",
      "Done 3\n",
      "Done 4\n",
      "Done 5\n",
      "Done 6\n",
      "Done 7\n",
      "Done 8\n",
      "Done 9\n",
      "Done 10\n",
      "Done 11\n",
      "Done 12\n",
      "Done 13\n",
      "Done 14\n",
      "Done 15\n",
      "Done 16\n",
      "Done 17\n",
      "Done 18\n",
      "Done 19\n",
      "Done 20\n",
      "Done 21\n",
      "Done 22\n",
      "Done 23\n",
      "Done 24\n",
      "Done 25\n",
      "Done 26\n",
      "Done 27\n",
      "Done 28\n",
      "Done 29\n",
      "Done 30\n",
      "Done 31\n",
      "Done 32\n",
      "Done 33\n",
      "Done 34\n",
      "Done 35\n",
      "Done 36\n",
      "Done 37\n",
      "Done 38\n",
      "Done 39\n",
      "Done 40\n",
      "Done 41\n",
      "Done 42\n",
      "Done 43\n",
      "Done 44\n",
      "Done 45\n",
      "Done 46\n",
      "Done 47\n"
     ]
    }
   ],
   "source": [
    "for i, (data, _) in enumerate(trainloader):\n",
    "    print(f\"Done {i+1}/{len(trainloader)}\")\n",
    "    _ = backbone(data.cuda())"
   ]
  },
  {
   "cell_type": "code",
   "execution_count": 10,
   "metadata": {},
   "outputs": [],
   "source": [
    "# save\n",
    "features = torch.cat(features, dim=0)\n",
    "torch.save(features, \"punzoni_resnet18_features.pt\")"
   ]
  },
  {
   "cell_type": "markdown",
   "metadata": {},
   "source": [
    "### Load the preevaluated features"
   ]
  },
  {
   "cell_type": "code",
   "execution_count": 46,
   "metadata": {},
   "outputs": [],
   "source": [
    "train_features = torch.load(\"punzoni_resnet18_features.pt\")\n",
    "extra_features = torch.load(\"punzoni_resnet18_features_EXTRA.pt\")\n"
   ]
  },
  {
   "cell_type": "markdown",
   "metadata": {},
   "source": [
    "## a helper function to read cached off-the-shelf features per closed images"
   ]
  },
  {
   "cell_type": "code",
   "execution_count": 8,
   "metadata": {},
   "outputs": [],
   "source": [
    "# class FeatDataset(Dataset):\n",
    "#     def __init__(self, data):\n",
    "#         self.data = data\n",
    "#         self.current_set_len = data.shape[0]        \n",
    "        \n",
    "#     def __len__(self):        \n",
    "#         return self.current_set_len\n",
    "    \n",
    "#     def __getitem__(self, idx):\n",
    "#         curdata = self.data[idx]        \n",
    "#         return curdata"
   ]
  },
  {
   "cell_type": "code",
   "execution_count": 14,
   "metadata": {},
   "outputs": [],
   "source": [
    "trainset_closeset = BasicDataset(data=train_features)\n",
    "dataloader = DataLoader(trainset_closeset, batch_size=batch_size, shuffle=True, num_workers=1)\n",
    "\n",
    "trainset_openset = BasicDataset(data=extra_features)\n",
    "extraloader = DataLoaderWithReplacement(trainset_openset, batch_size=15, num_workers=1, exposed_length=len(dataloader))"
   ]
  },
  {
   "cell_type": "code",
   "execution_count": 15,
   "metadata": {},
   "outputs": [
    {
     "name": "stdout",
     "output_type": "stream",
     "text": [
      "torch.Size([128, 512, 8, 8])\n"
     ]
    }
   ],
   "source": [
    "data_sampler = iter(dataloader)\n",
    "feaList = next(data_sampler)\n",
    "print(feaList.shape)"
   ]
  },
  {
   "cell_type": "markdown",
   "metadata": {},
   "source": [
    "setup training\n",
    "-----------"
   ]
  },
  {
   "cell_type": "code",
   "execution_count": 16,
   "metadata": {},
   "outputs": [],
   "source": [
    "# Initialize BCELoss function\n",
    "criterion = nn.BCELoss()\n",
    "\n",
    "# Create batch of latent vectors that we will use to visualize\n",
    "#  the progression of the generator\n",
    "fixed_noise = torch.randn(64, nz, 1, 1, device=device)\n",
    "\n",
    "# Establish convention for real and fake labels during training\n",
    "real_label = 1\n",
    "fake_label = 0\n",
    "\n",
    "lambda_0 = 0.1\n",
    "lambda_G = 0.9\n",
    "\n",
    "lr = 0.0001\n",
    "\n",
    "# Setup Adam optimizers for both G and D\n",
    "optimizerD = optim.Adam(netD.parameters(), lr=lr/5, betas=(beta1, 0.999))\n",
    "optimizerG = optim.Adam(netG.parameters(), lr=lr, betas=(beta1, 0.999))"
   ]
  },
  {
   "cell_type": "code",
   "execution_count": 17,
   "metadata": {},
   "outputs": [
    {
     "name": "stdout",
     "output_type": "stream",
     "text": [
      "Starting Training Loop...\n",
      "[1/500][1/24] | ℒ_D: 1.3882 | ℒ_G: 0.7157 | D(x): 0.4910 | D(x_o): 0.4902 | D(G(z)): 0.4907 / 0.4897\n",
      "[2/500][1/24] | ℒ_D: 1.3654 | ℒ_G: 0.7215 | D(x): 0.5010 | D(x_o): 0.4840 | D(G(z)): 0.4876 / 0.4869\n",
      "[3/500][1/24] | ℒ_D: 1.3552 | ℒ_G: 0.7254 | D(x): 0.5051 | D(x_o): 0.4773 | D(G(z)): 0.4856 / 0.4849\n",
      "[4/500][1/24] | ℒ_D: 1.3487 | ℒ_G: 0.7305 | D(x): 0.5056 | D(x_o): 0.4718 | D(G(z)): 0.4832 / 0.4825\n",
      "[5/500][1/24] | ℒ_D: 1.3449 | ℒ_G: 0.7362 | D(x): 0.5058 | D(x_o): 0.4697 | D(G(z)): 0.4804 / 0.4797\n",
      "[6/500][1/24] | ℒ_D: 1.3356 | ℒ_G: 0.7408 | D(x): 0.5089 | D(x_o): 0.4687 | D(G(z)): 0.4782 / 0.4774\n",
      "[7/500][1/24] | ℒ_D: 1.3377 | ℒ_G: 0.7466 | D(x): 0.5055 | D(x_o): 0.4620 | D(G(z)): 0.4756 / 0.4748\n",
      "[8/500][1/24] | ℒ_D: 1.3316 | ℒ_G: 0.7509 | D(x): 0.5070 | D(x_o): 0.4571 | D(G(z)): 0.4734 / 0.4726\n",
      "[9/500][1/24] | ℒ_D: 1.3284 | ℒ_G: 0.7570 | D(x): 0.5058 | D(x_o): 0.4598 | D(G(z)): 0.4705 / 0.4697\n",
      "[10/500][1/24] | ℒ_D: 1.3227 | ℒ_G: 0.7616 | D(x): 0.5071 | D(x_o): 0.4523 | D(G(z)): 0.4685 / 0.4676\n",
      "[11/500][1/24] | ℒ_D: 1.3169 | ℒ_G: 0.7672 | D(x): 0.5075 | D(x_o): 0.4511 | D(G(z)): 0.4658 / 0.4649\n",
      "[12/500][1/24] | ℒ_D: 1.3225 | ℒ_G: 0.7729 | D(x): 0.5019 | D(x_o): 0.4432 | D(G(z)): 0.4633 / 0.4625\n",
      "[13/500][1/24] | ℒ_D: 1.3169 | ℒ_G: 0.7784 | D(x): 0.5027 | D(x_o): 0.4416 | D(G(z)): 0.4607 / 0.4598\n",
      "[14/500][1/24] | ℒ_D: 1.3181 | ℒ_G: 0.7829 | D(x): 0.5005 | D(x_o): 0.4413 | D(G(z)): 0.4587 / 0.4577\n",
      "[15/500][1/24] | ℒ_D: 1.3191 | ℒ_G: 0.7881 | D(x): 0.4978 | D(x_o): 0.4394 | D(G(z)): 0.4564 / 0.4555\n",
      "[16/500][1/24] | ℒ_D: 1.3155 | ℒ_G: 0.7925 | D(x): 0.4976 | D(x_o): 0.4361 | D(G(z)): 0.4543 / 0.4533\n",
      "[17/500][1/24] | ℒ_D: 1.3152 | ℒ_G: 0.7973 | D(x): 0.4976 | D(x_o): 0.4332 | D(G(z)): 0.4523 / 0.4513\n",
      "[18/500][1/24] | ℒ_D: 1.3262 | ℒ_G: 0.8030 | D(x): 0.4876 | D(x_o): 0.4329 | D(G(z)): 0.4496 / 0.4486\n",
      "[19/500][1/24] | ℒ_D: 1.3269 | ℒ_G: 0.8076 | D(x): 0.4852 | D(x_o): 0.4335 | D(G(z)): 0.4477 / 0.4466\n",
      "[20/500][1/24] | ℒ_D: 1.3063 | ℒ_G: 0.8130 | D(x): 0.4956 | D(x_o): 0.4265 | D(G(z)): 0.4452 / 0.4441\n",
      "[21/500][1/24] | ℒ_D: 1.3102 | ℒ_G: 0.8191 | D(x): 0.4909 | D(x_o): 0.4209 | D(G(z)): 0.4425 / 0.4415\n",
      "[22/500][1/24] | ℒ_D: 1.3063 | ℒ_G: 0.8241 | D(x): 0.4917 | D(x_o): 0.4220 | D(G(z)): 0.4404 / 0.4394\n",
      "[23/500][1/24] | ℒ_D: 1.3237 | ℒ_G: 0.8280 | D(x): 0.4806 | D(x_o): 0.4209 | D(G(z)): 0.4384 / 0.4374\n",
      "[24/500][1/24] | ℒ_D: 1.2982 | ℒ_G: 0.8320 | D(x): 0.4923 | D(x_o): 0.4182 | D(G(z)): 0.4369 / 0.4358\n",
      "[25/500][1/24] | ℒ_D: 1.2989 | ℒ_G: 0.8382 | D(x): 0.4890 | D(x_o): 0.4144 | D(G(z)): 0.4342 / 0.4331\n",
      "[26/500][1/24] | ℒ_D: 1.3035 | ℒ_G: 0.8425 | D(x): 0.4863 | D(x_o): 0.4146 | D(G(z)): 0.4324 / 0.4313\n",
      "[27/500][1/24] | ℒ_D: 1.2917 | ℒ_G: 0.8479 | D(x): 0.4917 | D(x_o): 0.4107 | D(G(z)): 0.4301 / 0.4290\n",
      "[28/500][1/24] | ℒ_D: 1.3055 | ℒ_G: 0.8532 | D(x): 0.4805 | D(x_o): 0.4056 | D(G(z)): 0.4277 / 0.4266\n",
      "[29/500][1/24] | ℒ_D: 1.2984 | ℒ_G: 0.8576 | D(x): 0.4851 | D(x_o): 0.4073 | D(G(z)): 0.4260 / 0.4249\n",
      "[30/500][1/24] | ℒ_D: 1.2932 | ℒ_G: 0.8626 | D(x): 0.4862 | D(x_o): 0.4113 | D(G(z)): 0.4239 / 0.4228\n",
      "[31/500][1/24] | ℒ_D: 1.3012 | ℒ_G: 0.8667 | D(x): 0.4793 | D(x_o): 0.4017 | D(G(z)): 0.4223 / 0.4211\n",
      "[32/500][1/24] | ℒ_D: 1.2977 | ℒ_G: 0.8718 | D(x): 0.4809 | D(x_o): 0.3977 | D(G(z)): 0.4201 / 0.4189\n",
      "[33/500][1/24] | ℒ_D: 1.2864 | ℒ_G: 0.8773 | D(x): 0.4834 | D(x_o): 0.3938 | D(G(z)): 0.4178 / 0.4166\n",
      "[34/500][1/24] | ℒ_D: 1.3012 | ℒ_G: 0.8812 | D(x): 0.4756 | D(x_o): 0.3910 | D(G(z)): 0.4164 / 0.4152\n",
      "[35/500][1/24] | ℒ_D: 1.2780 | ℒ_G: 0.8857 | D(x): 0.4861 | D(x_o): 0.3934 | D(G(z)): 0.4144 / 0.4132\n",
      "[36/500][1/24] | ℒ_D: 1.2792 | ℒ_G: 0.8928 | D(x): 0.4834 | D(x_o): 0.3889 | D(G(z)): 0.4115 / 0.4103\n",
      "[37/500][1/24] | ℒ_D: 1.2933 | ℒ_G: 0.8963 | D(x): 0.4753 | D(x_o): 0.3950 | D(G(z)): 0.4100 / 0.4088\n",
      "[38/500][1/24] | ℒ_D: 1.2907 | ℒ_G: 0.9015 | D(x): 0.4728 | D(x_o): 0.3841 | D(G(z)): 0.4080 / 0.4068\n",
      "[39/500][1/24] | ℒ_D: 1.2924 | ℒ_G: 0.9028 | D(x): 0.4751 | D(x_o): 0.3832 | D(G(z)): 0.4074 / 0.4062\n",
      "[40/500][1/24] | ℒ_D: 1.2936 | ℒ_G: 0.9093 | D(x): 0.4702 | D(x_o): 0.3803 | D(G(z)): 0.4049 / 0.4037\n",
      "[41/500][1/24] | ℒ_D: 1.2991 | ℒ_G: 0.9118 | D(x): 0.4650 | D(x_o): 0.3764 | D(G(z)): 0.4039 / 0.4026\n",
      "[42/500][1/24] | ℒ_D: 1.2829 | ℒ_G: 0.9165 | D(x): 0.4731 | D(x_o): 0.3735 | D(G(z)): 0.4018 / 0.4006\n",
      "[43/500][1/24] | ℒ_D: 1.2733 | ℒ_G: 0.9169 | D(x): 0.4789 | D(x_o): 0.3762 | D(G(z)): 0.4016 / 0.4003\n",
      "[44/500][1/24] | ℒ_D: 1.2751 | ℒ_G: 0.9193 | D(x): 0.4757 | D(x_o): 0.3686 | D(G(z)): 0.4009 / 0.3995\n",
      "[45/500][1/24] | ℒ_D: 1.2874 | ℒ_G: 0.9259 | D(x): 0.4674 | D(x_o): 0.3692 | D(G(z)): 0.3982 / 0.3968\n",
      "[46/500][1/24] | ℒ_D: 1.2817 | ℒ_G: 0.9335 | D(x): 0.4697 | D(x_o): 0.3705 | D(G(z)): 0.3952 / 0.3939\n",
      "[47/500][1/24] | ℒ_D: 1.2696 | ℒ_G: 0.9372 | D(x): 0.4742 | D(x_o): 0.3670 | D(G(z)): 0.3936 / 0.3923\n",
      "[48/500][1/24] | ℒ_D: 1.2715 | ℒ_G: 0.9408 | D(x): 0.4736 | D(x_o): 0.3643 | D(G(z)): 0.3924 / 0.3909\n",
      "[49/500][1/24] | ℒ_D: 1.2625 | ℒ_G: 0.9482 | D(x): 0.4760 | D(x_o): 0.3622 | D(G(z)): 0.3895 / 0.3881\n",
      "[50/500][1/24] | ℒ_D: 1.2689 | ℒ_G: 0.9533 | D(x): 0.4718 | D(x_o): 0.3643 | D(G(z)): 0.3876 / 0.3861\n",
      "[51/500][1/24] | ℒ_D: 1.2762 | ℒ_G: 0.9581 | D(x): 0.4654 | D(x_o): 0.3582 | D(G(z)): 0.3855 / 0.3842\n",
      "[52/500][1/24] | ℒ_D: 1.2784 | ℒ_G: 0.9609 | D(x): 0.4622 | D(x_o): 0.3609 | D(G(z)): 0.3847 / 0.3832\n",
      "[53/500][1/24] | ℒ_D: 1.2869 | ℒ_G: 0.9649 | D(x): 0.4573 | D(x_o): 0.3530 | D(G(z)): 0.3830 / 0.3816\n",
      "[54/500][1/24] | ℒ_D: 1.2661 | ℒ_G: 0.9706 | D(x): 0.4690 | D(x_o): 0.3515 | D(G(z)): 0.3809 / 0.3795\n",
      "[55/500][1/24] | ℒ_D: 1.2855 | ℒ_G: 0.9745 | D(x): 0.4565 | D(x_o): 0.3493 | D(G(z)): 0.3797 / 0.3782\n",
      "[56/500][1/24] | ℒ_D: 1.2695 | ℒ_G: 0.9788 | D(x): 0.4637 | D(x_o): 0.3465 | D(G(z)): 0.3781 / 0.3766\n",
      "[57/500][1/24] | ℒ_D: 1.2779 | ℒ_G: 0.9857 | D(x): 0.4590 | D(x_o): 0.3485 | D(G(z)): 0.3756 / 0.3740\n",
      "[58/500][1/24] | ℒ_D: 1.2712 | ℒ_G: 0.9862 | D(x): 0.4613 | D(x_o): 0.3446 | D(G(z)): 0.3754 / 0.3737\n",
      "[59/500][1/24] | ℒ_D: 1.3323 | ℒ_G: 0.9912 | D(x): 0.4299 | D(x_o): 0.3426 | D(G(z)): 0.3737 / 0.3720\n",
      "[60/500][1/24] | ℒ_D: 1.2655 | ℒ_G: 0.9968 | D(x): 0.4626 | D(x_o): 0.3421 | D(G(z)): 0.3717 / 0.3699\n",
      "[61/500][1/24] | ℒ_D: 1.2761 | ℒ_G: 0.9958 | D(x): 0.4572 | D(x_o): 0.3454 | D(G(z)): 0.3719 / 0.3701\n",
      "[62/500][1/24] | ℒ_D: 1.2435 | ℒ_G: 1.0024 | D(x): 0.4708 | D(x_o): 0.3395 | D(G(z)): 0.3697 / 0.3676\n",
      "[63/500][1/24] | ℒ_D: 1.2616 | ℒ_G: 1.0037 | D(x): 0.4621 | D(x_o): 0.3389 | D(G(z)): 0.3694 / 0.3675\n",
      "[64/500][1/24] | ℒ_D: 1.2503 | ℒ_G: 1.0087 | D(x): 0.4669 | D(x_o): 0.3407 | D(G(z)): 0.3672 / 0.3654\n",
      "[65/500][1/24] | ℒ_D: 1.2373 | ℒ_G: 1.0139 | D(x): 0.4694 | D(x_o): 0.3366 | D(G(z)): 0.3656 / 0.3637\n",
      "[66/500][1/24] | ℒ_D: 1.2551 | ℒ_G: 1.0129 | D(x): 0.4644 | D(x_o): 0.3390 | D(G(z)): 0.3663 / 0.3643\n",
      "[67/500][1/24] | ℒ_D: 1.2492 | ℒ_G: 1.0204 | D(x): 0.4635 | D(x_o): 0.3277 | D(G(z)): 0.3633 / 0.3615\n",
      "[68/500][1/24] | ℒ_D: 1.2478 | ℒ_G: 1.0258 | D(x): 0.4621 | D(x_o): 0.3297 | D(G(z)): 0.3615 / 0.3596\n",
      "[69/500][1/24] | ℒ_D: 1.2546 | ℒ_G: 1.0268 | D(x): 0.4607 | D(x_o): 0.3238 | D(G(z)): 0.3609 / 0.3591\n",
      "[70/500][1/24] | ℒ_D: 1.2414 | ℒ_G: 1.0275 | D(x): 0.4670 | D(x_o): 0.3250 | D(G(z)): 0.3610 / 0.3590\n",
      "[71/500][1/24] | ℒ_D: 1.2485 | ℒ_G: 1.0340 | D(x): 0.4624 | D(x_o): 0.3246 | D(G(z)): 0.3584 / 0.3565\n",
      "[72/500][1/24] | ℒ_D: 1.2458 | ℒ_G: 1.0371 | D(x): 0.4631 | D(x_o): 0.3224 | D(G(z)): 0.3572 / 0.3554\n",
      "[73/500][1/24] | ℒ_D: 1.2251 | ℒ_G: 1.0378 | D(x): 0.4706 | D(x_o): 0.3208 | D(G(z)): 0.3570 / 0.3552\n",
      "[74/500][1/24] | ℒ_D: 1.2457 | ℒ_G: 1.0480 | D(x): 0.4604 | D(x_o): 0.3147 | D(G(z)): 0.3531 / 0.3514\n",
      "[75/500][1/24] | ℒ_D: 1.2473 | ℒ_G: 1.0443 | D(x): 0.4607 | D(x_o): 0.3200 | D(G(z)): 0.3546 / 0.3528\n",
      "[76/500][1/24] | ℒ_D: 1.2435 | ℒ_G: 1.0486 | D(x): 0.4607 | D(x_o): 0.3201 | D(G(z)): 0.3536 / 0.3517\n",
      "[77/500][1/24] | ℒ_D: 1.2504 | ℒ_G: 1.0547 | D(x): 0.4551 | D(x_o): 0.3117 | D(G(z)): 0.3515 / 0.3496\n",
      "[78/500][1/24] | ℒ_D: 1.2498 | ℒ_G: 1.0563 | D(x): 0.4571 | D(x_o): 0.3186 | D(G(z)): 0.3507 / 0.3489\n",
      "[79/500][1/24] | ℒ_D: 1.2265 | ℒ_G: 1.0553 | D(x): 0.4671 | D(x_o): 0.3140 | D(G(z)): 0.3508 / 0.3489\n",
      "[80/500][1/24] | ℒ_D: 1.2606 | ℒ_G: 1.0637 | D(x): 0.4473 | D(x_o): 0.3087 | D(G(z)): 0.3481 / 0.3462\n",
      "[81/500][1/24] | ℒ_D: 1.2044 | ℒ_G: 1.0631 | D(x): 0.4775 | D(x_o): 0.3080 | D(G(z)): 0.3485 / 0.3466\n",
      "[82/500][1/24] | ℒ_D: 1.2159 | ℒ_G: 1.0688 | D(x): 0.4698 | D(x_o): 0.3066 | D(G(z)): 0.3465 / 0.3445\n",
      "[83/500][1/24] | ℒ_D: 1.2550 | ℒ_G: 1.0713 | D(x): 0.4529 | D(x_o): 0.3078 | D(G(z)): 0.3457 / 0.3438\n",
      "[84/500][1/24] | ℒ_D: 1.2284 | ℒ_G: 1.0682 | D(x): 0.4653 | D(x_o): 0.3078 | D(G(z)): 0.3469 / 0.3451\n",
      "[85/500][1/24] | ℒ_D: 1.2220 | ℒ_G: 1.0802 | D(x): 0.4645 | D(x_o): 0.3062 | D(G(z)): 0.3425 / 0.3407\n",
      "[86/500][1/24] | ℒ_D: 1.2231 | ℒ_G: 1.0813 | D(x): 0.4619 | D(x_o): 0.3038 | D(G(z)): 0.3424 / 0.3404\n",
      "[87/500][1/24] | ℒ_D: 1.2274 | ℒ_G: 1.0798 | D(x): 0.4620 | D(x_o): 0.3059 | D(G(z)): 0.3432 / 0.3412\n",
      "[88/500][1/24] | ℒ_D: 1.1866 | ℒ_G: 1.0853 | D(x): 0.4807 | D(x_o): 0.2992 | D(G(z)): 0.3412 / 0.3391\n",
      "[89/500][1/24] | ℒ_D: 1.2014 | ℒ_G: 1.0869 | D(x): 0.4755 | D(x_o): 0.2991 | D(G(z)): 0.3411 / 0.3389\n",
      "[90/500][1/24] | ℒ_D: 1.2119 | ℒ_G: 1.0912 | D(x): 0.4689 | D(x_o): 0.2988 | D(G(z)): 0.3389 / 0.3370\n",
      "[91/500][1/24] | ℒ_D: 1.2099 | ℒ_G: 1.0948 | D(x): 0.4705 | D(x_o): 0.3011 | D(G(z)): 0.3382 / 0.3361\n",
      "[92/500][1/24] | ℒ_D: 1.2173 | ℒ_G: 1.0912 | D(x): 0.4681 | D(x_o): 0.2959 | D(G(z)): 0.3395 / 0.3373\n",
      "[93/500][1/24] | ℒ_D: 1.2179 | ℒ_G: 1.0958 | D(x): 0.4662 | D(x_o): 0.2916 | D(G(z)): 0.3376 / 0.3355\n",
      "[94/500][1/24] | ℒ_D: 1.1800 | ℒ_G: 1.1005 | D(x): 0.4831 | D(x_o): 0.3015 | D(G(z)): 0.3364 / 0.3342\n",
      "[95/500][1/24] | ℒ_D: 1.1992 | ℒ_G: 1.1042 | D(x): 0.4748 | D(x_o): 0.2897 | D(G(z)): 0.3349 / 0.3328\n",
      "[96/500][1/24] | ℒ_D: 1.1683 | ℒ_G: 1.1069 | D(x): 0.4866 | D(x_o): 0.2978 | D(G(z)): 0.3340 / 0.3319\n",
      "[97/500][1/24] | ℒ_D: 1.2031 | ℒ_G: 1.1064 | D(x): 0.4686 | D(x_o): 0.2882 | D(G(z)): 0.3351 / 0.3325\n",
      "[98/500][1/24] | ℒ_D: 1.1797 | ℒ_G: 1.1138 | D(x): 0.4819 | D(x_o): 0.2869 | D(G(z)): 0.3320 / 0.3299\n",
      "[99/500][1/24] | ℒ_D: 1.1870 | ℒ_G: 1.1117 | D(x): 0.4811 | D(x_o): 0.2838 | D(G(z)): 0.3323 / 0.3302\n",
      "[100/500][1/24] | ℒ_D: 1.1966 | ℒ_G: 1.1123 | D(x): 0.4709 | D(x_o): 0.2847 | D(G(z)): 0.3325 / 0.3303\n",
      "[101/500][1/24] | ℒ_D: 1.2153 | ℒ_G: 1.1193 | D(x): 0.4589 | D(x_o): 0.2808 | D(G(z)): 0.3303 / 0.3281\n",
      "[102/500][1/24] | ℒ_D: 1.1608 | ℒ_G: 1.1196 | D(x): 0.4905 | D(x_o): 0.2828 | D(G(z)): 0.3300 / 0.3279\n",
      "[103/500][1/24] | ℒ_D: 1.1794 | ℒ_G: 1.1238 | D(x): 0.4822 | D(x_o): 0.2888 | D(G(z)): 0.3286 / 0.3264\n",
      "[104/500][1/24] | ℒ_D: 1.1888 | ℒ_G: 1.1290 | D(x): 0.4752 | D(x_o): 0.2813 | D(G(z)): 0.3269 / 0.3247\n",
      "[105/500][1/24] | ℒ_D: 1.1796 | ℒ_G: 1.1282 | D(x): 0.4770 | D(x_o): 0.2754 | D(G(z)): 0.3271 / 0.3250\n",
      "[106/500][1/24] | ℒ_D: 1.1800 | ℒ_G: 1.1315 | D(x): 0.4805 | D(x_o): 0.2843 | D(G(z)): 0.3260 / 0.3238\n",
      "[107/500][1/24] | ℒ_D: 1.1512 | ℒ_G: 1.1272 | D(x): 0.4945 | D(x_o): 0.2853 | D(G(z)): 0.3280 / 0.3257\n",
      "[108/500][1/24] | ℒ_D: 1.1868 | ℒ_G: 1.1314 | D(x): 0.4781 | D(x_o): 0.2742 | D(G(z)): 0.3262 / 0.3240\n",
      "[109/500][1/24] | ℒ_D: 1.2187 | ℒ_G: 1.1371 | D(x): 0.4544 | D(x_o): 0.2832 | D(G(z)): 0.3245 / 0.3223\n",
      "[110/500][1/24] | ℒ_D: 1.1770 | ℒ_G: 1.1432 | D(x): 0.4759 | D(x_o): 0.2714 | D(G(z)): 0.3223 / 0.3203\n",
      "[111/500][1/24] | ℒ_D: 1.2193 | ℒ_G: 1.1410 | D(x): 0.4581 | D(x_o): 0.2725 | D(G(z)): 0.3231 / 0.3211\n",
      "[112/500][1/24] | ℒ_D: 1.1686 | ℒ_G: 1.1455 | D(x): 0.4822 | D(x_o): 0.2724 | D(G(z)): 0.3218 / 0.3197\n",
      "[113/500][1/24] | ℒ_D: 1.1679 | ℒ_G: 1.1457 | D(x): 0.4854 | D(x_o): 0.2931 | D(G(z)): 0.3219 / 0.3198\n",
      "[114/500][1/24] | ℒ_D: 1.1662 | ℒ_G: 1.1448 | D(x): 0.4850 | D(x_o): 0.2751 | D(G(z)): 0.3219 / 0.3197\n",
      "[115/500][1/24] | ℒ_D: 1.1594 | ℒ_G: 1.1516 | D(x): 0.4850 | D(x_o): 0.2697 | D(G(z)): 0.3199 / 0.3177\n",
      "[116/500][1/24] | ℒ_D: 1.1710 | ℒ_G: 1.1525 | D(x): 0.4828 | D(x_o): 0.2678 | D(G(z)): 0.3197 / 0.3176\n",
      "[117/500][1/24] | ℒ_D: 1.1697 | ℒ_G: 1.1558 | D(x): 0.4757 | D(x_o): 0.2576 | D(G(z)): 0.3186 / 0.3165\n",
      "[118/500][1/24] | ℒ_D: 1.1272 | ℒ_G: 1.1568 | D(x): 0.5030 | D(x_o): 0.2670 | D(G(z)): 0.3185 / 0.3163\n",
      "[119/500][1/24] | ℒ_D: 1.1698 | ℒ_G: 1.1608 | D(x): 0.4804 | D(x_o): 0.2699 | D(G(z)): 0.3173 / 0.3152\n",
      "[120/500][1/24] | ℒ_D: 1.1178 | ℒ_G: 1.1637 | D(x): 0.5042 | D(x_o): 0.2627 | D(G(z)): 0.3161 / 0.3139\n",
      "[121/500][1/24] | ℒ_D: 1.1426 | ℒ_G: 1.1672 | D(x): 0.4917 | D(x_o): 0.2645 | D(G(z)): 0.3151 / 0.3130\n",
      "[122/500][1/24] | ℒ_D: 1.1684 | ℒ_G: 1.1638 | D(x): 0.4808 | D(x_o): 0.2583 | D(G(z)): 0.3159 / 0.3139\n",
      "[123/500][1/24] | ℒ_D: 1.1244 | ℒ_G: 1.1732 | D(x): 0.5003 | D(x_o): 0.2594 | D(G(z)): 0.3137 / 0.3115\n",
      "[124/500][1/24] | ℒ_D: 1.1349 | ℒ_G: 1.1683 | D(x): 0.4968 | D(x_o): 0.2680 | D(G(z)): 0.3147 / 0.3126\n",
      "[125/500][1/24] | ℒ_D: 1.1256 | ℒ_G: 1.1785 | D(x): 0.4960 | D(x_o): 0.2605 | D(G(z)): 0.3119 / 0.3098\n",
      "[126/500][1/24] | ℒ_D: 1.1213 | ℒ_G: 1.1833 | D(x): 0.5008 | D(x_o): 0.2545 | D(G(z)): 0.3100 / 0.3081\n",
      "[127/500][1/24] | ℒ_D: 1.1164 | ℒ_G: 1.1787 | D(x): 0.5061 | D(x_o): 0.2600 | D(G(z)): 0.3115 / 0.3096\n",
      "[128/500][1/24] | ℒ_D: 1.1194 | ℒ_G: 1.1817 | D(x): 0.5003 | D(x_o): 0.2560 | D(G(z)): 0.3105 / 0.3084\n",
      "[129/500][1/24] | ℒ_D: 1.1433 | ℒ_G: 1.1832 | D(x): 0.4863 | D(x_o): 0.2490 | D(G(z)): 0.3103 / 0.3081\n",
      "[130/500][1/24] | ℒ_D: 1.1184 | ℒ_G: 1.1885 | D(x): 0.5015 | D(x_o): 0.2500 | D(G(z)): 0.3089 / 0.3068\n",
      "[131/500][1/24] | ℒ_D: 1.1232 | ℒ_G: 1.1845 | D(x): 0.5001 | D(x_o): 0.2502 | D(G(z)): 0.3098 / 0.3077\n",
      "[132/500][1/24] | ℒ_D: 1.1233 | ℒ_G: 1.1880 | D(x): 0.4971 | D(x_o): 0.2398 | D(G(z)): 0.3086 / 0.3067\n",
      "[133/500][1/24] | ℒ_D: 1.1108 | ℒ_G: 1.1925 | D(x): 0.5046 | D(x_o): 0.2531 | D(G(z)): 0.3073 / 0.3053\n",
      "[134/500][1/24] | ℒ_D: 1.0986 | ℒ_G: 1.1940 | D(x): 0.5134 | D(x_o): 0.2551 | D(G(z)): 0.3073 / 0.3054\n",
      "[135/500][1/24] | ℒ_D: 1.0931 | ℒ_G: 1.1946 | D(x): 0.5141 | D(x_o): 0.2542 | D(G(z)): 0.3067 / 0.3046\n",
      "[136/500][1/24] | ℒ_D: 1.0773 | ℒ_G: 1.1971 | D(x): 0.5265 | D(x_o): 0.2448 | D(G(z)): 0.3061 / 0.3037\n",
      "[137/500][1/24] | ℒ_D: 1.1341 | ℒ_G: 1.1535 | D(x): 0.5004 | D(x_o): 0.2404 | D(G(z)): 0.3217 / 0.3184\n",
      "[138/500][1/24] | ℒ_D: 1.1102 | ℒ_G: 1.1774 | D(x): 0.5106 | D(x_o): 0.2483 | D(G(z)): 0.3133 / 0.3111\n",
      "[139/500][1/24] | ℒ_D: 1.1134 | ℒ_G: 1.1939 | D(x): 0.5068 | D(x_o): 0.2468 | D(G(z)): 0.3081 / 0.3057\n",
      "[140/500][1/24] | ℒ_D: 1.1151 | ℒ_G: 1.2052 | D(x): 0.4998 | D(x_o): 0.2373 | D(G(z)): 0.3038 / 0.3019\n",
      "[141/500][1/24] | ℒ_D: 1.1305 | ℒ_G: 1.1993 | D(x): 0.4946 | D(x_o): 0.2485 | D(G(z)): 0.3059 / 0.3036\n",
      "[142/500][1/24] | ℒ_D: 1.1293 | ℒ_G: 1.2086 | D(x): 0.4924 | D(x_o): 0.2395 | D(G(z)): 0.3026 / 0.3006\n",
      "[143/500][1/24] | ℒ_D: 1.0881 | ℒ_G: 1.2185 | D(x): 0.5149 | D(x_o): 0.2433 | D(G(z)): 0.3003 / 0.2983\n",
      "[144/500][1/24] | ℒ_D: 1.1043 | ℒ_G: 1.2165 | D(x): 0.5038 | D(x_o): 0.2436 | D(G(z)): 0.3009 / 0.2988\n",
      "[145/500][1/24] | ℒ_D: 1.0861 | ℒ_G: 1.2175 | D(x): 0.5155 | D(x_o): 0.2403 | D(G(z)): 0.2997 / 0.2978\n",
      "[146/500][1/24] | ℒ_D: 1.1169 | ℒ_G: 1.2196 | D(x): 0.4953 | D(x_o): 0.2395 | D(G(z)): 0.2994 / 0.2975\n",
      "[147/500][1/24] | ℒ_D: 1.0845 | ℒ_G: 1.2291 | D(x): 0.5123 | D(x_o): 0.2444 | D(G(z)): 0.2972 / 0.2951\n",
      "[148/500][1/24] | ℒ_D: 1.1074 | ℒ_G: 1.2282 | D(x): 0.5033 | D(x_o): 0.2355 | D(G(z)): 0.2968 / 0.2950\n",
      "[149/500][1/24] | ℒ_D: 1.1045 | ℒ_G: 1.2282 | D(x): 0.5023 | D(x_o): 0.2330 | D(G(z)): 0.2971 / 0.2951\n",
      "[150/500][1/24] | ℒ_D: 1.0792 | ℒ_G: 1.2253 | D(x): 0.5163 | D(x_o): 0.2256 | D(G(z)): 0.2977 / 0.2957\n",
      "[151/500][1/24] | ℒ_D: 1.1238 | ℒ_G: 1.2271 | D(x): 0.4958 | D(x_o): 0.2335 | D(G(z)): 0.2970 / 0.2954\n",
      "[152/500][1/24] | ℒ_D: 1.0462 | ℒ_G: 1.2352 | D(x): 0.5341 | D(x_o): 0.2284 | D(G(z)): 0.2946 / 0.2928\n",
      "[153/500][1/24] | ℒ_D: 1.0597 | ℒ_G: 1.2383 | D(x): 0.5243 | D(x_o): 0.2355 | D(G(z)): 0.2941 / 0.2922\n",
      "[154/500][1/24] | ℒ_D: 1.0732 | ℒ_G: 1.2334 | D(x): 0.5188 | D(x_o): 0.2290 | D(G(z)): 0.2956 / 0.2936\n",
      "[155/500][1/24] | ℒ_D: 1.0999 | ℒ_G: 1.2338 | D(x): 0.5051 | D(x_o): 0.2398 | D(G(z)): 0.2960 / 0.2939\n",
      "[156/500][1/24] | ℒ_D: 1.0743 | ℒ_G: 1.2365 | D(x): 0.5173 | D(x_o): 0.2265 | D(G(z)): 0.2944 / 0.2926\n",
      "[157/500][1/24] | ℒ_D: 1.0731 | ℒ_G: 1.2400 | D(x): 0.5204 | D(x_o): 0.2310 | D(G(z)): 0.2936 / 0.2918\n",
      "[158/500][1/24] | ℒ_D: 1.0714 | ℒ_G: 1.2483 | D(x): 0.5232 | D(x_o): 0.2350 | D(G(z)): 0.2918 / 0.2899\n",
      "[159/500][1/24] | ℒ_D: 1.0582 | ℒ_G: 1.2427 | D(x): 0.5296 | D(x_o): 0.2224 | D(G(z)): 0.2929 / 0.2910\n",
      "[160/500][1/24] | ℒ_D: 1.0791 | ℒ_G: 1.2486 | D(x): 0.5137 | D(x_o): 0.2488 | D(G(z)): 0.2909 / 0.2890\n",
      "[161/500][1/24] | ℒ_D: 1.0695 | ℒ_G: 1.2586 | D(x): 0.5197 | D(x_o): 0.2241 | D(G(z)): 0.2888 / 0.2870\n",
      "[162/500][1/24] | ℒ_D: 1.1359 | ℒ_G: 1.2456 | D(x): 0.4802 | D(x_o): 0.2202 | D(G(z)): 0.2917 / 0.2900\n",
      "[163/500][1/24] | ℒ_D: 1.0868 | ℒ_G: 1.2493 | D(x): 0.5140 | D(x_o): 0.2246 | D(G(z)): 0.2915 / 0.2895\n",
      "[164/500][1/24] | ℒ_D: 1.0758 | ℒ_G: 1.2455 | D(x): 0.5164 | D(x_o): 0.2185 | D(G(z)): 0.2920 / 0.2900\n",
      "[165/500][1/24] | ℒ_D: 1.0448 | ℒ_G: 1.2604 | D(x): 0.5334 | D(x_o): 0.2218 | D(G(z)): 0.2877 / 0.2859\n",
      "[166/500][1/24] | ℒ_D: 1.0239 | ℒ_G: 1.2586 | D(x): 0.5448 | D(x_o): 0.2179 | D(G(z)): 0.2880 / 0.2862\n",
      "[167/500][1/24] | ℒ_D: 1.0720 | ℒ_G: 1.2683 | D(x): 0.5225 | D(x_o): 0.2148 | D(G(z)): 0.2858 / 0.2840\n",
      "[168/500][1/24] | ℒ_D: 1.0292 | ℒ_G: 1.2711 | D(x): 0.5455 | D(x_o): 0.2246 | D(G(z)): 0.2850 / 0.2833\n",
      "[169/500][1/24] | ℒ_D: 1.0571 | ℒ_G: 1.2591 | D(x): 0.5296 | D(x_o): 0.2297 | D(G(z)): 0.2877 / 0.2859\n",
      "[170/500][1/24] | ℒ_D: 1.0418 | ℒ_G: 1.2656 | D(x): 0.5388 | D(x_o): 0.2243 | D(G(z)): 0.2860 / 0.2843\n",
      "[171/500][1/24] | ℒ_D: 1.0266 | ℒ_G: 1.2716 | D(x): 0.5460 | D(x_o): 0.2108 | D(G(z)): 0.2847 / 0.2830\n",
      "[172/500][1/24] | ℒ_D: 1.0463 | ℒ_G: 1.2833 | D(x): 0.5280 | D(x_o): 0.2062 | D(G(z)): 0.2814 / 0.2796\n",
      "[173/500][1/24] | ℒ_D: 1.0080 | ℒ_G: 1.2789 | D(x): 0.5537 | D(x_o): 0.2119 | D(G(z)): 0.2826 / 0.2807\n",
      "[174/500][1/24] | ℒ_D: 1.0441 | ℒ_G: 1.2773 | D(x): 0.5352 | D(x_o): 0.2210 | D(G(z)): 0.2830 / 0.2812\n",
      "[175/500][1/24] | ℒ_D: 1.0293 | ℒ_G: 1.2708 | D(x): 0.5373 | D(x_o): 0.2196 | D(G(z)): 0.2849 / 0.2828\n",
      "[176/500][1/24] | ℒ_D: 1.0387 | ℒ_G: 1.2789 | D(x): 0.5296 | D(x_o): 0.2071 | D(G(z)): 0.2832 / 0.2812\n",
      "[177/500][1/24] | ℒ_D: 1.0303 | ℒ_G: 1.2799 | D(x): 0.5370 | D(x_o): 0.2074 | D(G(z)): 0.2822 / 0.2804\n",
      "[178/500][1/24] | ℒ_D: 1.0601 | ℒ_G: 1.2796 | D(x): 0.5190 | D(x_o): 0.2043 | D(G(z)): 0.2828 / 0.2806\n",
      "[179/500][1/24] | ℒ_D: 1.0207 | ℒ_G: 1.2806 | D(x): 0.5431 | D(x_o): 0.2085 | D(G(z)): 0.2832 / 0.2811\n",
      "[180/500][1/24] | ℒ_D: 1.0132 | ℒ_G: 1.2819 | D(x): 0.5515 | D(x_o): 0.2053 | D(G(z)): 0.2829 / 0.2809\n",
      "[181/500][1/24] | ℒ_D: 1.0312 | ℒ_G: 1.2904 | D(x): 0.5407 | D(x_o): 0.2076 | D(G(z)): 0.2805 / 0.2784\n",
      "[182/500][1/24] | ℒ_D: 1.0506 | ℒ_G: 1.2928 | D(x): 0.5262 | D(x_o): 0.2072 | D(G(z)): 0.2786 / 0.2765\n",
      "[183/500][1/24] | ℒ_D: 1.0005 | ℒ_G: 1.2994 | D(x): 0.5538 | D(x_o): 0.2052 | D(G(z)): 0.2780 / 0.2759\n",
      "[184/500][1/24] | ℒ_D: 1.0039 | ℒ_G: 1.2939 | D(x): 0.5514 | D(x_o): 0.2221 | D(G(z)): 0.2791 / 0.2768\n",
      "[185/500][1/24] | ℒ_D: 1.0112 | ℒ_G: 1.2880 | D(x): 0.5530 | D(x_o): 0.2065 | D(G(z)): 0.2813 / 0.2789\n",
      "[186/500][1/24] | ℒ_D: 1.0212 | ℒ_G: 1.2874 | D(x): 0.5442 | D(x_o): 0.2141 | D(G(z)): 0.2813 / 0.2790\n",
      "[187/500][1/24] | ℒ_D: 1.0579 | ℒ_G: 1.3106 | D(x): 0.5194 | D(x_o): 0.1996 | D(G(z)): 0.2747 / 0.2726\n",
      "[188/500][1/24] | ℒ_D: 1.0213 | ℒ_G: 1.3140 | D(x): 0.5370 | D(x_o): 0.2042 | D(G(z)): 0.2732 / 0.2711\n",
      "[189/500][1/24] | ℒ_D: 1.0144 | ℒ_G: 1.2978 | D(x): 0.5513 | D(x_o): 0.1987 | D(G(z)): 0.2772 / 0.2753\n",
      "[190/500][1/24] | ℒ_D: 1.0088 | ℒ_G: 1.3139 | D(x): 0.5476 | D(x_o): 0.2029 | D(G(z)): 0.2735 / 0.2714\n",
      "[191/500][1/24] | ℒ_D: 0.9910 | ℒ_G: 1.3110 | D(x): 0.5556 | D(x_o): 0.1926 | D(G(z)): 0.2746 / 0.2724\n",
      "[192/500][1/24] | ℒ_D: 1.0062 | ℒ_G: 1.3119 | D(x): 0.5454 | D(x_o): 0.1939 | D(G(z)): 0.2737 / 0.2717\n",
      "[193/500][1/24] | ℒ_D: 1.0351 | ℒ_G: 1.3166 | D(x): 0.5380 | D(x_o): 0.1963 | D(G(z)): 0.2730 / 0.2712\n",
      "[194/500][1/24] | ℒ_D: 0.9719 | ℒ_G: 1.3234 | D(x): 0.5670 | D(x_o): 0.1955 | D(G(z)): 0.2715 / 0.2693\n",
      "[195/500][1/24] | ℒ_D: 0.9833 | ℒ_G: 1.3186 | D(x): 0.5660 | D(x_o): 0.1986 | D(G(z)): 0.2727 / 0.2704\n",
      "[196/500][1/24] | ℒ_D: 1.0016 | ℒ_G: 1.3177 | D(x): 0.5539 | D(x_o): 0.1931 | D(G(z)): 0.2733 / 0.2712\n",
      "[197/500][1/24] | ℒ_D: 0.9959 | ℒ_G: 1.3234 | D(x): 0.5603 | D(x_o): 0.2057 | D(G(z)): 0.2715 / 0.2695\n",
      "[198/500][1/24] | ℒ_D: 0.9862 | ℒ_G: 1.3256 | D(x): 0.5611 | D(x_o): 0.1973 | D(G(z)): 0.2704 / 0.2683\n",
      "[199/500][1/24] | ℒ_D: 0.9679 | ℒ_G: 1.3325 | D(x): 0.5673 | D(x_o): 0.1880 | D(G(z)): 0.2686 / 0.2664\n",
      "[200/500][1/24] | ℒ_D: 0.9565 | ℒ_G: 1.3378 | D(x): 0.5787 | D(x_o): 0.1924 | D(G(z)): 0.2679 / 0.2656\n",
      "[201/500][1/24] | ℒ_D: 1.0046 | ℒ_G: 1.3278 | D(x): 0.5477 | D(x_o): 0.2011 | D(G(z)): 0.2707 / 0.2685\n",
      "[202/500][1/24] | ℒ_D: 0.9906 | ℒ_G: 1.3387 | D(x): 0.5501 | D(x_o): 0.1893 | D(G(z)): 0.2674 / 0.2652\n",
      "[203/500][1/24] | ℒ_D: 1.0373 | ℒ_G: 1.3289 | D(x): 0.5347 | D(x_o): 0.1926 | D(G(z)): 0.2696 / 0.2673\n",
      "[204/500][1/24] | ℒ_D: 0.9776 | ℒ_G: 1.3359 | D(x): 0.5662 | D(x_o): 0.1843 | D(G(z)): 0.2684 / 0.2662\n",
      "[205/500][1/24] | ℒ_D: 1.0061 | ℒ_G: 1.3388 | D(x): 0.5486 | D(x_o): 0.1818 | D(G(z)): 0.2672 / 0.2651\n",
      "[206/500][1/24] | ℒ_D: 0.9477 | ℒ_G: 1.3485 | D(x): 0.5796 | D(x_o): 0.1922 | D(G(z)): 0.2643 / 0.2623\n",
      "[207/500][1/24] | ℒ_D: 0.9619 | ℒ_G: 1.3413 | D(x): 0.5690 | D(x_o): 0.2008 | D(G(z)): 0.2669 / 0.2647\n",
      "[208/500][1/24] | ℒ_D: 0.9954 | ℒ_G: 1.3533 | D(x): 0.5477 | D(x_o): 0.1974 | D(G(z)): 0.2631 / 0.2611\n",
      "[209/500][1/24] | ℒ_D: 0.9563 | ℒ_G: 1.3458 | D(x): 0.5751 | D(x_o): 0.1840 | D(G(z)): 0.2662 / 0.2640\n",
      "[210/500][1/24] | ℒ_D: 0.9318 | ℒ_G: 1.3507 | D(x): 0.5908 | D(x_o): 0.1804 | D(G(z)): 0.2650 / 0.2624\n",
      "[211/500][1/24] | ℒ_D: 0.9575 | ℒ_G: 1.3468 | D(x): 0.5747 | D(x_o): 0.1850 | D(G(z)): 0.2655 / 0.2632\n",
      "[212/500][1/24] | ℒ_D: 0.9260 | ℒ_G: 1.3561 | D(x): 0.5958 | D(x_o): 0.1820 | D(G(z)): 0.2632 / 0.2610\n",
      "[213/500][1/24] | ℒ_D: 0.9401 | ℒ_G: 1.3631 | D(x): 0.5780 | D(x_o): 0.1829 | D(G(z)): 0.2611 / 0.2589\n",
      "[214/500][1/24] | ℒ_D: 0.9356 | ℒ_G: 1.3597 | D(x): 0.5881 | D(x_o): 0.1892 | D(G(z)): 0.2623 / 0.2601\n",
      "[215/500][1/24] | ℒ_D: 0.9830 | ℒ_G: 1.3706 | D(x): 0.5548 | D(x_o): 0.1800 | D(G(z)): 0.2600 / 0.2578\n",
      "[216/500][1/24] | ℒ_D: 0.9590 | ℒ_G: 1.3603 | D(x): 0.5758 | D(x_o): 0.1823 | D(G(z)): 0.2626 / 0.2604\n",
      "[217/500][1/24] | ℒ_D: 0.9939 | ℒ_G: 1.3655 | D(x): 0.5558 | D(x_o): 0.1891 | D(G(z)): 0.2597 / 0.2581\n",
      "[218/500][1/24] | ℒ_D: 0.9389 | ℒ_G: 1.3654 | D(x): 0.5829 | D(x_o): 0.1844 | D(G(z)): 0.2608 / 0.2586\n",
      "[219/500][1/24] | ℒ_D: 0.9250 | ℒ_G: 1.3670 | D(x): 0.5917 | D(x_o): 0.1699 | D(G(z)): 0.2595 / 0.2575\n",
      "[220/500][1/24] | ℒ_D: 0.9305 | ℒ_G: 1.3686 | D(x): 0.5845 | D(x_o): 0.1826 | D(G(z)): 0.2592 / 0.2571\n",
      "[221/500][1/24] | ℒ_D: 0.9432 | ℒ_G: 1.3780 | D(x): 0.5792 | D(x_o): 0.1735 | D(G(z)): 0.2571 / 0.2550\n",
      "[222/500][1/24] | ℒ_D: 0.9154 | ℒ_G: 1.3749 | D(x): 0.5967 | D(x_o): 0.1801 | D(G(z)): 0.2585 / 0.2563\n",
      "[223/500][1/24] | ℒ_D: 0.9398 | ℒ_G: 1.3754 | D(x): 0.5846 | D(x_o): 0.1727 | D(G(z)): 0.2582 / 0.2560\n",
      "[224/500][1/24] | ℒ_D: 0.8973 | ℒ_G: 1.3710 | D(x): 0.6080 | D(x_o): 0.1673 | D(G(z)): 0.2594 / 0.2572\n",
      "[225/500][1/24] | ℒ_D: 0.9455 | ℒ_G: 1.3790 | D(x): 0.5796 | D(x_o): 0.1657 | D(G(z)): 0.2582 / 0.2560\n",
      "[226/500][1/24] | ℒ_D: 0.9398 | ℒ_G: 1.3872 | D(x): 0.5887 | D(x_o): 0.1640 | D(G(z)): 0.2553 / 0.2531\n",
      "[227/500][1/24] | ℒ_D: 0.9581 | ℒ_G: 1.3828 | D(x): 0.5686 | D(x_o): 0.1698 | D(G(z)): 0.2557 / 0.2535\n",
      "[228/500][1/24] | ℒ_D: 0.9306 | ℒ_G: 1.3913 | D(x): 0.5882 | D(x_o): 0.1758 | D(G(z)): 0.2543 / 0.2522\n",
      "[229/500][1/24] | ℒ_D: 0.9157 | ℒ_G: 1.3935 | D(x): 0.5972 | D(x_o): 0.1777 | D(G(z)): 0.2541 / 0.2518\n",
      "[230/500][1/24] | ℒ_D: 0.9381 | ℒ_G: 1.3973 | D(x): 0.5831 | D(x_o): 0.1693 | D(G(z)): 0.2523 / 0.2501\n",
      "[231/500][1/24] | ℒ_D: 0.9256 | ℒ_G: 1.3877 | D(x): 0.5914 | D(x_o): 0.1655 | D(G(z)): 0.2558 / 0.2535\n",
      "[232/500][1/24] | ℒ_D: 0.9420 | ℒ_G: 1.4020 | D(x): 0.5872 | D(x_o): 0.1833 | D(G(z)): 0.2528 / 0.2504\n",
      "[233/500][1/24] | ℒ_D: 0.9075 | ℒ_G: 1.3960 | D(x): 0.6035 | D(x_o): 0.1773 | D(G(z)): 0.2532 / 0.2508\n",
      "[234/500][1/24] | ℒ_D: 0.9005 | ℒ_G: 1.4038 | D(x): 0.6070 | D(x_o): 0.1637 | D(G(z)): 0.2509 / 0.2488\n",
      "[235/500][1/24] | ℒ_D: 0.8809 | ℒ_G: 1.4109 | D(x): 0.6226 | D(x_o): 0.1689 | D(G(z)): 0.2496 / 0.2474\n",
      "[236/500][1/24] | ℒ_D: 0.8943 | ℒ_G: 1.3926 | D(x): 0.6120 | D(x_o): 0.1736 | D(G(z)): 0.2538 / 0.2514\n",
      "[237/500][1/24] | ℒ_D: 0.9188 | ℒ_G: 1.4023 | D(x): 0.5935 | D(x_o): 0.1632 | D(G(z)): 0.2518 / 0.2496\n",
      "[238/500][1/24] | ℒ_D: 0.9191 | ℒ_G: 1.4110 | D(x): 0.5976 | D(x_o): 0.1739 | D(G(z)): 0.2495 / 0.2475\n",
      "[239/500][1/24] | ℒ_D: 0.9414 | ℒ_G: 1.4158 | D(x): 0.5794 | D(x_o): 0.1578 | D(G(z)): 0.2483 / 0.2463\n",
      "[240/500][1/24] | ℒ_D: 0.9014 | ℒ_G: 1.4099 | D(x): 0.6064 | D(x_o): 0.1702 | D(G(z)): 0.2500 / 0.2478\n",
      "[241/500][1/24] | ℒ_D: 0.8881 | ℒ_G: 1.4184 | D(x): 0.6126 | D(x_o): 0.1788 | D(G(z)): 0.2478 / 0.2456\n",
      "[242/500][1/24] | ℒ_D: 0.9137 | ℒ_G: 1.4046 | D(x): 0.5990 | D(x_o): 0.1703 | D(G(z)): 0.2507 / 0.2486\n",
      "[243/500][1/24] | ℒ_D: 0.8898 | ℒ_G: 1.4223 | D(x): 0.6084 | D(x_o): 0.1643 | D(G(z)): 0.2460 / 0.2441\n",
      "[244/500][1/24] | ℒ_D: 0.9055 | ℒ_G: 1.4023 | D(x): 0.6095 | D(x_o): 0.1802 | D(G(z)): 0.2521 / 0.2499\n",
      "[245/500][1/24] | ℒ_D: 0.8934 | ℒ_G: 1.4195 | D(x): 0.6053 | D(x_o): 0.1622 | D(G(z)): 0.2474 / 0.2452\n",
      "[246/500][1/24] | ℒ_D: 0.8729 | ℒ_G: 1.4302 | D(x): 0.6218 | D(x_o): 0.1591 | D(G(z)): 0.2448 / 0.2428\n",
      "[247/500][1/24] | ℒ_D: 0.8667 | ℒ_G: 1.4285 | D(x): 0.6242 | D(x_o): 0.1611 | D(G(z)): 0.2448 / 0.2427\n",
      "[248/500][1/24] | ℒ_D: 0.8645 | ℒ_G: 1.4274 | D(x): 0.6328 | D(x_o): 0.1573 | D(G(z)): 0.2446 / 0.2427\n",
      "[249/500][1/24] | ℒ_D: 0.9372 | ℒ_G: 1.4287 | D(x): 0.5802 | D(x_o): 0.1686 | D(G(z)): 0.2453 / 0.2434\n",
      "[250/500][1/24] | ℒ_D: 0.8677 | ℒ_G: 1.4262 | D(x): 0.6371 | D(x_o): 0.1603 | D(G(z)): 0.2458 / 0.2437\n",
      "[251/500][1/24] | ℒ_D: 0.9104 | ℒ_G: 1.4286 | D(x): 0.6004 | D(x_o): 0.1624 | D(G(z)): 0.2447 / 0.2427\n",
      "[252/500][1/24] | ℒ_D: 0.8888 | ℒ_G: 1.4385 | D(x): 0.6114 | D(x_o): 0.1502 | D(G(z)): 0.2431 / 0.2410\n",
      "[253/500][1/24] | ℒ_D: 0.9294 | ℒ_G: 1.4441 | D(x): 0.5808 | D(x_o): 0.1716 | D(G(z)): 0.2421 / 0.2399\n",
      "[254/500][1/24] | ℒ_D: 0.8580 | ℒ_G: 1.4424 | D(x): 0.6333 | D(x_o): 0.1649 | D(G(z)): 0.2416 / 0.2397\n",
      "[255/500][1/24] | ℒ_D: 0.9714 | ℒ_G: 1.4461 | D(x): 0.5575 | D(x_o): 0.1591 | D(G(z)): 0.2414 / 0.2399\n",
      "[256/500][1/24] | ℒ_D: 0.8753 | ℒ_G: 1.4332 | D(x): 0.6255 | D(x_o): 0.1552 | D(G(z)): 0.2435 / 0.2416\n",
      "[257/500][1/24] | ℒ_D: 0.8386 | ℒ_G: 1.4395 | D(x): 0.6476 | D(x_o): 0.1526 | D(G(z)): 0.2430 / 0.2410\n",
      "[258/500][1/24] | ℒ_D: 0.8572 | ℒ_G: 1.4514 | D(x): 0.6360 | D(x_o): 0.1557 | D(G(z)): 0.2395 / 0.2375\n",
      "[259/500][1/24] | ℒ_D: 0.8589 | ℒ_G: 1.4369 | D(x): 0.6334 | D(x_o): 0.1478 | D(G(z)): 0.2428 / 0.2406\n",
      "[260/500][1/24] | ℒ_D: 0.8406 | ℒ_G: 1.4535 | D(x): 0.6443 | D(x_o): 0.1412 | D(G(z)): 0.2389 / 0.2369\n",
      "[261/500][1/24] | ℒ_D: 0.8721 | ℒ_G: 1.4511 | D(x): 0.6163 | D(x_o): 0.1532 | D(G(z)): 0.2395 / 0.2377\n",
      "[262/500][1/24] | ℒ_D: 0.9753 | ℒ_G: 1.4558 | D(x): 0.5546 | D(x_o): 0.1544 | D(G(z)): 0.2389 / 0.2371\n",
      "[263/500][1/24] | ℒ_D: 0.8306 | ℒ_G: 1.4604 | D(x): 0.6545 | D(x_o): 0.1522 | D(G(z)): 0.2374 / 0.2356\n",
      "[264/500][1/24] | ℒ_D: 0.8637 | ℒ_G: 1.4561 | D(x): 0.6329 | D(x_o): 0.1672 | D(G(z)): 0.2386 / 0.2368\n",
      "[265/500][1/24] | ℒ_D: 0.8918 | ℒ_G: 1.4652 | D(x): 0.6080 | D(x_o): 0.1458 | D(G(z)): 0.2371 / 0.2353\n",
      "[266/500][1/24] | ℒ_D: 0.8365 | ℒ_G: 1.4583 | D(x): 0.6441 | D(x_o): 0.1530 | D(G(z)): 0.2374 / 0.2354\n",
      "[267/500][1/24] | ℒ_D: 0.8319 | ℒ_G: 1.4625 | D(x): 0.6432 | D(x_o): 0.1456 | D(G(z)): 0.2379 / 0.2357\n",
      "[268/500][1/24] | ℒ_D: 0.8391 | ℒ_G: 1.4698 | D(x): 0.6452 | D(x_o): 0.1390 | D(G(z)): 0.2365 / 0.2344\n",
      "[269/500][1/24] | ℒ_D: 0.8588 | ℒ_G: 1.4471 | D(x): 0.6257 | D(x_o): 0.1595 | D(G(z)): 0.2413 / 0.2388\n",
      "[270/500][1/24] | ℒ_D: 0.8722 | ℒ_G: 1.4737 | D(x): 0.6190 | D(x_o): 0.1468 | D(G(z)): 0.2348 / 0.2328\n",
      "[271/500][1/24] | ℒ_D: 0.8822 | ℒ_G: 1.4724 | D(x): 0.6144 | D(x_o): 0.1494 | D(G(z)): 0.2352 / 0.2331\n",
      "[272/500][1/24] | ℒ_D: 0.8443 | ℒ_G: 1.4765 | D(x): 0.6431 | D(x_o): 0.1390 | D(G(z)): 0.2349 / 0.2328\n",
      "[273/500][1/24] | ℒ_D: 0.8206 | ℒ_G: 1.4739 | D(x): 0.6538 | D(x_o): 0.1395 | D(G(z)): 0.2352 / 0.2329\n",
      "[274/500][1/24] | ℒ_D: 0.8172 | ℒ_G: 1.4958 | D(x): 0.6579 | D(x_o): 0.1456 | D(G(z)): 0.2302 / 0.2283\n",
      "[275/500][1/24] | ℒ_D: 0.8094 | ℒ_G: 1.4770 | D(x): 0.6667 | D(x_o): 0.1438 | D(G(z)): 0.2343 / 0.2322\n",
      "[276/500][1/24] | ℒ_D: 0.8145 | ℒ_G: 1.4669 | D(x): 0.6626 | D(x_o): 0.1436 | D(G(z)): 0.2365 / 0.2342\n",
      "[277/500][1/24] | ℒ_D: 0.9162 | ℒ_G: 1.4733 | D(x): 0.5910 | D(x_o): 0.1384 | D(G(z)): 0.2360 / 0.2336\n",
      "[278/500][1/24] | ℒ_D: 0.8419 | ℒ_G: 1.4901 | D(x): 0.6517 | D(x_o): 0.1526 | D(G(z)): 0.2311 / 0.2291\n",
      "[279/500][1/24] | ℒ_D: 0.7899 | ℒ_G: 1.4866 | D(x): 0.6784 | D(x_o): 0.1447 | D(G(z)): 0.2322 / 0.2300\n",
      "[280/500][1/24] | ℒ_D: 0.8096 | ℒ_G: 1.4938 | D(x): 0.6601 | D(x_o): 0.1479 | D(G(z)): 0.2308 / 0.2287\n",
      "[281/500][1/24] | ℒ_D: 0.8417 | ℒ_G: 1.4969 | D(x): 0.6464 | D(x_o): 0.1308 | D(G(z)): 0.2296 / 0.2277\n",
      "[282/500][1/24] | ℒ_D: 0.8316 | ℒ_G: 1.4874 | D(x): 0.6368 | D(x_o): 0.1328 | D(G(z)): 0.2312 / 0.2293\n",
      "[283/500][1/24] | ℒ_D: 0.8512 | ℒ_G: 1.4939 | D(x): 0.6383 | D(x_o): 0.1377 | D(G(z)): 0.2304 / 0.2282\n",
      "[284/500][1/24] | ℒ_D: 0.8667 | ℒ_G: 1.4893 | D(x): 0.6211 | D(x_o): 0.1311 | D(G(z)): 0.2314 / 0.2292\n",
      "[285/500][1/24] | ℒ_D: 0.8413 | ℒ_G: 1.4926 | D(x): 0.6399 | D(x_o): 0.1384 | D(G(z)): 0.2322 / 0.2298\n",
      "[286/500][1/24] | ℒ_D: 0.8977 | ℒ_G: 1.5084 | D(x): 0.5982 | D(x_o): 0.1313 | D(G(z)): 0.2274 / 0.2252\n",
      "[287/500][1/24] | ℒ_D: 1.0334 | ℒ_G: 1.5034 | D(x): 0.5173 | D(x_o): 0.1397 | D(G(z)): 0.2282 / 0.2262\n",
      "[288/500][1/24] | ℒ_D: 0.8498 | ℒ_G: 1.4969 | D(x): 0.6295 | D(x_o): 0.1449 | D(G(z)): 0.2296 / 0.2275\n",
      "[289/500][1/24] | ℒ_D: 0.8295 | ℒ_G: 1.4952 | D(x): 0.6536 | D(x_o): 0.1431 | D(G(z)): 0.2292 / 0.2272\n",
      "[290/500][1/24] | ℒ_D: 0.8161 | ℒ_G: 1.5089 | D(x): 0.6590 | D(x_o): 0.1504 | D(G(z)): 0.2275 / 0.2253\n",
      "[291/500][1/24] | ℒ_D: 0.8749 | ℒ_G: 1.4967 | D(x): 0.6210 | D(x_o): 0.1424 | D(G(z)): 0.2300 / 0.2281\n",
      "[292/500][1/24] | ℒ_D: 0.8211 | ℒ_G: 1.5048 | D(x): 0.6538 | D(x_o): 0.1255 | D(G(z)): 0.2275 / 0.2254\n",
      "[293/500][1/24] | ℒ_D: 0.8422 | ℒ_G: 1.5189 | D(x): 0.6364 | D(x_o): 0.1338 | D(G(z)): 0.2247 / 0.2228\n",
      "[294/500][1/24] | ℒ_D: 0.8474 | ℒ_G: 1.5162 | D(x): 0.6383 | D(x_o): 0.1360 | D(G(z)): 0.2265 / 0.2242\n",
      "[295/500][1/24] | ℒ_D: 0.8025 | ℒ_G: 1.5132 | D(x): 0.6648 | D(x_o): 0.1322 | D(G(z)): 0.2260 / 0.2239\n",
      "[296/500][1/24] | ℒ_D: 0.7915 | ℒ_G: 1.5187 | D(x): 0.6766 | D(x_o): 0.1301 | D(G(z)): 0.2251 / 0.2230\n",
      "[297/500][1/24] | ℒ_D: 0.8072 | ℒ_G: 1.5157 | D(x): 0.6573 | D(x_o): 0.1344 | D(G(z)): 0.2260 / 0.2236\n",
      "[298/500][1/24] | ℒ_D: 0.8099 | ℒ_G: 1.5253 | D(x): 0.6571 | D(x_o): 0.1368 | D(G(z)): 0.2232 / 0.2209\n",
      "[299/500][1/24] | ℒ_D: 0.8276 | ℒ_G: 1.5293 | D(x): 0.6481 | D(x_o): 0.1261 | D(G(z)): 0.2224 / 0.2204\n",
      "[300/500][1/24] | ℒ_D: 0.7984 | ℒ_G: 1.5199 | D(x): 0.6692 | D(x_o): 0.1309 | D(G(z)): 0.2256 / 0.2232\n",
      "[301/500][1/24] | ℒ_D: 0.8023 | ℒ_G: 1.5233 | D(x): 0.6725 | D(x_o): 0.1449 | D(G(z)): 0.2258 / 0.2233\n",
      "[302/500][1/24] | ℒ_D: 0.7923 | ℒ_G: 1.5169 | D(x): 0.6790 | D(x_o): 0.1282 | D(G(z)): 0.2265 / 0.2241\n",
      "[303/500][1/24] | ℒ_D: 0.8212 | ℒ_G: 1.5208 | D(x): 0.6567 | D(x_o): 0.1369 | D(G(z)): 0.2252 / 0.2228\n",
      "[304/500][1/24] | ℒ_D: 0.8014 | ℒ_G: 1.5121 | D(x): 0.6710 | D(x_o): 0.1319 | D(G(z)): 0.2273 / 0.2250\n",
      "[305/500][1/24] | ℒ_D: 0.7931 | ℒ_G: 1.5269 | D(x): 0.6743 | D(x_o): 0.1241 | D(G(z)): 0.2239 / 0.2216\n",
      "[306/500][1/24] | ℒ_D: 0.7881 | ℒ_G: 1.5262 | D(x): 0.6784 | D(x_o): 0.1544 | D(G(z)): 0.2238 / 0.2214\n",
      "[307/500][1/24] | ℒ_D: 0.8029 | ℒ_G: 1.5362 | D(x): 0.6673 | D(x_o): 0.1252 | D(G(z)): 0.2241 / 0.2217\n",
      "[308/500][1/24] | ℒ_D: 0.7880 | ℒ_G: 1.5372 | D(x): 0.6770 | D(x_o): 0.1315 | D(G(z)): 0.2228 / 0.2204\n",
      "[309/500][1/24] | ℒ_D: 0.7554 | ℒ_G: 1.5351 | D(x): 0.6918 | D(x_o): 0.1209 | D(G(z)): 0.2228 / 0.2196\n",
      "[310/500][1/24] | ℒ_D: 0.7758 | ℒ_G: 1.5327 | D(x): 0.6909 | D(x_o): 0.1543 | D(G(z)): 0.2225 / 0.2202\n",
      "[311/500][1/24] | ℒ_D: 0.7670 | ℒ_G: 1.5454 | D(x): 0.6957 | D(x_o): 0.1264 | D(G(z)): 0.2187 / 0.2166\n",
      "[312/500][1/24] | ℒ_D: 0.7644 | ℒ_G: 1.5624 | D(x): 0.6874 | D(x_o): 0.1315 | D(G(z)): 0.2152 / 0.2129\n",
      "[313/500][1/24] | ℒ_D: 0.8100 | ℒ_G: 1.5532 | D(x): 0.6691 | D(x_o): 0.1366 | D(G(z)): 0.2192 / 0.2167\n",
      "[314/500][1/24] | ℒ_D: 0.8099 | ℒ_G: 1.5500 | D(x): 0.6690 | D(x_o): 0.1405 | D(G(z)): 0.2193 / 0.2165\n",
      "[315/500][1/24] | ℒ_D: 0.8081 | ℒ_G: 1.5660 | D(x): 0.6639 | D(x_o): 0.1269 | D(G(z)): 0.2165 / 0.2134\n",
      "[316/500][1/24] | ℒ_D: 0.7826 | ℒ_G: 1.5359 | D(x): 0.6810 | D(x_o): 0.1257 | D(G(z)): 0.2235 / 0.2200\n",
      "[317/500][1/24] | ℒ_D: 0.7761 | ℒ_G: 1.5585 | D(x): 0.7010 | D(x_o): 0.1294 | D(G(z)): 0.2186 / 0.2155\n",
      "[318/500][1/24] | ℒ_D: 0.7902 | ℒ_G: 1.5560 | D(x): 0.6863 | D(x_o): 0.1255 | D(G(z)): 0.2193 / 0.2159\n",
      "[319/500][1/24] | ℒ_D: 0.7714 | ℒ_G: 1.5573 | D(x): 0.6881 | D(x_o): 0.1225 | D(G(z)): 0.2191 / 0.2158\n",
      "[320/500][1/24] | ℒ_D: 0.7769 | ℒ_G: 1.5574 | D(x): 0.6878 | D(x_o): 0.1193 | D(G(z)): 0.2202 / 0.2169\n",
      "[321/500][1/24] | ℒ_D: 0.7628 | ℒ_G: 1.5716 | D(x): 0.6955 | D(x_o): 0.1266 | D(G(z)): 0.2162 / 0.2128\n",
      "[322/500][1/24] | ℒ_D: 0.7709 | ℒ_G: 1.5590 | D(x): 0.6969 | D(x_o): 0.1295 | D(G(z)): 0.2200 / 0.2166\n",
      "[323/500][1/24] | ℒ_D: 0.7521 | ℒ_G: 1.5491 | D(x): 0.7053 | D(x_o): 0.1279 | D(G(z)): 0.2213 / 0.2179\n",
      "[324/500][1/24] | ℒ_D: 0.7787 | ℒ_G: 1.5532 | D(x): 0.6891 | D(x_o): 0.1182 | D(G(z)): 0.2192 / 0.2162\n",
      "[325/500][1/24] | ℒ_D: 0.7562 | ℒ_G: 1.5790 | D(x): 0.7047 | D(x_o): 0.1209 | D(G(z)): 0.2133 / 0.2105\n",
      "[326/500][1/24] | ℒ_D: 0.7786 | ℒ_G: 1.5655 | D(x): 0.6820 | D(x_o): 0.1196 | D(G(z)): 0.2162 / 0.2133\n",
      "[327/500][1/24] | ℒ_D: 0.7575 | ℒ_G: 1.5838 | D(x): 0.6983 | D(x_o): 0.1198 | D(G(z)): 0.2127 / 0.2097\n",
      "[328/500][1/24] | ℒ_D: 0.7764 | ℒ_G: 1.5843 | D(x): 0.6794 | D(x_o): 0.1080 | D(G(z)): 0.2131 / 0.2102\n",
      "[329/500][1/24] | ℒ_D: 0.7576 | ℒ_G: 1.5786 | D(x): 0.7113 | D(x_o): 0.1112 | D(G(z)): 0.2132 / 0.2105\n",
      "[330/500][1/24] | ℒ_D: 0.7589 | ℒ_G: 1.5766 | D(x): 0.7029 | D(x_o): 0.1090 | D(G(z)): 0.2158 / 0.2127\n",
      "[331/500][1/24] | ℒ_D: 0.7942 | ℒ_G: 1.5762 | D(x): 0.6686 | D(x_o): 0.1045 | D(G(z)): 0.2143 / 0.2114\n",
      "[332/500][1/24] | ℒ_D: 0.7696 | ℒ_G: 1.5715 | D(x): 0.6963 | D(x_o): 0.1257 | D(G(z)): 0.2157 / 0.2127\n",
      "[333/500][1/24] | ℒ_D: 0.7547 | ℒ_G: 1.5839 | D(x): 0.7068 | D(x_o): 0.1190 | D(G(z)): 0.2137 / 0.2106\n",
      "[334/500][1/24] | ℒ_D: 0.7246 | ℒ_G: 1.5910 | D(x): 0.7258 | D(x_o): 0.1131 | D(G(z)): 0.2120 / 0.2088\n",
      "[335/500][1/24] | ℒ_D: 0.7658 | ℒ_G: 1.5908 | D(x): 0.6930 | D(x_o): 0.1146 | D(G(z)): 0.2101 / 0.2077\n",
      "[336/500][1/24] | ℒ_D: 0.7378 | ℒ_G: 1.6006 | D(x): 0.7158 | D(x_o): 0.1133 | D(G(z)): 0.2097 / 0.2068\n",
      "[337/500][1/24] | ℒ_D: 0.7419 | ℒ_G: 1.5991 | D(x): 0.7097 | D(x_o): 0.1156 | D(G(z)): 0.2094 / 0.2065\n",
      "[338/500][1/24] | ℒ_D: 0.7367 | ℒ_G: 1.5902 | D(x): 0.7124 | D(x_o): 0.1079 | D(G(z)): 0.2113 / 0.2085\n",
      "[339/500][1/24] | ℒ_D: 0.7621 | ℒ_G: 1.5940 | D(x): 0.7005 | D(x_o): 0.1234 | D(G(z)): 0.2098 / 0.2073\n",
      "[340/500][1/24] | ℒ_D: 0.8163 | ℒ_G: 1.5873 | D(x): 0.6474 | D(x_o): 0.1076 | D(G(z)): 0.2114 / 0.2086\n",
      "[341/500][1/24] | ℒ_D: 0.7552 | ℒ_G: 1.6006 | D(x): 0.7083 | D(x_o): 0.1297 | D(G(z)): 0.2084 / 0.2057\n",
      "[342/500][1/24] | ℒ_D: 0.7628 | ℒ_G: 1.6149 | D(x): 0.6971 | D(x_o): 0.1098 | D(G(z)): 0.2073 / 0.2045\n",
      "[343/500][1/24] | ℒ_D: 0.7537 | ℒ_G: 1.6072 | D(x): 0.7020 | D(x_o): 0.1177 | D(G(z)): 0.2092 / 0.2062\n",
      "[344/500][1/24] | ℒ_D: 0.7445 | ℒ_G: 1.6002 | D(x): 0.7111 | D(x_o): 0.1208 | D(G(z)): 0.2097 / 0.2070\n",
      "[345/500][1/24] | ℒ_D: 0.7115 | ℒ_G: 1.6273 | D(x): 0.7289 | D(x_o): 0.1190 | D(G(z)): 0.2040 / 0.2012\n",
      "[346/500][1/24] | ℒ_D: 0.7405 | ℒ_G: 1.6294 | D(x): 0.7067 | D(x_o): 0.1131 | D(G(z)): 0.2062 / 0.2032\n",
      "[347/500][1/24] | ℒ_D: 0.7372 | ℒ_G: 1.6244 | D(x): 0.7057 | D(x_o): 0.1129 | D(G(z)): 0.2049 / 0.2018\n",
      "[348/500][1/24] | ℒ_D: 0.7495 | ℒ_G: 1.6060 | D(x): 0.7085 | D(x_o): 0.1147 | D(G(z)): 0.2097 / 0.2065\n",
      "[349/500][1/24] | ℒ_D: 0.7613 | ℒ_G: 1.6082 | D(x): 0.6894 | D(x_o): 0.1065 | D(G(z)): 0.2077 / 0.2050\n",
      "[350/500][1/24] | ℒ_D: 0.7513 | ℒ_G: 1.6108 | D(x): 0.7018 | D(x_o): 0.1216 | D(G(z)): 0.2067 / 0.2044\n",
      "[351/500][1/24] | ℒ_D: 0.7459 | ℒ_G: 1.6251 | D(x): 0.7011 | D(x_o): 0.1077 | D(G(z)): 0.2037 / 0.2011\n",
      "[352/500][1/24] | ℒ_D: 0.7084 | ℒ_G: 1.6190 | D(x): 0.7353 | D(x_o): 0.1045 | D(G(z)): 0.2054 / 0.2027\n",
      "[353/500][1/24] | ℒ_D: 0.7202 | ℒ_G: 1.6276 | D(x): 0.7320 | D(x_o): 0.1103 | D(G(z)): 0.2062 / 0.2031\n",
      "[354/500][1/24] | ℒ_D: 0.7370 | ℒ_G: 1.6202 | D(x): 0.7165 | D(x_o): 0.1054 | D(G(z)): 0.2065 / 0.2031\n",
      "[355/500][1/24] | ℒ_D: 0.7402 | ℒ_G: 1.6046 | D(x): 0.7260 | D(x_o): 0.1080 | D(G(z)): 0.2092 / 0.2060\n",
      "[356/500][1/24] | ℒ_D: 0.7391 | ℒ_G: 1.6100 | D(x): 0.7212 | D(x_o): 0.1167 | D(G(z)): 0.2092 / 0.2058\n",
      "[357/500][1/24] | ℒ_D: 0.7081 | ℒ_G: 1.6409 | D(x): 0.7462 | D(x_o): 0.1079 | D(G(z)): 0.2029 / 0.1997\n",
      "[358/500][1/24] | ℒ_D: 0.7181 | ℒ_G: 1.6325 | D(x): 0.7333 | D(x_o): 0.1099 | D(G(z)): 0.2035 / 0.2002\n",
      "[359/500][1/24] | ℒ_D: 0.7296 | ℒ_G: 1.6224 | D(x): 0.7206 | D(x_o): 0.1133 | D(G(z)): 0.2058 / 0.2024\n",
      "[360/500][1/24] | ℒ_D: 0.7052 | ℒ_G: 1.6375 | D(x): 0.7288 | D(x_o): 0.1099 | D(G(z)): 0.2020 / 0.1990\n",
      "[361/500][1/24] | ℒ_D: 0.7123 | ℒ_G: 1.6586 | D(x): 0.7266 | D(x_o): 0.1046 | D(G(z)): 0.1983 / 0.1954\n",
      "[362/500][1/24] | ℒ_D: 0.7390 | ℒ_G: 1.6233 | D(x): 0.7097 | D(x_o): 0.1120 | D(G(z)): 0.2057 / 0.2024\n",
      "[363/500][1/24] | ℒ_D: 0.7345 | ℒ_G: 1.6492 | D(x): 0.7094 | D(x_o): 0.1129 | D(G(z)): 0.2001 / 0.1973\n",
      "[364/500][1/24] | ℒ_D: 0.7181 | ℒ_G: 1.6538 | D(x): 0.7273 | D(x_o): 0.0971 | D(G(z)): 0.1995 / 0.1966\n",
      "[365/500][1/24] | ℒ_D: 0.7048 | ℒ_G: 1.6491 | D(x): 0.7391 | D(x_o): 0.1094 | D(G(z)): 0.2000 / 0.1968\n",
      "[366/500][1/24] | ℒ_D: 0.6953 | ℒ_G: 1.6612 | D(x): 0.7416 | D(x_o): 0.1122 | D(G(z)): 0.1989 / 0.1956\n",
      "[367/500][1/24] | ℒ_D: 0.7086 | ℒ_G: 1.6329 | D(x): 0.7403 | D(x_o): 0.1074 | D(G(z)): 0.2042 / 0.2009\n",
      "[368/500][1/24] | ℒ_D: 0.7212 | ℒ_G: 1.6498 | D(x): 0.7228 | D(x_o): 0.1097 | D(G(z)): 0.2008 / 0.1975\n",
      "[369/500][1/24] | ℒ_D: 0.7671 | ℒ_G: 1.6527 | D(x): 0.6806 | D(x_o): 0.1105 | D(G(z)): 0.1996 / 0.1967\n",
      "[370/500][1/24] | ℒ_D: 0.7259 | ℒ_G: 1.6422 | D(x): 0.7245 | D(x_o): 0.0979 | D(G(z)): 0.2005 / 0.1979\n",
      "[371/500][1/24] | ℒ_D: 0.6948 | ℒ_G: 1.6413 | D(x): 0.7551 | D(x_o): 0.1081 | D(G(z)): 0.2008 / 0.1981\n",
      "[372/500][1/24] | ℒ_D: 0.7033 | ℒ_G: 1.6628 | D(x): 0.7377 | D(x_o): 0.1008 | D(G(z)): 0.1972 / 0.1946\n",
      "[373/500][1/24] | ℒ_D: 0.7001 | ℒ_G: 1.6461 | D(x): 0.7504 | D(x_o): 0.1039 | D(G(z)): 0.2023 / 0.1990\n",
      "[374/500][1/24] | ℒ_D: 0.7012 | ℒ_G: 1.6477 | D(x): 0.7472 | D(x_o): 0.1061 | D(G(z)): 0.2009 / 0.1980\n",
      "[375/500][1/24] | ℒ_D: 0.7085 | ℒ_G: 1.6670 | D(x): 0.7376 | D(x_o): 0.1066 | D(G(z)): 0.1962 / 0.1938\n",
      "[376/500][1/24] | ℒ_D: 0.7125 | ℒ_G: 1.6422 | D(x): 0.7380 | D(x_o): 0.1054 | D(G(z)): 0.2013 / 0.1985\n",
      "[377/500][1/24] | ℒ_D: 0.7188 | ℒ_G: 1.6549 | D(x): 0.7147 | D(x_o): 0.0936 | D(G(z)): 0.2000 / 0.1968\n",
      "[378/500][1/24] | ℒ_D: 0.7265 | ℒ_G: 1.6627 | D(x): 0.7359 | D(x_o): 0.0938 | D(G(z)): 0.1981 / 0.1951\n",
      "[379/500][1/24] | ℒ_D: 0.7117 | ℒ_G: 1.6859 | D(x): 0.7297 | D(x_o): 0.0898 | D(G(z)): 0.1947 / 0.1920\n",
      "[380/500][1/24] | ℒ_D: 0.6974 | ℒ_G: 1.6860 | D(x): 0.7527 | D(x_o): 0.1008 | D(G(z)): 0.1946 / 0.1916\n",
      "[381/500][1/24] | ℒ_D: 0.6990 | ℒ_G: 1.6806 | D(x): 0.7484 | D(x_o): 0.0992 | D(G(z)): 0.1952 / 0.1920\n",
      "[382/500][1/24] | ℒ_D: 0.6928 | ℒ_G: 1.6848 | D(x): 0.7555 | D(x_o): 0.0956 | D(G(z)): 0.1958 / 0.1928\n",
      "[383/500][1/24] | ℒ_D: 0.6696 | ℒ_G: 1.6918 | D(x): 0.7661 | D(x_o): 0.0979 | D(G(z)): 0.1924 / 0.1897\n",
      "[384/500][1/24] | ℒ_D: 0.6908 | ℒ_G: 1.6775 | D(x): 0.7578 | D(x_o): 0.0892 | D(G(z)): 0.1957 / 0.1929\n",
      "[385/500][1/24] | ℒ_D: 0.6859 | ℒ_G: 1.6899 | D(x): 0.7626 | D(x_o): 0.0966 | D(G(z)): 0.1942 / 0.1915\n",
      "[386/500][1/24] | ℒ_D: 0.7004 | ℒ_G: 1.6989 | D(x): 0.7469 | D(x_o): 0.0973 | D(G(z)): 0.1917 / 0.1891\n",
      "[387/500][1/24] | ℒ_D: 0.7195 | ℒ_G: 1.7119 | D(x): 0.7190 | D(x_o): 0.0924 | D(G(z)): 0.1892 / 0.1869\n",
      "[388/500][1/24] | ℒ_D: 0.6974 | ℒ_G: 1.6969 | D(x): 0.7484 | D(x_o): 0.0928 | D(G(z)): 0.1908 / 0.1885\n",
      "[389/500][1/24] | ℒ_D: 0.6912 | ℒ_G: 1.6968 | D(x): 0.7456 | D(x_o): 0.0882 | D(G(z)): 0.1908 / 0.1885\n",
      "[390/500][1/24] | ℒ_D: 0.6776 | ℒ_G: 1.7034 | D(x): 0.7695 | D(x_o): 0.0848 | D(G(z)): 0.1900 / 0.1878\n",
      "[391/500][1/24] | ℒ_D: 0.6828 | ℒ_G: 1.6814 | D(x): 0.7531 | D(x_o): 0.0993 | D(G(z)): 0.1934 / 0.1911\n",
      "[392/500][1/24] | ℒ_D: 0.6692 | ℒ_G: 1.6869 | D(x): 0.7628 | D(x_o): 0.0936 | D(G(z)): 0.1912 / 0.1893\n",
      "[393/500][1/24] | ℒ_D: 0.7088 | ℒ_G: 1.7109 | D(x): 0.7233 | D(x_o): 0.0987 | D(G(z)): 0.1874 / 0.1855\n",
      "[394/500][1/24] | ℒ_D: 0.6726 | ℒ_G: 1.7112 | D(x): 0.7723 | D(x_o): 0.0985 | D(G(z)): 0.1870 / 0.1851\n",
      "[395/500][1/24] | ℒ_D: 0.6735 | ℒ_G: 1.7024 | D(x): 0.7738 | D(x_o): 0.1021 | D(G(z)): 0.1887 / 0.1869\n",
      "[396/500][1/24] | ℒ_D: 0.6736 | ℒ_G: 1.7268 | D(x): 0.7549 | D(x_o): 0.0872 | D(G(z)): 0.1850 / 0.1830\n",
      "[397/500][1/24] | ℒ_D: 0.6742 | ℒ_G: 1.7074 | D(x): 0.7587 | D(x_o): 0.1035 | D(G(z)): 0.1868 / 0.1852\n",
      "[398/500][1/24] | ℒ_D: 0.7000 | ℒ_G: 1.7193 | D(x): 0.7352 | D(x_o): 0.1002 | D(G(z)): 0.1857 / 0.1840\n",
      "[399/500][1/24] | ℒ_D: 0.6690 | ℒ_G: 1.7121 | D(x): 0.7695 | D(x_o): 0.0914 | D(G(z)): 0.1862 / 0.1845\n",
      "[400/500][1/24] | ℒ_D: 0.6800 | ℒ_G: 1.7191 | D(x): 0.7559 | D(x_o): 0.0890 | D(G(z)): 0.1872 / 0.1852\n",
      "[401/500][1/24] | ℒ_D: 0.6723 | ℒ_G: 1.7130 | D(x): 0.7646 | D(x_o): 0.0973 | D(G(z)): 0.1873 / 0.1854\n",
      "[402/500][1/24] | ℒ_D: 0.7112 | ℒ_G: 1.7231 | D(x): 0.7245 | D(x_o): 0.0934 | D(G(z)): 0.1851 / 0.1834\n",
      "[403/500][1/24] | ℒ_D: 0.6939 | ℒ_G: 1.7116 | D(x): 0.7478 | D(x_o): 0.0997 | D(G(z)): 0.1856 / 0.1841\n",
      "[404/500][1/24] | ℒ_D: 0.6842 | ℒ_G: 1.7432 | D(x): 0.7492 | D(x_o): 0.0822 | D(G(z)): 0.1819 / 0.1802\n",
      "[405/500][1/24] | ℒ_D: 0.6671 | ℒ_G: 1.7086 | D(x): 0.7796 | D(x_o): 0.0917 | D(G(z)): 0.1887 / 0.1866\n",
      "[406/500][1/24] | ℒ_D: 0.6618 | ℒ_G: 1.7530 | D(x): 0.7792 | D(x_o): 0.0830 | D(G(z)): 0.1798 / 0.1780\n",
      "[407/500][1/24] | ℒ_D: 0.6719 | ℒ_G: 1.7284 | D(x): 0.7652 | D(x_o): 0.0885 | D(G(z)): 0.1841 / 0.1822\n",
      "[408/500][1/24] | ℒ_D: 0.6661 | ℒ_G: 1.7223 | D(x): 0.7645 | D(x_o): 0.0940 | D(G(z)): 0.1860 / 0.1839\n",
      "[409/500][1/24] | ℒ_D: 0.6737 | ℒ_G: 1.7281 | D(x): 0.7647 | D(x_o): 0.0814 | D(G(z)): 0.1841 / 0.1822\n",
      "[410/500][1/24] | ℒ_D: 0.6814 | ℒ_G: 1.7034 | D(x): 0.7601 | D(x_o): 0.0877 | D(G(z)): 0.1896 / 0.1875\n",
      "[411/500][1/24] | ℒ_D: 0.7866 | ℒ_G: 1.7447 | D(x): 0.6672 | D(x_o): 0.0888 | D(G(z)): 0.1806 / 0.1790\n",
      "[412/500][1/24] | ℒ_D: 0.6752 | ℒ_G: 1.7473 | D(x): 0.7737 | D(x_o): 0.0849 | D(G(z)): 0.1810 / 0.1791\n",
      "[413/500][1/24] | ℒ_D: 0.6620 | ℒ_G: 1.7457 | D(x): 0.7712 | D(x_o): 0.1054 | D(G(z)): 0.1813 / 0.1794\n",
      "[414/500][1/24] | ℒ_D: 0.6572 | ℒ_G: 1.7423 | D(x): 0.7795 | D(x_o): 0.0900 | D(G(z)): 0.1809 / 0.1792\n",
      "[415/500][1/24] | ℒ_D: 0.6643 | ℒ_G: 1.7231 | D(x): 0.7822 | D(x_o): 0.0876 | D(G(z)): 0.1839 / 0.1821\n",
      "[416/500][1/24] | ℒ_D: 0.6969 | ℒ_G: 1.7424 | D(x): 0.7425 | D(x_o): 0.0984 | D(G(z)): 0.1830 / 0.1811\n",
      "[417/500][1/24] | ℒ_D: 0.6731 | ℒ_G: 1.7501 | D(x): 0.7619 | D(x_o): 0.0948 | D(G(z)): 0.1797 / 0.1779\n",
      "[418/500][1/24] | ℒ_D: 0.6674 | ℒ_G: 1.7410 | D(x): 0.7721 | D(x_o): 0.0950 | D(G(z)): 0.1826 / 0.1809\n",
      "[419/500][1/24] | ℒ_D: 0.6376 | ℒ_G: 1.7593 | D(x): 0.7860 | D(x_o): 0.0906 | D(G(z)): 0.1785 / 0.1765\n",
      "[420/500][1/24] | ℒ_D: 0.6406 | ℒ_G: 1.7650 | D(x): 0.7940 | D(x_o): 0.0913 | D(G(z)): 0.1785 / 0.1765\n",
      "[421/500][1/24] | ℒ_D: 0.7099 | ℒ_G: 1.7673 | D(x): 0.7276 | D(x_o): 0.0948 | D(G(z)): 0.1771 / 0.1755\n",
      "[422/500][1/24] | ℒ_D: 0.6788 | ℒ_G: 1.7674 | D(x): 0.7488 | D(x_o): 0.0992 | D(G(z)): 0.1751 / 0.1737\n",
      "[423/500][1/24] | ℒ_D: 0.7008 | ℒ_G: 1.7645 | D(x): 0.7405 | D(x_o): 0.0786 | D(G(z)): 0.1766 / 0.1750\n",
      "[424/500][1/24] | ℒ_D: 0.6597 | ℒ_G: 1.7625 | D(x): 0.7745 | D(x_o): 0.0849 | D(G(z)): 0.1786 / 0.1768\n",
      "[425/500][1/24] | ℒ_D: 0.6624 | ℒ_G: 1.7887 | D(x): 0.7741 | D(x_o): 0.0854 | D(G(z)): 0.1746 / 0.1726\n",
      "[426/500][1/24] | ℒ_D: 0.6268 | ℒ_G: 1.7721 | D(x): 0.7957 | D(x_o): 0.0914 | D(G(z)): 0.1765 / 0.1745\n",
      "[427/500][1/24] | ℒ_D: 0.6481 | ℒ_G: 1.7700 | D(x): 0.7715 | D(x_o): 0.0808 | D(G(z)): 0.1780 / 0.1761\n",
      "[428/500][1/24] | ℒ_D: 0.6401 | ℒ_G: 1.7754 | D(x): 0.7881 | D(x_o): 0.0882 | D(G(z)): 0.1747 / 0.1731\n",
      "[429/500][1/24] | ℒ_D: 0.6383 | ℒ_G: 1.7756 | D(x): 0.7926 | D(x_o): 0.0855 | D(G(z)): 0.1759 / 0.1742\n",
      "[430/500][1/24] | ℒ_D: 0.6398 | ℒ_G: 1.7750 | D(x): 0.7974 | D(x_o): 0.0827 | D(G(z)): 0.1761 / 0.1741\n",
      "[431/500][1/24] | ℒ_D: 0.6468 | ℒ_G: 1.7725 | D(x): 0.7613 | D(x_o): 0.0970 | D(G(z)): 0.1763 / 0.1744\n",
      "[432/500][1/24] | ℒ_D: 0.6328 | ℒ_G: 1.7971 | D(x): 0.7889 | D(x_o): 0.0917 | D(G(z)): 0.1716 / 0.1699\n",
      "[433/500][1/24] | ℒ_D: 0.6639 | ℒ_G: 1.7896 | D(x): 0.7729 | D(x_o): 0.1011 | D(G(z)): 0.1732 / 0.1715\n",
      "[434/500][1/24] | ℒ_D: 0.6335 | ℒ_G: 1.7980 | D(x): 0.7823 | D(x_o): 0.0875 | D(G(z)): 0.1731 / 0.1713\n",
      "[435/500][1/24] | ℒ_D: 0.6529 | ℒ_G: 1.7941 | D(x): 0.7990 | D(x_o): 0.0767 | D(G(z)): 0.1726 / 0.1710\n",
      "[436/500][1/24] | ℒ_D: 0.6236 | ℒ_G: 1.8053 | D(x): 0.8038 | D(x_o): 0.0774 | D(G(z)): 0.1704 / 0.1687\n",
      "[437/500][1/24] | ℒ_D: 0.6588 | ℒ_G: 1.7849 | D(x): 0.7715 | D(x_o): 0.0775 | D(G(z)): 0.1743 / 0.1721\n",
      "[438/500][1/24] | ℒ_D: 0.6450 | ℒ_G: 1.7794 | D(x): 0.7989 | D(x_o): 0.0776 | D(G(z)): 0.1746 / 0.1729\n",
      "[439/500][1/24] | ℒ_D: 0.6433 | ℒ_G: 1.8109 | D(x): 0.7966 | D(x_o): 0.0803 | D(G(z)): 0.1699 / 0.1682\n",
      "[440/500][1/24] | ℒ_D: 0.6863 | ℒ_G: 1.7771 | D(x): 0.7478 | D(x_o): 0.0787 | D(G(z)): 0.1754 / 0.1736\n",
      "[441/500][1/24] | ℒ_D: 0.6516 | ℒ_G: 1.7986 | D(x): 0.7826 | D(x_o): 0.0814 | D(G(z)): 0.1716 / 0.1697\n",
      "[442/500][1/24] | ℒ_D: 0.6284 | ℒ_G: 1.7940 | D(x): 0.7849 | D(x_o): 0.0692 | D(G(z)): 0.1723 / 0.1704\n",
      "[443/500][1/24] | ℒ_D: 0.6225 | ℒ_G: 1.8015 | D(x): 0.7974 | D(x_o): 0.0860 | D(G(z)): 0.1728 / 0.1708\n",
      "[444/500][1/24] | ℒ_D: 0.6343 | ℒ_G: 1.8026 | D(x): 0.8085 | D(x_o): 0.1021 | D(G(z)): 0.1712 / 0.1694\n",
      "[445/500][1/24] | ℒ_D: 0.6378 | ℒ_G: 1.8060 | D(x): 0.7822 | D(x_o): 0.0798 | D(G(z)): 0.1686 / 0.1672\n",
      "[446/500][1/24] | ℒ_D: 0.6259 | ℒ_G: 1.8109 | D(x): 0.8091 | D(x_o): 0.0840 | D(G(z)): 0.1693 / 0.1677\n",
      "[447/500][1/24] | ℒ_D: 0.6439 | ℒ_G: 1.7942 | D(x): 0.7791 | D(x_o): 0.0803 | D(G(z)): 0.1735 / 0.1717\n",
      "[448/500][1/24] | ℒ_D: 0.6148 | ℒ_G: 1.7752 | D(x): 0.8118 | D(x_o): 0.0819 | D(G(z)): 0.1749 / 0.1733\n",
      "[449/500][1/24] | ℒ_D: 0.6396 | ℒ_G: 1.8028 | D(x): 0.8107 | D(x_o): 0.0920 | D(G(z)): 0.1701 / 0.1687\n",
      "[450/500][1/24] | ℒ_D: 0.6498 | ℒ_G: 1.8040 | D(x): 0.7823 | D(x_o): 0.0802 | D(G(z)): 0.1712 / 0.1693\n",
      "[451/500][1/24] | ℒ_D: 0.6548 | ℒ_G: 1.8416 | D(x): 0.7799 | D(x_o): 0.0909 | D(G(z)): 0.1644 / 0.1628\n",
      "[452/500][1/24] | ℒ_D: 0.6397 | ℒ_G: 1.8187 | D(x): 0.8094 | D(x_o): 0.0719 | D(G(z)): 0.1678 / 0.1660\n",
      "[453/500][1/24] | ℒ_D: 0.6323 | ℒ_G: 1.8165 | D(x): 0.7930 | D(x_o): 0.0796 | D(G(z)): 0.1690 / 0.1672\n",
      "[454/500][1/24] | ℒ_D: 0.6658 | ℒ_G: 1.8478 | D(x): 0.7538 | D(x_o): 0.0789 | D(G(z)): 0.1650 / 0.1628\n",
      "[455/500][1/24] | ℒ_D: 0.6288 | ℒ_G: 1.7905 | D(x): 0.8047 | D(x_o): 0.0805 | D(G(z)): 0.1753 / 0.1724\n",
      "[456/500][1/24] | ℒ_D: 0.6150 | ℒ_G: 1.8183 | D(x): 0.8107 | D(x_o): 0.0778 | D(G(z)): 0.1701 / 0.1677\n",
      "[457/500][1/24] | ℒ_D: 0.6315 | ℒ_G: 1.8483 | D(x): 0.7874 | D(x_o): 0.0844 | D(G(z)): 0.1670 / 0.1639\n",
      "[458/500][1/24] | ℒ_D: 0.6293 | ℒ_G: 1.8285 | D(x): 0.8043 | D(x_o): 0.0981 | D(G(z)): 0.1714 / 0.1678\n",
      "[459/500][1/24] | ℒ_D: 0.6223 | ℒ_G: 1.8424 | D(x): 0.8106 | D(x_o): 0.0825 | D(G(z)): 0.1679 / 0.1647\n",
      "[460/500][1/24] | ℒ_D: 0.6429 | ℒ_G: 1.8586 | D(x): 0.7950 | D(x_o): 0.0675 | D(G(z)): 0.1650 / 0.1620\n",
      "[461/500][1/24] | ℒ_D: 0.6291 | ℒ_G: 1.8074 | D(x): 0.7961 | D(x_o): 0.0704 | D(G(z)): 0.1715 / 0.1690\n",
      "[462/500][1/24] | ℒ_D: 0.6255 | ℒ_G: 1.8029 | D(x): 0.8128 | D(x_o): 0.0760 | D(G(z)): 0.1718 / 0.1696\n",
      "[463/500][1/24] | ℒ_D: 0.7022 | ℒ_G: 1.7916 | D(x): 0.7310 | D(x_o): 0.0941 | D(G(z)): 0.1750 / 0.1726\n",
      "[464/500][1/24] | ℒ_D: 0.6206 | ℒ_G: 1.7552 | D(x): 0.8120 | D(x_o): 0.0862 | D(G(z)): 0.1822 / 0.1790\n",
      "[465/500][1/24] | ℒ_D: 0.6193 | ℒ_G: 1.7824 | D(x): 0.8138 | D(x_o): 0.0869 | D(G(z)): 0.1770 / 0.1738\n",
      "[466/500][1/24] | ℒ_D: 0.6203 | ℒ_G: 1.7407 | D(x): 0.8194 | D(x_o): 0.0711 | D(G(z)): 0.1886 / 0.1826\n",
      "[467/500][1/24] | ℒ_D: 0.6181 | ℒ_G: 1.8523 | D(x): 0.8103 | D(x_o): 0.0941 | D(G(z)): 0.1675 / 0.1636\n",
      "[468/500][1/24] | ℒ_D: 0.6217 | ℒ_G: 1.8181 | D(x): 0.8169 | D(x_o): 0.0708 | D(G(z)): 0.1724 / 0.1686\n",
      "[469/500][1/24] | ℒ_D: 0.6496 | ℒ_G: 1.7729 | D(x): 0.8148 | D(x_o): 0.0702 | D(G(z)): 0.1862 / 0.1796\n",
      "[470/500][1/24] | ℒ_D: 0.6604 | ℒ_G: 1.8297 | D(x): 0.7781 | D(x_o): 0.0794 | D(G(z)): 0.1727 / 0.1675\n",
      "[471/500][1/24] | ℒ_D: 0.6245 | ℒ_G: 1.9017 | D(x): 0.7947 | D(x_o): 0.0916 | D(G(z)): 0.1605 / 0.1567\n",
      "[472/500][1/24] | ℒ_D: 0.6271 | ℒ_G: 1.8218 | D(x): 0.8086 | D(x_o): 0.1096 | D(G(z)): 0.1754 / 0.1685\n",
      "[473/500][1/24] | ℒ_D: 0.6070 | ℒ_G: 1.8342 | D(x): 0.8140 | D(x_o): 0.0747 | D(G(z)): 0.1725 / 0.1670\n",
      "[474/500][1/24] | ℒ_D: 0.6292 | ℒ_G: 1.8301 | D(x): 0.8103 | D(x_o): 0.0738 | D(G(z)): 0.1735 / 0.1680\n",
      "[475/500][1/24] | ℒ_D: 0.6397 | ℒ_G: 1.8695 | D(x): 0.8083 | D(x_o): 0.1075 | D(G(z)): 0.1668 / 0.1623\n",
      "[476/500][1/24] | ℒ_D: 0.6173 | ℒ_G: 1.8413 | D(x): 0.8178 | D(x_o): 0.0838 | D(G(z)): 0.1682 / 0.1649\n",
      "[477/500][1/24] | ℒ_D: 0.6329 | ℒ_G: 1.8585 | D(x): 0.7976 | D(x_o): 0.0897 | D(G(z)): 0.1691 / 0.1647\n",
      "[478/500][1/24] | ℒ_D: 0.6117 | ℒ_G: 1.8412 | D(x): 0.8281 | D(x_o): 0.0719 | D(G(z)): 0.1667 / 0.1638\n",
      "[479/500][1/24] | ℒ_D: 0.6195 | ℒ_G: 1.8719 | D(x): 0.8186 | D(x_o): 0.0745 | D(G(z)): 0.1626 / 0.1597\n",
      "[480/500][1/24] | ℒ_D: 0.6503 | ℒ_G: 1.8399 | D(x): 0.7997 | D(x_o): 0.0726 | D(G(z)): 0.1698 / 0.1657\n",
      "[481/500][1/24] | ℒ_D: 0.5928 | ℒ_G: 1.8626 | D(x): 0.8285 | D(x_o): 0.0663 | D(G(z)): 0.1654 / 0.1616\n",
      "[482/500][1/24] | ℒ_D: 0.6158 | ℒ_G: 1.8613 | D(x): 0.8281 | D(x_o): 0.0752 | D(G(z)): 0.1690 / 0.1644\n",
      "[483/500][1/24] | ℒ_D: 0.6109 | ℒ_G: 1.8574 | D(x): 0.8223 | D(x_o): 0.0982 | D(G(z)): 0.1682 / 0.1634\n",
      "[484/500][1/24] | ℒ_D: 0.6339 | ℒ_G: 1.8857 | D(x): 0.8101 | D(x_o): 0.0850 | D(G(z)): 0.1634 / 0.1591\n",
      "[485/500][1/24] | ℒ_D: 0.6159 | ℒ_G: 1.9262 | D(x): 0.8042 | D(x_o): 0.0989 | D(G(z)): 0.1579 / 0.1543\n",
      "[486/500][1/24] | ℒ_D: 0.6181 | ℒ_G: 1.9155 | D(x): 0.8216 | D(x_o): 0.0770 | D(G(z)): 0.1575 / 0.1541\n",
      "[487/500][1/24] | ℒ_D: 0.6748 | ℒ_G: 1.9043 | D(x): 0.7696 | D(x_o): 0.0804 | D(G(z)): 0.1623 / 0.1580\n",
      "[488/500][1/24] | ℒ_D: 0.6149 | ℒ_G: 1.9039 | D(x): 0.8126 | D(x_o): 0.0731 | D(G(z)): 0.1598 / 0.1561\n",
      "[489/500][1/24] | ℒ_D: 0.6261 | ℒ_G: 1.9050 | D(x): 0.8075 | D(x_o): 0.0707 | D(G(z)): 0.1586 / 0.1553\n",
      "[490/500][1/24] | ℒ_D: 0.6064 | ℒ_G: 1.9088 | D(x): 0.8228 | D(x_o): 0.0834 | D(G(z)): 0.1591 / 0.1552\n",
      "[491/500][1/24] | ℒ_D: 0.5889 | ℒ_G: 1.9122 | D(x): 0.8343 | D(x_o): 0.0752 | D(G(z)): 0.1583 / 0.1550\n",
      "[492/500][1/24] | ℒ_D: 0.6271 | ℒ_G: 1.9227 | D(x): 0.8112 | D(x_o): 0.0998 | D(G(z)): 0.1554 / 0.1521\n",
      "[493/500][1/24] | ℒ_D: 0.6176 | ℒ_G: 1.8974 | D(x): 0.8129 | D(x_o): 0.0759 | D(G(z)): 0.1590 / 0.1557\n",
      "[494/500][1/24] | ℒ_D: 0.6183 | ℒ_G: 1.9195 | D(x): 0.8062 | D(x_o): 0.0826 | D(G(z)): 0.1561 / 0.1532\n",
      "[495/500][1/24] | ℒ_D: 0.6084 | ℒ_G: 1.9090 | D(x): 0.8273 | D(x_o): 0.0750 | D(G(z)): 0.1559 / 0.1533\n",
      "[496/500][1/24] | ℒ_D: 0.6029 | ℒ_G: 1.9307 | D(x): 0.8282 | D(x_o): 0.0746 | D(G(z)): 0.1555 / 0.1522\n",
      "[497/500][1/24] | ℒ_D: 0.6198 | ℒ_G: 1.9165 | D(x): 0.8162 | D(x_o): 0.0752 | D(G(z)): 0.1544 / 0.1519\n",
      "[498/500][1/24] | ℒ_D: 0.6397 | ℒ_G: 1.9446 | D(x): 0.7890 | D(x_o): 0.0814 | D(G(z)): 0.1510 / 0.1483\n",
      "[499/500][1/24] | ℒ_D: 0.5810 | ℒ_G: 1.9178 | D(x): 0.8383 | D(x_o): 0.0767 | D(G(z)): 0.1544 / 0.1516\n",
      "[500/500][1/24] | ℒ_D: 0.6038 | ℒ_G: 1.9177 | D(x): 0.8324 | D(x_o): 0.0738 | D(G(z)): 0.1567 / 0.1533\n"
     ]
    }
   ],
   "source": [
    "# Training Loop\n",
    "\n",
    "# Lists to keep track of progress\n",
    "img_list = []\n",
    "G_losses = []\n",
    "D_losses = []\n",
    "iters = 0\n",
    "\n",
    "label_smoothing_factor = 0.15\n",
    "\n",
    "print(\"Starting Training Loop...\")\n",
    "# For each epoch\n",
    "for epoch in range(num_epochs):\n",
    "    # For each batch in the dataloader\n",
    "    for i, (data, opendata) in enumerate(zip(dataloader, extraloader), 0):\n",
    "        ############################\n",
    "        # (1) Update D network: maximize log(D(x_CLOSED)) + lambda_G * log(1 - D(G(z))) + lambda_0 * log(D(x_OPEN))\n",
    "        ###########################\n",
    "        ## Train with all-real batch\n",
    "        netD.zero_grad()\n",
    "        # Format batch\n",
    "        real_cpu = data.to(device)\n",
    "        b_size = real_cpu.size(0)\n",
    "        label = torch.full((b_size,), real_label, dtype=torch.float, device=device)\n",
    "        # labels smoothing\n",
    "        label -= (torch.rand(b_size, device=device) * label_smoothing_factor * (1 if real_label==1 else -1))\n",
    "        # Forward pass real batch through D\n",
    "        output = netD(real_cpu).view(-1)\n",
    "        # Calculate loss on all-real batch\n",
    "        errD_real = criterion(output, label)\n",
    "        # Calculate gradients for D in backward pass\n",
    "        errD_real.backward()\n",
    "        D_x = output.mean().item()\n",
    "\n",
    "        ## Train with all-fake batch\n",
    "        # Generate batch of latent vectors\n",
    "        noise = torch.randn(b_size, nz, 8, 8, device=device)\n",
    "        # Generate fake image batch with G\n",
    "        fake = netG(noise)\n",
    "        label.fill_(fake_label)\n",
    "        # labels smoothing\n",
    "        label += (torch.rand(b_size, device=device) * label_smoothing_factor * (1 if fake_label==0 else -1))\n",
    "        # Classify all fake batch with D\n",
    "        output = netD(fake.detach()).view(-1)\n",
    "        # Calculate D's loss on the all-fake batch\n",
    "        errD_fake = criterion(output, label)\n",
    "        # Calculate the gradients for this batch\n",
    "        errD_fake.backward()\n",
    "        D_G_z1 = output.mean().item()\n",
    "        \n",
    "\n",
    "        ## Train on open data\n",
    "        # Format batch\n",
    "        opendata = opendata.to(device)\n",
    "        b_size = opendata.size(0)\n",
    "        label_open = torch.full((b_size,), fake_label, dtype=torch.float, device=device)\n",
    "        # labels smoothing\n",
    "        label_open += (torch.rand(b_size, device=device) * label_smoothing_factor * (1 if fake_label==0 else -1))\n",
    "        # Forward pass real batch through D\n",
    "        output = netD(opendata).view(-1)\n",
    "        # Calculate loss on all-real batch\n",
    "        errD_open = criterion(output, label_open)\n",
    "        # Calculate gradients for D in backward pass\n",
    "        errD_open.backward()\n",
    "        D_x_open = output.mean().item()\n",
    "\n",
    "        # Add the gradients from the all-real and all-fake batches\n",
    "        errD = errD_real + lambda_G * errD_fake + lambda_0 * errD_open\n",
    "        # Update D\n",
    "        optimizerD.step()\n",
    "        \n",
    "\n",
    "        ############################\n",
    "        # (2) Update G network: maximize log(D(G(z)))\n",
    "        ###########################\n",
    "        netG.zero_grad()\n",
    "        label.fill_(real_label)  # fake labels are real for generator cost\n",
    "        # Since we just updated D, perform another forward pass of all-fake batch through D\n",
    "        output = netD(fake).view(-1)\n",
    "        # Calculate G's loss based on this output\n",
    "        errG = criterion(output, label)\n",
    "        # Calculate gradients for G\n",
    "        errG.backward()\n",
    "        D_G_z2 = output.mean().item()\n",
    "        # Update G\n",
    "        optimizerG.step()\n",
    "\n",
    "        # Output training stats\n",
    "        if i % 200 == 0:\n",
    "            print(f\"[{epoch+1}/{num_epochs}][{i+1}/{len(dataloader)}] | ℒ_D: {errD.item():.4f} | ℒ_G: {errG.item():.4f} | \" +\n",
    "                  f\"D(x): {D_x:.4f} | D(x_o): {D_x_open:.4f} | D(G(z)): {D_G_z1:.4f} / {D_G_z2:.4f}\")\n",
    "            #print('[%d/%d][%d/%d]\\tLoss_D: %.4f\\tLoss_G: %.4f\\tD(x): %.4f\\tD(G(z)): %.4f / %.4f'\n",
    "            #      % (epoch, num_epochs, i, len(dataloader),\n",
    "            #         errD.item(), errG.item(), D_x, D_G_z1, D_G_z2))\n",
    "\n",
    "        # Save Losses for plotting later\n",
    "        G_losses.append(errG.item())\n",
    "        D_losses.append(errD.item())\n",
    "\n",
    "        # Check how the generator is doing by saving G's output on fixed_noise\n",
    "        if (iters % 500 == 0) or ((epoch == num_epochs-1) and (i == len(dataloader)-1)):\n",
    "            with torch.no_grad():\n",
    "                fake = netG(fixed_noise).detach().cpu()\n",
    "            img_list.append(vutils.make_grid(fake, padding=2, normalize=True))\n",
    "\n",
    "        iters += 1\n",
    "        \n",
    "        \n",
    "    cur_model_wts = copy.deepcopy(netG.state_dict())\n",
    "    path_to_save_paramOnly = os.path.join(save_dir, 'epoch-{}.GNet'.format(epoch+1))\n",
    "    torch.save(cur_model_wts, path_to_save_paramOnly)\n",
    "    \n",
    "    cur_model_wts = copy.deepcopy(netD.state_dict())\n",
    "    path_to_save_paramOnly = os.path.join(save_dir, 'epoch-{}.DNet'.format(epoch+1))\n",
    "    torch.save(cur_model_wts, path_to_save_paramOnly)"
   ]
  },
  {
   "cell_type": "markdown",
   "metadata": {},
   "source": [
    "## drawing the error curves"
   ]
  },
  {
   "cell_type": "code",
   "execution_count": 18,
   "metadata": {},
   "outputs": [
    {
     "data": {
      "image/png": "[encoded data removed]",
      "text/plain": [
       "<Figure size 720x360 with 1 Axes>"
      ]
     },
     "metadata": {
      "needs_background": "light"
     },
     "output_type": "display_data"
    }
   ],
   "source": [
    "plt.figure(figsize=(10,5))\n",
    "plt.title(\"Generator and Discriminator Loss During Training\")\n",
    "plt.plot(G_losses,label=\"G\")\n",
    "plt.plot(D_losses,label=\"D\")\n",
    "plt.xlabel(\"iterations\")\n",
    "plt.ylabel(\"Loss\")\n",
    "plt.legend()\n",
    "plt.savefig('learningCurves_{}.png'.format(modelFlag), bbox_inches='tight',transparent=True)\n",
    "# plt.show()"
   ]
  },
  {
   "cell_type": "markdown",
   "metadata": {},
   "source": [
    "## Testing"
   ]
  },
  {
   "cell_type": "code",
   "execution_count": 19,
   "metadata": {},
   "outputs": [
    {
     "data": {
      "text/plain": [
       "<All keys matched successfully>"
      ]
     },
     "execution_count": 19,
     "metadata": {},
     "output_type": "execute_result"
    }
   ],
   "source": [
    "netD.load_state_dict(torch.load(\"exp/step002_GANfea_v1_Res18sc/epoch-300.DNet\"))"
   ]
  },
  {
   "cell_type": "code",
   "execution_count": 70,
   "metadata": {},
   "outputs": [
    {
     "name": "stdout",
     "output_type": "stream",
     "text": [
      "Doing 1/13\n",
      "Doing 2/13\n",
      "Doing 3/13\n",
      "Doing 4/13\n",
      "Doing 5/13\n",
      "Doing 6/13\n",
      "Doing 7/13\n",
      "Doing 8/13\n",
      "Doing 9/13\n",
      "Doing 10/13\n",
      "Doing 11/13\n",
      "Doing 12/13\n",
      "Doing 13/13\n"
     ]
    }
   ],
   "source": [
    "del handle\n",
    "handle = network_add_hook_for_features(backbone, \"layer4\", features)\n",
    "\n",
    "features = []\n",
    "\n",
    "\n",
    "backbone.eval()\n",
    "for i, (data, _) in enumerate(testloader):\n",
    "    print(f\"Doing {i+1}/{len(testloader)}\")\n",
    "    _ = backbone(data.cuda())"
   ]
  },
  {
   "cell_type": "code",
   "execution_count": 72,
   "metadata": {},
   "outputs": [
    {
     "name": "stdout",
     "output_type": "stream",
     "text": [
      "0\n"
     ]
    },
    {
     "ename": "NotImplementedError",
     "evalue": "There were no tensor arguments to this function (e.g., you passed an empty list of Tensors), but no fallback function is registered for schema aten::_cat.  This usually means that this function requires a non-empty list of Tensors, or that you (the operator writer) forgot to register a fallback function.  Available functions are [CPU, CUDA, QuantizedCPU, BackendSelect, Python, Named, Conjugate, Negative, ZeroTensor, ADInplaceOrView, AutogradOther, AutogradCPU, AutogradCUDA, AutogradXLA, AutogradLazy, AutogradXPU, AutogradMLC, AutogradHPU, AutogradNestedTensor, AutogradPrivateUse1, AutogradPrivateUse2, AutogradPrivateUse3, Tracer, AutocastCPU, Autocast, Batched, VmapMode, Functionalize].\n\nCPU: registered at /opt/conda/conda-bld/pytorch_1646755853668/work/build/aten/src/ATen/RegisterCPU.cpp:21063 [kernel]\nCUDA: registered at /opt/conda/conda-bld/pytorch_1646755853668/work/build/aten/src/ATen/RegisterCUDA.cpp:29726 [kernel]\nQuantizedCPU: registered at /opt/conda/conda-bld/pytorch_1646755853668/work/build/aten/src/ATen/RegisterQuantizedCPU.cpp:1258 [kernel]\nBackendSelect: fallthrough registered at /opt/conda/conda-bld/pytorch_1646755853668/work/aten/src/ATen/core/BackendSelectFallbackKernel.cpp:3 [backend fallback]\nPython: registered at /opt/conda/conda-bld/pytorch_1646755853668/work/aten/src/ATen/core/PythonFallbackKernel.cpp:47 [backend fallback]\nNamed: registered at /opt/conda/conda-bld/pytorch_1646755853668/work/aten/src/ATen/core/NamedRegistrations.cpp:7 [backend fallback]\nConjugate: registered at /opt/conda/conda-bld/pytorch_1646755853668/work/aten/src/ATen/ConjugateFallback.cpp:18 [backend fallback]\nNegative: registered at /opt/conda/conda-bld/pytorch_1646755853668/work/aten/src/ATen/native/NegateFallback.cpp:18 [backend fallback]\nZeroTensor: registered at /opt/conda/conda-bld/pytorch_1646755853668/work/aten/src/ATen/ZeroTensorFallback.cpp:86 [backend fallback]\nADInplaceOrView: fallthrough registered at /opt/conda/conda-bld/pytorch_1646755853668/work/aten/src/ATen/core/VariableFallbackKernel.cpp:64 [backend fallback]\nAutogradOther: registered at /opt/conda/conda-bld/pytorch_1646755853668/work/torch/csrc/autograd/generated/VariableType_3.cpp:11380 [autograd kernel]\nAutogradCPU: registered at /opt/conda/conda-bld/pytorch_1646755853668/work/torch/csrc/autograd/generated/VariableType_3.cpp:11380 [autograd kernel]\nAutogradCUDA: registered at /opt/conda/conda-bld/pytorch_1646755853668/work/torch/csrc/autograd/generated/VariableType_3.cpp:11380 [autograd kernel]\nAutogradXLA: registered at /opt/conda/conda-bld/pytorch_1646755853668/work/torch/csrc/autograd/generated/VariableType_3.cpp:11380 [autograd kernel]\nAutogradLazy: registered at /opt/conda/conda-bld/pytorch_1646755853668/work/torch/csrc/autograd/generated/VariableType_3.cpp:11380 [autograd kernel]\nAutogradXPU: registered at /opt/conda/conda-bld/pytorch_1646755853668/work/torch/csrc/autograd/generated/VariableType_3.cpp:11380 [autograd kernel]\nAutogradMLC: registered at /opt/conda/conda-bld/pytorch_1646755853668/work/torch/csrc/autograd/generated/VariableType_3.cpp:11380 [autograd kernel]\nAutogradHPU: registered at /opt/conda/conda-bld/pytorch_1646755853668/work/torch/csrc/autograd/generated/VariableType_3.cpp:11380 [autograd kernel]\nAutogradNestedTensor: registered at /opt/conda/conda-bld/pytorch_1646755853668/work/torch/csrc/autograd/generated/VariableType_3.cpp:11380 [autograd kernel]\nAutogradPrivateUse1: registered at /opt/conda/conda-bld/pytorch_1646755853668/work/torch/csrc/autograd/generated/VariableType_3.cpp:11380 [autograd kernel]\nAutogradPrivateUse2: registered at /opt/conda/conda-bld/pytorch_1646755853668/work/torch/csrc/autograd/generated/VariableType_3.cpp:11380 [autograd kernel]\nAutogradPrivateUse3: registered at /opt/conda/conda-bld/pytorch_1646755853668/work/torch/csrc/autograd/generated/VariableType_3.cpp:11380 [autograd kernel]\nTracer: registered at /opt/conda/conda-bld/pytorch_1646755853668/work/torch/csrc/autograd/generated/TraceType_3.cpp:11220 [kernel]\nAutocastCPU: fallthrough registered at /opt/conda/conda-bld/pytorch_1646755853668/work/aten/src/ATen/autocast_mode.cpp:461 [backend fallback]\nAutocast: fallthrough registered at /opt/conda/conda-bld/pytorch_1646755853668/work/aten/src/ATen/autocast_mode.cpp:305 [backend fallback]\nBatched: registered at /opt/conda/conda-bld/pytorch_1646755853668/work/aten/src/ATen/BatchingRegistrations.cpp:1059 [backend fallback]\nVmapMode: fallthrough registered at /opt/conda/conda-bld/pytorch_1646755853668/work/aten/src/ATen/VmapModeRegistrations.cpp:33 [backend fallback]\nFunctionalize: registered at /opt/conda/conda-bld/pytorch_1646755853668/work/aten/src/ATen/FunctionalizeFallbackKernel.cpp:52 [backend fallback]\n",
     "output_type": "error",
     "traceback": [
      "\u001b[0;31m---------------------------------------------------------------------------\u001b[0m",
      "\u001b[0;31mNotImplementedError\u001b[0m                       Traceback (most recent call last)",
      "\u001b[1;32m/media/zullich/LabControlli1/OpenGAN/demo_CrossDatasetOpenSet_train_lambda0.ipynb Cell 49'\u001b[0m in \u001b[0;36m<cell line: 2>\u001b[0;34m()\u001b[0m\n\u001b[1;32m      <a href='vscode-notebook-cell:/media/zullich/LabControlli1/OpenGAN/demo_CrossDatasetOpenSet_train_lambda0.ipynb#ch0000043?line=0'>1</a>\u001b[0m \u001b[39mprint\u001b[39m(\u001b[39mlen\u001b[39m(features))\n\u001b[0;32m----> <a href='vscode-notebook-cell:/media/zullich/LabControlli1/OpenGAN/demo_CrossDatasetOpenSet_train_lambda0.ipynb#ch0000043?line=1'>2</a>\u001b[0m features \u001b[39m=\u001b[39m torch\u001b[39m.\u001b[39;49mcat(features, dim\u001b[39m=\u001b[39;49m\u001b[39m0\u001b[39;49m)\n",
      "\u001b[0;31mNotImplementedError\u001b[0m: There were no tensor arguments to this function (e.g., you passed an empty list of Tensors), but no fallback function is registered for schema aten::_cat.  This usually means that this function requires a non-empty list of Tensors, or that you (the operator writer) forgot to register a fallback function.  Available functions are [CPU, CUDA, QuantizedCPU, BackendSelect, Python, Named, Conjugate, Negative, ZeroTensor, ADInplaceOrView, AutogradOther, AutogradCPU, AutogradCUDA, AutogradXLA, AutogradLazy, AutogradXPU, AutogradMLC, AutogradHPU, AutogradNestedTensor, AutogradPrivateUse1, AutogradPrivateUse2, AutogradPrivateUse3, Tracer, AutocastCPU, Autocast, Batched, VmapMode, Functionalize].\n\nCPU: registered at /opt/conda/conda-bld/pytorch_1646755853668/work/build/aten/src/ATen/RegisterCPU.cpp:21063 [kernel]\nCUDA: registered at /opt/conda/conda-bld/pytorch_1646755853668/work/build/aten/src/ATen/RegisterCUDA.cpp:29726 [kernel]\nQuantizedCPU: registered at /opt/conda/conda-bld/pytorch_1646755853668/work/build/aten/src/ATen/RegisterQuantizedCPU.cpp:1258 [kernel]\nBackendSelect: fallthrough registered at /opt/conda/conda-bld/pytorch_1646755853668/work/aten/src/ATen/core/BackendSelectFallbackKernel.cpp:3 [backend fallback]\nPython: registered at /opt/conda/conda-bld/pytorch_1646755853668/work/aten/src/ATen/core/PythonFallbackKernel.cpp:47 [backend fallback]\nNamed: registered at /opt/conda/conda-bld/pytorch_1646755853668/work/aten/src/ATen/core/NamedRegistrations.cpp:7 [backend fallback]\nConjugate: registered at /opt/conda/conda-bld/pytorch_1646755853668/work/aten/src/ATen/ConjugateFallback.cpp:18 [backend fallback]\nNegative: registered at /opt/conda/conda-bld/pytorch_1646755853668/work/aten/src/ATen/native/NegateFallback.cpp:18 [backend fallback]\nZeroTensor: registered at /opt/conda/conda-bld/pytorch_1646755853668/work/aten/src/ATen/ZeroTensorFallback.cpp:86 [backend fallback]\nADInplaceOrView: fallthrough registered at /opt/conda/conda-bld/pytorch_1646755853668/work/aten/src/ATen/core/VariableFallbackKernel.cpp:64 [backend fallback]\nAutogradOther: registered at /opt/conda/conda-bld/pytorch_1646755853668/work/torch/csrc/autograd/generated/VariableType_3.cpp:11380 [autograd kernel]\nAutogradCPU: registered at /opt/conda/conda-bld/pytorch_1646755853668/work/torch/csrc/autograd/generated/VariableType_3.cpp:11380 [autograd kernel]\nAutogradCUDA: registered at /opt/conda/conda-bld/pytorch_1646755853668/work/torch/csrc/autograd/generated/VariableType_3.cpp:11380 [autograd kernel]\nAutogradXLA: registered at /opt/conda/conda-bld/pytorch_1646755853668/work/torch/csrc/autograd/generated/VariableType_3.cpp:11380 [autograd kernel]\nAutogradLazy: registered at /opt/conda/conda-bld/pytorch_1646755853668/work/torch/csrc/autograd/generated/VariableType_3.cpp:11380 [autograd kernel]\nAutogradXPU: registered at /opt/conda/conda-bld/pytorch_1646755853668/work/torch/csrc/autograd/generated/VariableType_3.cpp:11380 [autograd kernel]\nAutogradMLC: registered at /opt/conda/conda-bld/pytorch_1646755853668/work/torch/csrc/autograd/generated/VariableType_3.cpp:11380 [autograd kernel]\nAutogradHPU: registered at /opt/conda/conda-bld/pytorch_1646755853668/work/torch/csrc/autograd/generated/VariableType_3.cpp:11380 [autograd kernel]\nAutogradNestedTensor: registered at /opt/conda/conda-bld/pytorch_1646755853668/work/torch/csrc/autograd/generated/VariableType_3.cpp:11380 [autograd kernel]\nAutogradPrivateUse1: registered at /opt/conda/conda-bld/pytorch_1646755853668/work/torch/csrc/autograd/generated/VariableType_3.cpp:11380 [autograd kernel]\nAutogradPrivateUse2: registered at /opt/conda/conda-bld/pytorch_1646755853668/work/torch/csrc/autograd/generated/VariableType_3.cpp:11380 [autograd kernel]\nAutogradPrivateUse3: registered at /opt/conda/conda-bld/pytorch_1646755853668/work/torch/csrc/autograd/generated/VariableType_3.cpp:11380 [autograd kernel]\nTracer: registered at /opt/conda/conda-bld/pytorch_1646755853668/work/torch/csrc/autograd/generated/TraceType_3.cpp:11220 [kernel]\nAutocastCPU: fallthrough registered at /opt/conda/conda-bld/pytorch_1646755853668/work/aten/src/ATen/autocast_mode.cpp:461 [backend fallback]\nAutocast: fallthrough registered at /opt/conda/conda-bld/pytorch_1646755853668/work/aten/src/ATen/autocast_mode.cpp:305 [backend fallback]\nBatched: registered at /opt/conda/conda-bld/pytorch_1646755853668/work/aten/src/ATen/BatchingRegistrations.cpp:1059 [backend fallback]\nVmapMode: fallthrough registered at /opt/conda/conda-bld/pytorch_1646755853668/work/aten/src/ATen/VmapModeRegistrations.cpp:33 [backend fallback]\nFunctionalize: registered at /opt/conda/conda-bld/pytorch_1646755853668/work/aten/src/ATen/FunctionalizeFallbackKernel.cpp:52 [backend fallback]\n"
     ]
    }
   ],
   "source": [
    "print(len(features))\n",
    "features = torch.cat(features, dim=0)"
   ]
  },
  {
   "cell_type": "code",
   "execution_count": 27,
   "metadata": {},
   "outputs": [],
   "source": [
    "torch.save(features, \"punzoni_res18_features_TEST.pt\")"
   ]
  },
  {
   "cell_type": "code",
   "execution_count": 20,
   "metadata": {},
   "outputs": [],
   "source": [
    "features = torch.load(\"punzoni_res18_features_TEST.pt\")"
   ]
  },
  {
   "cell_type": "code",
   "execution_count": 21,
   "metadata": {},
   "outputs": [],
   "source": [
    "testset_closeset = BasicDataset(data=features)\n",
    "testloader = DataLoader(testset_closeset, batch_size=batch_size, shuffle=True, num_workers=1)"
   ]
  },
  {
   "cell_type": "code",
   "execution_count": 76,
   "metadata": {},
   "outputs": [
    {
     "data": {
      "text/plain": [
       "770"
      ]
     },
     "execution_count": 76,
     "metadata": {},
     "output_type": "execute_result"
    }
   ],
   "source": [
    "len(testset_closeset)"
   ]
  },
  {
   "cell_type": "code",
   "execution_count": 78,
   "metadata": {},
   "outputs": [
    {
     "data": {
      "text/plain": [
       "array([5.4681915e-01, 5.4998416e-01, 6.9134593e-01, 3.9812735e-01,\n",
       "       4.8424762e-01, 4.5630208e-01, 4.7543547e-01, 4.4668356e-01,\n",
       "       2.4908355e-01, 4.7276303e-01, 3.5433048e-01, 4.7740155e-01,\n",
       "       4.9023098e-01, 3.6746266e-01, 3.9910129e-01, 3.6071619e-01,\n",
       "       3.9251909e-01, 4.4493988e-01, 3.6710623e-01, 6.2011981e-01,\n",
       "       1.4551531e-01, 6.0379994e-01, 5.3851563e-01, 4.0199724e-01,\n",
       "       5.9651732e-01, 4.8539782e-01, 4.8239484e-01, 6.4089108e-01,\n",
       "       2.8629994e-01, 5.6395477e-01, 6.4832455e-01, 3.9690807e-01,\n",
       "       4.6671659e-01, 2.9972118e-01, 2.2662856e-01, 4.7201315e-01,\n",
       "       5.1305634e-01, 4.9492052e-01, 2.5477198e-01, 3.8925600e-01,\n",
       "       6.0808432e-01, 8.6575466e-01, 3.7611747e-01, 4.6695316e-01,\n",
       "       3.6368424e-01, 4.9619651e-01, 4.7230676e-01, 5.8354187e-01,\n",
       "       4.3173307e-01, 9.6092325e-01, 3.6027578e-01, 4.1080546e-01,\n",
       "       6.4322674e-01, 3.9033142e-01, 3.8406268e-01, 5.6450844e-01,\n",
       "       4.0884873e-01, 9.2594951e-01, 3.8643524e-01, 4.2078316e-01,\n",
       "       3.2355651e-01, 3.6856672e-01, 3.6900353e-01, 3.8809469e-01,\n",
       "       3.2391983e-01, 5.3921509e-01, 4.3209067e-01, 6.5929949e-01,\n",
       "       5.1826078e-01, 5.2491701e-01, 4.4080698e-01, 5.8153528e-01,\n",
       "       5.7866597e-01, 4.5380750e-01, 4.0002152e-01, 2.5630921e-01,\n",
       "       5.6689209e-01, 4.4082710e-01, 6.7039210e-01, 4.3894291e-01,\n",
       "       4.3390000e-01, 3.9095327e-01, 8.0285126e-01, 5.8466351e-01,\n",
       "       3.7869021e-01, 5.2297616e-01, 2.7038321e-01, 6.1815894e-01,\n",
       "       3.3217141e-01, 5.6359708e-01, 4.6438891e-01, 6.3664019e-01,\n",
       "       5.4975039e-01, 3.8545358e-01, 3.6035225e-01, 4.9279183e-01,\n",
       "       6.6604972e-01, 5.0046754e-01, 3.8262933e-01, 6.5626401e-01,\n",
       "       4.3988910e-01, 3.9203206e-01, 3.4818989e-01, 4.5598331e-01,\n",
       "       4.8053658e-01, 5.7391888e-01, 3.2283995e-01, 4.2796090e-01,\n",
       "       4.2478284e-01, 3.9880347e-01, 8.9946091e-01, 7.9408705e-01,\n",
       "       3.9569464e-01, 3.7517607e-01, 5.0998545e-01, 4.5826843e-01,\n",
       "       6.2686199e-01, 4.9734366e-01, 3.9366415e-01, 4.6342468e-01,\n",
       "       6.2239844e-01, 3.0139229e-01, 4.0940619e-01, 4.7824061e-01,\n",
       "       4.4448635e-01, 4.6591273e-01, 6.0788935e-01, 4.9489611e-01,\n",
       "       3.4243265e-01, 4.6042833e-01, 3.5649806e-01, 4.4823852e-01,\n",
       "       3.7573746e-01, 4.0042847e-01, 4.2773828e-01, 5.1250851e-01,\n",
       "       3.5872823e-01, 4.7408983e-01, 5.2863395e-01, 3.5759139e-01,\n",
       "       4.5139271e-01, 3.7763372e-01, 4.6294725e-01, 3.5228831e-01,\n",
       "       5.7090068e-01, 3.6725435e-01, 6.1815894e-01, 4.4345230e-01,\n",
       "       5.8536816e-01, 4.7109163e-01, 4.6135360e-01, 4.4793066e-01,\n",
       "       4.2549476e-01, 2.3810141e-01, 2.5358793e-01, 4.2043102e-01,\n",
       "       5.7021677e-01, 4.4647598e-01, 4.6763918e-01, 3.6875364e-01,\n",
       "       5.6953871e-01, 3.5615656e-01, 4.8670420e-01, 5.5359119e-01,\n",
       "       9.4378263e-01, 4.0673938e-01, 5.2658659e-01, 4.3825260e-01,\n",
       "       5.8031642e-01, 4.1789228e-01, 4.7163376e-01, 3.4913319e-01,\n",
       "       3.2239869e-01, 6.6841942e-01, 4.5647067e-01, 5.5575269e-01,\n",
       "       5.9333950e-01, 4.8969144e-01, 3.8119754e-01, 3.4131649e-01,\n",
       "       4.3242294e-01, 4.4665757e-01, 3.9043891e-01, 5.4121208e-01,\n",
       "       4.3492970e-01, 4.8483503e-01, 4.3997031e-01, 3.9312643e-01,\n",
       "       4.1913214e-01, 4.7429633e-01, 9.1414744e-01, 4.0556577e-01,\n",
       "       4.8035312e-01, 6.6942036e-01, 8.1628376e-01, 4.7691920e-01,\n",
       "       4.2090425e-01, 4.9284562e-01, 5.8513129e-01, 3.5360977e-01,\n",
       "       2.6883525e-01, 3.6569858e-01, 6.4381468e-01, 3.5143259e-01,\n",
       "       4.2225605e-01, 6.9562608e-01, 4.2127103e-01, 3.4181979e-01,\n",
       "       4.3171325e-01, 7.6409978e-01, 3.4333670e-01, 5.3410751e-01,\n",
       "       5.5530697e-01, 3.6063311e-01, 4.1734660e-01, 4.4001472e-01,\n",
       "       3.7034097e-01, 4.4916695e-01, 4.2312539e-01, 4.6017826e-01,\n",
       "       4.7630277e-01, 4.4365090e-01, 4.4550183e-01, 4.4366553e-01,\n",
       "       4.2573377e-01, 6.5844697e-01, 1.7601712e-14, 5.5817908e-01,\n",
       "       3.9119145e-01, 4.0677720e-01, 2.8028223e-01, 6.2890363e-01,\n",
       "       4.2119756e-01, 6.6791856e-01, 8.3264256e-01, 4.6747765e-01,\n",
       "       4.2977712e-01, 4.7469217e-01, 4.7065064e-01, 2.4991384e-01,\n",
       "       4.5943639e-01, 5.6022173e-01, 4.8803630e-01, 4.6886259e-01,\n",
       "       3.8593200e-01, 4.0691373e-01, 7.7873230e-01, 3.4744281e-01,\n",
       "       3.5006788e-01, 4.8417103e-01, 4.4143263e-01, 4.9661312e-01,\n",
       "       4.8606777e-01, 5.1415896e-01, 3.3085263e-01, 3.9685282e-01,\n",
       "       5.1168025e-01, 4.0796193e-01, 4.2989987e-01, 3.5351679e-01,\n",
       "       5.7977438e-01, 5.3940988e-01, 3.4444612e-01, 5.6374055e-01,\n",
       "       4.9543720e-01, 4.6919847e-01, 4.0852952e-01, 4.7248051e-01,\n",
       "       4.4100302e-01, 9.6213776e-01, 4.6382421e-01, 3.8828403e-01,\n",
       "       4.8007089e-01, 3.9479733e-01, 3.9434072e-01, 5.5638677e-01,\n",
       "       3.5056806e-01, 4.1241515e-01, 4.8590818e-01, 6.3104701e-01,\n",
       "       5.5684447e-01, 3.6701185e-01, 2.4551025e-01, 4.6864277e-01,\n",
       "       7.9555267e-01, 3.7667561e-01, 4.0101030e-01, 3.3967462e-01,\n",
       "       4.3551871e-01, 3.2040316e-01, 6.6841942e-01, 4.6623611e-01,\n",
       "       3.3054870e-01, 6.5249354e-01, 4.8537153e-01, 4.1726077e-01,\n",
       "       5.8094448e-01, 4.8997825e-01, 4.6052903e-01, 4.7355554e-01,\n",
       "       3.9684710e-01, 4.7705686e-01, 4.6917862e-01, 2.1309599e-01,\n",
       "       6.5591252e-01, 4.5415410e-01, 5.0945544e-01, 3.7907025e-01,\n",
       "       5.9900641e-01, 4.8738390e-01, 5.3653038e-01, 4.5970568e-01,\n",
       "       8.9788544e-01, 4.5907813e-01, 5.5754012e-01, 4.8217767e-01,\n",
       "       9.1133845e-01, 4.4244811e-01, 8.6996257e-01, 4.0265793e-01,\n",
       "       5.6027400e-01, 4.6508542e-01, 4.5333558e-01, 4.4446385e-01,\n",
       "       3.5600257e-01, 3.4464777e-01, 4.1911384e-01, 5.8067787e-01,\n",
       "       4.6672443e-01, 5.0571048e-01, 6.3533908e-01, 3.1919715e-01,\n",
       "       4.6690348e-01, 4.0556577e-01, 5.5248916e-01, 7.3761362e-01,\n",
       "       2.2648736e-10, 3.6090359e-01, 4.2769378e-01, 3.6152178e-01,\n",
       "       5.3480840e-01, 3.8150740e-01, 3.7568536e-01, 3.5759583e-01,\n",
       "       3.5185221e-01, 4.2091453e-01, 1.2071920e-08, 4.9588659e-01,\n",
       "       4.8111117e-01, 6.2129819e-01, 3.9336529e-01, 5.0003910e-01,\n",
       "       4.2344385e-01, 4.1150385e-01, 2.9807198e-01, 3.7704337e-01,\n",
       "       4.4841936e-01, 3.8021263e-01, 4.1082090e-01, 4.8164630e-01,\n",
       "       5.0641072e-01, 3.6203486e-01, 4.0486002e-01, 4.2954767e-01,\n",
       "       4.8698166e-01, 6.7790562e-01, 4.5618528e-01, 4.5505813e-01,\n",
       "       3.8478470e-01, 4.5352906e-01, 5.1768482e-01, 6.3598615e-01,\n",
       "       4.3512213e-01, 4.9497449e-01, 4.0937340e-01, 4.5053184e-01,\n",
       "       3.6473238e-01, 4.5442829e-01, 4.4124898e-01, 4.5418668e-01,\n",
       "       4.7166514e-01, 4.7463199e-01, 6.1036444e-01, 4.2865005e-01,\n",
       "       5.1286167e-01, 4.5554304e-01, 4.5847544e-01, 4.2613837e-01,\n",
       "       4.4077998e-01, 4.1757885e-01, 4.8383173e-01, 9.1548127e-01,\n",
       "       3.6567044e-01, 3.7461632e-01, 3.3456993e-01, 4.1348946e-01,\n",
       "       4.3980303e-01, 6.1877239e-01, 4.8017406e-01, 7.7596641e-01,\n",
       "       4.5577672e-01, 4.8348644e-01, 4.7535378e-01, 5.8428776e-01,\n",
       "       3.9815107e-01, 3.8526893e-01, 4.0275598e-01, 8.2502747e-01,\n",
       "       5.5239797e-01, 5.5919695e-01, 5.3036016e-01, 3.5253760e-01,\n",
       "       2.9403293e-01, 3.2914600e-01, 4.2100513e-01, 4.8203123e-01,\n",
       "       4.2119756e-01, 6.0161012e-01, 4.2543709e-01, 5.4232240e-01,\n",
       "       3.6484352e-01, 5.7587856e-01, 3.7729865e-01, 4.5917839e-01,\n",
       "       4.8067999e-01, 2.8362341e-14, 4.0359595e-01, 4.7167659e-01,\n",
       "       5.8756584e-01, 4.6735701e-01, 4.1822967e-01, 5.5191404e-01,\n",
       "       3.6300761e-01, 5.3945804e-01, 3.2486489e-01, 2.7802294e-01,\n",
       "       4.0248707e-01, 4.3663669e-01, 4.5129061e-01, 3.9188552e-01,\n",
       "       3.8412428e-01, 8.5931206e-01, 8.4458762e-01, 4.5091674e-01,\n",
       "       4.6241099e-01, 4.6731240e-01, 5.7306373e-01, 4.9203613e-01,\n",
       "       5.4097182e-01, 5.4849309e-01, 4.0503630e-01, 4.1326776e-01,\n",
       "       3.6464122e-01, 4.0145999e-01, 3.5642117e-01, 3.7054127e-01,\n",
       "       4.6001595e-01, 3.6083421e-01, 4.8610178e-01, 3.9230368e-01,\n",
       "       5.0272071e-01, 5.4383135e-01, 5.0676733e-01, 5.5998927e-01,\n",
       "       4.8740247e-01, 5.5729312e-01, 3.4761801e-01, 5.3056794e-01,\n",
       "       5.8360517e-01, 5.1062262e-01, 4.6921799e-01, 4.4997725e-01,\n",
       "       5.5813652e-01, 4.6324393e-01, 4.4698039e-01, 6.7088968e-01,\n",
       "       4.8308372e-01, 4.1836846e-01, 5.1344067e-01, 3.8823193e-01,\n",
       "       4.8027572e-01, 3.7223732e-01, 4.3598279e-01, 3.3120662e-01,\n",
       "       3.2365489e-01, 4.4978380e-01, 4.3737990e-01, 5.6294137e-01,\n",
       "       4.1961196e-01, 4.6040577e-01, 4.6976781e-01, 4.4288805e-01,\n",
       "       4.6213323e-01, 3.6729231e-01, 3.7421617e-01, 6.1714810e-01,\n",
       "       3.6936277e-01, 3.8306028e-01, 9.2960608e-01, 5.4633498e-01,\n",
       "       4.9796686e-01, 4.7101057e-01, 4.6911293e-01, 5.3024805e-01,\n",
       "       6.5170340e-02, 4.9601585e-01, 8.6704248e-01, 4.5096135e-01,\n",
       "       4.4575059e-01, 4.5447010e-01, 4.5704055e-01, 4.4140008e-01,\n",
       "       3.3596495e-01, 4.5048803e-01, 3.1711105e-01, 4.8912013e-01,\n",
       "       4.5550048e-01, 5.4383135e-01, 4.8812798e-01, 4.2481518e-01,\n",
       "       3.1048104e-01, 3.5675856e-01, 3.6438540e-01, 4.4356373e-01,\n",
       "       4.7057188e-01, 4.5328391e-01, 5.4509681e-01, 4.0159988e-01,\n",
       "       4.1722071e-01, 3.8248369e-01, 3.9124042e-01, 4.3732888e-01,\n",
       "       4.3912649e-01, 4.0789387e-01, 4.2978817e-01, 3.7025487e-01,\n",
       "       4.2937428e-01, 4.9233866e-01, 5.4527175e-01, 3.9186555e-01,\n",
       "       5.4371512e-01, 4.5648295e-01, 3.6867675e-01, 5.2420074e-01,\n",
       "       4.7066143e-01, 4.6393791e-01, 3.1615564e-01, 4.6074045e-01,\n",
       "       5.9841466e-01, 5.2679849e-01, 4.6078745e-01, 1.5679733e-01,\n",
       "       4.5641941e-01, 4.2112640e-01, 5.3671873e-01, 6.7514861e-01,\n",
       "       3.0325067e-01, 5.6269473e-01, 4.7472924e-01, 3.7086225e-01,\n",
       "       5.5982220e-01, 5.2973348e-01, 4.2424521e-01, 5.1549202e-01,\n",
       "       3.7490624e-01, 4.1789228e-01, 4.2219928e-01, 4.6309447e-01,\n",
       "       4.8231679e-01, 5.2794671e-01, 4.4810107e-01, 4.2178038e-01,\n",
       "       5.2858055e-01, 4.6357784e-01, 6.8346554e-01, 3.9033666e-01,\n",
       "       4.2312393e-01, 4.4658709e-01, 6.3113040e-01, 4.5918864e-01,\n",
       "       4.4133753e-01, 3.5602933e-01, 4.8266369e-01, 2.7797353e-01,\n",
       "       6.3773042e-01, 3.8408187e-01, 3.9958024e-01, 4.8652145e-01,\n",
       "       6.7964709e-01, 4.2097744e-01, 4.4653830e-01, 3.5642117e-01,\n",
       "       4.8756951e-01, 4.5637336e-01, 4.8060331e-01, 4.5479727e-01,\n",
       "       4.7474793e-01, 5.6174517e-01, 4.5099384e-01, 4.8089668e-01,\n",
       "       4.4222689e-01, 4.3979886e-01, 3.5056967e-01, 4.4045794e-01,\n",
       "       2.8862134e-01, 3.3234787e-01, 5.2664739e-01, 1.7474362e-01,\n",
       "       4.6855912e-01, 6.4317966e-01, 3.6055085e-01, 5.8059031e-01,\n",
       "       5.8209240e-01, 2.2976801e-05, 5.5557770e-01, 4.2070127e-01,\n",
       "       5.5973446e-01, 4.4517374e-01, 2.2765763e-01, 3.4535122e-01,\n",
       "       5.4430014e-01, 4.6518219e-01, 4.0742853e-01, 3.9697060e-01,\n",
       "       3.7613034e-01, 5.4763597e-01, 3.0862233e-01, 4.7469798e-01,\n",
       "       5.8091700e-01, 5.2406633e-01, 5.9333950e-01, 5.7893807e-01,\n",
       "       4.7594205e-01, 5.7370847e-01, 4.8362994e-01, 4.1972798e-01,\n",
       "       4.1916239e-01, 3.6856672e-01, 4.1467112e-01, 4.3162298e-01,\n",
       "       4.3895549e-01, 2.6464215e-01, 3.6327279e-01, 3.8519371e-01,\n",
       "       4.7085205e-01, 5.2821434e-01, 8.8205761e-01, 4.0848377e-01,\n",
       "       4.0056640e-01, 4.6969941e-01, 5.6409097e-01, 4.5043057e-01,\n",
       "       4.3992814e-01, 5.5222124e-01, 3.4306979e-01, 6.6210467e-01,\n",
       "       5.0519902e-01, 3.0618384e-01, 5.0180125e-01, 4.0100625e-01,\n",
       "       3.7182635e-01, 3.4580088e-01, 5.0851232e-01, 5.4836464e-01,\n",
       "       3.2723454e-01, 3.1278294e-01, 3.4648454e-01, 4.0815240e-01,\n",
       "       3.6430147e-01, 6.1492014e-01, 4.4576931e-01, 3.9304948e-01,\n",
       "       5.2641624e-01, 5.1265407e-01, 7.2575736e-01, 5.0871515e-01,\n",
       "       6.5599316e-01, 3.3967450e-01, 4.6195391e-01, 3.5651153e-01,\n",
       "       3.3155289e-01, 5.2135229e-01, 3.4694141e-01, 4.5718670e-01,\n",
       "       3.9819497e-01, 3.6975709e-01, 5.1870471e-01, 3.4946749e-01,\n",
       "       3.6460802e-01, 5.3771806e-01, 5.0428498e-01, 4.9362454e-01,\n",
       "       3.9441696e-01, 5.3579021e-01, 3.5273510e-01, 6.0611844e-01,\n",
       "       4.4074631e-01, 7.5643861e-01, 5.7991248e-01, 3.9230368e-01,\n",
       "       4.5792523e-01, 3.0880928e-01, 3.8595980e-01, 4.8407045e-01,\n",
       "       5.4647082e-01, 4.2749101e-01, 4.3830705e-01, 2.7504554e-01,\n",
       "       3.6701185e-01, 3.7570450e-01, 4.7505000e-01, 6.1390024e-01,\n",
       "       3.3503437e-01, 5.3179079e-01, 6.6695732e-01, 5.7443160e-01,\n",
       "       7.9378313e-01, 6.0095656e-01, 5.4459316e-01, 3.7265083e-01,\n",
       "       5.7098371e-01, 4.5701435e-01, 3.9102647e-01, 4.3354255e-01,\n",
       "       4.3435973e-01, 4.6102992e-01, 5.1427966e-01, 4.4131890e-01,\n",
       "       5.2016819e-01, 5.9651732e-01, 3.8512522e-01, 4.2830721e-01,\n",
       "       4.3697140e-01, 4.1372526e-01, 3.6484352e-01, 4.4606808e-01,\n",
       "       4.1368073e-01, 4.0875259e-01, 4.4098976e-01, 3.3793744e-01,\n",
       "       5.8245325e-01, 3.3509573e-01, 3.8850048e-01, 4.3260565e-01,\n",
       "       4.3711200e-01, 5.0117922e-01, 4.4039449e-01, 6.6740382e-01,\n",
       "       5.8195341e-01, 3.8556273e-06, 6.6695732e-01, 4.0848377e-01,\n",
       "       7.2459443e-03, 4.3896577e-01, 3.9079577e-01, 3.9911330e-01,\n",
       "       9.1191214e-01, 5.5651003e-01, 3.8491398e-01, 4.6137679e-01,\n",
       "       4.6548504e-01, 3.9638153e-01, 4.1432759e-01, 5.2662981e-01,\n",
       "       3.2352442e-01, 5.0011706e-01, 3.7472859e-01, 5.2544457e-01,\n",
       "       3.2058814e-01, 5.3771091e-01], dtype=float32)"
      ]
     },
     "execution_count": 78,
     "metadata": {},
     "output_type": "execute_result"
    }
   ],
   "source": [
    "outputs_close"
   ]
  },
  {
   "cell_type": "code",
   "execution_count": 23,
   "metadata": {},
   "outputs": [
    {
     "name": "stdout",
     "output_type": "stream",
     "text": [
      "Correctly identified items: 1.0\n",
      "Correctly identified fakes: 0.009\n"
     ]
    },
    {
     "data": {
      "text/plain": [
       "Text(0.5, 1.0, 'ROC score 0.95685')"
      ]
     },
     "execution_count": 23,
     "metadata": {},
     "output_type": "execute_result"
    },
    {
     "data": {
      "image/png": "[encoded data removed]",
      "text/plain": [
       "<Figure size 432x288 with 1 Axes>"
      ]
     },
     "metadata": {
      "needs_background": "light"
     },
     "output_type": "display_data"
    }
   ],
   "source": [
    "x = next(iter(testloader)).cuda()\n",
    "(netD(x).view(-1) >= .5).sum().item() / x.size(0)\n",
    "\n",
    "correct = 0\n",
    "netD.eval()\n",
    "\n",
    "outputs_close = []\n",
    "with torch.no_grad():\n",
    "    for test_data in testloader:\n",
    "        output = netD(test_data.cuda()).view(-1)\n",
    "        outputs_close += [output.cpu()]\n",
    "        correct += (output >= .5).sum().item()\n",
    "\n",
    "outputs_close = torch.cat(outputs_close).numpy()\n",
    "\n",
    "print(\"Correctly identified items:\", correct/len(testloader.dataset))\n",
    "\n",
    "def get_features(module, input_, output):\n",
    "    features.append(output.cpu().detach())\n",
    "backbone.layer4.register_forward_hook(get_features)   \n",
    "\n",
    "correct_fake = 0\n",
    "outputs_open = []\n",
    "with torch.no_grad():\n",
    "    for ite in range(10):\n",
    "        #noise = torch.randn(100, 512, 8, 8, device=device)\n",
    "        features = []\n",
    "        noiseimg = torch.randn(100, 3, 256, 256, device=device)\n",
    "        _ = backbone(noiseimg)\n",
    "        feats = features[0].cuda()\n",
    "        assert feats.shape == (100, 512, 8, 8), f\"Features shape is {feats.shape}, expected (100, 512, 8, 8)\"\n",
    "        output = netD(feats).view(-1)\n",
    "        outputs_open.append(output.cpu())\n",
    "        correct_fake += (output < .5).sum().item()\n",
    "outputs_open = torch.cat(outputs_open).numpy()\n",
    "\n",
    "print(\"Correctly identified fakes:\", correct_fake/1000)\n",
    "\n",
    "roc_score, roc_to_plot = evaluate_openset(outputs_open, outputs_close)\n",
    "plt.plot(roc_to_plot['fp'], roc_to_plot['tp'])\n",
    "plt.grid('on')\n",
    "plt.xlabel('False Positive Rate')\n",
    "plt.ylabel('True Positive Rate')\n",
    "plt.title('ROC score {:.5f}'.format(roc_score))"
   ]
  },
  {
   "cell_type": "markdown",
   "metadata": {},
   "source": [
    "test con punzoni **grandi**"
   ]
  },
  {
   "cell_type": "code",
   "execution_count": 24,
   "metadata": {},
   "outputs": [],
   "source": [
    "from PIL import Image\n",
    "\n",
    "transform = T.Compose([\n",
    "        T.Resize((256, 256)),\n",
    "        T.ToTensor(),\n",
    "        T.Normalize(mean=(0.5, 0.5, 0.5), std=(0.5, 0.5, 0.5))\n",
    "    ])\n",
    "\n",
    "batch_size_eval = 64\n",
    "\n",
    "root_data = \"../CV_thesis_GiovanniPinna/ImageSet/train/Grandi/\"\n",
    "root_testdata = \"../CV_thesis_GiovanniPinna/ImageSet/test/Grandi/\"\n",
    "\n",
    "imgs = [transform(Image.open(os.path.join(root_data,i))) for i in os.listdir(root_data)]\n",
    "imgs += [transform(Image.open(os.path.join(root_testdata,i))) for i in os.listdir(root_testdata)]\n",
    "imgs = torch.stack(imgs)"
   ]
  },
  {
   "cell_type": "code",
   "execution_count": 25,
   "metadata": {},
   "outputs": [],
   "source": [
    "features = []\n",
    "\n",
    "backbone.eval()\n",
    "_ = backbone(imgs.cuda())"
   ]
  },
  {
   "cell_type": "code",
   "execution_count": 26,
   "metadata": {},
   "outputs": [],
   "source": [
    "netD.eval()\n",
    "output_composti = netD(features[0].cuda()).view(-1).detach().cpu().numpy()"
   ]
  },
  {
   "cell_type": "code",
   "execution_count": 27,
   "metadata": {},
   "outputs": [
    {
     "data": {
      "text/plain": [
       "array([0.7209402 , 0.7375458 , 0.8540882 , 0.48400846, 0.8177552 ,\n",
       "       0.80258393, 0.7884476 , 0.5599263 , 0.77286494, 0.3885281 ,\n",
       "       0.66521156, 0.8100003 , 0.85446584, 0.74672353, 0.6917854 ],\n",
       "      dtype=float32)"
      ]
     },
     "execution_count": 27,
     "metadata": {},
     "output_type": "execute_result"
    }
   ],
   "source": [
    "output_composti"
   ]
  },
  {
   "cell_type": "markdown",
   "metadata": {},
   "source": [
    "test con **no punzoni**"
   ]
  },
  {
   "cell_type": "code",
   "execution_count": 28,
   "metadata": {},
   "outputs": [],
   "source": [
    "transform = T.Compose([\n",
    "        T.Resize((256, 256)),\n",
    "        T.ToTensor(),\n",
    "        T.Normalize(mean=(0.5, 0.5, 0.5), std=(0.5, 0.5, 0.5))\n",
    "    ])\n",
    "\n",
    "batch_size_eval = 64\n",
    "\n",
    "root_data = \"../CV_thesis_GiovanniPinna/ImageSet/No_punzoni/\"\n",
    "\n",
    "imgs = [transform(Image.open(os.path.join(root_data,i))) for i in os.listdir(root_data)]\n",
    "imgs = torch.stack(imgs)\n",
    "\n",
    "features = []\n",
    "\n",
    "backbone.eval()\n",
    "_ = backbone(imgs.cuda())\n",
    "\n",
    "netD.eval()\n",
    "outputs_nopunz = netD(features[0].cuda()).view(-1)\n",
    "outputs_nopunz = outputs_nopunz.detach().cpu().numpy()\n"
   ]
  },
  {
   "cell_type": "code",
   "execution_count": 29,
   "metadata": {},
   "outputs": [
    {
     "data": {
      "text/plain": [
       "array([0.9069652 , 0.39344537, 0.8272517 , 0.69004047, 0.8324956 ,\n",
       "       0.7435022 , 0.81014395, 0.53611195, 0.814025  , 0.7419301 ,\n",
       "       0.8283583 , 0.83335954, 0.77675676, 0.8540754 , 0.8835814 ],\n",
       "      dtype=float32)"
      ]
     },
     "execution_count": 29,
     "metadata": {},
     "output_type": "execute_result"
    }
   ],
   "source": [
    "outputs_nopunz"
   ]
  },
  {
   "cell_type": "code",
   "execution_count": 30,
   "metadata": {},
   "outputs": [
    {
     "data": {
      "text/plain": [
       "Text(0.5, 1.0, 'ROC score 0.94753')"
      ]
     },
     "execution_count": 30,
     "metadata": {},
     "output_type": "execute_result"
    },
    {
     "data": {
      "image/png": "[encoded data removed]",
      "text/plain": [
       "<Figure size 432x288 with 1 Axes>"
      ]
     },
     "metadata": {
      "needs_background": "light"
     },
     "output_type": "display_data"
    }
   ],
   "source": [
    "roc_score, roc_to_plot = evaluate_openset(outputs_nopunz, outputs_close)\n",
    "plt.plot(roc_to_plot['fp'], roc_to_plot['tp'])\n",
    "plt.grid('on')\n",
    "plt.xlabel('False Positive Rate')\n",
    "plt.ylabel('True Positive Rate')\n",
    "plt.title('ROC score {:.5f}'.format(roc_score))"
   ]
  },
  {
   "cell_type": "markdown",
   "metadata": {},
   "source": [
    "test con **altri punzoni extra**"
   ]
  },
  {
   "cell_type": "code",
   "execution_count": 31,
   "metadata": {},
   "outputs": [],
   "source": [
    "transform = T.Compose([\n",
    "        T.Resize((256, 256)),\n",
    "        T.ToTensor(),\n",
    "        T.Normalize(mean=(0.5, 0.5, 0.5), std=(0.5, 0.5, 0.5))\n",
    "    ])\n",
    "\n",
    "batch_size_eval = 64\n",
    "\n",
    "root_data = \"../CV_thesis_GiovanniPinna/ImageSet/extra/\"\n",
    "\n",
    "extra_ds = torchvision.datasets.ImageFolder(root=root_data, transform=transform)\n",
    "extra_dl = torch.utils.data.DataLoader(extra_ds, batch_size=len(extra_ds), shuffle=False, num_workers=1)\n",
    "\n",
    "features = []\n",
    "\n",
    "backbone.eval()\n",
    "_ = backbone(next(iter(extra_dl))[0].cuda())\n",
    "\n",
    "netD.eval()\n",
    "outputs_extra = netD(features[0].cuda()).view(-1)\n",
    "outputs_extra = outputs_extra.detach().cpu().numpy()\n"
   ]
  },
  {
   "cell_type": "code",
   "execution_count": 32,
   "metadata": {},
   "outputs": [
    {
     "data": {
      "text/plain": [
       "array([0.80380356, 0.8852775 , 0.75485426, 0.80869395, 0.67015517,\n",
       "       0.22781248, 0.60932827, 0.8892023 , 0.83330745, 0.87514794,\n",
       "       0.8766305 , 0.87548935, 0.8299093 , 0.8373782 , 0.834994  ,\n",
       "       0.82666063, 0.8163131 , 0.8201236 , 0.8355939 , 0.81812733,\n",
       "       0.78408724, 0.7781991 , 0.8518325 , 0.83799547, 0.7431738 ,\n",
       "       0.81736165, 0.7374336 , 0.84900624, 0.836998  , 0.859803  ,\n",
       "       0.6064    , 0.82791317, 0.8330423 , 0.8564207 , 0.8169094 ,\n",
       "       0.7624739 , 0.83093363, 0.83687496], dtype=float32)"
      ]
     },
     "execution_count": 32,
     "metadata": {},
     "output_type": "execute_result"
    }
   ],
   "source": [
    "outputs_extra"
   ]
  },
  {
   "cell_type": "code",
   "execution_count": 45,
   "metadata": {},
   "outputs": [
    {
     "data": {
      "text/plain": [
       "array([0.9132554 , 0.9037911 , 0.93699205, 0.9202374 , 0.8943375 ,\n",
       "       0.9079088 , 0.90032095, 0.8961871 , 0.91291976, 0.90685076,\n",
       "       0.9183301 , 0.8917943 , 0.90291804, 0.8512435 , 0.93417215,\n",
       "       0.88552254, 0.9110989 , 0.91039324, 0.8990096 , 0.9143753 ,\n",
       "       0.92082024, 0.90125763, 0.8946731 , 0.8995942 , 0.88718814,\n",
       "       0.91172254, 0.9087972 , 0.84590894, 0.9132098 , 0.90101564,\n",
       "       0.91614264, 0.8847292 , 0.92566717, 0.9157165 , 0.8411417 ,\n",
       "       0.9003595 , 0.89432335, 0.9080792 , 0.87849414, 0.9072918 ,\n",
       "       0.93162256, 0.8932514 , 0.90817535, 0.8681854 , 0.86253047,\n",
       "       0.910223  , 0.89075977, 0.8765441 , 0.8762655 , 0.9074947 ,\n",
       "       0.8874636 , 0.9091248 , 0.8903968 , 0.9217959 , 0.9132398 ,\n",
       "       0.91766953, 0.89548653, 0.8844044 , 0.88705504, 0.90049857,\n",
       "       0.91045713, 0.90900785, 0.9291821 , 0.88186353, 0.8918348 ,\n",
       "       0.8919235 , 0.9179774 , 0.9096839 , 0.9112863 , 0.8920392 ,\n",
       "       0.8952843 , 0.9016426 , 0.90311986, 0.8914824 , 0.9280336 ,\n",
       "       0.85545075, 0.90142405, 0.9012599 , 0.91341144, 0.9086614 ,\n",
       "       0.89181066, 0.9403333 , 0.9024997 , 0.9171468 , 0.9220976 ,\n",
       "       0.9280336 , 0.8744953 , 0.8869996 , 0.92382467, 0.9010218 ,\n",
       "       0.89336574, 0.90896744, 0.90776956, 0.90823615, 0.90728545,\n",
       "       0.9068738 , 0.91250366, 0.85347295, 0.7435208 , 0.9028138 ,\n",
       "       0.90622485, 0.9002953 , 0.8254951 , 0.9037038 , 0.90588963,\n",
       "       0.920073  , 0.8986342 , 0.9101498 , 0.9014228 , 0.84299296,\n",
       "       0.89256454, 0.8767358 , 0.8848273 , 0.88279   , 0.88971466,\n",
       "       0.8943572 , 0.92425644, 0.87911373, 0.9197791 , 0.8701    ,\n",
       "       0.91427636, 0.9145182 , 0.92838323, 0.892617  , 0.8923229 ,\n",
       "       0.90434974, 0.8471085 , 0.9072623 , 0.92305595, 0.88536054,\n",
       "       0.8655393 , 0.9170662 , 0.9078435 , 0.9427109 , 0.9056112 ,\n",
       "       0.91548747, 0.9014558 , 0.89820206, 0.88917935, 0.9007112 ,\n",
       "       0.9310442 , 0.896035  , 0.83770174, 0.9268873 , 0.91234154,\n",
       "       0.926083  , 0.90899986, 0.91094524, 0.9047115 , 0.77275586,\n",
       "       0.91050005, 0.88615733, 0.9303903 , 0.89290524, 0.9261382 ,\n",
       "       0.89275354, 0.91206765, 0.9313483 , 0.886108  , 0.8479678 ,\n",
       "       0.89937305, 0.93429005, 0.9260741 , 0.90442276, 0.8929452 ,\n",
       "       0.88859767, 0.9132493 , 0.9122063 , 0.8948649 , 0.8925538 ,\n",
       "       0.8851721 , 0.9096308 , 0.9041181 , 0.9129209 , 0.95830005,\n",
       "       0.8913084 , 0.9266349 , 0.9126689 , 0.90626496, 0.8974678 ,\n",
       "       0.86045784, 0.89817625, 0.8928296 , 0.8468022 , 0.9095911 ,\n",
       "       0.8897779 , 0.8958885 , 0.9125027 , 0.91751647, 0.9021256 ,\n",
       "       0.8486754 , 0.9180594 , 0.9137552 , 0.89193624, 0.87493587,\n",
       "       0.9109325 , 0.91941154, 0.83192414, 0.89780116, 0.86528987,\n",
       "       0.91023415, 0.9185413 , 0.93093055, 0.9195748 , 0.92514604,\n",
       "       0.9011123 , 0.9232439 , 0.91079116, 0.8934573 , 0.8871922 ,\n",
       "       0.8787352 , 0.91231275, 0.9279688 , 0.9095438 , 0.88974994,\n",
       "       0.9009928 , 0.8612303 , 0.88976705, 0.9098766 , 0.92084813,\n",
       "       0.9472892 , 0.85798866, 0.8941443 , 0.934843  , 0.9063242 ,\n",
       "       0.86528987, 0.89854246, 0.8841591 , 0.91644794, 0.886845  ,\n",
       "       0.9454922 , 0.8992686 , 0.8872159 , 0.91091913, 0.92289853,\n",
       "       0.8710596 , 0.89393896, 0.91418356, 0.92728287, 0.9498539 ,\n",
       "       0.87969965, 0.8989034 , 0.8895254 , 0.94285995, 0.8959494 ,\n",
       "       0.84436923, 0.90505606, 0.8984901 , 0.888256  , 0.91683024,\n",
       "       0.8686278 , 0.9143464 , 0.91087407, 0.91748744, 0.9046028 ,\n",
       "       0.9183553 , 0.89835536, 0.90965545, 0.90094876, 0.8966061 ,\n",
       "       0.9291033 , 0.9215165 , 0.85191816, 0.9104188 , 0.91385454,\n",
       "       0.9153424 , 0.8990618 , 0.8961175 , 0.91174406, 0.91195095,\n",
       "       0.9257985 , 0.9121509 , 0.89272904, 0.9268537 , 0.9113635 ,\n",
       "       0.90630114, 0.920107  , 0.8859821 , 0.91291916, 0.90556633,\n",
       "       0.8992786 , 0.8335254 , 0.87438023, 0.8892547 , 0.93335724,\n",
       "       0.91219467, 0.9110116 , 0.9003493 , 0.91331977, 0.9201615 ,\n",
       "       0.8945686 , 0.9074204 , 0.9413512 , 0.9228103 , 0.912184  ,\n",
       "       0.8953806 , 0.9230734 , 0.9080705 , 0.9472892 , 0.92318887,\n",
       "       0.90980256, 0.9097223 , 0.88673264, 0.9300375 , 0.8904403 ,\n",
       "       0.90492886, 0.904627  , 0.89067113, 0.916275  , 0.8830349 ,\n",
       "       0.9117099 , 0.8975143 , 0.9007178 , 0.8817044 , 0.9017929 ,\n",
       "       0.91162586, 0.90002495, 0.87616384, 0.9153557 , 0.90001196,\n",
       "       0.8623057 , 0.914375  , 0.8964708 , 0.8963395 , 0.89943874,\n",
       "       0.8866974 , 0.9120689 , 0.9242415 , 0.91829616, 0.8983005 ,\n",
       "       0.8957576 , 0.9226289 , 0.92111075, 0.9020982 , 0.89196223,\n",
       "       0.8841153 , 0.81257695, 0.8827054 , 0.8987724 , 0.9067342 ,\n",
       "       0.9094005 , 0.8909565 , 0.91237766, 0.9036294 , 0.89817625,\n",
       "       0.9062896 , 0.9022977 , 0.8908271 , 0.90741146, 0.9040474 ,\n",
       "       0.88900477, 0.912509  , 0.8703804 , 0.91754085, 0.9132543 ,\n",
       "       0.8939752 , 0.8998325 , 0.9338049 , 0.9083186 , 0.9097125 ,\n",
       "       0.9012466 , 0.89700943, 0.8855444 , 0.9274634 , 0.9015819 ,\n",
       "       0.8958251 , 0.89889205, 0.9004925 , 0.9345169 , 0.9233162 ,\n",
       "       0.90140516, 0.9127109 , 0.92639196, 0.91163397, 0.90377754,\n",
       "       0.8987084 , 0.8953751 , 0.88049805, 0.9041964 , 0.92064965,\n",
       "       0.9110587 , 0.8950026 , 0.9177888 , 0.91191894, 0.910634  ,\n",
       "       0.94231683, 0.9278313 , 0.8962421 , 0.90337056, 0.92980194,\n",
       "       0.8669304 , 0.86950314, 0.90398854, 0.8954674 , 0.89705276,\n",
       "       0.89948416, 0.8995729 , 0.92203236, 0.9252143 , 0.9243018 ,\n",
       "       0.92505777, 0.9194531 , 0.9072414 , 0.9315053 , 0.9216909 ,\n",
       "       0.9099613 , 0.90074503, 0.90411496, 0.904627  , 0.8845167 ,\n",
       "       0.86875355, 0.8927658 , 0.87164545, 0.9290662 , 0.92489   ,\n",
       "       0.90145695, 0.9072091 , 0.8710515 , 0.9396923 , 0.90932196,\n",
       "       0.8986492 , 0.91171277, 0.9181183 , 0.89118266, 0.907024  ,\n",
       "       0.9036352 , 0.81136507, 0.92959565, 0.90237355, 0.9047391 ,\n",
       "       0.88453156, 0.9179535 , 0.8912423 , 0.92233264, 0.9078991 ,\n",
       "       0.89664125, 0.88059795, 0.8951458 , 0.90397125, 0.8773952 ,\n",
       "       0.9132432 , 0.9077833 , 0.8955521 , 0.91199684, 0.9367603 ,\n",
       "       0.90905505, 0.92547834, 0.9137575 , 0.89888126, 0.90016586,\n",
       "       0.83609325, 0.8863745 , 0.8910929 , 0.84637713, 0.9101026 ,\n",
       "       0.9341916 , 0.921448  , 0.9003279 , 0.81763613, 0.8213745 ,\n",
       "       0.9072414 , 0.89199686, 0.9089652 , 0.91324794, 0.9059082 ,\n",
       "       0.9457516 , 0.9152538 , 0.89978844, 0.8787267 , 0.9107015 ,\n",
       "       0.8760038 , 0.940563  , 0.8647973 , 0.91784567, 0.9046114 ,\n",
       "       0.88053846, 0.90591705, 0.8725795 , 0.8825036 , 0.91534054,\n",
       "       0.89974606, 0.8965943 , 0.92290443, 0.927278  , 0.8995238 ,\n",
       "       0.91617745, 0.906587  , 0.8935246 , 0.8928311 , 0.8960366 ,\n",
       "       0.8990246 , 0.9162828 , 0.89945877, 0.84208107, 0.9148974 ,\n",
       "       0.89111614, 0.908963  , 0.8775305 , 0.76408184, 0.9126055 ,\n",
       "       0.9030034 , 0.8944534 , 0.90579426, 0.93989044, 0.90563774,\n",
       "       0.8481585 , 0.89899504, 0.8961744 , 0.912522  , 0.9066275 ,\n",
       "       0.8623057 , 0.89720505, 0.9129615 , 0.92327124, 0.92178816,\n",
       "       0.90681   , 0.90781784, 0.91295624, 0.8354206 , 0.8929573 ,\n",
       "       0.90623045, 0.9007385 , 0.8755865 , 0.8934711 , 0.8985774 ,\n",
       "       0.9042137 , 0.89006823, 0.8984584 , 0.90886325, 0.8761095 ,\n",
       "       0.9306641 , 0.86709434, 0.90716034, 0.8596474 , 0.9025687 ,\n",
       "       0.9081476 , 0.87143856, 0.9379011 , 0.88750374, 0.92027503,\n",
       "       0.8906422 , 0.88292104, 0.8768882 , 0.9269628 , 0.85548246,\n",
       "       0.925249  , 0.89031523, 0.8904374 , 0.89740765, 0.91511637,\n",
       "       0.91298735, 0.9106244 , 0.9259721 , 0.8923626 , 0.9181992 ,\n",
       "       0.90917146, 0.9052751 , 0.93971485, 0.8949899 , 0.8761413 ,\n",
       "       0.9097798 , 0.9184992 , 0.92934304, 0.8983251 , 0.9138058 ,\n",
       "       0.88466203, 0.87992847, 0.9159301 , 0.8908737 , 0.89614654,\n",
       "       0.90867835, 0.904456  , 0.9005948 , 0.8971147 , 0.8882891 ,\n",
       "       0.86276454, 0.881189  , 0.91299754, 0.9076739 , 0.8352738 ,\n",
       "       0.8967957 , 0.9205384 , 0.9108552 , 0.84658027, 0.9005093 ,\n",
       "       0.8802991 , 0.9047622 , 0.8885824 , 0.9060933 , 0.90956265,\n",
       "       0.90325075, 0.88411474, 0.9097857 , 0.89589024, 0.9009029 ,\n",
       "       0.8450318 , 0.88965213, 0.88516885, 0.9154424 , 0.9327608 ,\n",
       "       0.90719765, 0.89834845, 0.91653484, 0.9086513 , 0.91858506,\n",
       "       0.8517637 , 0.8986493 , 0.9334372 , 0.88788915, 0.9128539 ,\n",
       "       0.932507  , 0.88103056, 0.8843731 , 0.8909189 , 0.92030615,\n",
       "       0.89859796, 0.8680655 , 0.9118067 , 0.8937882 , 0.8996453 ,\n",
       "       0.8928603 , 0.8997453 , 0.90550554, 0.9048542 , 0.91394633,\n",
       "       0.90590364, 0.8562288 , 0.90227854, 0.8894214 , 0.90819305,\n",
       "       0.930697  , 0.9132398 , 0.8971899 , 0.9124917 , 0.9127516 ,\n",
       "       0.9227618 , 0.9209081 , 0.8927702 , 0.90723294, 0.90939504,\n",
       "       0.81244093, 0.91962886, 0.9223967 , 0.8951946 , 0.88200015,\n",
       "       0.94803596, 0.94242555, 0.8588309 , 0.8854111 , 0.9269135 ,\n",
       "       0.90595686, 0.8876245 , 0.9053052 , 0.86764735, 0.8967437 ,\n",
       "       0.9055029 , 0.94497335, 0.91245306, 0.9036129 , 0.8936829 ,\n",
       "       0.9080571 , 0.90041006, 0.9017692 , 0.90761364, 0.9291033 ,\n",
       "       0.8908552 , 0.9155567 , 0.9025415 , 0.87299424, 0.9312509 ,\n",
       "       0.9349593 , 0.8903521 , 0.91580087, 0.9135084 , 0.8821823 ,\n",
       "       0.90634036, 0.91009915, 0.9036968 , 0.9113781 , 0.9143753 ,\n",
       "       0.91339076, 0.8519046 , 0.8925538 , 0.90794134, 0.89387447,\n",
       "       0.90403944, 0.8999967 , 0.89691335, 0.8961172 , 0.90599287,\n",
       "       0.90409565, 0.8872582 , 0.88354677, 0.93365884, 0.91174465,\n",
       "       0.8553784 , 0.92587644, 0.8616057 , 0.87333536, 0.8788233 ,\n",
       "       0.89869475, 0.9093349 , 0.894605  , 0.9033375 , 0.9003527 ,\n",
       "       0.8971451 , 0.8787267 , 0.9035903 , 0.913984  , 0.8952909 ,\n",
       "       0.9096657 , 0.8941424 , 0.9074947 , 0.8789273 , 0.8917255 ,\n",
       "       0.9418897 , 0.9072806 , 0.89463466, 0.9023978 , 0.8865708 ,\n",
       "       0.91547227, 0.90276647, 0.8657625 , 0.9116643 , 0.9100251 ,\n",
       "       0.9055437 , 0.9233782 , 0.8904637 , 0.89718133, 0.9167431 ,\n",
       "       0.8945547 , 0.8987941 , 0.9107367 , 0.9090893 , 0.90823793,\n",
       "       0.90233296, 0.8984515 , 0.92934304, 0.8957576 , 0.87794745,\n",
       "       0.8723451 , 0.9050091 , 0.9041993 , 0.8282506 , 0.8884569 ,\n",
       "       0.9117635 , 0.9047133 , 0.8768591 , 0.915355  , 0.9070552 ,\n",
       "       0.8792476 , 0.87169755, 0.85070664, 0.9056828 , 0.89204013,\n",
       "       0.922375  , 0.8944353 , 0.8894545 , 0.87893975, 0.9107247 ,\n",
       "       0.9099904 , 0.8949456 , 0.9138079 , 0.92728615, 0.8956641 ,\n",
       "       0.90937716, 0.90611225, 0.83320796, 0.89934134, 0.9086635 ],\n",
       "      dtype=float32)"
      ]
     },
     "execution_count": 45,
     "metadata": {},
     "output_type": "execute_result"
    }
   ],
   "source": [
    "outputs_close"
   ]
  },
  {
   "cell_type": "code",
   "execution_count": 33,
   "metadata": {},
   "outputs": [
    {
     "data": {
      "text/plain": [
       "Text(0.5, 1.0, 'ROC score 0.97491')"
      ]
     },
     "execution_count": 33,
     "metadata": {},
     "output_type": "execute_result"
    },
    {
     "data": {
      "image/png": "[encoded data removed]",
      "text/plain": [
       "<Figure size 432x288 with 1 Axes>"
      ]
     },
     "metadata": {
      "needs_background": "light"
     },
     "output_type": "display_data"
    }
   ],
   "source": [
    "roc_score, roc_to_plot = evaluate_openset(outputs_extra, outputs_close)\n",
    "plt.plot(roc_to_plot['fp'], roc_to_plot['tp'])\n",
    "plt.grid('on')\n",
    "plt.xlabel('False Positive Rate')\n",
    "plt.ylabel('True Positive Rate')\n",
    "plt.title('ROC score {:.5f}'.format(roc_score))"
   ]
  },
  {
   "cell_type": "code",
   "execution_count": 34,
   "metadata": {},
   "outputs": [
    {
     "data": {
      "text/plain": [
       "0.9987155334116364"
      ]
     },
     "execution_count": 34,
     "metadata": {},
     "output_type": "execute_result"
    }
   ],
   "source": [
    "import sklearn\n",
    "\n",
    "def mean_ap(outputs1, outputs2):\n",
    "    y_true = [1] * len(outputs1) + [0] * len(outputs2)\n",
    "    y_score = np.concatenate([outputs1, outputs2])\n",
    "    return sklearn.metrics.average_precision_score(y_true, y_score)\n",
    "\n",
    "mean_ap(outputs_close, outputs_extra)"
   ]
  },
  {
   "cell_type": "code",
   "execution_count": 70,
   "metadata": {},
   "outputs": [
    {
     "data": {
      "text/plain": [
       "0.9999882176370101"
      ]
     },
     "execution_count": 70,
     "metadata": {},
     "output_type": "execute_result"
    }
   ],
   "source": [
    "mean_ap(outputs_close, outputs_nopunz)"
   ]
  },
  {
   "cell_type": "code",
   "execution_count": 35,
   "metadata": {},
   "outputs": [
    {
     "data": {
      "image/png": "[encoded data removed]",
      "text/plain": [
       "<Figure size 432x288 with 1 Axes>"
      ]
     },
     "metadata": {
      "needs_background": "light"
     },
     "output_type": "display_data"
    }
   ],
   "source": [
    "plt.hist(outputs_extra, label=\"punzoni extra\", density=True, alpha=0.5)\n",
    "plt.hist(outputs_close, label=\"punzoni closeset\", density=True, alpha=0.5)\n",
    "plt.legend(loc='upper right')\n",
    "plt.title('Overlapping')\n",
    "plt.show()"
   ]
  },
  {
   "cell_type": "code",
   "execution_count": 36,
   "metadata": {},
   "outputs": [
    {
     "data": {
      "image/png": "[encoded data removed]",
      "text/plain": [
       "<Figure size 432x288 with 1 Axes>"
      ]
     },
     "metadata": {
      "needs_background": "light"
     },
     "output_type": "display_data"
    }
   ],
   "source": [
    "plt.hist(outputs_nopunz, label=\"no punzoni\", density=True, alpha=0.5)\n",
    "plt.hist(outputs_close, label=\"punzoni closeset\", density=True, alpha=0.5)\n",
    "plt.legend(loc='upper right')\n",
    "plt.title('Overlapping')\n",
    "plt.show()"
   ]
  },
  {
   "cell_type": "code",
   "execution_count": 37,
   "metadata": {},
   "outputs": [
    {
     "data": {
      "image/png": "[encoded data removed]",
      "text/plain": [
       "<Figure size 432x288 with 1 Axes>"
      ]
     },
     "metadata": {
      "needs_background": "light"
     },
     "output_type": "display_data"
    }
   ],
   "source": [
    "plt.hist(outputs_open, label=\"img casuali\", density=True, alpha=0.5)\n",
    "plt.hist(outputs_close, label=\"punzoni closeset\", density=True, alpha=0.5)\n",
    "plt.legend(loc='upper right')\n",
    "plt.title('Overlapping')\n",
    "plt.show()"
   ]
  },
  {
   "cell_type": "code",
   "execution_count": 38,
   "metadata": {},
   "outputs": [
    {
     "data": {
      "image/png": "[encoded data removed]",
      "text/plain": [
       "<Figure size 432x288 with 1 Axes>"
      ]
     },
     "metadata": {
      "needs_background": "light"
     },
     "output_type": "display_data"
    }
   ],
   "source": [
    "plt.hist(output_composti, label=\"punzoni composti\", density=True, alpha=0.5)\n",
    "plt.hist(outputs_close, label=\"punzoni closeset\", density=True, alpha=0.5)\n",
    "plt.legend(loc='upper right')\n",
    "plt.title('Overlapping')\n",
    "plt.show()"
   ]
  }
 ],
 "metadata": {
  "kernelspec": {
   "display_name": "Python 3.10.4 ('giovanni')",
   "language": "python",
   "name": "python3"
  },
  "language_info": {
   "codemirror_mode": {
    "name": "ipython",
    "version": 3
   },
   "file_extension": ".py",
   "mimetype": "text/x-python",
   "name": "python",
   "nbconvert_exporter": "python",
   "pygments_lexer": "ipython3",
   "version": "3.10.4"
  },
  "vscode": {
   "interpreter": {
    "hash": "ee65a9bd9b244ab144c7288d6cb3046655f4298486ef114fafae143a4f9bde35"
   }
  }
 },
 "nbformat": 4,
 "nbformat_minor": 2
}
