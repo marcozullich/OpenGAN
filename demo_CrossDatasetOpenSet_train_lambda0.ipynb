{
 "cells": [
  {
   "cell_type": "markdown",
   "metadata": {},
   "source": [
    "OpenGAN: Open-Set Recognition via Open Data Generation\n",
    "================\n",
    "**Supplemental Material for ICCV2021 Submission**\n",
    "\n",
    "\n",
    "In this notebook, we demonstrate how we train the GAN-fea model on the TinyImageNet train-set, providing the closed-set images."
   ]
  },
  {
   "cell_type": "markdown",
   "metadata": {},
   "source": [
    "import packages\n",
    "------------------\n",
    "\n",
    "Some packages are installed automatically through Anaconda. PyTorch should be also installed."
   ]
  },
  {
   "cell_type": "code",
   "execution_count": 2,
   "metadata": {},
   "outputs": [
    {
     "name": "stderr",
     "output_type": "stream",
     "text": [
      "/home/zullich/giovanni/lib/python3.10/site-packages/tqdm/auto.py:22: TqdmWarning: IProgress not found. Please update jupyter and ipywidgets. See https://ipywidgets.readthedocs.io/en/stable/user_install.html\n",
      "  from .autonotebook import tqdm as notebook_tqdm\n"
     ]
    },
    {
     "name": "stdout",
     "output_type": "stream",
     "text": [
      "3.10.4 (main, Mar 31 2022, 08:41:55) [GCC 7.5.0]\n",
      "1.11.0\n",
      "Random Seed:  999\n"
     ]
    },
    {
     "data": {
      "text/plain": [
       "<torch._C.Generator at 0x7f8948986230>"
      ]
     },
     "execution_count": 2,
     "metadata": {},
     "output_type": "execute_result"
    }
   ],
   "source": [
    "from __future__ import print_function, division\n",
    "import os, random, time, copy\n",
    "from skimage import io, transform\n",
    "import numpy as np\n",
    "import pandas as pd\n",
    "import os.path as path\n",
    "import scipy.io as sio\n",
    "from scipy import misc\n",
    "from scipy import ndimage, signal\n",
    "import scipy\n",
    "import pickle\n",
    "import sys\n",
    "import math\n",
    "import matplotlib.pyplot as plt\n",
    "import PIL.Image\n",
    "from io import BytesIO\n",
    "\n",
    "\n",
    "import torch\n",
    "from torch.utils.data import Dataset, DataLoader\n",
    "import torch.nn as nn\n",
    "import torch.optim as optim\n",
    "from torch.optim import lr_scheduler \n",
    "import torch.nn.functional as F\n",
    "from torch.autograd import Variable\n",
    "import torchvision\n",
    "from torchvision import datasets, models, transforms\n",
    "import torchvision.utils as vutils\n",
    "from torchvision import transforms as T\n",
    "\n",
    "from typing import Collection\n",
    "\n",
    "from utils.eval_funcs import *\n",
    "from utils.dataset_tinyimagenet import *\n",
    "\n",
    "import warnings # ignore warnings\n",
    "warnings.filterwarnings(\"ignore\")\n",
    "print(sys.version)\n",
    "print(torch.__version__)\n",
    "\n",
    "\n",
    "manualSeed = 999\n",
    "print(\"Random Seed: \", manualSeed)\n",
    "random.seed(manualSeed)\n",
    "torch.manual_seed(manualSeed)"
   ]
  },
  {
   "cell_type": "markdown",
   "metadata": {},
   "source": [
    "Setup config parameters\n",
    " -----------------\n",
    " \n",
    " There are several things to setup, like which GPU to use, where to read images and save files, etc. Please read and understand this. By default, you should be able to run this script smoothly by changing nothing."
   ]
  },
  {
   "cell_type": "code",
   "execution_count": 3,
   "metadata": {
    "scrolled": true
   },
   "outputs": [
    {
     "name": "stdout",
     "output_type": "stream",
     "text": [
      "./exp/OpenGANFullPunzoni\n"
     ]
    }
   ],
   "source": [
    "# set the random seed\n",
    "torch.manual_seed(0)\n",
    "\n",
    "################## set attributes for this project/experiment ##################\n",
    "# config result folder\n",
    "exp_dir = './exp' # experiment directory, used for reading the init model\n",
    "\n",
    "modelFlag = 'Punzoni'\n",
    "\n",
    "project_name = 'OpenGANFull' + modelFlag   # we save all the checkpoints in this directory\n",
    "\n",
    "# set device, which gpu to use.\n",
    "device ='cpu'\n",
    "if torch.cuda.is_available(): \n",
    "    device='cuda:0'\n",
    "\n",
    "\n",
    "total_epoch_num = 500 # total number of epoch in training\n",
    "batch_size = 128    \n",
    "\n",
    "newsize = (64, 64)\n",
    "\n",
    "\n",
    "path_to_feats = './feats' # the path to cached off-the-shelf features\n",
    "pklName = path.join(path_to_feats, modelFlag.lower()+'.pkl')\n",
    "\n",
    "\n",
    "\n",
    "# For GAN-fea, we set the hyper-parameters as below.\n",
    "\n",
    "# Number of channels in the training images. For color images this is 3\n",
    "nc = 512\n",
    "\n",
    "# Size of z latent vector (i.e. size of generator input)\n",
    "nz = 100\n",
    "\n",
    "# Size of feature maps in generator\n",
    "ngf = 64\n",
    "\n",
    "# Size of feature maps in discriminator\n",
    "ndf = 64\n",
    "\n",
    "# Beta1 hyperparam for Adam optimizers\n",
    "beta1 = 0.5\n",
    "\n",
    "# Number of GPUs available. Use 0 for CPU mode.\n",
    "ngpu = 1\n",
    "\n",
    "\n",
    "\n",
    "# TinyImageNet has 200 classes.\n",
    "nClassTotal = 200\n",
    "nClassCloseset = nClassTotal\n",
    "\n",
    "#project_name += '_K{}run{}'.format(nClassCloseset, runIdx)\n",
    "if not os.path.exists(exp_dir): os.makedirs(exp_dir)\n",
    "\n",
    "\n",
    "num_epochs = total_epoch_num\n",
    "torch.cuda.device_count()\n",
    "torch.cuda.empty_cache()\n",
    "\n",
    "save_dir = os.path.join(exp_dir, project_name)\n",
    "print(save_dir)    \n",
    "if not os.path.exists(save_dir): os.makedirs(save_dir)\n",
    "\n",
    "log_filename = os.path.join(save_dir, 'train.log')"
   ]
  },
  {
   "cell_type": "markdown",
   "metadata": {},
   "source": [
    "Define model architecture\n",
    "---------\n",
    "\n",
    "Here is the definition of the model architectures for generator and discriminator. Both are multi-layer perceptron (MLP) networks."
   ]
  },
  {
   "cell_type": "code",
   "execution_count": 63,
   "metadata": {},
   "outputs": [],
   "source": [
    "def weights_init(m):\n",
    "    classname = m.__class__.__name__\n",
    "    if classname.find('Conv') != -1:\n",
    "        nn.init.normal_(m.weight.data, 0.0, 0.02)\n",
    "    elif classname.find('BatchNorm') != -1:\n",
    "        nn.init.normal_(m.weight.data, 1.0, 0.02)\n",
    "        nn.init.constant_(m.bias.data, 0)     \n",
    "        \n",
    "\n",
    "class Generator(nn.Module):\n",
    "    def __init__(self, ngpu=1, nz=100, ngf=64, nc=512):\n",
    "        super(Generator, self).__init__()\n",
    "        self.ngpu = ngpu\n",
    "        self.nz = nz\n",
    "        self.ngf = ngf\n",
    "        self.nc = nc\n",
    "        \n",
    "        self.main = nn.Sequential(\n",
    "            # input is Z, going into a convolution\n",
    "            # Conv2d(in_channels, out_channels, kernel_size, stride=1, padding=0, dilation=1, groups=1, bias=True, padding_mode='zeros')\n",
    "            nn.Conv2d( self.nz, self.ngf * 8, 1, 1, 0, bias=False),\n",
    "            nn.BatchNorm2d(self.ngf * 8),\n",
    "            nn.ReLU(True),\n",
    "            # state size. (self.ngf*8) x 4 x 4\n",
    "            nn.Conv2d(self.ngf * 8, self.ngf * 4, 1, 1, 0, bias=False),\n",
    "            nn.BatchNorm2d(self.ngf * 4),\n",
    "            nn.ReLU(True),\n",
    "            # state size. (self.ngf*4) x 8 x 8\n",
    "            nn.Conv2d( self.ngf * 4, self.ngf * 2, 1, 1, 0, bias=False),\n",
    "            nn.BatchNorm2d(self.ngf * 2),\n",
    "            nn.ReLU(True),\n",
    "            # state size. (self.ngf*2) x 16 x 16\n",
    "            nn.Conv2d( self.ngf * 2, self.ngf*4, 1, 1, 0, bias=False),\n",
    "            nn.BatchNorm2d(self.ngf*4),\n",
    "            nn.ReLU(True),\n",
    "            # state size. (self.ngf) x 32 x 32\n",
    "            nn.Conv2d( self.ngf*4, self.nc, 1, 1, 0, bias=True),\n",
    "            #nn.Tanh()\n",
    "            # state size. (self.nc) x 64 x 64\n",
    "        )\n",
    "\n",
    "    def forward(self, input):\n",
    "        return self.main(input)\n",
    "\n",
    "    \n",
    "class Discriminator(nn.Module):\n",
    "    def __init__(self, ngpu=1, nc=512, ndf=64):\n",
    "        super(Discriminator, self).__init__()\n",
    "        self.ngpu = ngpu\n",
    "        self.nc = nc\n",
    "        self.ndf = ndf\n",
    "        self.main = nn.Sequential(\n",
    "            nn.Conv2d(self.nc, self.ndf*8, 1, 1, 0, bias=False),\n",
    "            nn.LeakyReLU(0.2, inplace=True),\n",
    "            nn.Conv2d(self.ndf*8, self.ndf*4, 1, 1, 0, bias=False),\n",
    "            nn.BatchNorm2d(self.ndf*4),\n",
    "            nn.LeakyReLU(0.2, inplace=True),\n",
    "            nn.Conv2d(self.ndf*4, self.ndf*2, 1, 1, 0, bias=False),\n",
    "            nn.BatchNorm2d(self.ndf*2),\n",
    "            nn.LeakyReLU(0.2, inplace=True),\n",
    "            nn.Conv2d(self.ndf*2, self.ndf, 1, 1, 0, bias=False),\n",
    "            nn.BatchNorm2d(self.ndf),\n",
    "            nn.LeakyReLU(0.2, inplace=True),\n",
    "            nn.Conv2d(self.ndf, 1, 1, 1, 0, bias=False),\n",
    "            nn.Sigmoid()\n",
    "        )\n",
    "\n",
    "    def forward(self, input):\n",
    "        return self.main(input)\n",
    "\n",
    "class DiscriminatorFunnel(nn.Module):\n",
    "    def __init__(self, ngpu=1, nc=512, ndf=64):\n",
    "        super(DiscriminatorFunnel, self).__init__()\n",
    "        self.ngpu = ngpu\n",
    "        self.nc = nc\n",
    "        self.ndf = ndf\n",
    "        self.main = nn.Sequential(\n",
    "            nn.Conv2d(self.nc, self.ndf*8, 3, 1, 0, bias=False),\n",
    "            nn.LeakyReLU(0.2, inplace=True),\n",
    "            nn.Conv2d(self.ndf*8, self.ndf*4, 3, 1, 0, bias=False),\n",
    "            nn.BatchNorm2d(self.ndf*4),\n",
    "            nn.LeakyReLU(0.2, inplace=True),\n",
    "            nn.Conv2d(self.ndf*4, self.ndf*2, 3, 1, 0, bias=False),\n",
    "            nn.BatchNorm2d(self.ndf*2),\n",
    "            nn.LeakyReLU(0.2, inplace=True),\n",
    "            nn.Conv2d(self.ndf*2, self.ndf, 2, 1, 0, bias=False),\n",
    "            nn.BatchNorm2d(self.ndf),\n",
    "            nn.LeakyReLU(0.2, inplace=True),\n",
    "            nn.Conv2d(self.ndf, 1, 1, 1, 0, bias=False),\n",
    "            nn.Sigmoid()\n",
    "        )\n",
    "\n",
    "    def forward(self, input):\n",
    "        return self.main(input)"
   ]
  },
  {
   "cell_type": "markdown",
   "metadata": {},
   "source": [
    "## initialize the networks"
   ]
  },
  {
   "cell_type": "code",
   "execution_count": 64,
   "metadata": {},
   "outputs": [
    {
     "name": "stdout",
     "output_type": "stream",
     "text": [
      "cuda:0\n"
     ]
    }
   ],
   "source": [
    "netG = Generator(ngpu=ngpu, nz=nz, ngf=ngf, nc=nc).to(device)\n",
    "netD = DiscriminatorFunnel(ngpu=ngpu, nc=nc, ndf=ndf).to(device)\n",
    "\n",
    "# Handle multi-gpu if desired\n",
    "if ('cuda' in device) and (ngpu > 1):\n",
    "    netD = nn.DataParallel(netD, list(range(ngpu)))\n",
    "\n",
    "    # Apply the weights_init function to randomly initialize all weights\n",
    "#  to mean=0, stdev=0.2.\n",
    "netD.apply(weights_init)\n",
    "\n",
    "\n",
    "if ('cuda' in device) and (ngpu > 1):\n",
    "    netG = nn.DataParallel(netG, list(range(ngpu)))\n",
    "netG.apply(weights_init)\n",
    "\n",
    "print(device)"
   ]
  },
  {
   "cell_type": "markdown",
   "metadata": {},
   "source": [
    "## Sanity Check"
   ]
  },
  {
   "cell_type": "code",
   "execution_count": 48,
   "metadata": {},
   "outputs": [
    {
     "name": "stdout",
     "output_type": "stream",
     "text": [
      "torch.Size([128, 100, 8, 8]) torch.Size([128, 512, 8, 8]) torch.Size([128, 1, 1, 1])\n"
     ]
    }
   ],
   "source": [
    "noise = torch.randn(batch_size, nz, 8, 8, device=device)\n",
    "# Generate fake image batch with G\n",
    "fake = netG(noise)\n",
    "predLabel = netD(fake)\n",
    "\n",
    "print(noise.shape, fake.shape, predLabel.shape)"
   ]
  },
  {
   "cell_type": "markdown",
   "metadata": {},
   "source": [
    "## Dataset setup\n",
    "\n",
    "Load the pretrained network"
   ]
  },
  {
   "cell_type": "code",
   "execution_count": 6,
   "metadata": {},
   "outputs": [],
   "source": [
    "from turtle import back\n",
    "\n",
    "\n",
    "def load_pretrained_backbone(network_backbone, weights_location, device=\"cuda:0\", final_layer_weights:str=\"fc.weight\"):\n",
    "    '''\n",
    "    Load and instantiate a pretrained backbone from a given file containing a state_dict\n",
    "\n",
    "    Parameters:\n",
    "    -----------\n",
    "    network_backbone: a non-instantiated torch.nn.Module, the backbone for obtaining the features\n",
    "    weights_location: str, the location of the weights file\n",
    "    device: str, the device to load the weights to\n",
    "    final_layer_weights: str, the name of the final layer weights to load, used to set the number of classes of the final network\n",
    "    \n",
    "    Returns:\n",
    "    -----------\n",
    "    a nn.Module, the instantiated backbone on the given device with the pretrained weights\n",
    "    '''\n",
    "    backbone_weights = torch.load(weights_location)\n",
    "    backbone = network_backbone(num_classes=backbone_weights[final_layer_weights].shape[0])\n",
    "    backbone.load_state_dict(backbone_weights)\n",
    "    return backbone.to(device)"
   ]
  },
  {
   "cell_type": "code",
   "execution_count": 7,
   "metadata": {},
   "outputs": [],
   "source": [
    "backbone = load_pretrained_backbone(models.resnet18, \"../CV_thesis_GiovanniPinna/models/resnet18_no_aug.pt_resnet18_0.pt\")"
   ]
  },
  {
   "cell_type": "code",
   "execution_count": 5,
   "metadata": {},
   "outputs": [],
   "source": [
    "# backbone_weights = torch.load(\"../CV_thesis_GiovanniPinna/models/resnet18_no_aug.pt_resnet18_0.pt\")\n",
    "# backbone_weights.keys()\n",
    "# backbone_weights[\"fc.weight\"].shape\n",
    "\n",
    "# backbone = torchvision.models.resnet18(num_classes=backbone_weights[\"fc.weight\"].shape[0])\n",
    "# backbone.load_state_dict(backbone_weights)\n",
    "# backbone = backbone.cuda()\n"
   ]
  },
  {
   "cell_type": "markdown",
   "metadata": {},
   "source": [
    "Add a forward hook for storing intermediate representations"
   ]
  },
  {
   "cell_type": "code",
   "execution_count": 32,
   "metadata": {},
   "outputs": [],
   "source": [
    "def network_add_hook_for_features(network:torch.nn.Module, module_name:str, structure_for_features:list):\n",
    "    '''\n",
    "    Add a hook to a given module in a network to obtain the features of a given structure\n",
    "\n",
    "    Parameters:\n",
    "    -----------\n",
    "    network: an instantiated torch.nn.Module, the network to add the hook to\n",
    "    module_name: str, the name of the module to add the hook to\n",
    "    structure_for_features: list, the structure which will store the features obtained from the forward pass\n",
    "    \n",
    "    Returns:\n",
    "    -----------\n",
    "    a handle to the hook, to remove in case of need\n",
    "    '''\n",
    "    def get_features(module, input_, output):\n",
    "        structure_for_features.append(output.cpu().detach())\n",
    "    return getattr(network, module_name).register_forward_hook(get_features)   "
   ]
  },
  {
   "cell_type": "code",
   "execution_count": 46,
   "metadata": {},
   "outputs": [],
   "source": [
    "features = []\n",
    "handle = network_add_hook_for_features(backbone, \"layer4\", features)"
   ]
  },
  {
   "cell_type": "code",
   "execution_count": 6,
   "metadata": {},
   "outputs": [],
   "source": [
    "# features = []\n",
    "# def get_features(module, input_, output):\n",
    "#     features.append(output.cpu().detach())\n",
    "\n",
    "# handle = backbone.layer4.register_forward_hook(get_features)"
   ]
  },
  {
   "cell_type": "markdown",
   "metadata": {},
   "source": [
    "Load the dataset"
   ]
  },
  {
   "cell_type": "code",
   "execution_count": 15,
   "metadata": {},
   "outputs": [],
   "source": [
    "class BasicDataset(Dataset):\n",
    "    '''\n",
    "    A simple dataset wrapping a container of images without labels.\n",
    "    '''\n",
    "    def __init__(self, data, transform=None):\n",
    "        '''\n",
    "        Parameters:\n",
    "        -----------\n",
    "        data: a generic container of tensors\n",
    "        transform: a pipeline of transformations to apply to the data\n",
    "        '''\n",
    "        self.data = data\n",
    "        self.current_set_len = len(data)\n",
    "        self.transform = transform\n",
    "        \n",
    "    def __len__(self):        \n",
    "        return self.current_set_len\n",
    "    \n",
    "    def __getitem__(self, idx):\n",
    "        curdata = self.data[idx]\n",
    "        if self.transform is not None:\n",
    "            return transform(curdata)\n",
    "        return curdata"
   ]
  },
  {
   "cell_type": "code",
   "execution_count": 13,
   "metadata": {},
   "outputs": [],
   "source": [
    "import sys\n",
    "sys.path.append(\"../CV_thesis_GiovanniPinna/\")\n",
    "from data import get_dataloaders\n",
    "\n",
    "transform = T.Compose([\n",
    "        T.Resize((256, 256)),\n",
    "        T.ToTensor(),\n",
    "        T.Normalize(mean=(0.5, 0.5, 0.5), std=(0.5, 0.5, 0.5))\n",
    "    ])\n",
    "\n",
    "batch_size_eval = 64\n",
    "\n",
    "root_data = \"../CV_thesis_GiovanniPinna/ImageSet\"\n",
    "\n",
    "trainloader, testloader = get_dataloaders(root_data + \"/train_new\", root_data + \"/test_new\", transform, transform, batch_size_eval, batch_size_eval)"
   ]
  },
  {
   "cell_type": "code",
   "execution_count": 16,
   "metadata": {},
   "outputs": [],
   "source": [
    "root_data_open = (\"../CV_thesis_GiovanniPinna/ImageSet/extra/Punch_360/\", \n",
    "                  \"../CV_thesis_GiovanniPinna/ImageSet/extra/Punch_652/\",\n",
    "                  \"../CV_thesis_GiovanniPinna/ImageSet/extra/Punch_680/\",\n",
    "                  \"../CV_thesis_GiovanniPinna/ImageSet/No_punzoni/\")\n",
    "\n",
    "data_extra = [Image.open(os.path.join(folder, img)) for folder in root_data_open for img in os.listdir(folder)]\n",
    "dataset_extra = BasicDataset(data_extra, transform=transform)"
   ]
  },
  {
   "cell_type": "code",
   "execution_count": 22,
   "metadata": {},
   "outputs": [],
   "source": [
    "extraloader = DataLoader(dataset_extra, batch_size=batch_size, shuffle=False, num_workers=1)"
   ]
  },
  {
   "cell_type": "markdown",
   "metadata": {},
   "source": [
    "## Implement a new type of DataLoader with replacement for `zip`ping with another dataloader\n",
    "\n",
    "We want to implement a \"slave\" `DataLoader` that samples data with replacement, while a \"master\" `DataLoader` samples without replacement.\n",
    "\n",
    "The aim is to be able to create a training loop in which we can `zip` together the 2 `DataLoader`s, but the length of the \"master\" controls the duration of the loop. This will be used when we train the GAN: the majority of the data will form the close-set dataset, linked to the \"master\" Loader, while a small minority will comprise the open-set dataset, from which we will sample without replacement."
   ]
  },
  {
   "cell_type": "code",
   "execution_count": 20,
   "metadata": {},
   "outputs": [],
   "source": [
    "class DataLoaderWithReplacement(torch.utils.data.DataLoader):\n",
    "    def __init__(self, dataset:torch.utils.data.Dataset, batch_size:int, num_workers:int=1, exposed_length:int=1):\n",
    "        '''\n",
    "        A DataLoader sampling with replacement. It relies on the regular DataLoader, from which it inherits.\n",
    "\n",
    "        Parameters:\n",
    "        -----------\n",
    "        dataset: a torch.utils.data.Dataset, the dataset to load the data from\n",
    "        batch_size: int, the batch size for each sampling\n",
    "        num_workers: int, the number of workers to use for the sampling\n",
    "        exposed_length: int, the lenght of the Loader we wish to expose, it can be larger, equal, or smaller than the dataset\n",
    "        '''\n",
    "        sampler = torch.utils.data.RandomSampler(dataset, replacement=True, num_samples=batch_size)\n",
    "        super(DataLoaderWithReplacement, self).__init__(dataset, batch_size=batch_size, num_workers=num_workers, sampler=sampler)\n",
    "        self.length = exposed_length\n",
    "    def __len__(self):\n",
    "        return self.length\n",
    "    def __iter__(self):\n",
    "        while True:\n",
    "            yield super(DataLoaderWithReplacement, self).__iter__().__next__()"
   ]
  },
  {
   "cell_type": "code",
   "execution_count": 54,
   "metadata": {},
   "outputs": [],
   "source": [
    "# in this case, we \"bind\" extra_loader to trainloader, in the sense that they have the same length\n",
    "# in this way, we are able to `zip` them together during the training loop\n",
    "extra_loader = DataLoaderWithReplacement(dataset_extra, batch_size=15, num_workers=1, exposed_length=len(trainloader))"
   ]
  },
  {
   "cell_type": "markdown",
   "metadata": {},
   "source": [
    "## Obtaining the hidden features for training **(run only the first time)**"
   ]
  },
  {
   "cell_type": "code",
   "execution_count": 26,
   "metadata": {},
   "outputs": [],
   "source": [
    "# def get_features_from_loader(trainloader:torch.utils.data.DataLoader, backbone_network:torch.nn.Module, device, verbose:bool=True):\n",
    "#     '''\n",
    "#     Get the features from a given DataLoader and a given backbone network\n",
    "\n",
    "#     Parameters:\n",
    "#     -----------\n",
    "#     trainloader: a torch.utils.data.DataLoader\n",
    "#     backbone_network: an instantiated torch.nn.Module with a hook for gathering the features\n",
    "#     '''\n",
    "#     backbone_network.eval()\n",
    "#     backbone_network.to(device)\n",
    "#     for i, data in enumerate(trainloader):\n",
    "#         if verbose:\n",
    "#             print(\"Getting features from batch {}\".format(i+1))\n",
    "#         if isinstance(data, (tuple, list)):\n",
    "#             data = data[0]\n",
    "#         data = data.to(device)\n",
    "#         with torch.no_grad():\n",
    "#             _ = backbone_network(data)"
   ]
  },
  {
   "cell_type": "code",
   "execution_count": 48,
   "metadata": {},
   "outputs": [],
   "source": [
    "def save_features(features:list, destination:str, empty_features_after_save:bool=True):\n",
    "    torch.save(torch.cat(features, dim=0), destination)\n",
    "    if empty_features_after_save:\n",
    "        features = []"
   ]
  },
  {
   "cell_type": "code",
   "execution_count": 47,
   "metadata": {},
   "outputs": [
    {
     "data": {
      "text/plain": [
       "1"
      ]
     },
     "execution_count": 47,
     "metadata": {},
     "output_type": "execute_result"
    }
   ],
   "source": [
    "\n",
    "for i, data in enumerate(extraloader):\n",
    "    data = data.to(device)\n",
    "    _ = backbone(data)\n",
    "\n",
    "len(features)"
   ]
  },
  {
   "cell_type": "code",
   "execution_count": 49,
   "metadata": {},
   "outputs": [],
   "source": [
    "save_features(features, \"punzoni_resnet18_features_EXTRA.pt\")"
   ]
  },
  {
   "cell_type": "code",
   "execution_count": 6,
   "metadata": {},
   "outputs": [
    {
     "name": "stdout",
     "output_type": "stream",
     "text": [
      "Done 0\n",
      "Done 1\n",
      "Done 2\n",
      "Done 3\n",
      "Done 4\n",
      "Done 5\n",
      "Done 6\n",
      "Done 7\n",
      "Done 8\n",
      "Done 9\n",
      "Done 10\n",
      "Done 11\n",
      "Done 12\n",
      "Done 13\n",
      "Done 14\n",
      "Done 15\n",
      "Done 16\n",
      "Done 17\n",
      "Done 18\n",
      "Done 19\n",
      "Done 20\n",
      "Done 21\n",
      "Done 22\n",
      "Done 23\n",
      "Done 24\n",
      "Done 25\n",
      "Done 26\n",
      "Done 27\n",
      "Done 28\n",
      "Done 29\n",
      "Done 30\n",
      "Done 31\n",
      "Done 32\n",
      "Done 33\n",
      "Done 34\n",
      "Done 35\n",
      "Done 36\n",
      "Done 37\n",
      "Done 38\n",
      "Done 39\n",
      "Done 40\n",
      "Done 41\n",
      "Done 42\n",
      "Done 43\n",
      "Done 44\n",
      "Done 45\n",
      "Done 46\n",
      "Done 47\n"
     ]
    }
   ],
   "source": [
    "for i, (data, _) in enumerate(trainloader):\n",
    "    print(f\"Done {i+1}/{len(trainloader)}\")\n",
    "    _ = backbone(data.cuda())"
   ]
  },
  {
   "cell_type": "code",
   "execution_count": 10,
   "metadata": {},
   "outputs": [],
   "source": [
    "# save\n",
    "features = torch.cat(features, dim=0)\n",
    "torch.save(features, \"punzoni_resnet18_features.pt\")"
   ]
  },
  {
   "cell_type": "markdown",
   "metadata": {},
   "source": [
    "### Load the preevaluated features"
   ]
  },
  {
   "cell_type": "code",
   "execution_count": 50,
   "metadata": {},
   "outputs": [],
   "source": [
    "train_features = torch.load(\"punzoni_resnet18_features.pt\")\n",
    "extra_features = torch.load(\"punzoni_resnet18_features_EXTRA.pt\")\n"
   ]
  },
  {
   "cell_type": "markdown",
   "metadata": {},
   "source": [
    "## a helper function to read cached off-the-shelf features per closed images"
   ]
  },
  {
   "cell_type": "code",
   "execution_count": 8,
   "metadata": {},
   "outputs": [],
   "source": [
    "class FeatDataset(Dataset):\n",
    "    def __init__(self, data):\n",
    "        self.data = data\n",
    "        self.current_set_len = data.shape[0]        \n",
    "        \n",
    "    def __len__(self):        \n",
    "        return self.current_set_len\n",
    "    \n",
    "    def __getitem__(self, idx):\n",
    "        curdata = self.data[idx]        \n",
    "        return curdata"
   ]
  },
  {
   "cell_type": "code",
   "execution_count": 56,
   "metadata": {},
   "outputs": [],
   "source": [
    "trainset_closeset = BasicDataset(data=train_features)\n",
    "dataloader = DataLoader(trainset_closeset, batch_size=batch_size, shuffle=True, num_workers=1)\n",
    "\n",
    "trainset_openset = BasicDataset(data=extra_features)\n",
    "extraloader = DataLoaderWithReplacement(trainset_openset, batch_size=15, num_workers=1, exposed_length=len(dataloader))"
   ]
  },
  {
   "cell_type": "code",
   "execution_count": 10,
   "metadata": {},
   "outputs": [
    {
     "name": "stdout",
     "output_type": "stream",
     "text": [
      "torch.Size([128, 512, 8, 8])\n"
     ]
    }
   ],
   "source": [
    "data_sampler = iter(dataloader)\n",
    "feaList = next(data_sampler)\n",
    "print(feaList.shape)"
   ]
  },
  {
   "cell_type": "markdown",
   "metadata": {},
   "source": [
    "setup training\n",
    "-----------"
   ]
  },
  {
   "cell_type": "code",
   "execution_count": 65,
   "metadata": {},
   "outputs": [],
   "source": [
    "# Initialize BCELoss function\n",
    "criterion = nn.BCELoss()\n",
    "\n",
    "# Create batch of latent vectors that we will use to visualize\n",
    "#  the progression of the generator\n",
    "fixed_noise = torch.randn(64, nz, 1, 1, device=device)\n",
    "\n",
    "# Establish convention for real and fake labels during training\n",
    "real_label = 1\n",
    "fake_label = 0\n",
    "\n",
    "lambda_0 = 0.1\n",
    "lambda_G = 1.0\n",
    "\n",
    "lr = 0.0001\n",
    "\n",
    "# Setup Adam optimizers for both G and D\n",
    "optimizerD = optim.Adam(netD.parameters(), lr=lr/5, betas=(beta1, 0.999))\n",
    "optimizerG = optim.Adam(netG.parameters(), lr=lr, betas=(beta1, 0.999))"
   ]
  },
  {
   "cell_type": "code",
   "execution_count": 66,
   "metadata": {},
   "outputs": [
    {
     "name": "stdout",
     "output_type": "stream",
     "text": [
      "Starting Training Loop...\n",
      "[1/500][1/24] | ℒ_D: 1.4580 | ℒ_G: 0.6925 | D(x): 0.5007 | D(x_o): 0.4999 | D(G(z)): 0.5014 / 0.5007\n",
      "[2/500][1/24] | ℒ_D: 1.4415 | ℒ_G: 0.6972 | D(x): 0.5071 | D(x_o): 0.4922 | D(G(z)): 0.4989 / 0.4983\n",
      "[3/500][1/24] | ℒ_D: 1.4325 | ℒ_G: 0.7031 | D(x): 0.5094 | D(x_o): 0.4875 | D(G(z)): 0.4961 / 0.4955\n",
      "[4/500][1/24] | ℒ_D: 1.4271 | ℒ_G: 0.7087 | D(x): 0.5095 | D(x_o): 0.4855 | D(G(z)): 0.4933 / 0.4927\n",
      "[5/500][1/24] | ℒ_D: 1.4224 | ℒ_G: 0.7127 | D(x): 0.5100 | D(x_o): 0.4831 | D(G(z)): 0.4915 / 0.4908\n",
      "[6/500][1/24] | ℒ_D: 1.4212 | ℒ_G: 0.7189 | D(x): 0.5077 | D(x_o): 0.4801 | D(G(z)): 0.4884 / 0.4877\n",
      "[7/500][1/24] | ℒ_D: 1.4142 | ℒ_G: 0.7239 | D(x): 0.5088 | D(x_o): 0.4751 | D(G(z)): 0.4860 / 0.4853\n",
      "[8/500][1/24] | ℒ_D: 1.4124 | ℒ_G: 0.7285 | D(x): 0.5079 | D(x_o): 0.4740 | D(G(z)): 0.4838 / 0.4831\n",
      "[9/500][1/24] | ℒ_D: 1.4128 | ℒ_G: 0.7327 | D(x): 0.5057 | D(x_o): 0.4713 | D(G(z)): 0.4817 / 0.4810\n",
      "[10/500][1/24] | ℒ_D: 1.4079 | ℒ_G: 0.7383 | D(x): 0.5046 | D(x_o): 0.4698 | D(G(z)): 0.4790 / 0.4782\n",
      "[11/500][1/24] | ℒ_D: 1.4064 | ℒ_G: 0.7436 | D(x): 0.5036 | D(x_o): 0.4650 | D(G(z)): 0.4764 / 0.4757\n",
      "[12/500][1/24] | ℒ_D: 1.4008 | ℒ_G: 0.7485 | D(x): 0.5045 | D(x_o): 0.4609 | D(G(z)): 0.4742 / 0.4735\n",
      "[13/500][1/24] | ℒ_D: 1.4073 | ℒ_G: 0.7534 | D(x): 0.4989 | D(x_o): 0.4566 | D(G(z)): 0.4719 / 0.4712\n",
      "[14/500][1/24] | ℒ_D: 1.3977 | ℒ_G: 0.7592 | D(x): 0.5006 | D(x_o): 0.4570 | D(G(z)): 0.4693 / 0.4685\n",
      "[15/500][1/24] | ℒ_D: 1.3987 | ℒ_G: 0.7631 | D(x): 0.4983 | D(x_o): 0.4549 | D(G(z)): 0.4674 / 0.4667\n",
      "[16/500][1/24] | ℒ_D: 1.3965 | ℒ_G: 0.7682 | D(x): 0.4970 | D(x_o): 0.4513 | D(G(z)): 0.4650 / 0.4642\n",
      "[17/500][1/24] | ℒ_D: 1.3918 | ℒ_G: 0.7748 | D(x): 0.4977 | D(x_o): 0.4499 | D(G(z)): 0.4620 / 0.4612\n",
      "[18/500][1/24] | ℒ_D: 1.3863 | ℒ_G: 0.7787 | D(x): 0.4989 | D(x_o): 0.4471 | D(G(z)): 0.4602 / 0.4594\n",
      "[19/500][1/24] | ℒ_D: 1.3911 | ℒ_G: 0.7836 | D(x): 0.4939 | D(x_o): 0.4431 | D(G(z)): 0.4580 / 0.4572\n",
      "[20/500][1/24] | ℒ_D: 1.4067 | ℒ_G: 0.7886 | D(x): 0.4822 | D(x_o): 0.4409 | D(G(z)): 0.4559 / 0.4550\n",
      "[21/500][1/24] | ℒ_D: 1.3862 | ℒ_G: 0.7943 | D(x): 0.4916 | D(x_o): 0.4388 | D(G(z)): 0.4532 / 0.4524\n",
      "[22/500][1/24] | ℒ_D: 1.3867 | ℒ_G: 0.7989 | D(x): 0.4902 | D(x_o): 0.4412 | D(G(z)): 0.4511 / 0.4503\n",
      "[23/500][1/24] | ℒ_D: 1.3852 | ℒ_G: 0.8037 | D(x): 0.4885 | D(x_o): 0.4360 | D(G(z)): 0.4489 / 0.4481\n",
      "[24/500][1/24] | ℒ_D: 1.3888 | ℒ_G: 0.8087 | D(x): 0.4846 | D(x_o): 0.4312 | D(G(z)): 0.4468 / 0.4459\n",
      "[25/500][1/24] | ℒ_D: 1.3818 | ℒ_G: 0.8132 | D(x): 0.4870 | D(x_o): 0.4294 | D(G(z)): 0.4448 / 0.4439\n",
      "[26/500][1/24] | ℒ_D: 1.3826 | ℒ_G: 0.8182 | D(x): 0.4830 | D(x_o): 0.4278 | D(G(z)): 0.4426 / 0.4416\n",
      "[27/500][1/24] | ℒ_D: 1.3985 | ℒ_G: 0.8227 | D(x): 0.4745 | D(x_o): 0.4266 | D(G(z)): 0.4407 / 0.4397\n",
      "[28/500][1/24] | ℒ_D: 1.3861 | ℒ_G: 0.8292 | D(x): 0.4779 | D(x_o): 0.4237 | D(G(z)): 0.4379 / 0.4369\n",
      "[29/500][1/24] | ℒ_D: 1.3797 | ℒ_G: 0.8332 | D(x): 0.4796 | D(x_o): 0.4195 | D(G(z)): 0.4362 / 0.4352\n",
      "[30/500][1/24] | ℒ_D: 1.3727 | ℒ_G: 0.8378 | D(x): 0.4825 | D(x_o): 0.4167 | D(G(z)): 0.4343 / 0.4332\n",
      "[31/500][1/24] | ℒ_D: 1.3754 | ℒ_G: 0.8428 | D(x): 0.4791 | D(x_o): 0.4135 | D(G(z)): 0.4321 / 0.4310\n",
      "[32/500][1/24] | ℒ_D: 1.3759 | ℒ_G: 0.8471 | D(x): 0.4778 | D(x_o): 0.4134 | D(G(z)): 0.4304 / 0.4293\n",
      "[33/500][1/24] | ℒ_D: 1.3708 | ℒ_G: 0.8532 | D(x): 0.4769 | D(x_o): 0.4123 | D(G(z)): 0.4276 / 0.4265\n",
      "[34/500][1/24] | ℒ_D: 1.3735 | ℒ_G: 0.8587 | D(x): 0.4740 | D(x_o): 0.4098 | D(G(z)): 0.4252 / 0.4242\n",
      "[35/500][1/24] | ℒ_D: 1.3682 | ℒ_G: 0.8641 | D(x): 0.4745 | D(x_o): 0.4043 | D(G(z)): 0.4229 / 0.4219\n",
      "[36/500][1/24] | ℒ_D: 1.3627 | ℒ_G: 0.8685 | D(x): 0.4764 | D(x_o): 0.4025 | D(G(z)): 0.4211 / 0.4200\n",
      "[37/500][1/24] | ℒ_D: 1.3578 | ℒ_G: 0.8735 | D(x): 0.4768 | D(x_o): 0.4012 | D(G(z)): 0.4191 / 0.4180\n",
      "[38/500][1/24] | ℒ_D: 1.3730 | ℒ_G: 0.8770 | D(x): 0.4669 | D(x_o): 0.3983 | D(G(z)): 0.4176 / 0.4165\n",
      "[39/500][1/24] | ℒ_D: 1.3726 | ℒ_G: 0.8832 | D(x): 0.4659 | D(x_o): 0.3964 | D(G(z)): 0.4151 / 0.4140\n",
      "[40/500][1/24] | ℒ_D: 1.3486 | ℒ_G: 0.8878 | D(x): 0.4767 | D(x_o): 0.3962 | D(G(z)): 0.4134 / 0.4121\n",
      "[41/500][1/24] | ℒ_D: 1.3578 | ℒ_G: 0.8894 | D(x): 0.4714 | D(x_o): 0.3900 | D(G(z)): 0.4126 / 0.4114\n",
      "[42/500][1/24] | ℒ_D: 1.3503 | ℒ_G: 0.8915 | D(x): 0.4760 | D(x_o): 0.3870 | D(G(z)): 0.4119 / 0.4104\n",
      "[43/500][1/24] | ℒ_D: 1.3791 | ℒ_G: 0.9025 | D(x): 0.4550 | D(x_o): 0.3900 | D(G(z)): 0.4072 / 0.4060\n",
      "[44/500][1/24] | ℒ_D: 1.3442 | ℒ_G: 0.9048 | D(x): 0.4730 | D(x_o): 0.3855 | D(G(z)): 0.4063 / 0.4050\n",
      "[45/500][1/24] | ℒ_D: 1.3588 | ℒ_G: 0.9099 | D(x): 0.4650 | D(x_o): 0.3812 | D(G(z)): 0.4045 / 0.4031\n",
      "[46/500][1/24] | ℒ_D: 1.3652 | ℒ_G: 0.9128 | D(x): 0.4594 | D(x_o): 0.3792 | D(G(z)): 0.4031 / 0.4018\n",
      "[47/500][1/24] | ℒ_D: 1.3555 | ℒ_G: 0.9234 | D(x): 0.4622 | D(x_o): 0.3768 | D(G(z)): 0.3989 / 0.3976\n",
      "[48/500][1/24] | ℒ_D: 1.3493 | ℒ_G: 0.9257 | D(x): 0.4642 | D(x_o): 0.3774 | D(G(z)): 0.3983 / 0.3968\n",
      "[49/500][1/24] | ℒ_D: 1.3463 | ℒ_G: 0.9336 | D(x): 0.4635 | D(x_o): 0.3784 | D(G(z)): 0.3948 / 0.3936\n",
      "[50/500][1/24] | ℒ_D: 1.3667 | ℒ_G: 0.9393 | D(x): 0.4502 | D(x_o): 0.3682 | D(G(z)): 0.3928 / 0.3915\n",
      "[51/500][1/24] | ℒ_D: 1.3575 | ℒ_G: 0.9426 | D(x): 0.4563 | D(x_o): 0.3688 | D(G(z)): 0.3914 / 0.3901\n",
      "[52/500][1/24] | ℒ_D: 1.3457 | ℒ_G: 0.9445 | D(x): 0.4604 | D(x_o): 0.3654 | D(G(z)): 0.3912 / 0.3894\n",
      "[53/500][1/24] | ℒ_D: 1.3502 | ℒ_G: 0.9538 | D(x): 0.4576 | D(x_o): 0.3604 | D(G(z)): 0.3871 / 0.3858\n",
      "[54/500][1/24] | ℒ_D: 1.3472 | ℒ_G: 0.9498 | D(x): 0.4583 | D(x_o): 0.3647 | D(G(z)): 0.3890 / 0.3873\n",
      "[55/500][1/24] | ℒ_D: 1.3205 | ℒ_G: 0.9618 | D(x): 0.4673 | D(x_o): 0.3610 | D(G(z)): 0.3842 / 0.3828\n",
      "[56/500][1/24] | ℒ_D: 1.3642 | ℒ_G: 0.9637 | D(x): 0.4451 | D(x_o): 0.3609 | D(G(z)): 0.3835 / 0.3822\n",
      "[57/500][1/24] | ℒ_D: 1.3290 | ℒ_G: 0.9664 | D(x): 0.4625 | D(x_o): 0.3541 | D(G(z)): 0.3825 / 0.3810\n",
      "[58/500][1/24] | ℒ_D: 1.3165 | ℒ_G: 0.9734 | D(x): 0.4676 | D(x_o): 0.3545 | D(G(z)): 0.3800 / 0.3785\n",
      "[59/500][1/24] | ℒ_D: 1.3535 | ℒ_G: 0.9766 | D(x): 0.4471 | D(x_o): 0.3528 | D(G(z)): 0.3789 / 0.3773\n",
      "[60/500][1/24] | ℒ_D: 1.3498 | ℒ_G: 0.9833 | D(x): 0.4454 | D(x_o): 0.3475 | D(G(z)): 0.3763 / 0.3747\n",
      "[61/500][1/24] | ℒ_D: 1.3348 | ℒ_G: 0.9892 | D(x): 0.4545 | D(x_o): 0.3457 | D(G(z)): 0.3741 / 0.3725\n",
      "[62/500][1/24] | ℒ_D: 1.3137 | ℒ_G: 0.9923 | D(x): 0.4636 | D(x_o): 0.3463 | D(G(z)): 0.3730 / 0.3713\n",
      "[63/500][1/24] | ℒ_D: 1.3210 | ℒ_G: 0.9961 | D(x): 0.4579 | D(x_o): 0.3400 | D(G(z)): 0.3717 / 0.3699\n",
      "[64/500][1/24] | ℒ_D: 1.3362 | ℒ_G: 1.0007 | D(x): 0.4480 | D(x_o): 0.3402 | D(G(z)): 0.3701 / 0.3684\n",
      "[65/500][1/24] | ℒ_D: 1.3337 | ℒ_G: 1.0035 | D(x): 0.4507 | D(x_o): 0.3432 | D(G(z)): 0.3692 / 0.3673\n",
      "[66/500][1/24] | ℒ_D: 1.3270 | ℒ_G: 1.0123 | D(x): 0.4541 | D(x_o): 0.3419 | D(G(z)): 0.3659 / 0.3642\n",
      "[67/500][1/24] | ℒ_D: 1.3473 | ℒ_G: 1.0113 | D(x): 0.4423 | D(x_o): 0.3408 | D(G(z)): 0.3660 / 0.3643\n",
      "[68/500][1/24] | ℒ_D: 1.3313 | ℒ_G: 1.0176 | D(x): 0.4477 | D(x_o): 0.3313 | D(G(z)): 0.3639 / 0.3621\n",
      "[69/500][1/24] | ℒ_D: 1.3086 | ℒ_G: 1.0228 | D(x): 0.4600 | D(x_o): 0.3326 | D(G(z)): 0.3619 / 0.3604\n",
      "[70/500][1/24] | ℒ_D: 1.2967 | ℒ_G: 1.0279 | D(x): 0.4642 | D(x_o): 0.3385 | D(G(z)): 0.3601 / 0.3584\n",
      "[71/500][1/24] | ℒ_D: 1.3001 | ℒ_G: 1.0294 | D(x): 0.4606 | D(x_o): 0.3289 | D(G(z)): 0.3597 / 0.3580\n",
      "[72/500][1/24] | ℒ_D: 1.3481 | ℒ_G: 1.0313 | D(x): 0.4383 | D(x_o): 0.3285 | D(G(z)): 0.3589 / 0.3572\n",
      "[73/500][1/24] | ℒ_D: 1.2775 | ℒ_G: 1.0390 | D(x): 0.4716 | D(x_o): 0.3252 | D(G(z)): 0.3562 / 0.3545\n",
      "[74/500][1/24] | ℒ_D: 1.3111 | ℒ_G: 1.0426 | D(x): 0.4524 | D(x_o): 0.3230 | D(G(z)): 0.3551 / 0.3534\n",
      "[75/500][1/24] | ℒ_D: 1.3007 | ℒ_G: 1.0466 | D(x): 0.4557 | D(x_o): 0.3202 | D(G(z)): 0.3534 / 0.3519\n",
      "[76/500][1/24] | ℒ_D: 1.2899 | ℒ_G: 1.0488 | D(x): 0.4627 | D(x_o): 0.3261 | D(G(z)): 0.3527 / 0.3510\n",
      "[77/500][1/24] | ℒ_D: 1.2859 | ℒ_G: 1.0546 | D(x): 0.4627 | D(x_o): 0.3178 | D(G(z)): 0.3508 / 0.3492\n",
      "[78/500][1/24] | ℒ_D: 1.3379 | ℒ_G: 1.0571 | D(x): 0.4343 | D(x_o): 0.3134 | D(G(z)): 0.3500 / 0.3483\n",
      "[79/500][1/24] | ℒ_D: 1.3009 | ℒ_G: 1.0638 | D(x): 0.4509 | D(x_o): 0.3133 | D(G(z)): 0.3478 / 0.3462\n",
      "[80/500][1/24] | ℒ_D: 1.3114 | ℒ_G: 1.0650 | D(x): 0.4450 | D(x_o): 0.3134 | D(G(z)): 0.3470 / 0.3455\n",
      "[81/500][1/24] | ℒ_D: 1.3291 | ℒ_G: 1.0652 | D(x): 0.4420 | D(x_o): 0.3087 | D(G(z)): 0.3473 / 0.3456\n",
      "[82/500][1/24] | ℒ_D: 1.2619 | ℒ_G: 1.0739 | D(x): 0.4691 | D(x_o): 0.3061 | D(G(z)): 0.3441 / 0.3425\n",
      "[83/500][1/24] | ℒ_D: 1.2641 | ℒ_G: 1.0744 | D(x): 0.4688 | D(x_o): 0.3073 | D(G(z)): 0.3442 / 0.3426\n",
      "[84/500][1/24] | ℒ_D: 1.2753 | ℒ_G: 1.0816 | D(x): 0.4608 | D(x_o): 0.3080 | D(G(z)): 0.3416 / 0.3399\n",
      "[85/500][1/24] | ℒ_D: 1.3020 | ℒ_G: 1.0835 | D(x): 0.4481 | D(x_o): 0.3037 | D(G(z)): 0.3412 / 0.3396\n",
      "[86/500][1/24] | ℒ_D: 1.3009 | ℒ_G: 1.0855 | D(x): 0.4475 | D(x_o): 0.3014 | D(G(z)): 0.3405 / 0.3388\n",
      "[87/500][1/24] | ℒ_D: 1.2838 | ℒ_G: 1.0864 | D(x): 0.4591 | D(x_o): 0.3009 | D(G(z)): 0.3404 / 0.3388\n",
      "[88/500][1/24] | ℒ_D: 1.2775 | ℒ_G: 1.0925 | D(x): 0.4567 | D(x_o): 0.2995 | D(G(z)): 0.3383 / 0.3366\n",
      "[89/500][1/24] | ℒ_D: 1.2970 | ℒ_G: 1.0916 | D(x): 0.4463 | D(x_o): 0.3023 | D(G(z)): 0.3391 / 0.3369\n",
      "[90/500][1/24] | ℒ_D: 1.2952 | ℒ_G: 1.0940 | D(x): 0.4501 | D(x_o): 0.3031 | D(G(z)): 0.3379 / 0.3360\n",
      "[91/500][1/24] | ℒ_D: 1.2741 | ℒ_G: 1.0986 | D(x): 0.4557 | D(x_o): 0.3021 | D(G(z)): 0.3365 / 0.3343\n",
      "[92/500][1/24] | ℒ_D: 1.2732 | ℒ_G: 1.1016 | D(x): 0.4587 | D(x_o): 0.2949 | D(G(z)): 0.3351 / 0.3333\n",
      "[93/500][1/24] | ℒ_D: 1.2600 | ℒ_G: 1.1045 | D(x): 0.4652 | D(x_o): 0.2933 | D(G(z)): 0.3345 / 0.3328\n",
      "[94/500][1/24] | ℒ_D: 1.2904 | ℒ_G: 1.1059 | D(x): 0.4513 | D(x_o): 0.2962 | D(G(z)): 0.3338 / 0.3320\n",
      "[95/500][1/24] | ℒ_D: 1.2688 | ℒ_G: 1.1053 | D(x): 0.4618 | D(x_o): 0.2962 | D(G(z)): 0.3348 / 0.3324\n",
      "[96/500][1/24] | ℒ_D: 1.2321 | ℒ_G: 1.1121 | D(x): 0.4755 | D(x_o): 0.2917 | D(G(z)): 0.3318 / 0.3299\n",
      "[97/500][1/24] | ℒ_D: 1.2411 | ℒ_G: 1.1223 | D(x): 0.4678 | D(x_o): 0.2923 | D(G(z)): 0.3287 / 0.3269\n",
      "[98/500][1/24] | ℒ_D: 1.2501 | ℒ_G: 1.1223 | D(x): 0.4639 | D(x_o): 0.2848 | D(G(z)): 0.3287 / 0.3270\n",
      "[99/500][1/24] | ℒ_D: 1.2640 | ℒ_G: 1.1252 | D(x): 0.4583 | D(x_o): 0.2976 | D(G(z)): 0.3281 / 0.3263\n",
      "[100/500][1/24] | ℒ_D: 1.2261 | ℒ_G: 1.1297 | D(x): 0.4768 | D(x_o): 0.2849 | D(G(z)): 0.3262 / 0.3244\n",
      "[101/500][1/24] | ℒ_D: 1.2438 | ℒ_G: 1.1299 | D(x): 0.4683 | D(x_o): 0.2830 | D(G(z)): 0.3259 / 0.3243\n",
      "[102/500][1/24] | ℒ_D: 1.2479 | ℒ_G: 1.1308 | D(x): 0.4678 | D(x_o): 0.2895 | D(G(z)): 0.3260 / 0.3243\n",
      "[103/500][1/24] | ℒ_D: 1.2366 | ℒ_G: 1.1384 | D(x): 0.4684 | D(x_o): 0.2839 | D(G(z)): 0.3231 / 0.3215\n",
      "[104/500][1/24] | ℒ_D: 1.2846 | ℒ_G: 1.1380 | D(x): 0.4449 | D(x_o): 0.2828 | D(G(z)): 0.3235 / 0.3218\n",
      "[105/500][1/24] | ℒ_D: 1.2183 | ℒ_G: 1.1435 | D(x): 0.4794 | D(x_o): 0.2894 | D(G(z)): 0.3214 / 0.3198\n",
      "[106/500][1/24] | ℒ_D: 1.2696 | ℒ_G: 1.1431 | D(x): 0.4553 | D(x_o): 0.2823 | D(G(z)): 0.3218 / 0.3200\n",
      "[107/500][1/24] | ℒ_D: 1.2498 | ℒ_G: 1.1465 | D(x): 0.4606 | D(x_o): 0.2808 | D(G(z)): 0.3204 / 0.3189\n",
      "[108/500][1/24] | ℒ_D: 1.2153 | ℒ_G: 1.1491 | D(x): 0.4788 | D(x_o): 0.2826 | D(G(z)): 0.3201 / 0.3184\n",
      "[109/500][1/24] | ℒ_D: 1.2629 | ℒ_G: 1.1478 | D(x): 0.4557 | D(x_o): 0.2861 | D(G(z)): 0.3203 / 0.3186\n",
      "[110/500][1/24] | ℒ_D: 1.2108 | ℒ_G: 1.1574 | D(x): 0.4811 | D(x_o): 0.2759 | D(G(z)): 0.3170 / 0.3155\n",
      "[111/500][1/24] | ℒ_D: 1.2569 | ℒ_G: 1.1580 | D(x): 0.4537 | D(x_o): 0.2796 | D(G(z)): 0.3171 / 0.3156\n",
      "[112/500][1/24] | ℒ_D: 1.2482 | ℒ_G: 1.1566 | D(x): 0.4610 | D(x_o): 0.2751 | D(G(z)): 0.3175 / 0.3162\n",
      "[113/500][1/24] | ℒ_D: 1.2640 | ℒ_G: 1.1630 | D(x): 0.4507 | D(x_o): 0.2723 | D(G(z)): 0.3154 / 0.3141\n",
      "[114/500][1/24] | ℒ_D: 1.2130 | ℒ_G: 1.1709 | D(x): 0.4762 | D(x_o): 0.2677 | D(G(z)): 0.3129 / 0.3115\n",
      "[115/500][1/24] | ℒ_D: 1.2134 | ℒ_G: 1.1657 | D(x): 0.4755 | D(x_o): 0.2666 | D(G(z)): 0.3152 / 0.3133\n",
      "[116/500][1/24] | ℒ_D: 1.2438 | ℒ_G: 1.1678 | D(x): 0.4584 | D(x_o): 0.2721 | D(G(z)): 0.3140 / 0.3125\n",
      "[117/500][1/24] | ℒ_D: 1.1976 | ℒ_G: 1.1688 | D(x): 0.4834 | D(x_o): 0.2596 | D(G(z)): 0.3134 / 0.3119\n",
      "[118/500][1/24] | ℒ_D: 1.2463 | ℒ_G: 1.1794 | D(x): 0.4583 | D(x_o): 0.2651 | D(G(z)): 0.3105 / 0.3090\n",
      "[119/500][1/24] | ℒ_D: 1.1912 | ℒ_G: 1.1783 | D(x): 0.4851 | D(x_o): 0.2720 | D(G(z)): 0.3108 / 0.3093\n",
      "[120/500][1/24] | ℒ_D: 1.1947 | ℒ_G: 1.1854 | D(x): 0.4799 | D(x_o): 0.2647 | D(G(z)): 0.3084 / 0.3069\n",
      "[121/500][1/24] | ℒ_D: 1.1922 | ℒ_G: 1.1854 | D(x): 0.4850 | D(x_o): 0.2636 | D(G(z)): 0.3082 / 0.3067\n",
      "[122/500][1/24] | ℒ_D: 1.1803 | ℒ_G: 1.1885 | D(x): 0.4906 | D(x_o): 0.2574 | D(G(z)): 0.3074 / 0.3059\n",
      "[123/500][1/24] | ℒ_D: 1.2091 | ℒ_G: 1.1919 | D(x): 0.4711 | D(x_o): 0.2612 | D(G(z)): 0.3064 / 0.3049\n",
      "[124/500][1/24] | ℒ_D: 1.2163 | ℒ_G: 1.1899 | D(x): 0.4731 | D(x_o): 0.2591 | D(G(z)): 0.3072 / 0.3057\n",
      "[125/500][1/24] | ℒ_D: 1.1998 | ℒ_G: 1.1973 | D(x): 0.4773 | D(x_o): 0.2554 | D(G(z)): 0.3053 / 0.3037\n",
      "[126/500][1/24] | ℒ_D: 1.1796 | ℒ_G: 1.1987 | D(x): 0.4890 | D(x_o): 0.2583 | D(G(z)): 0.3045 / 0.3031\n",
      "[127/500][1/24] | ℒ_D: 1.1964 | ℒ_G: 1.2011 | D(x): 0.4800 | D(x_o): 0.2576 | D(G(z)): 0.3037 / 0.3021\n",
      "[128/500][1/24] | ℒ_D: 1.1639 | ℒ_G: 1.1962 | D(x): 0.4964 | D(x_o): 0.2550 | D(G(z)): 0.3056 / 0.3040\n",
      "[129/500][1/24] | ℒ_D: 1.2531 | ℒ_G: 1.1998 | D(x): 0.4457 | D(x_o): 0.2526 | D(G(z)): 0.3041 / 0.3025\n",
      "[130/500][1/24] | ℒ_D: 1.1759 | ℒ_G: 1.2039 | D(x): 0.4853 | D(x_o): 0.2491 | D(G(z)): 0.3033 / 0.3017\n",
      "[131/500][1/24] | ℒ_D: 1.2183 | ℒ_G: 1.2050 | D(x): 0.4648 | D(x_o): 0.2546 | D(G(z)): 0.3031 / 0.3015\n",
      "[132/500][1/24] | ℒ_D: 1.1836 | ℒ_G: 1.2144 | D(x): 0.4827 | D(x_o): 0.2467 | D(G(z)): 0.2997 / 0.2982\n",
      "[133/500][1/24] | ℒ_D: 1.1776 | ℒ_G: 1.2146 | D(x): 0.4895 | D(x_o): 0.2528 | D(G(z)): 0.3003 / 0.2988\n",
      "[134/500][1/24] | ℒ_D: 1.2047 | ℒ_G: 1.2200 | D(x): 0.4707 | D(x_o): 0.2477 | D(G(z)): 0.2990 / 0.2973\n",
      "[135/500][1/24] | ℒ_D: 1.1904 | ℒ_G: 1.2169 | D(x): 0.4780 | D(x_o): 0.2471 | D(G(z)): 0.2997 / 0.2981\n",
      "[136/500][1/24] | ℒ_D: 1.1751 | ℒ_G: 1.2225 | D(x): 0.4857 | D(x_o): 0.2492 | D(G(z)): 0.2974 / 0.2958\n",
      "[137/500][1/24] | ℒ_D: 1.1654 | ℒ_G: 1.2282 | D(x): 0.4927 | D(x_o): 0.2456 | D(G(z)): 0.2964 / 0.2948\n",
      "[138/500][1/24] | ℒ_D: 1.1701 | ℒ_G: 1.2274 | D(x): 0.4853 | D(x_o): 0.2433 | D(G(z)): 0.2967 / 0.2952\n",
      "[139/500][1/24] | ℒ_D: 1.1615 | ℒ_G: 1.2245 | D(x): 0.4899 | D(x_o): 0.2422 | D(G(z)): 0.2971 / 0.2953\n",
      "[140/500][1/24] | ℒ_D: 1.1395 | ℒ_G: 1.2317 | D(x): 0.5073 | D(x_o): 0.2451 | D(G(z)): 0.2954 / 0.2938\n",
      "[141/500][1/24] | ℒ_D: 1.1715 | ℒ_G: 1.2392 | D(x): 0.4863 | D(x_o): 0.2375 | D(G(z)): 0.2936 / 0.2920\n",
      "[142/500][1/24] | ℒ_D: 1.2205 | ℒ_G: 1.2407 | D(x): 0.4593 | D(x_o): 0.2430 | D(G(z)): 0.2924 / 0.2909\n",
      "[143/500][1/24] | ℒ_D: 1.1465 | ℒ_G: 1.2445 | D(x): 0.4985 | D(x_o): 0.2441 | D(G(z)): 0.2911 / 0.2895\n",
      "[144/500][1/24] | ℒ_D: 1.1801 | ℒ_G: 1.2420 | D(x): 0.4807 | D(x_o): 0.2331 | D(G(z)): 0.2919 / 0.2903\n",
      "[145/500][1/24] | ℒ_D: 1.1509 | ℒ_G: 1.2428 | D(x): 0.4991 | D(x_o): 0.2365 | D(G(z)): 0.2925 / 0.2906\n",
      "[146/500][1/24] | ℒ_D: 1.1340 | ℒ_G: 1.2425 | D(x): 0.5062 | D(x_o): 0.2393 | D(G(z)): 0.2926 / 0.2908\n",
      "[147/500][1/24] | ℒ_D: 1.1287 | ℒ_G: 1.2491 | D(x): 0.5054 | D(x_o): 0.2258 | D(G(z)): 0.2908 / 0.2888\n",
      "[148/500][1/24] | ℒ_D: 1.1601 | ℒ_G: 1.2517 | D(x): 0.4913 | D(x_o): 0.2339 | D(G(z)): 0.2900 / 0.2880\n",
      "[149/500][1/24] | ℒ_D: 1.1668 | ℒ_G: 1.2622 | D(x): 0.4830 | D(x_o): 0.2263 | D(G(z)): 0.2874 / 0.2856\n",
      "[150/500][1/24] | ℒ_D: 1.1616 | ℒ_G: 1.2615 | D(x): 0.4867 | D(x_o): 0.2270 | D(G(z)): 0.2867 / 0.2849\n",
      "[151/500][1/24] | ℒ_D: 1.2181 | ℒ_G: 1.2623 | D(x): 0.4615 | D(x_o): 0.2324 | D(G(z)): 0.2869 / 0.2852\n",
      "[152/500][1/24] | ℒ_D: 1.1000 | ℒ_G: 1.2713 | D(x): 0.5156 | D(x_o): 0.2278 | D(G(z)): 0.2843 / 0.2826\n",
      "[153/500][1/24] | ℒ_D: 1.1371 | ℒ_G: 1.2692 | D(x): 0.5019 | D(x_o): 0.2191 | D(G(z)): 0.2847 / 0.2829\n",
      "[154/500][1/24] | ℒ_D: 1.1377 | ℒ_G: 1.2671 | D(x): 0.5007 | D(x_o): 0.2258 | D(G(z)): 0.2855 / 0.2837\n",
      "[155/500][1/24] | ℒ_D: 1.1178 | ℒ_G: 1.2688 | D(x): 0.5136 | D(x_o): 0.2235 | D(G(z)): 0.2844 / 0.2827\n",
      "[156/500][1/24] | ℒ_D: 1.1322 | ℒ_G: 1.2746 | D(x): 0.5027 | D(x_o): 0.2253 | D(G(z)): 0.2834 / 0.2815\n",
      "[157/500][1/24] | ℒ_D: 1.1173 | ℒ_G: 1.2741 | D(x): 0.5138 | D(x_o): 0.2234 | D(G(z)): 0.2838 / 0.2820\n",
      "[158/500][1/24] | ℒ_D: 1.1622 | ℒ_G: 1.2765 | D(x): 0.4848 | D(x_o): 0.2199 | D(G(z)): 0.2823 / 0.2807\n",
      "[159/500][1/24] | ℒ_D: 1.1083 | ℒ_G: 1.2824 | D(x): 0.5164 | D(x_o): 0.2245 | D(G(z)): 0.2809 / 0.2791\n",
      "[160/500][1/24] | ℒ_D: 1.0988 | ℒ_G: 1.2825 | D(x): 0.5193 | D(x_o): 0.2207 | D(G(z)): 0.2809 / 0.2792\n",
      "[161/500][1/24] | ℒ_D: 1.0897 | ℒ_G: 1.2797 | D(x): 0.5282 | D(x_o): 0.2227 | D(G(z)): 0.2821 / 0.2804\n",
      "[162/500][1/24] | ℒ_D: 1.1153 | ℒ_G: 1.2944 | D(x): 0.5040 | D(x_o): 0.2204 | D(G(z)): 0.2778 / 0.2761\n",
      "[163/500][1/24] | ℒ_D: 1.1436 | ℒ_G: 1.2945 | D(x): 0.4938 | D(x_o): 0.2169 | D(G(z)): 0.2780 / 0.2763\n",
      "[164/500][1/24] | ℒ_D: 1.1112 | ℒ_G: 1.2943 | D(x): 0.5066 | D(x_o): 0.2109 | D(G(z)): 0.2778 / 0.2760\n",
      "[165/500][1/24] | ℒ_D: 1.1184 | ℒ_G: 1.2975 | D(x): 0.5066 | D(x_o): 0.2310 | D(G(z)): 0.2779 / 0.2760\n",
      "[166/500][1/24] | ℒ_D: 1.1135 | ℒ_G: 1.3013 | D(x): 0.5084 | D(x_o): 0.2152 | D(G(z)): 0.2765 / 0.2748\n",
      "[167/500][1/24] | ℒ_D: 1.1666 | ℒ_G: 1.3031 | D(x): 0.4786 | D(x_o): 0.2128 | D(G(z)): 0.2756 / 0.2740\n",
      "[168/500][1/24] | ℒ_D: 1.1069 | ℒ_G: 1.3069 | D(x): 0.5115 | D(x_o): 0.2168 | D(G(z)): 0.2742 / 0.2725\n",
      "[169/500][1/24] | ℒ_D: 1.0778 | ℒ_G: 1.3099 | D(x): 0.5288 | D(x_o): 0.2152 | D(G(z)): 0.2734 / 0.2718\n",
      "[170/500][1/24] | ℒ_D: 1.0988 | ℒ_G: 1.2970 | D(x): 0.5171 | D(x_o): 0.2084 | D(G(z)): 0.2777 / 0.2757\n",
      "[171/500][1/24] | ℒ_D: 1.1079 | ℒ_G: 1.3059 | D(x): 0.5102 | D(x_o): 0.2249 | D(G(z)): 0.2746 / 0.2729\n",
      "[172/500][1/24] | ℒ_D: 1.0885 | ℒ_G: 1.3214 | D(x): 0.5184 | D(x_o): 0.2062 | D(G(z)): 0.2707 / 0.2689\n",
      "[173/500][1/24] | ℒ_D: 1.0902 | ℒ_G: 1.3204 | D(x): 0.5171 | D(x_o): 0.2129 | D(G(z)): 0.2713 / 0.2695\n",
      "[174/500][1/24] | ℒ_D: 1.1200 | ℒ_G: 1.3086 | D(x): 0.5011 | D(x_o): 0.2043 | D(G(z)): 0.2753 / 0.2732\n",
      "[175/500][1/24] | ℒ_D: 1.0714 | ℒ_G: 1.3248 | D(x): 0.5241 | D(x_o): 0.2114 | D(G(z)): 0.2695 / 0.2676\n",
      "[176/500][1/24] | ℒ_D: 1.1178 | ℒ_G: 1.3293 | D(x): 0.5001 | D(x_o): 0.2012 | D(G(z)): 0.2692 / 0.2673\n",
      "[177/500][1/24] | ℒ_D: 1.1016 | ℒ_G: 1.3254 | D(x): 0.5074 | D(x_o): 0.2049 | D(G(z)): 0.2700 / 0.2681\n",
      "[178/500][1/24] | ℒ_D: 1.0982 | ℒ_G: 1.3220 | D(x): 0.5168 | D(x_o): 0.2044 | D(G(z)): 0.2703 / 0.2684\n",
      "[179/500][1/24] | ℒ_D: 1.1082 | ℒ_G: 1.3343 | D(x): 0.5054 | D(x_o): 0.1980 | D(G(z)): 0.2676 / 0.2658\n",
      "[180/500][1/24] | ℒ_D: 1.0892 | ℒ_G: 1.3329 | D(x): 0.5144 | D(x_o): 0.2002 | D(G(z)): 0.2678 / 0.2660\n",
      "[181/500][1/24] | ℒ_D: 1.0973 | ℒ_G: 1.3378 | D(x): 0.5136 | D(x_o): 0.2054 | D(G(z)): 0.2666 / 0.2646\n",
      "[182/500][1/24] | ℒ_D: 1.0481 | ℒ_G: 1.3379 | D(x): 0.5348 | D(x_o): 0.1965 | D(G(z)): 0.2666 / 0.2646\n",
      "[183/500][1/24] | ℒ_D: 1.0989 | ℒ_G: 1.3467 | D(x): 0.5128 | D(x_o): 0.1955 | D(G(z)): 0.2635 / 0.2620\n",
      "[184/500][1/24] | ℒ_D: 1.0465 | ℒ_G: 1.3509 | D(x): 0.5398 | D(x_o): 0.2042 | D(G(z)): 0.2629 / 0.2611\n",
      "[185/500][1/24] | ℒ_D: 1.1673 | ℒ_G: 1.3479 | D(x): 0.4739 | D(x_o): 0.1906 | D(G(z)): 0.2643 / 0.2623\n",
      "[186/500][1/24] | ℒ_D: 1.0357 | ℒ_G: 1.3570 | D(x): 0.5427 | D(x_o): 0.1944 | D(G(z)): 0.2620 / 0.2601\n",
      "[187/500][1/24] | ℒ_D: 1.0746 | ℒ_G: 1.3651 | D(x): 0.5208 | D(x_o): 0.2016 | D(G(z)): 0.2596 / 0.2578\n",
      "[188/500][1/24] | ℒ_D: 1.0569 | ℒ_G: 1.3554 | D(x): 0.5310 | D(x_o): 0.1888 | D(G(z)): 0.2627 / 0.2607\n",
      "[189/500][1/24] | ℒ_D: 1.0560 | ℒ_G: 1.3586 | D(x): 0.5402 | D(x_o): 0.1926 | D(G(z)): 0.2618 / 0.2600\n",
      "[190/500][1/24] | ℒ_D: 1.1518 | ℒ_G: 1.3660 | D(x): 0.4815 | D(x_o): 0.2008 | D(G(z)): 0.2591 / 0.2574\n",
      "[191/500][1/24] | ℒ_D: 1.0776 | ℒ_G: 1.3696 | D(x): 0.5189 | D(x_o): 0.1922 | D(G(z)): 0.2586 / 0.2569\n",
      "[192/500][1/24] | ℒ_D: 1.0534 | ℒ_G: 1.3645 | D(x): 0.5352 | D(x_o): 0.1888 | D(G(z)): 0.2590 / 0.2574\n",
      "[193/500][1/24] | ℒ_D: 1.0561 | ℒ_G: 1.3671 | D(x): 0.5355 | D(x_o): 0.2001 | D(G(z)): 0.2587 / 0.2570\n",
      "[194/500][1/24] | ℒ_D: 1.0235 | ℒ_G: 1.3673 | D(x): 0.5516 | D(x_o): 0.1892 | D(G(z)): 0.2589 / 0.2570\n",
      "[195/500][1/24] | ℒ_D: 1.0851 | ℒ_G: 1.3823 | D(x): 0.5192 | D(x_o): 0.1829 | D(G(z)): 0.2554 / 0.2537\n",
      "[196/500][1/24] | ℒ_D: 1.0359 | ℒ_G: 1.3809 | D(x): 0.5449 | D(x_o): 0.1797 | D(G(z)): 0.2562 / 0.2544\n",
      "[197/500][1/24] | ℒ_D: 1.0465 | ℒ_G: 1.3686 | D(x): 0.5365 | D(x_o): 0.1811 | D(G(z)): 0.2599 / 0.2577\n",
      "[198/500][1/24] | ℒ_D: 1.0122 | ℒ_G: 1.3930 | D(x): 0.5545 | D(x_o): 0.1927 | D(G(z)): 0.2527 / 0.2510\n",
      "[199/500][1/24] | ℒ_D: 1.0106 | ℒ_G: 1.3759 | D(x): 0.5526 | D(x_o): 0.1949 | D(G(z)): 0.2566 / 0.2547\n",
      "[200/500][1/24] | ℒ_D: 1.0204 | ℒ_G: 1.3868 | D(x): 0.5548 | D(x_o): 0.1843 | D(G(z)): 0.2540 / 0.2523\n",
      "[201/500][1/24] | ℒ_D: 1.0580 | ℒ_G: 1.3823 | D(x): 0.5303 | D(x_o): 0.1897 | D(G(z)): 0.2560 / 0.2541\n",
      "[202/500][1/24] | ℒ_D: 1.0045 | ℒ_G: 1.3915 | D(x): 0.5619 | D(x_o): 0.1817 | D(G(z)): 0.2525 / 0.2508\n",
      "[203/500][1/24] | ℒ_D: 1.0004 | ℒ_G: 1.3822 | D(x): 0.5654 | D(x_o): 0.1993 | D(G(z)): 0.2552 / 0.2534\n",
      "[204/500][1/24] | ℒ_D: 1.0064 | ℒ_G: 1.3949 | D(x): 0.5556 | D(x_o): 0.1792 | D(G(z)): 0.2522 / 0.2504\n",
      "[205/500][1/24] | ℒ_D: 1.0139 | ℒ_G: 1.3990 | D(x): 0.5485 | D(x_o): 0.1738 | D(G(z)): 0.2515 / 0.2497\n",
      "[206/500][1/24] | ℒ_D: 0.9934 | ℒ_G: 1.3958 | D(x): 0.5701 | D(x_o): 0.1792 | D(G(z)): 0.2520 / 0.2502\n",
      "[207/500][1/24] | ℒ_D: 1.1111 | ℒ_G: 1.4003 | D(x): 0.4925 | D(x_o): 0.1827 | D(G(z)): 0.2505 / 0.2490\n",
      "[208/500][1/24] | ℒ_D: 0.9853 | ℒ_G: 1.3996 | D(x): 0.5694 | D(x_o): 0.1812 | D(G(z)): 0.2510 / 0.2491\n",
      "[209/500][1/24] | ℒ_D: 1.0152 | ℒ_G: 1.3942 | D(x): 0.5527 | D(x_o): 0.1711 | D(G(z)): 0.2534 / 0.2513\n",
      "[210/500][1/24] | ℒ_D: 1.0165 | ℒ_G: 1.4058 | D(x): 0.5517 | D(x_o): 0.1831 | D(G(z)): 0.2502 / 0.2482\n",
      "[211/500][1/24] | ℒ_D: 1.0246 | ℒ_G: 1.4053 | D(x): 0.5481 | D(x_o): 0.1793 | D(G(z)): 0.2509 / 0.2487\n",
      "[212/500][1/24] | ℒ_D: 1.0410 | ℒ_G: 1.4061 | D(x): 0.5348 | D(x_o): 0.1788 | D(G(z)): 0.2507 / 0.2486\n",
      "[213/500][1/24] | ℒ_D: 1.0454 | ℒ_G: 1.4163 | D(x): 0.5275 | D(x_o): 0.1782 | D(G(z)): 0.2475 / 0.2453\n",
      "[214/500][1/24] | ℒ_D: 0.9742 | ℒ_G: 1.4179 | D(x): 0.5738 | D(x_o): 0.1820 | D(G(z)): 0.2469 / 0.2449\n",
      "[215/500][1/24] | ℒ_D: 0.9993 | ℒ_G: 1.4224 | D(x): 0.5602 | D(x_o): 0.1866 | D(G(z)): 0.2465 / 0.2443\n",
      "[216/500][1/24] | ℒ_D: 1.0488 | ℒ_G: 1.4281 | D(x): 0.5315 | D(x_o): 0.1881 | D(G(z)): 0.2449 / 0.2430\n",
      "[217/500][1/24] | ℒ_D: 0.9785 | ℒ_G: 1.4292 | D(x): 0.5774 | D(x_o): 0.1652 | D(G(z)): 0.2439 / 0.2419\n",
      "[218/500][1/24] | ℒ_D: 1.0241 | ℒ_G: 1.4288 | D(x): 0.5461 | D(x_o): 0.1629 | D(G(z)): 0.2439 / 0.2420\n",
      "[219/500][1/24] | ℒ_D: 1.0680 | ℒ_G: 1.4390 | D(x): 0.5300 | D(x_o): 0.1797 | D(G(z)): 0.2422 / 0.2402\n",
      "[220/500][1/24] | ℒ_D: 0.9699 | ℒ_G: 1.4342 | D(x): 0.5755 | D(x_o): 0.1684 | D(G(z)): 0.2438 / 0.2416\n",
      "[221/500][1/24] | ℒ_D: 1.0144 | ℒ_G: 1.4364 | D(x): 0.5502 | D(x_o): 0.1729 | D(G(z)): 0.2431 / 0.2410\n",
      "[222/500][1/24] | ℒ_D: 0.9571 | ℒ_G: 1.4385 | D(x): 0.5829 | D(x_o): 0.1716 | D(G(z)): 0.2420 / 0.2400\n",
      "[223/500][1/24] | ℒ_D: 0.9754 | ℒ_G: 1.4362 | D(x): 0.5745 | D(x_o): 0.1747 | D(G(z)): 0.2430 / 0.2410\n",
      "[224/500][1/24] | ℒ_D: 0.9901 | ℒ_G: 1.4442 | D(x): 0.5601 | D(x_o): 0.1683 | D(G(z)): 0.2403 / 0.2384\n",
      "[225/500][1/24] | ℒ_D: 1.0467 | ℒ_G: 1.4461 | D(x): 0.5312 | D(x_o): 0.1623 | D(G(z)): 0.2412 / 0.2392\n",
      "[226/500][1/24] | ℒ_D: 0.9750 | ℒ_G: 1.4473 | D(x): 0.5716 | D(x_o): 0.1733 | D(G(z)): 0.2396 / 0.2378\n",
      "[227/500][1/24] | ℒ_D: 0.9387 | ℒ_G: 1.4554 | D(x): 0.5940 | D(x_o): 0.1673 | D(G(z)): 0.2388 / 0.2368\n",
      "[228/500][1/24] | ℒ_D: 0.9793 | ℒ_G: 1.4542 | D(x): 0.5688 | D(x_o): 0.1801 | D(G(z)): 0.2387 / 0.2368\n",
      "[229/500][1/24] | ℒ_D: 1.0164 | ℒ_G: 1.4417 | D(x): 0.5487 | D(x_o): 0.1601 | D(G(z)): 0.2416 / 0.2395\n",
      "[230/500][1/24] | ℒ_D: 0.9541 | ℒ_G: 1.4656 | D(x): 0.5790 | D(x_o): 0.1567 | D(G(z)): 0.2362 / 0.2342\n",
      "[231/500][1/24] | ℒ_D: 0.9605 | ℒ_G: 1.4649 | D(x): 0.5806 | D(x_o): 0.1614 | D(G(z)): 0.2366 / 0.2346\n",
      "[232/500][1/24] | ℒ_D: 0.9507 | ℒ_G: 1.4577 | D(x): 0.5847 | D(x_o): 0.1729 | D(G(z)): 0.2371 / 0.2353\n",
      "[233/500][1/24] | ℒ_D: 0.9801 | ℒ_G: 1.4580 | D(x): 0.5692 | D(x_o): 0.1662 | D(G(z)): 0.2388 / 0.2363\n",
      "[234/500][1/24] | ℒ_D: 0.9518 | ℒ_G: 1.4677 | D(x): 0.5851 | D(x_o): 0.1585 | D(G(z)): 0.2355 / 0.2335\n",
      "[235/500][1/24] | ℒ_D: 0.9906 | ℒ_G: 1.4758 | D(x): 0.5642 | D(x_o): 0.1653 | D(G(z)): 0.2329 / 0.2310\n",
      "[236/500][1/24] | ℒ_D: 0.9631 | ℒ_G: 1.4644 | D(x): 0.5772 | D(x_o): 0.1593 | D(G(z)): 0.2358 / 0.2338\n",
      "[237/500][1/24] | ℒ_D: 1.0157 | ℒ_G: 1.4697 | D(x): 0.5476 | D(x_o): 0.1664 | D(G(z)): 0.2359 / 0.2337\n",
      "[238/500][1/24] | ℒ_D: 0.9714 | ℒ_G: 1.4702 | D(x): 0.5735 | D(x_o): 0.1553 | D(G(z)): 0.2349 / 0.2328\n",
      "[239/500][1/24] | ℒ_D: 0.9344 | ℒ_G: 1.4880 | D(x): 0.5901 | D(x_o): 0.1566 | D(G(z)): 0.2313 / 0.2293\n",
      "[240/500][1/24] | ℒ_D: 0.9526 | ℒ_G: 1.4889 | D(x): 0.5784 | D(x_o): 0.1501 | D(G(z)): 0.2304 / 0.2283\n",
      "[241/500][1/24] | ℒ_D: 0.9583 | ℒ_G: 1.4790 | D(x): 0.5843 | D(x_o): 0.1558 | D(G(z)): 0.2325 / 0.2305\n",
      "[242/500][1/24] | ℒ_D: 0.9301 | ℒ_G: 1.4672 | D(x): 0.6037 | D(x_o): 0.1732 | D(G(z)): 0.2360 / 0.2337\n",
      "[243/500][1/24] | ℒ_D: 0.9304 | ℒ_G: 1.4988 | D(x): 0.6030 | D(x_o): 0.1589 | D(G(z)): 0.2283 / 0.2263\n",
      "[244/500][1/24] | ℒ_D: 1.0232 | ℒ_G: 1.4977 | D(x): 0.5348 | D(x_o): 0.1556 | D(G(z)): 0.2288 / 0.2266\n",
      "[245/500][1/24] | ℒ_D: 0.9180 | ℒ_G: 1.4896 | D(x): 0.6063 | D(x_o): 0.1677 | D(G(z)): 0.2306 / 0.2281\n",
      "[246/500][1/24] | ℒ_D: 0.9299 | ℒ_G: 1.4960 | D(x): 0.6035 | D(x_o): 0.1582 | D(G(z)): 0.2298 / 0.2277\n",
      "[247/500][1/24] | ℒ_D: 0.9799 | ℒ_G: 1.4900 | D(x): 0.5635 | D(x_o): 0.1626 | D(G(z)): 0.2312 / 0.2289\n",
      "[248/500][1/24] | ℒ_D: 0.9598 | ℒ_G: 1.5053 | D(x): 0.5791 | D(x_o): 0.1534 | D(G(z)): 0.2286 / 0.2262\n",
      "[249/500][1/24] | ℒ_D: 0.9110 | ℒ_G: 1.5104 | D(x): 0.6136 | D(x_o): 0.1536 | D(G(z)): 0.2265 / 0.2244\n",
      "[250/500][1/24] | ℒ_D: 0.9215 | ℒ_G: 1.4951 | D(x): 0.6067 | D(x_o): 0.1528 | D(G(z)): 0.2307 / 0.2282\n",
      "[251/500][1/24] | ℒ_D: 0.9184 | ℒ_G: 1.5092 | D(x): 0.6040 | D(x_o): 0.1485 | D(G(z)): 0.2265 / 0.2244\n",
      "[252/500][1/24] | ℒ_D: 0.9387 | ℒ_G: 1.5089 | D(x): 0.5933 | D(x_o): 0.1601 | D(G(z)): 0.2265 / 0.2241\n",
      "[253/500][1/24] | ℒ_D: 0.9712 | ℒ_G: 1.5124 | D(x): 0.5777 | D(x_o): 0.1609 | D(G(z)): 0.2262 / 0.2239\n",
      "[254/500][1/24] | ℒ_D: 0.9679 | ℒ_G: 1.5064 | D(x): 0.5753 | D(x_o): 0.1504 | D(G(z)): 0.2270 / 0.2248\n",
      "[255/500][1/24] | ℒ_D: 0.9251 | ℒ_G: 1.5193 | D(x): 0.6035 | D(x_o): 0.1534 | D(G(z)): 0.2247 / 0.2225\n",
      "[256/500][1/24] | ℒ_D: 0.9367 | ℒ_G: 1.5312 | D(x): 0.5822 | D(x_o): 0.1483 | D(G(z)): 0.2222 / 0.2201\n",
      "[257/500][1/24] | ℒ_D: 0.9364 | ℒ_G: 1.5124 | D(x): 0.5947 | D(x_o): 0.1602 | D(G(z)): 0.2260 / 0.2238\n",
      "[258/500][1/24] | ℒ_D: 0.9416 | ℒ_G: 1.5258 | D(x): 0.5946 | D(x_o): 0.1557 | D(G(z)): 0.2238 / 0.2216\n",
      "[259/500][1/24] | ℒ_D: 0.9062 | ℒ_G: 1.5261 | D(x): 0.6129 | D(x_o): 0.1422 | D(G(z)): 0.2233 / 0.2210\n",
      "[260/500][1/24] | ℒ_D: 0.9064 | ℒ_G: 1.5244 | D(x): 0.6082 | D(x_o): 0.1482 | D(G(z)): 0.2232 / 0.2210\n",
      "[261/500][1/24] | ℒ_D: 0.8822 | ℒ_G: 1.5246 | D(x): 0.6293 | D(x_o): 0.1460 | D(G(z)): 0.2244 / 0.2220\n",
      "[262/500][1/24] | ℒ_D: 0.9011 | ℒ_G: 1.5345 | D(x): 0.6135 | D(x_o): 0.1366 | D(G(z)): 0.2221 / 0.2199\n",
      "[263/500][1/24] | ℒ_D: 0.8876 | ℒ_G: 1.5360 | D(x): 0.6274 | D(x_o): 0.1389 | D(G(z)): 0.2206 / 0.2186\n",
      "[264/500][1/24] | ℒ_D: 0.9312 | ℒ_G: 1.5336 | D(x): 0.5913 | D(x_o): 0.1453 | D(G(z)): 0.2218 / 0.2196\n",
      "[265/500][1/24] | ℒ_D: 0.8779 | ℒ_G: 1.5440 | D(x): 0.6283 | D(x_o): 0.1408 | D(G(z)): 0.2200 / 0.2178\n",
      "[266/500][1/24] | ℒ_D: 0.9160 | ℒ_G: 1.5502 | D(x): 0.5971 | D(x_o): 0.1397 | D(G(z)): 0.2170 / 0.2150\n",
      "[267/500][1/24] | ℒ_D: 0.8912 | ℒ_G: 1.5451 | D(x): 0.6179 | D(x_o): 0.1482 | D(G(z)): 0.2187 / 0.2168\n",
      "[268/500][1/24] | ℒ_D: 0.9063 | ℒ_G: 1.5447 | D(x): 0.6100 | D(x_o): 0.1422 | D(G(z)): 0.2186 / 0.2166\n",
      "[269/500][1/24] | ℒ_D: 0.9145 | ℒ_G: 1.5519 | D(x): 0.5947 | D(x_o): 0.1327 | D(G(z)): 0.2173 / 0.2155\n",
      "[270/500][1/24] | ℒ_D: 0.8909 | ℒ_G: 1.5405 | D(x): 0.6202 | D(x_o): 0.1595 | D(G(z)): 0.2201 / 0.2179\n",
      "[271/500][1/24] | ℒ_D: 0.8967 | ℒ_G: 1.5490 | D(x): 0.6210 | D(x_o): 0.1400 | D(G(z)): 0.2178 / 0.2158\n",
      "[272/500][1/24] | ℒ_D: 0.9249 | ℒ_G: 1.5473 | D(x): 0.5981 | D(x_o): 0.1359 | D(G(z)): 0.2187 / 0.2167\n",
      "[273/500][1/24] | ℒ_D: 0.9404 | ℒ_G: 1.5569 | D(x): 0.5898 | D(x_o): 0.1369 | D(G(z)): 0.2163 / 0.2143\n",
      "[274/500][1/24] | ℒ_D: 0.9088 | ℒ_G: 1.5616 | D(x): 0.6029 | D(x_o): 0.1381 | D(G(z)): 0.2152 / 0.2132\n",
      "[275/500][1/24] | ℒ_D: 0.8491 | ℒ_G: 1.5572 | D(x): 0.6450 | D(x_o): 0.1352 | D(G(z)): 0.2170 / 0.2149\n",
      "[276/500][1/24] | ℒ_D: 0.8556 | ℒ_G: 1.5599 | D(x): 0.6427 | D(x_o): 0.1338 | D(G(z)): 0.2155 / 0.2134\n",
      "[277/500][1/24] | ℒ_D: 0.8897 | ℒ_G: 1.5562 | D(x): 0.6109 | D(x_o): 0.1392 | D(G(z)): 0.2176 / 0.2153\n",
      "[278/500][1/24] | ℒ_D: 0.8871 | ℒ_G: 1.5680 | D(x): 0.6212 | D(x_o): 0.1475 | D(G(z)): 0.2148 / 0.2126\n",
      "[279/500][1/24] | ℒ_D: 0.8826 | ℒ_G: 1.5744 | D(x): 0.6230 | D(x_o): 0.1366 | D(G(z)): 0.2145 / 0.2119\n",
      "[280/500][1/24] | ℒ_D: 0.8715 | ℒ_G: 1.5732 | D(x): 0.6277 | D(x_o): 0.1325 | D(G(z)): 0.2139 / 0.2115\n",
      "[281/500][1/24] | ℒ_D: 0.9174 | ℒ_G: 1.5610 | D(x): 0.6034 | D(x_o): 0.1255 | D(G(z)): 0.2167 / 0.2144\n",
      "[282/500][1/24] | ℒ_D: 0.8654 | ℒ_G: 1.5800 | D(x): 0.6315 | D(x_o): 0.1315 | D(G(z)): 0.2117 / 0.2096\n",
      "[283/500][1/24] | ℒ_D: 0.8582 | ℒ_G: 1.5725 | D(x): 0.6428 | D(x_o): 0.1296 | D(G(z)): 0.2128 / 0.2109\n",
      "[284/500][1/24] | ℒ_D: 0.9454 | ℒ_G: 1.5706 | D(x): 0.5861 | D(x_o): 0.1373 | D(G(z)): 0.2139 / 0.2116\n",
      "[285/500][1/24] | ℒ_D: 0.8897 | ℒ_G: 1.5744 | D(x): 0.6225 | D(x_o): 0.1330 | D(G(z)): 0.2130 / 0.2108\n",
      "[286/500][1/24] | ℒ_D: 0.8609 | ℒ_G: 1.5822 | D(x): 0.6434 | D(x_o): 0.1366 | D(G(z)): 0.2118 / 0.2096\n",
      "[287/500][1/24] | ℒ_D: 0.8402 | ℒ_G: 1.5850 | D(x): 0.6561 | D(x_o): 0.1191 | D(G(z)): 0.2118 / 0.2093\n",
      "[288/500][1/24] | ℒ_D: 0.8828 | ℒ_G: 1.5796 | D(x): 0.6272 | D(x_o): 0.1385 | D(G(z)): 0.2122 / 0.2099\n",
      "[289/500][1/24] | ℒ_D: 0.8462 | ℒ_G: 1.5980 | D(x): 0.6491 | D(x_o): 0.1220 | D(G(z)): 0.2072 / 0.2050\n",
      "[290/500][1/24] | ℒ_D: 0.9484 | ℒ_G: 1.5853 | D(x): 0.5783 | D(x_o): 0.1186 | D(G(z)): 0.2117 / 0.2094\n",
      "[291/500][1/24] | ℒ_D: 0.8971 | ℒ_G: 1.5925 | D(x): 0.6123 | D(x_o): 0.1321 | D(G(z)): 0.2099 / 0.2074\n",
      "[292/500][1/24] | ℒ_D: 0.8304 | ℒ_G: 1.6004 | D(x): 0.6590 | D(x_o): 0.1238 | D(G(z)): 0.2078 / 0.2056\n",
      "[293/500][1/24] | ℒ_D: 0.8931 | ℒ_G: 1.5944 | D(x): 0.6105 | D(x_o): 0.1341 | D(G(z)): 0.2090 / 0.2067\n",
      "[294/500][1/24] | ℒ_D: 0.8949 | ℒ_G: 1.5979 | D(x): 0.6091 | D(x_o): 0.1267 | D(G(z)): 0.2081 / 0.2061\n",
      "[295/500][1/24] | ℒ_D: 0.8434 | ℒ_G: 1.6122 | D(x): 0.6506 | D(x_o): 0.1315 | D(G(z)): 0.2066 / 0.2041\n",
      "[296/500][1/24] | ℒ_D: 0.8513 | ℒ_G: 1.6062 | D(x): 0.6436 | D(x_o): 0.1264 | D(G(z)): 0.2065 / 0.2042\n",
      "[297/500][1/24] | ℒ_D: 0.8488 | ℒ_G: 1.6066 | D(x): 0.6408 | D(x_o): 0.1359 | D(G(z)): 0.2068 / 0.2043\n",
      "[298/500][1/24] | ℒ_D: 0.8575 | ℒ_G: 1.5995 | D(x): 0.6404 | D(x_o): 0.1213 | D(G(z)): 0.2084 / 0.2060\n",
      "[299/500][1/24] | ℒ_D: 0.9295 | ℒ_G: 1.6190 | D(x): 0.5920 | D(x_o): 0.1206 | D(G(z)): 0.2042 / 0.2020\n",
      "[300/500][1/24] | ℒ_D: 0.8397 | ℒ_G: 1.6092 | D(x): 0.6599 | D(x_o): 0.1369 | D(G(z)): 0.2057 / 0.2035\n",
      "[301/500][1/24] | ℒ_D: 0.8456 | ℒ_G: 1.5999 | D(x): 0.6474 | D(x_o): 0.1176 | D(G(z)): 0.2082 / 0.2058\n",
      "[302/500][1/24] | ℒ_D: 0.8668 | ℒ_G: 1.6208 | D(x): 0.6304 | D(x_o): 0.1246 | D(G(z)): 0.2042 / 0.2019\n",
      "[303/500][1/24] | ℒ_D: 0.8468 | ℒ_G: 1.6175 | D(x): 0.6416 | D(x_o): 0.1192 | D(G(z)): 0.2059 / 0.2033\n",
      "[304/500][1/24] | ℒ_D: 0.8355 | ℒ_G: 1.6207 | D(x): 0.6582 | D(x_o): 0.1281 | D(G(z)): 0.2046 / 0.2020\n",
      "[305/500][1/24] | ℒ_D: 0.8209 | ℒ_G: 1.6263 | D(x): 0.6685 | D(x_o): 0.1375 | D(G(z)): 0.2042 / 0.2015\n",
      "[306/500][1/24] | ℒ_D: 0.8408 | ℒ_G: 1.6360 | D(x): 0.6601 | D(x_o): 0.1226 | D(G(z)): 0.2025 / 0.2002\n",
      "[307/500][1/24] | ℒ_D: 0.8315 | ℒ_G: 1.6360 | D(x): 0.6535 | D(x_o): 0.1224 | D(G(z)): 0.2025 / 0.1992\n",
      "[308/500][1/24] | ℒ_D: 0.8374 | ℒ_G: 1.6239 | D(x): 0.6541 | D(x_o): 0.1272 | D(G(z)): 0.2035 / 0.2009\n",
      "[309/500][1/24] | ℒ_D: 0.8299 | ℒ_G: 1.6426 | D(x): 0.6585 | D(x_o): 0.1153 | D(G(z)): 0.1992 / 0.1974\n",
      "[310/500][1/24] | ℒ_D: 0.8701 | ℒ_G: 1.6038 | D(x): 0.6334 | D(x_o): 0.1226 | D(G(z)): 0.2097 / 0.2058\n",
      "[311/500][1/24] | ℒ_D: 0.8198 | ℒ_G: 1.6254 | D(x): 0.6665 | D(x_o): 0.1177 | D(G(z)): 0.2054 / 0.2027\n",
      "[312/500][1/24] | ℒ_D: 0.8107 | ℒ_G: 1.6341 | D(x): 0.6647 | D(x_o): 0.1166 | D(G(z)): 0.2033 / 0.1997\n",
      "[313/500][1/24] | ℒ_D: 0.8117 | ℒ_G: 1.6350 | D(x): 0.6709 | D(x_o): 0.1178 | D(G(z)): 0.2012 / 0.1991\n",
      "[314/500][1/24] | ℒ_D: 0.8388 | ℒ_G: 1.6360 | D(x): 0.6543 | D(x_o): 0.1215 | D(G(z)): 0.2027 / 0.2002\n",
      "[315/500][1/24] | ℒ_D: 0.8350 | ℒ_G: 1.6316 | D(x): 0.6649 | D(x_o): 0.1220 | D(G(z)): 0.2029 / 0.2007\n",
      "[316/500][1/24] | ℒ_D: 0.8115 | ℒ_G: 1.6239 | D(x): 0.6686 | D(x_o): 0.1109 | D(G(z)): 0.2019 / 0.1998\n",
      "[317/500][1/24] | ℒ_D: 0.8136 | ℒ_G: 1.6360 | D(x): 0.6819 | D(x_o): 0.1225 | D(G(z)): 0.2011 / 0.1991\n",
      "[318/500][1/24] | ℒ_D: 0.8256 | ℒ_G: 1.6561 | D(x): 0.6653 | D(x_o): 0.1162 | D(G(z)): 0.1966 / 0.1946\n",
      "[319/500][1/24] | ℒ_D: 0.8254 | ℒ_G: 1.6515 | D(x): 0.6625 | D(x_o): 0.1171 | D(G(z)): 0.1979 / 0.1956\n",
      "[320/500][1/24] | ℒ_D: 0.8390 | ℒ_G: 1.6346 | D(x): 0.6655 | D(x_o): 0.1087 | D(G(z)): 0.2019 / 0.1996\n",
      "[321/500][1/24] | ℒ_D: 0.8456 | ℒ_G: 1.6704 | D(x): 0.6367 | D(x_o): 0.1072 | D(G(z)): 0.1943 / 0.1920\n",
      "[322/500][1/24] | ℒ_D: 0.8111 | ℒ_G: 1.6502 | D(x): 0.6771 | D(x_o): 0.1139 | D(G(z)): 0.1993 / 0.1968\n",
      "[323/500][1/24] | ℒ_D: 0.8073 | ℒ_G: 1.6546 | D(x): 0.6739 | D(x_o): 0.1161 | D(G(z)): 0.1984 / 0.1957\n",
      "[324/500][1/24] | ℒ_D: 0.7868 | ℒ_G: 1.6505 | D(x): 0.6975 | D(x_o): 0.1166 | D(G(z)): 0.1986 / 0.1961\n",
      "[325/500][1/24] | ℒ_D: 0.7924 | ℒ_G: 1.6538 | D(x): 0.6829 | D(x_o): 0.1035 | D(G(z)): 0.1991 / 0.1965\n",
      "[326/500][1/24] | ℒ_D: 0.8050 | ℒ_G: 1.6585 | D(x): 0.6808 | D(x_o): 0.1158 | D(G(z)): 0.1971 / 0.1946\n",
      "[327/500][1/24] | ℒ_D: 0.7780 | ℒ_G: 1.6767 | D(x): 0.6910 | D(x_o): 0.1116 | D(G(z)): 0.1945 / 0.1919\n",
      "[328/500][1/24] | ℒ_D: 0.7810 | ℒ_G: 1.6576 | D(x): 0.7021 | D(x_o): 0.1114 | D(G(z)): 0.1980 / 0.1955\n",
      "[329/500][1/24] | ℒ_D: 0.8166 | ℒ_G: 1.6510 | D(x): 0.6654 | D(x_o): 0.1205 | D(G(z)): 0.1990 / 0.1964\n",
      "[330/500][1/24] | ℒ_D: 0.7902 | ℒ_G: 1.6759 | D(x): 0.6918 | D(x_o): 0.1173 | D(G(z)): 0.1951 / 0.1925\n",
      "[331/500][1/24] | ℒ_D: 0.8092 | ℒ_G: 1.6741 | D(x): 0.6696 | D(x_o): 0.1097 | D(G(z)): 0.1944 / 0.1916\n",
      "[332/500][1/24] | ℒ_D: 0.7998 | ℒ_G: 1.6699 | D(x): 0.6961 | D(x_o): 0.1072 | D(G(z)): 0.1960 / 0.1933\n",
      "[333/500][1/24] | ℒ_D: 0.7942 | ℒ_G: 1.6856 | D(x): 0.6779 | D(x_o): 0.1163 | D(G(z)): 0.1924 / 0.1902\n",
      "[334/500][1/24] | ℒ_D: 0.7974 | ℒ_G: 1.6853 | D(x): 0.6818 | D(x_o): 0.1046 | D(G(z)): 0.1919 / 0.1897\n",
      "[335/500][1/24] | ℒ_D: 0.8826 | ℒ_G: 1.6964 | D(x): 0.6147 | D(x_o): 0.1001 | D(G(z)): 0.1905 / 0.1883\n",
      "[336/500][1/24] | ℒ_D: 0.7971 | ℒ_G: 1.6851 | D(x): 0.6761 | D(x_o): 0.1070 | D(G(z)): 0.1922 / 0.1897\n",
      "[337/500][1/24] | ℒ_D: 0.7853 | ℒ_G: 1.7105 | D(x): 0.6757 | D(x_o): 0.1091 | D(G(z)): 0.1872 / 0.1848\n",
      "[338/500][1/24] | ℒ_D: 0.7886 | ℒ_G: 1.6795 | D(x): 0.6937 | D(x_o): 0.1028 | D(G(z)): 0.1931 / 0.1908\n",
      "[339/500][1/24] | ℒ_D: 0.7933 | ℒ_G: 1.6933 | D(x): 0.6838 | D(x_o): 0.1093 | D(G(z)): 0.1906 / 0.1882\n",
      "[340/500][1/24] | ℒ_D: 0.8149 | ℒ_G: 1.6925 | D(x): 0.6791 | D(x_o): 0.1202 | D(G(z)): 0.1929 / 0.1903\n",
      "[341/500][1/24] | ℒ_D: 0.7821 | ℒ_G: 1.7003 | D(x): 0.6875 | D(x_o): 0.1027 | D(G(z)): 0.1889 / 0.1867\n",
      "[342/500][1/24] | ℒ_D: 0.7744 | ℒ_G: 1.6939 | D(x): 0.6988 | D(x_o): 0.1234 | D(G(z)): 0.1915 / 0.1889\n",
      "[343/500][1/24] | ℒ_D: 0.7794 | ℒ_G: 1.6889 | D(x): 0.6981 | D(x_o): 0.1229 | D(G(z)): 0.1914 / 0.1889\n",
      "[344/500][1/24] | ℒ_D: 0.8006 | ℒ_G: 1.7067 | D(x): 0.6680 | D(x_o): 0.1166 | D(G(z)): 0.1883 / 0.1859\n",
      "[345/500][1/24] | ℒ_D: 0.7736 | ℒ_G: 1.6871 | D(x): 0.7089 | D(x_o): 0.1072 | D(G(z)): 0.1917 / 0.1894\n",
      "[346/500][1/24] | ℒ_D: 0.7876 | ℒ_G: 1.7145 | D(x): 0.6726 | D(x_o): 0.1126 | D(G(z)): 0.1877 / 0.1853\n",
      "[347/500][1/24] | ℒ_D: 0.7675 | ℒ_G: 1.6973 | D(x): 0.7029 | D(x_o): 0.1151 | D(G(z)): 0.1894 / 0.1871\n",
      "[348/500][1/24] | ℒ_D: 0.7755 | ℒ_G: 1.7043 | D(x): 0.6912 | D(x_o): 0.1006 | D(G(z)): 0.1884 / 0.1860\n",
      "[349/500][1/24] | ℒ_D: 0.7808 | ℒ_G: 1.7162 | D(x): 0.6892 | D(x_o): 0.1115 | D(G(z)): 0.1878 / 0.1854\n",
      "[350/500][1/24] | ℒ_D: 0.7782 | ℒ_G: 1.7204 | D(x): 0.6900 | D(x_o): 0.0983 | D(G(z)): 0.1871 / 0.1845\n",
      "[351/500][1/24] | ℒ_D: 0.7704 | ℒ_G: 1.7181 | D(x): 0.6898 | D(x_o): 0.1135 | D(G(z)): 0.1873 / 0.1847\n",
      "[352/500][1/24] | ℒ_D: 0.8163 | ℒ_G: 1.7366 | D(x): 0.6581 | D(x_o): 0.1092 | D(G(z)): 0.1847 / 0.1821\n",
      "[353/500][1/24] | ℒ_D: 0.7706 | ℒ_G: 1.7127 | D(x): 0.7026 | D(x_o): 0.1048 | D(G(z)): 0.1902 / 0.1872\n",
      "[354/500][1/24] | ℒ_D: 0.7699 | ℒ_G: 1.7035 | D(x): 0.7021 | D(x_o): 0.0976 | D(G(z)): 0.1900 / 0.1871\n",
      "[355/500][1/24] | ℒ_D: 0.7567 | ℒ_G: 1.7189 | D(x): 0.7095 | D(x_o): 0.1158 | D(G(z)): 0.1870 / 0.1845\n",
      "[356/500][1/24] | ℒ_D: 0.8422 | ℒ_G: 1.7081 | D(x): 0.6425 | D(x_o): 0.0957 | D(G(z)): 0.1896 / 0.1866\n",
      "[357/500][1/24] | ℒ_D: 0.7901 | ℒ_G: 1.7473 | D(x): 0.6845 | D(x_o): 0.0951 | D(G(z)): 0.1805 / 0.1782\n",
      "[358/500][1/24] | ℒ_D: 0.7590 | ℒ_G: 1.7351 | D(x): 0.7102 | D(x_o): 0.0976 | D(G(z)): 0.1852 / 0.1821\n",
      "[359/500][1/24] | ℒ_D: 0.7688 | ℒ_G: 1.7156 | D(x): 0.7050 | D(x_o): 0.1008 | D(G(z)): 0.1880 / 0.1848\n",
      "[360/500][1/24] | ℒ_D: 0.7815 | ℒ_G: 1.6745 | D(x): 0.7020 | D(x_o): 0.1157 | D(G(z)): 0.1987 / 0.1943\n",
      "[361/500][1/24] | ℒ_D: 0.7571 | ℒ_G: 1.7180 | D(x): 0.7158 | D(x_o): 0.1001 | D(G(z)): 0.1868 / 0.1845\n",
      "[362/500][1/24] | ℒ_D: 0.7539 | ℒ_G: 1.7342 | D(x): 0.7141 | D(x_o): 0.1000 | D(G(z)): 0.1827 / 0.1806\n",
      "[363/500][1/24] | ℒ_D: 0.7736 | ℒ_G: 1.7444 | D(x): 0.6986 | D(x_o): 0.1005 | D(G(z)): 0.1828 / 0.1798\n",
      "[364/500][1/24] | ℒ_D: 0.7809 | ℒ_G: 1.7553 | D(x): 0.6924 | D(x_o): 0.0946 | D(G(z)): 0.1800 / 0.1777\n",
      "[365/500][1/24] | ℒ_D: 0.7692 | ℒ_G: 1.7414 | D(x): 0.7021 | D(x_o): 0.1135 | D(G(z)): 0.1837 / 0.1806\n",
      "[366/500][1/24] | ℒ_D: 0.7700 | ℒ_G: 1.7491 | D(x): 0.7041 | D(x_o): 0.1059 | D(G(z)): 0.1811 / 0.1785\n",
      "[367/500][1/24] | ℒ_D: 0.7445 | ℒ_G: 1.7485 | D(x): 0.7231 | D(x_o): 0.0972 | D(G(z)): 0.1807 / 0.1782\n",
      "[368/500][1/24] | ℒ_D: 0.7381 | ℒ_G: 1.7605 | D(x): 0.7254 | D(x_o): 0.0983 | D(G(z)): 0.1786 / 0.1759\n",
      "[369/500][1/24] | ℒ_D: 0.7463 | ℒ_G: 1.7556 | D(x): 0.7147 | D(x_o): 0.0887 | D(G(z)): 0.1799 / 0.1772\n",
      "[370/500][1/24] | ℒ_D: 0.7445 | ℒ_G: 1.7609 | D(x): 0.7205 | D(x_o): 0.1123 | D(G(z)): 0.1796 / 0.1771\n",
      "[371/500][1/24] | ℒ_D: 0.8033 | ℒ_G: 1.7582 | D(x): 0.6787 | D(x_o): 0.1061 | D(G(z)): 0.1798 / 0.1774\n",
      "[372/500][1/24] | ℒ_D: 0.7317 | ℒ_G: 1.7500 | D(x): 0.7317 | D(x_o): 0.0985 | D(G(z)): 0.1807 / 0.1781\n",
      "[373/500][1/24] | ℒ_D: 0.7467 | ℒ_G: 1.7491 | D(x): 0.7247 | D(x_o): 0.0908 | D(G(z)): 0.1812 / 0.1786\n",
      "[374/500][1/24] | ℒ_D: 0.7313 | ℒ_G: 1.7745 | D(x): 0.7279 | D(x_o): 0.1033 | D(G(z)): 0.1762 / 0.1740\n",
      "[375/500][1/24] | ℒ_D: 0.7438 | ℒ_G: 1.7467 | D(x): 0.7121 | D(x_o): 0.0981 | D(G(z)): 0.1816 / 0.1791\n",
      "[376/500][1/24] | ℒ_D: 0.7431 | ℒ_G: 1.7877 | D(x): 0.7283 | D(x_o): 0.0981 | D(G(z)): 0.1745 / 0.1723\n",
      "[377/500][1/24] | ℒ_D: 0.7459 | ℒ_G: 1.7887 | D(x): 0.7108 | D(x_o): 0.1013 | D(G(z)): 0.1739 / 0.1715\n",
      "[378/500][1/24] | ℒ_D: 0.7395 | ℒ_G: 1.7535 | D(x): 0.7210 | D(x_o): 0.0977 | D(G(z)): 0.1823 / 0.1792\n",
      "[379/500][1/24] | ℒ_D: 0.7134 | ℒ_G: 1.7853 | D(x): 0.7405 | D(x_o): 0.0967 | D(G(z)): 0.1761 / 0.1732\n",
      "[380/500][1/24] | ℒ_D: 0.7293 | ℒ_G: 1.7758 | D(x): 0.7311 | D(x_o): 0.0961 | D(G(z)): 0.1778 / 0.1748\n",
      "[381/500][1/24] | ℒ_D: 0.7365 | ℒ_G: 1.7747 | D(x): 0.7292 | D(x_o): 0.0983 | D(G(z)): 0.1789 / 0.1757\n",
      "[382/500][1/24] | ℒ_D: 0.7308 | ℒ_G: 1.7684 | D(x): 0.7287 | D(x_o): 0.1029 | D(G(z)): 0.1791 / 0.1763\n",
      "[383/500][1/24] | ℒ_D: 0.7323 | ℒ_G: 1.7535 | D(x): 0.7314 | D(x_o): 0.0960 | D(G(z)): 0.1816 / 0.1788\n",
      "[384/500][1/24] | ℒ_D: 0.7565 | ℒ_G: 1.7813 | D(x): 0.7089 | D(x_o): 0.0872 | D(G(z)): 0.1756 / 0.1734\n",
      "[385/500][1/24] | ℒ_D: 0.7520 | ℒ_G: 1.7641 | D(x): 0.7131 | D(x_o): 0.0891 | D(G(z)): 0.1795 / 0.1767\n",
      "[386/500][1/24] | ℒ_D: 0.7261 | ℒ_G: 1.7788 | D(x): 0.7465 | D(x_o): 0.0908 | D(G(z)): 0.1767 / 0.1744\n",
      "[387/500][1/24] | ℒ_D: 0.7444 | ℒ_G: 1.7688 | D(x): 0.7308 | D(x_o): 0.0961 | D(G(z)): 0.1779 / 0.1754\n",
      "[388/500][1/24] | ℒ_D: 0.7320 | ℒ_G: 1.7734 | D(x): 0.7365 | D(x_o): 0.1133 | D(G(z)): 0.1771 / 0.1743\n",
      "[389/500][1/24] | ℒ_D: 0.7456 | ℒ_G: 1.7872 | D(x): 0.7186 | D(x_o): 0.0772 | D(G(z)): 0.1770 / 0.1739\n",
      "[390/500][1/24] | ℒ_D: 0.7281 | ℒ_G: 1.8072 | D(x): 0.7456 | D(x_o): 0.0972 | D(G(z)): 0.1713 / 0.1689\n",
      "[391/500][1/24] | ℒ_D: 0.7373 | ℒ_G: 1.7914 | D(x): 0.7197 | D(x_o): 0.0953 | D(G(z)): 0.1756 / 0.1726\n",
      "[392/500][1/24] | ℒ_D: 0.7373 | ℒ_G: 1.8091 | D(x): 0.7353 | D(x_o): 0.0920 | D(G(z)): 0.1727 / 0.1698\n",
      "[393/500][1/24] | ℒ_D: 0.7125 | ℒ_G: 1.7797 | D(x): 0.7383 | D(x_o): 0.0860 | D(G(z)): 0.1769 / 0.1737\n",
      "[394/500][1/24] | ℒ_D: 0.7670 | ℒ_G: 1.7845 | D(x): 0.6921 | D(x_o): 0.0829 | D(G(z)): 0.1759 / 0.1728\n",
      "[395/500][1/24] | ℒ_D: 0.7254 | ℒ_G: 1.8004 | D(x): 0.7448 | D(x_o): 0.1109 | D(G(z)): 0.1741 / 0.1709\n",
      "[396/500][1/24] | ℒ_D: 0.7067 | ℒ_G: 1.7994 | D(x): 0.7504 | D(x_o): 0.0862 | D(G(z)): 0.1737 / 0.1705\n",
      "[397/500][1/24] | ℒ_D: 0.7324 | ℒ_G: 1.8084 | D(x): 0.7327 | D(x_o): 0.0942 | D(G(z)): 0.1734 / 0.1703\n",
      "[398/500][1/24] | ℒ_D: 0.7015 | ℒ_G: 1.8096 | D(x): 0.7597 | D(x_o): 0.0825 | D(G(z)): 0.1707 / 0.1680\n",
      "[399/500][1/24] | ℒ_D: 0.7062 | ℒ_G: 1.7985 | D(x): 0.7506 | D(x_o): 0.0867 | D(G(z)): 0.1755 / 0.1721\n",
      "[400/500][1/24] | ℒ_D: 0.7164 | ℒ_G: 1.7986 | D(x): 0.7323 | D(x_o): 0.0922 | D(G(z)): 0.1730 / 0.1700\n",
      "[401/500][1/24] | ℒ_D: 0.7099 | ℒ_G: 1.8123 | D(x): 0.7613 | D(x_o): 0.0934 | D(G(z)): 0.1727 / 0.1694\n",
      "[402/500][1/24] | ℒ_D: 0.7193 | ℒ_G: 1.8228 | D(x): 0.7491 | D(x_o): 0.0816 | D(G(z)): 0.1703 / 0.1674\n",
      "[403/500][1/24] | ℒ_D: 0.7315 | ℒ_G: 1.8166 | D(x): 0.7225 | D(x_o): 0.0940 | D(G(z)): 0.1699 / 0.1673\n",
      "[404/500][1/24] | ℒ_D: 0.7234 | ℒ_G: 1.8258 | D(x): 0.7290 | D(x_o): 0.0913 | D(G(z)): 0.1694 / 0.1666\n",
      "[405/500][1/24] | ℒ_D: 0.7060 | ℒ_G: 1.8467 | D(x): 0.7497 | D(x_o): 0.0875 | D(G(z)): 0.1654 / 0.1629\n",
      "[406/500][1/24] | ℒ_D: 0.7349 | ℒ_G: 1.8309 | D(x): 0.7328 | D(x_o): 0.0894 | D(G(z)): 0.1707 / 0.1676\n",
      "[407/500][1/24] | ℒ_D: 0.7313 | ℒ_G: 1.8148 | D(x): 0.7211 | D(x_o): 0.0923 | D(G(z)): 0.1723 / 0.1691\n",
      "[408/500][1/24] | ℒ_D: 0.7077 | ℒ_G: 1.8300 | D(x): 0.7489 | D(x_o): 0.0942 | D(G(z)): 0.1695 / 0.1662\n",
      "[409/500][1/24] | ℒ_D: 0.7137 | ℒ_G: 1.8230 | D(x): 0.7459 | D(x_o): 0.0932 | D(G(z)): 0.1701 / 0.1668\n",
      "[410/500][1/24] | ℒ_D: 0.7165 | ℒ_G: 1.8178 | D(x): 0.7446 | D(x_o): 0.0861 | D(G(z)): 0.1713 / 0.1683\n",
      "[411/500][1/24] | ℒ_D: 0.6876 | ℒ_G: 1.8494 | D(x): 0.7652 | D(x_o): 0.0770 | D(G(z)): 0.1659 / 0.1630\n",
      "[412/500][1/24] | ℒ_D: 0.7154 | ℒ_G: 1.8422 | D(x): 0.7446 | D(x_o): 0.0827 | D(G(z)): 0.1666 / 0.1639\n",
      "[413/500][1/24] | ℒ_D: 0.6974 | ℒ_G: 1.8276 | D(x): 0.7568 | D(x_o): 0.0844 | D(G(z)): 0.1691 / 0.1663\n",
      "[414/500][1/24] | ℒ_D: 0.6945 | ℒ_G: 1.8506 | D(x): 0.7501 | D(x_o): 0.0902 | D(G(z)): 0.1637 / 0.1614\n",
      "[415/500][1/24] | ℒ_D: 0.7361 | ℒ_G: 1.8525 | D(x): 0.7223 | D(x_o): 0.0911 | D(G(z)): 0.1649 / 0.1622\n",
      "[416/500][1/24] | ℒ_D: 0.7070 | ℒ_G: 1.8558 | D(x): 0.7488 | D(x_o): 0.0878 | D(G(z)): 0.1635 / 0.1611\n",
      "[417/500][1/24] | ℒ_D: 0.6695 | ℒ_G: 1.8516 | D(x): 0.7736 | D(x_o): 0.0805 | D(G(z)): 0.1638 / 0.1613\n",
      "[418/500][1/24] | ℒ_D: 0.7110 | ℒ_G: 1.8532 | D(x): 0.7466 | D(x_o): 0.0852 | D(G(z)): 0.1643 / 0.1619\n",
      "[419/500][1/24] | ℒ_D: 0.6813 | ℒ_G: 1.8758 | D(x): 0.7518 | D(x_o): 0.0875 | D(G(z)): 0.1607 / 0.1584\n",
      "[420/500][1/24] | ℒ_D: 0.7173 | ℒ_G: 1.8614 | D(x): 0.7467 | D(x_o): 0.0852 | D(G(z)): 0.1631 / 0.1608\n",
      "[421/500][1/24] | ℒ_D: 0.6984 | ℒ_G: 1.8469 | D(x): 0.7527 | D(x_o): 0.0880 | D(G(z)): 0.1666 / 0.1640\n",
      "[422/500][1/24] | ℒ_D: 0.7160 | ℒ_G: 1.8570 | D(x): 0.7403 | D(x_o): 0.0886 | D(G(z)): 0.1632 / 0.1607\n",
      "[423/500][1/24] | ℒ_D: 0.6799 | ℒ_G: 1.8538 | D(x): 0.7703 | D(x_o): 0.0864 | D(G(z)): 0.1650 / 0.1623\n",
      "[424/500][1/24] | ℒ_D: 0.6832 | ℒ_G: 1.8711 | D(x): 0.7714 | D(x_o): 0.0814 | D(G(z)): 0.1607 / 0.1585\n",
      "[425/500][1/24] | ℒ_D: 0.6669 | ℒ_G: 1.8665 | D(x): 0.7679 | D(x_o): 0.1015 | D(G(z)): 0.1612 / 0.1590\n",
      "[426/500][1/24] | ℒ_D: 0.6882 | ℒ_G: 1.8464 | D(x): 0.7740 | D(x_o): 0.0970 | D(G(z)): 0.1637 / 0.1612\n",
      "[427/500][1/24] | ℒ_D: 0.6702 | ℒ_G: 1.8812 | D(x): 0.7675 | D(x_o): 0.0998 | D(G(z)): 0.1590 / 0.1570\n",
      "[428/500][1/24] | ℒ_D: 0.7452 | ℒ_G: 1.8633 | D(x): 0.7179 | D(x_o): 0.0863 | D(G(z)): 0.1629 / 0.1606\n",
      "[429/500][1/24] | ℒ_D: 0.6706 | ℒ_G: 1.8808 | D(x): 0.7783 | D(x_o): 0.0896 | D(G(z)): 0.1610 / 0.1588\n",
      "[430/500][1/24] | ℒ_D: 0.6790 | ℒ_G: 1.8589 | D(x): 0.7620 | D(x_o): 0.0954 | D(G(z)): 0.1623 / 0.1604\n",
      "[431/500][1/24] | ℒ_D: 0.6752 | ℒ_G: 1.8568 | D(x): 0.7761 | D(x_o): 0.0811 | D(G(z)): 0.1630 / 0.1608\n",
      "[432/500][1/24] | ℒ_D: 0.6990 | ℒ_G: 1.8586 | D(x): 0.7500 | D(x_o): 0.0877 | D(G(z)): 0.1636 / 0.1615\n",
      "[433/500][1/24] | ℒ_D: 0.6894 | ℒ_G: 1.8831 | D(x): 0.7727 | D(x_o): 0.0839 | D(G(z)): 0.1589 / 0.1570\n",
      "[434/500][1/24] | ℒ_D: 0.6981 | ℒ_G: 1.8544 | D(x): 0.7681 | D(x_o): 0.0806 | D(G(z)): 0.1628 / 0.1607\n",
      "[435/500][1/24] | ℒ_D: 0.6595 | ℒ_G: 1.8847 | D(x): 0.7790 | D(x_o): 0.0795 | D(G(z)): 0.1591 / 0.1569\n",
      "[436/500][1/24] | ℒ_D: 0.6774 | ℒ_G: 1.8796 | D(x): 0.7683 | D(x_o): 0.0793 | D(G(z)): 0.1584 / 0.1564\n",
      "[437/500][1/24] | ℒ_D: 0.6853 | ℒ_G: 1.8858 | D(x): 0.7625 | D(x_o): 0.0852 | D(G(z)): 0.1579 / 0.1560\n",
      "[438/500][1/24] | ℒ_D: 0.6810 | ℒ_G: 1.8777 | D(x): 0.7681 | D(x_o): 0.0783 | D(G(z)): 0.1604 / 0.1582\n",
      "[439/500][1/24] | ℒ_D: 0.6649 | ℒ_G: 1.9025 | D(x): 0.7873 | D(x_o): 0.0886 | D(G(z)): 0.1563 / 0.1544\n",
      "[440/500][1/24] | ℒ_D: 0.6665 | ℒ_G: 1.8783 | D(x): 0.7704 | D(x_o): 0.0794 | D(G(z)): 0.1593 / 0.1572\n",
      "[441/500][1/24] | ℒ_D: 0.6712 | ℒ_G: 1.8873 | D(x): 0.7809 | D(x_o): 0.0787 | D(G(z)): 0.1570 / 0.1553\n",
      "[442/500][1/24] | ℒ_D: 0.6861 | ℒ_G: 1.8874 | D(x): 0.7577 | D(x_o): 0.0837 | D(G(z)): 0.1565 / 0.1550\n",
      "[443/500][1/24] | ℒ_D: 0.7217 | ℒ_G: 1.8798 | D(x): 0.7302 | D(x_o): 0.0858 | D(G(z)): 0.1596 / 0.1578\n",
      "[444/500][1/24] | ℒ_D: 0.6884 | ℒ_G: 1.8885 | D(x): 0.7638 | D(x_o): 0.0842 | D(G(z)): 0.1566 / 0.1550\n",
      "[445/500][1/24] | ℒ_D: 0.6900 | ℒ_G: 1.8857 | D(x): 0.7645 | D(x_o): 0.0806 | D(G(z)): 0.1584 / 0.1564\n",
      "[446/500][1/24] | ℒ_D: 0.6567 | ℒ_G: 1.9005 | D(x): 0.7769 | D(x_o): 0.0839 | D(G(z)): 0.1557 / 0.1538\n",
      "[447/500][1/24] | ℒ_D: 0.6959 | ℒ_G: 1.9096 | D(x): 0.7634 | D(x_o): 0.0742 | D(G(z)): 0.1544 / 0.1526\n",
      "[448/500][1/24] | ℒ_D: 0.6736 | ℒ_G: 1.9110 | D(x): 0.7767 | D(x_o): 0.0749 | D(G(z)): 0.1551 / 0.1533\n",
      "[449/500][1/24] | ℒ_D: 0.6653 | ℒ_G: 1.9140 | D(x): 0.7836 | D(x_o): 0.0810 | D(G(z)): 0.1533 / 0.1513\n",
      "[450/500][1/24] | ℒ_D: 0.6633 | ℒ_G: 1.9161 | D(x): 0.7738 | D(x_o): 0.0821 | D(G(z)): 0.1526 / 0.1508\n",
      "[451/500][1/24] | ℒ_D: 0.6615 | ℒ_G: 1.9002 | D(x): 0.7933 | D(x_o): 0.0816 | D(G(z)): 0.1573 / 0.1554\n",
      "[452/500][1/24] | ℒ_D: 0.6680 | ℒ_G: 1.9006 | D(x): 0.7817 | D(x_o): 0.0732 | D(G(z)): 0.1559 / 0.1537\n",
      "[453/500][1/24] | ℒ_D: 0.6851 | ℒ_G: 1.9223 | D(x): 0.7567 | D(x_o): 0.0803 | D(G(z)): 0.1533 / 0.1515\n",
      "[454/500][1/24] | ℒ_D: 0.6681 | ℒ_G: 1.9114 | D(x): 0.7807 | D(x_o): 0.0850 | D(G(z)): 0.1548 / 0.1529\n",
      "[455/500][1/24] | ℒ_D: 0.6679 | ℒ_G: 1.9239 | D(x): 0.7858 | D(x_o): 0.0763 | D(G(z)): 0.1528 / 0.1512\n",
      "[456/500][1/24] | ℒ_D: 0.6688 | ℒ_G: 1.9015 | D(x): 0.7730 | D(x_o): 0.0798 | D(G(z)): 0.1566 / 0.1544\n",
      "[457/500][1/24] | ℒ_D: 0.6696 | ℒ_G: 1.9200 | D(x): 0.7884 | D(x_o): 0.0818 | D(G(z)): 0.1532 / 0.1513\n",
      "[458/500][1/24] | ℒ_D: 0.6531 | ℒ_G: 1.9064 | D(x): 0.7894 | D(x_o): 0.0787 | D(G(z)): 0.1551 / 0.1530\n",
      "[459/500][1/24] | ℒ_D: 0.6712 | ℒ_G: 1.9260 | D(x): 0.7830 | D(x_o): 0.0724 | D(G(z)): 0.1521 / 0.1501\n",
      "[460/500][1/24] | ℒ_D: 0.6704 | ℒ_G: 1.9407 | D(x): 0.7686 | D(x_o): 0.0792 | D(G(z)): 0.1498 / 0.1481\n",
      "[461/500][1/24] | ℒ_D: 0.6681 | ℒ_G: 1.9199 | D(x): 0.7882 | D(x_o): 0.0750 | D(G(z)): 0.1544 / 0.1523\n",
      "[462/500][1/24] | ℒ_D: 0.6438 | ℒ_G: 1.9229 | D(x): 0.8002 | D(x_o): 0.0849 | D(G(z)): 0.1526 / 0.1505\n",
      "[463/500][1/24] | ℒ_D: 0.6711 | ℒ_G: 1.9279 | D(x): 0.7842 | D(x_o): 0.0722 | D(G(z)): 0.1517 / 0.1498\n",
      "[464/500][1/24] | ℒ_D: 0.6777 | ℒ_G: 1.9138 | D(x): 0.7865 | D(x_o): 0.0829 | D(G(z)): 0.1537 / 0.1518\n",
      "[465/500][1/24] | ℒ_D: 0.6563 | ℒ_G: 1.9449 | D(x): 0.7871 | D(x_o): 0.0740 | D(G(z)): 0.1492 / 0.1471\n",
      "[466/500][1/24] | ℒ_D: 0.6550 | ℒ_G: 1.9286 | D(x): 0.7837 | D(x_o): 0.0826 | D(G(z)): 0.1517 / 0.1496\n",
      "[467/500][1/24] | ℒ_D: 0.6546 | ℒ_G: 1.9417 | D(x): 0.7946 | D(x_o): 0.1067 | D(G(z)): 0.1495 / 0.1476\n",
      "[468/500][1/24] | ℒ_D: 0.6605 | ℒ_G: 1.9375 | D(x): 0.8037 | D(x_o): 0.0825 | D(G(z)): 0.1507 / 0.1488\n",
      "[469/500][1/24] | ℒ_D: 0.6880 | ℒ_G: 1.9326 | D(x): 0.7566 | D(x_o): 0.0792 | D(G(z)): 0.1515 / 0.1494\n",
      "[470/500][1/24] | ℒ_D: 0.6582 | ℒ_G: 1.9576 | D(x): 0.7949 | D(x_o): 0.0876 | D(G(z)): 0.1479 / 0.1460\n",
      "[471/500][1/24] | ℒ_D: 0.6412 | ℒ_G: 1.9633 | D(x): 0.8070 | D(x_o): 0.0841 | D(G(z)): 0.1483 / 0.1463\n",
      "[472/500][1/24] | ℒ_D: 0.6470 | ℒ_G: 1.9644 | D(x): 0.8039 | D(x_o): 0.0738 | D(G(z)): 0.1467 / 0.1446\n",
      "[473/500][1/24] | ℒ_D: 0.6565 | ℒ_G: 1.9423 | D(x): 0.8003 | D(x_o): 0.0753 | D(G(z)): 0.1501 / 0.1480\n",
      "[474/500][1/24] | ℒ_D: 0.6604 | ℒ_G: 1.9579 | D(x): 0.7802 | D(x_o): 0.0812 | D(G(z)): 0.1483 / 0.1465\n",
      "[475/500][1/24] | ℒ_D: 0.6862 | ℒ_G: 1.9583 | D(x): 0.7707 | D(x_o): 0.0845 | D(G(z)): 0.1463 / 0.1447\n",
      "[476/500][1/24] | ℒ_D: 0.6478 | ℒ_G: 1.9841 | D(x): 0.7864 | D(x_o): 0.0779 | D(G(z)): 0.1436 / 0.1420\n",
      "[477/500][1/24] | ℒ_D: 0.6403 | ℒ_G: 1.9625 | D(x): 0.7973 | D(x_o): 0.0717 | D(G(z)): 0.1477 / 0.1456\n",
      "[478/500][1/24] | ℒ_D: 0.6460 | ℒ_G: 1.9669 | D(x): 0.8105 | D(x_o): 0.0769 | D(G(z)): 0.1456 / 0.1438\n",
      "[479/500][1/24] | ℒ_D: 0.6414 | ℒ_G: 1.9567 | D(x): 0.8094 | D(x_o): 0.0733 | D(G(z)): 0.1465 / 0.1448\n",
      "[480/500][1/24] | ℒ_D: 0.6427 | ℒ_G: 1.9903 | D(x): 0.7965 | D(x_o): 0.0846 | D(G(z)): 0.1436 / 0.1413\n",
      "[481/500][1/24] | ℒ_D: 0.6318 | ℒ_G: 1.9752 | D(x): 0.8094 | D(x_o): 0.0852 | D(G(z)): 0.1465 / 0.1441\n",
      "[482/500][1/24] | ℒ_D: 0.6471 | ℒ_G: 1.9656 | D(x): 0.8071 | D(x_o): 0.0846 | D(G(z)): 0.1469 / 0.1447\n",
      "[483/500][1/24] | ℒ_D: 0.6910 | ℒ_G: 1.9699 | D(x): 0.7432 | D(x_o): 0.0830 | D(G(z)): 0.1475 / 0.1450\n",
      "[484/500][1/24] | ℒ_D: 0.6496 | ℒ_G: 1.9838 | D(x): 0.7967 | D(x_o): 0.0801 | D(G(z)): 0.1442 / 0.1421\n",
      "[485/500][1/24] | ℒ_D: 0.6657 | ℒ_G: 1.9858 | D(x): 0.8003 | D(x_o): 0.0787 | D(G(z)): 0.1438 / 0.1419\n",
      "[486/500][1/24] | ℒ_D: 0.6632 | ℒ_G: 1.9946 | D(x): 0.8071 | D(x_o): 0.0817 | D(G(z)): 0.1424 / 0.1408\n",
      "[487/500][1/24] | ℒ_D: 0.6581 | ℒ_G: 1.9880 | D(x): 0.7935 | D(x_o): 0.0784 | D(G(z)): 0.1429 / 0.1411\n",
      "[488/500][1/24] | ℒ_D: 0.6747 | ℒ_G: 1.9957 | D(x): 0.7854 | D(x_o): 0.0817 | D(G(z)): 0.1425 / 0.1407\n",
      "[489/500][1/24] | ℒ_D: 0.6551 | ℒ_G: 1.9839 | D(x): 0.8069 | D(x_o): 0.0726 | D(G(z)): 0.1444 / 0.1425\n",
      "[490/500][1/24] | ℒ_D: 0.6611 | ℒ_G: 1.9815 | D(x): 0.7951 | D(x_o): 0.0736 | D(G(z)): 0.1447 / 0.1428\n",
      "[491/500][1/24] | ℒ_D: 0.6306 | ℒ_G: 1.9948 | D(x): 0.8107 | D(x_o): 0.0739 | D(G(z)): 0.1416 / 0.1399\n",
      "[492/500][1/24] | ℒ_D: 0.6496 | ℒ_G: 1.9896 | D(x): 0.8143 | D(x_o): 0.0742 | D(G(z)): 0.1438 / 0.1418\n",
      "[493/500][1/24] | ℒ_D: 0.6542 | ℒ_G: 1.9916 | D(x): 0.7931 | D(x_o): 0.0791 | D(G(z)): 0.1431 / 0.1413\n",
      "[494/500][1/24] | ℒ_D: 0.6349 | ℒ_G: 1.9976 | D(x): 0.8016 | D(x_o): 0.0836 | D(G(z)): 0.1432 / 0.1413\n",
      "[495/500][1/24] | ℒ_D: 0.6309 | ℒ_G: 2.0015 | D(x): 0.8213 | D(x_o): 0.0724 | D(G(z)): 0.1424 / 0.1407\n",
      "[496/500][1/24] | ℒ_D: 0.6507 | ℒ_G: 2.0054 | D(x): 0.7878 | D(x_o): 0.0833 | D(G(z)): 0.1419 / 0.1400\n",
      "[497/500][1/24] | ℒ_D: 0.6254 | ℒ_G: 1.9842 | D(x): 0.8209 | D(x_o): 0.0734 | D(G(z)): 0.1444 / 0.1426\n",
      "[498/500][1/24] | ℒ_D: 0.6417 | ℒ_G: 2.0018 | D(x): 0.8094 | D(x_o): 0.0821 | D(G(z)): 0.1416 / 0.1397\n",
      "[499/500][1/24] | ℒ_D: 0.6320 | ℒ_G: 1.9871 | D(x): 0.8190 | D(x_o): 0.0740 | D(G(z)): 0.1432 / 0.1415\n",
      "[500/500][1/24] | ℒ_D: 0.6357 | ℒ_G: 2.0077 | D(x): 0.7991 | D(x_o): 0.0815 | D(G(z)): 0.1412 / 0.1392\n"
     ]
    }
   ],
   "source": [
    "# Training Loop\n",
    "\n",
    "# Lists to keep track of progress\n",
    "img_list = []\n",
    "G_losses = []\n",
    "D_losses = []\n",
    "iters = 0\n",
    "\n",
    "label_smoothing_factor = 0.15\n",
    "\n",
    "print(\"Starting Training Loop...\")\n",
    "# For each epoch\n",
    "for epoch in range(num_epochs):\n",
    "    # For each batch in the dataloader\n",
    "    for i, (data, opendata) in enumerate(zip(dataloader, extraloader), 0):\n",
    "        ############################\n",
    "        # (1) Update D network: maximize log(D(x_CLOSED)) + lambda_G * log(1 - D(G(z))) + lambda_0 * log(D(x_OPEN))\n",
    "        ###########################\n",
    "        ## Train with all-real batch\n",
    "        netD.zero_grad()\n",
    "        # Format batch\n",
    "        real_cpu = data.to(device)\n",
    "        b_size = real_cpu.size(0)\n",
    "        label = torch.full((b_size,), real_label, dtype=torch.float, device=device)\n",
    "        # labels smoothing\n",
    "        label -= (torch.rand(b_size, device=device) * label_smoothing_factor * (1 if real_label==1 else -1))\n",
    "        # Forward pass real batch through D\n",
    "        output = netD(real_cpu).view(-1)\n",
    "        # Calculate loss on all-real batch\n",
    "        errD_real = criterion(output, label)\n",
    "        # Calculate gradients for D in backward pass\n",
    "        errD_real.backward()\n",
    "        D_x = output.mean().item()\n",
    "\n",
    "        ## Train with all-fake batch\n",
    "        # Generate batch of latent vectors\n",
    "        noise = torch.randn(b_size, nz, 8, 8, device=device)\n",
    "        # Generate fake image batch with G\n",
    "        fake = netG(noise)\n",
    "        label.fill_(fake_label)\n",
    "        # labels smoothing\n",
    "        label += (torch.rand(b_size, device=device) * label_smoothing_factor * (1 if fake_label==0 else -1))\n",
    "        # Classify all fake batch with D\n",
    "        output = netD(fake.detach()).view(-1)\n",
    "        # Calculate D's loss on the all-fake batch\n",
    "        errD_fake = criterion(output, label)\n",
    "        # Calculate the gradients for this batch\n",
    "        errD_fake.backward()\n",
    "        D_G_z1 = output.mean().item()\n",
    "        \n",
    "\n",
    "        ## Train on open data\n",
    "        # Format batch\n",
    "        opendata = opendata.to(device)\n",
    "        b_size = opendata.size(0)\n",
    "        label_open = torch.full((b_size,), fake_label, dtype=torch.float, device=device)\n",
    "        # labels smoothing\n",
    "        label_open += (torch.rand(b_size, device=device) * label_smoothing_factor * (1 if fake_label==0 else -1))\n",
    "        # Forward pass real batch through D\n",
    "        output = netD(opendata).view(-1)\n",
    "        # Calculate loss on all-real batch\n",
    "        errD_open = criterion(output, label_open)\n",
    "        # Calculate gradients for D in backward pass\n",
    "        errD_open.backward()\n",
    "        D_x_open = output.mean().item()\n",
    "\n",
    "        # Add the gradients from the all-real and all-fake batches\n",
    "        errD = errD_real + lambda_G * errD_fake + lambda_0 * errD_open\n",
    "        # Update D\n",
    "        optimizerD.step()\n",
    "        \n",
    "\n",
    "        ############################\n",
    "        # (2) Update G network: maximize log(D(G(z)))\n",
    "        ###########################\n",
    "        netG.zero_grad()\n",
    "        label.fill_(real_label)  # fake labels are real for generator cost\n",
    "        # Since we just updated D, perform another forward pass of all-fake batch through D\n",
    "        output = netD(fake).view(-1)\n",
    "        # Calculate G's loss based on this output\n",
    "        errG = criterion(output, label)\n",
    "        # Calculate gradients for G\n",
    "        errG.backward()\n",
    "        D_G_z2 = output.mean().item()\n",
    "        # Update G\n",
    "        optimizerG.step()\n",
    "\n",
    "        # Output training stats\n",
    "        if i % 200 == 0:\n",
    "            print(f\"[{epoch+1}/{num_epochs}][{i+1}/{len(dataloader)}] | ℒ_D: {errD.item():.4f} | ℒ_G: {errG.item():.4f} | \" +\n",
    "                  f\"D(x): {D_x:.4f} | D(x_o): {D_x_open:.4f} | D(G(z)): {D_G_z1:.4f} / {D_G_z2:.4f}\")\n",
    "            #print('[%d/%d][%d/%d]\\tLoss_D: %.4f\\tLoss_G: %.4f\\tD(x): %.4f\\tD(G(z)): %.4f / %.4f'\n",
    "            #      % (epoch, num_epochs, i, len(dataloader),\n",
    "            #         errD.item(), errG.item(), D_x, D_G_z1, D_G_z2))\n",
    "\n",
    "        # Save Losses for plotting later\n",
    "        G_losses.append(errG.item())\n",
    "        D_losses.append(errD.item())\n",
    "\n",
    "        # Check how the generator is doing by saving G's output on fixed_noise\n",
    "        if (iters % 500 == 0) or ((epoch == num_epochs-1) and (i == len(dataloader)-1)):\n",
    "            with torch.no_grad():\n",
    "                fake = netG(fixed_noise).detach().cpu()\n",
    "            img_list.append(vutils.make_grid(fake, padding=2, normalize=True))\n",
    "\n",
    "        iters += 1\n",
    "        \n",
    "        \n",
    "    cur_model_wts = copy.deepcopy(netG.state_dict())\n",
    "    path_to_save_paramOnly = os.path.join(save_dir, 'epoch-{}.GNet'.format(epoch+1))\n",
    "    torch.save(cur_model_wts, path_to_save_paramOnly)\n",
    "    \n",
    "    cur_model_wts = copy.deepcopy(netD.state_dict())\n",
    "    path_to_save_paramOnly = os.path.join(save_dir, 'epoch-{}.DNet'.format(epoch+1))\n",
    "    torch.save(cur_model_wts, path_to_save_paramOnly)"
   ]
  },
  {
   "cell_type": "markdown",
   "metadata": {},
   "source": [
    "## drawing the error curves"
   ]
  },
  {
   "cell_type": "code",
   "execution_count": 67,
   "metadata": {},
   "outputs": [
    {
     "data": {
      "image/png": "[encoded data removed]",
      "text/plain": [
       "<Figure size 720x360 with 1 Axes>"
      ]
     },
     "metadata": {
      "needs_background": "light"
     },
     "output_type": "display_data"
    }
   ],
   "source": [
    "plt.figure(figsize=(10,5))\n",
    "plt.title(\"Generator and Discriminator Loss During Training\")\n",
    "plt.plot(G_losses,label=\"G\")\n",
    "plt.plot(D_losses,label=\"D\")\n",
    "plt.xlabel(\"iterations\")\n",
    "plt.ylabel(\"Loss\")\n",
    "plt.legend()\n",
    "plt.savefig('learningCurves_{}.png'.format(modelFlag), bbox_inches='tight',transparent=True)\n",
    "# plt.show()"
   ]
  },
  {
   "cell_type": "markdown",
   "metadata": {},
   "source": [
    "## Testing"
   ]
  },
  {
   "cell_type": "code",
   "execution_count": 11,
   "metadata": {},
   "outputs": [
    {
     "data": {
      "text/plain": [
       "<All keys matched successfully>"
      ]
     },
     "execution_count": 11,
     "metadata": {},
     "output_type": "execute_result"
    }
   ],
   "source": [
    "netD.load_state_dict(torch.load(\"exp/step002_GANfea_v1_Res18sc/epoch-300.DNet\"))"
   ]
  },
  {
   "cell_type": "code",
   "execution_count": 70,
   "metadata": {},
   "outputs": [
    {
     "name": "stdout",
     "output_type": "stream",
     "text": [
      "Doing 1/13\n",
      "Doing 2/13\n",
      "Doing 3/13\n",
      "Doing 4/13\n",
      "Doing 5/13\n",
      "Doing 6/13\n",
      "Doing 7/13\n",
      "Doing 8/13\n",
      "Doing 9/13\n",
      "Doing 10/13\n",
      "Doing 11/13\n",
      "Doing 12/13\n",
      "Doing 13/13\n"
     ]
    }
   ],
   "source": [
    "del handle\n",
    "handle = network_add_hook_for_features(backbone, \"layer4\", features)\n",
    "\n",
    "features = []\n",
    "\n",
    "\n",
    "backbone.eval()\n",
    "for i, (data, _) in enumerate(testloader):\n",
    "    print(f\"Doing {i+1}/{len(testloader)}\")\n",
    "    _ = backbone(data.cuda())"
   ]
  },
  {
   "cell_type": "code",
   "execution_count": 72,
   "metadata": {},
   "outputs": [
    {
     "name": "stdout",
     "output_type": "stream",
     "text": [
      "0\n"
     ]
    },
    {
     "ename": "NotImplementedError",
     "evalue": "There were no tensor arguments to this function (e.g., you passed an empty list of Tensors), but no fallback function is registered for schema aten::_cat.  This usually means that this function requires a non-empty list of Tensors, or that you (the operator writer) forgot to register a fallback function.  Available functions are [CPU, CUDA, QuantizedCPU, BackendSelect, Python, Named, Conjugate, Negative, ZeroTensor, ADInplaceOrView, AutogradOther, AutogradCPU, AutogradCUDA, AutogradXLA, AutogradLazy, AutogradXPU, AutogradMLC, AutogradHPU, AutogradNestedTensor, AutogradPrivateUse1, AutogradPrivateUse2, AutogradPrivateUse3, Tracer, AutocastCPU, Autocast, Batched, VmapMode, Functionalize].\n\nCPU: registered at /opt/conda/conda-bld/pytorch_1646755853668/work/build/aten/src/ATen/RegisterCPU.cpp:21063 [kernel]\nCUDA: registered at /opt/conda/conda-bld/pytorch_1646755853668/work/build/aten/src/ATen/RegisterCUDA.cpp:29726 [kernel]\nQuantizedCPU: registered at /opt/conda/conda-bld/pytorch_1646755853668/work/build/aten/src/ATen/RegisterQuantizedCPU.cpp:1258 [kernel]\nBackendSelect: fallthrough registered at /opt/conda/conda-bld/pytorch_1646755853668/work/aten/src/ATen/core/BackendSelectFallbackKernel.cpp:3 [backend fallback]\nPython: registered at /opt/conda/conda-bld/pytorch_1646755853668/work/aten/src/ATen/core/PythonFallbackKernel.cpp:47 [backend fallback]\nNamed: registered at /opt/conda/conda-bld/pytorch_1646755853668/work/aten/src/ATen/core/NamedRegistrations.cpp:7 [backend fallback]\nConjugate: registered at /opt/conda/conda-bld/pytorch_1646755853668/work/aten/src/ATen/ConjugateFallback.cpp:18 [backend fallback]\nNegative: registered at /opt/conda/conda-bld/pytorch_1646755853668/work/aten/src/ATen/native/NegateFallback.cpp:18 [backend fallback]\nZeroTensor: registered at /opt/conda/conda-bld/pytorch_1646755853668/work/aten/src/ATen/ZeroTensorFallback.cpp:86 [backend fallback]\nADInplaceOrView: fallthrough registered at /opt/conda/conda-bld/pytorch_1646755853668/work/aten/src/ATen/core/VariableFallbackKernel.cpp:64 [backend fallback]\nAutogradOther: registered at /opt/conda/conda-bld/pytorch_1646755853668/work/torch/csrc/autograd/generated/VariableType_3.cpp:11380 [autograd kernel]\nAutogradCPU: registered at /opt/conda/conda-bld/pytorch_1646755853668/work/torch/csrc/autograd/generated/VariableType_3.cpp:11380 [autograd kernel]\nAutogradCUDA: registered at /opt/conda/conda-bld/pytorch_1646755853668/work/torch/csrc/autograd/generated/VariableType_3.cpp:11380 [autograd kernel]\nAutogradXLA: registered at /opt/conda/conda-bld/pytorch_1646755853668/work/torch/csrc/autograd/generated/VariableType_3.cpp:11380 [autograd kernel]\nAutogradLazy: registered at /opt/conda/conda-bld/pytorch_1646755853668/work/torch/csrc/autograd/generated/VariableType_3.cpp:11380 [autograd kernel]\nAutogradXPU: registered at /opt/conda/conda-bld/pytorch_1646755853668/work/torch/csrc/autograd/generated/VariableType_3.cpp:11380 [autograd kernel]\nAutogradMLC: registered at /opt/conda/conda-bld/pytorch_1646755853668/work/torch/csrc/autograd/generated/VariableType_3.cpp:11380 [autograd kernel]\nAutogradHPU: registered at /opt/conda/conda-bld/pytorch_1646755853668/work/torch/csrc/autograd/generated/VariableType_3.cpp:11380 [autograd kernel]\nAutogradNestedTensor: registered at /opt/conda/conda-bld/pytorch_1646755853668/work/torch/csrc/autograd/generated/VariableType_3.cpp:11380 [autograd kernel]\nAutogradPrivateUse1: registered at /opt/conda/conda-bld/pytorch_1646755853668/work/torch/csrc/autograd/generated/VariableType_3.cpp:11380 [autograd kernel]\nAutogradPrivateUse2: registered at /opt/conda/conda-bld/pytorch_1646755853668/work/torch/csrc/autograd/generated/VariableType_3.cpp:11380 [autograd kernel]\nAutogradPrivateUse3: registered at /opt/conda/conda-bld/pytorch_1646755853668/work/torch/csrc/autograd/generated/VariableType_3.cpp:11380 [autograd kernel]\nTracer: registered at /opt/conda/conda-bld/pytorch_1646755853668/work/torch/csrc/autograd/generated/TraceType_3.cpp:11220 [kernel]\nAutocastCPU: fallthrough registered at /opt/conda/conda-bld/pytorch_1646755853668/work/aten/src/ATen/autocast_mode.cpp:461 [backend fallback]\nAutocast: fallthrough registered at /opt/conda/conda-bld/pytorch_1646755853668/work/aten/src/ATen/autocast_mode.cpp:305 [backend fallback]\nBatched: registered at /opt/conda/conda-bld/pytorch_1646755853668/work/aten/src/ATen/BatchingRegistrations.cpp:1059 [backend fallback]\nVmapMode: fallthrough registered at /opt/conda/conda-bld/pytorch_1646755853668/work/aten/src/ATen/VmapModeRegistrations.cpp:33 [backend fallback]\nFunctionalize: registered at /opt/conda/conda-bld/pytorch_1646755853668/work/aten/src/ATen/FunctionalizeFallbackKernel.cpp:52 [backend fallback]\n",
     "output_type": "error",
     "traceback": [
      "\u001b[0;31m---------------------------------------------------------------------------\u001b[0m",
      "\u001b[0;31mNotImplementedError\u001b[0m                       Traceback (most recent call last)",
      "\u001b[1;32m/media/zullich/LabControlli1/OpenGAN/demo_CrossDatasetOpenSet_train_lambda0.ipynb Cell 49'\u001b[0m in \u001b[0;36m<cell line: 2>\u001b[0;34m()\u001b[0m\n\u001b[1;32m      <a href='vscode-notebook-cell:/media/zullich/LabControlli1/OpenGAN/demo_CrossDatasetOpenSet_train_lambda0.ipynb#ch0000043?line=0'>1</a>\u001b[0m \u001b[39mprint\u001b[39m(\u001b[39mlen\u001b[39m(features))\n\u001b[0;32m----> <a href='vscode-notebook-cell:/media/zullich/LabControlli1/OpenGAN/demo_CrossDatasetOpenSet_train_lambda0.ipynb#ch0000043?line=1'>2</a>\u001b[0m features \u001b[39m=\u001b[39m torch\u001b[39m.\u001b[39;49mcat(features, dim\u001b[39m=\u001b[39;49m\u001b[39m0\u001b[39;49m)\n",
      "\u001b[0;31mNotImplementedError\u001b[0m: There were no tensor arguments to this function (e.g., you passed an empty list of Tensors), but no fallback function is registered for schema aten::_cat.  This usually means that this function requires a non-empty list of Tensors, or that you (the operator writer) forgot to register a fallback function.  Available functions are [CPU, CUDA, QuantizedCPU, BackendSelect, Python, Named, Conjugate, Negative, ZeroTensor, ADInplaceOrView, AutogradOther, AutogradCPU, AutogradCUDA, AutogradXLA, AutogradLazy, AutogradXPU, AutogradMLC, AutogradHPU, AutogradNestedTensor, AutogradPrivateUse1, AutogradPrivateUse2, AutogradPrivateUse3, Tracer, AutocastCPU, Autocast, Batched, VmapMode, Functionalize].\n\nCPU: registered at /opt/conda/conda-bld/pytorch_1646755853668/work/build/aten/src/ATen/RegisterCPU.cpp:21063 [kernel]\nCUDA: registered at /opt/conda/conda-bld/pytorch_1646755853668/work/build/aten/src/ATen/RegisterCUDA.cpp:29726 [kernel]\nQuantizedCPU: registered at /opt/conda/conda-bld/pytorch_1646755853668/work/build/aten/src/ATen/RegisterQuantizedCPU.cpp:1258 [kernel]\nBackendSelect: fallthrough registered at /opt/conda/conda-bld/pytorch_1646755853668/work/aten/src/ATen/core/BackendSelectFallbackKernel.cpp:3 [backend fallback]\nPython: registered at /opt/conda/conda-bld/pytorch_1646755853668/work/aten/src/ATen/core/PythonFallbackKernel.cpp:47 [backend fallback]\nNamed: registered at /opt/conda/conda-bld/pytorch_1646755853668/work/aten/src/ATen/core/NamedRegistrations.cpp:7 [backend fallback]\nConjugate: registered at /opt/conda/conda-bld/pytorch_1646755853668/work/aten/src/ATen/ConjugateFallback.cpp:18 [backend fallback]\nNegative: registered at /opt/conda/conda-bld/pytorch_1646755853668/work/aten/src/ATen/native/NegateFallback.cpp:18 [backend fallback]\nZeroTensor: registered at /opt/conda/conda-bld/pytorch_1646755853668/work/aten/src/ATen/ZeroTensorFallback.cpp:86 [backend fallback]\nADInplaceOrView: fallthrough registered at /opt/conda/conda-bld/pytorch_1646755853668/work/aten/src/ATen/core/VariableFallbackKernel.cpp:64 [backend fallback]\nAutogradOther: registered at /opt/conda/conda-bld/pytorch_1646755853668/work/torch/csrc/autograd/generated/VariableType_3.cpp:11380 [autograd kernel]\nAutogradCPU: registered at /opt/conda/conda-bld/pytorch_1646755853668/work/torch/csrc/autograd/generated/VariableType_3.cpp:11380 [autograd kernel]\nAutogradCUDA: registered at /opt/conda/conda-bld/pytorch_1646755853668/work/torch/csrc/autograd/generated/VariableType_3.cpp:11380 [autograd kernel]\nAutogradXLA: registered at /opt/conda/conda-bld/pytorch_1646755853668/work/torch/csrc/autograd/generated/VariableType_3.cpp:11380 [autograd kernel]\nAutogradLazy: registered at /opt/conda/conda-bld/pytorch_1646755853668/work/torch/csrc/autograd/generated/VariableType_3.cpp:11380 [autograd kernel]\nAutogradXPU: registered at /opt/conda/conda-bld/pytorch_1646755853668/work/torch/csrc/autograd/generated/VariableType_3.cpp:11380 [autograd kernel]\nAutogradMLC: registered at /opt/conda/conda-bld/pytorch_1646755853668/work/torch/csrc/autograd/generated/VariableType_3.cpp:11380 [autograd kernel]\nAutogradHPU: registered at /opt/conda/conda-bld/pytorch_1646755853668/work/torch/csrc/autograd/generated/VariableType_3.cpp:11380 [autograd kernel]\nAutogradNestedTensor: registered at /opt/conda/conda-bld/pytorch_1646755853668/work/torch/csrc/autograd/generated/VariableType_3.cpp:11380 [autograd kernel]\nAutogradPrivateUse1: registered at /opt/conda/conda-bld/pytorch_1646755853668/work/torch/csrc/autograd/generated/VariableType_3.cpp:11380 [autograd kernel]\nAutogradPrivateUse2: registered at /opt/conda/conda-bld/pytorch_1646755853668/work/torch/csrc/autograd/generated/VariableType_3.cpp:11380 [autograd kernel]\nAutogradPrivateUse3: registered at /opt/conda/conda-bld/pytorch_1646755853668/work/torch/csrc/autograd/generated/VariableType_3.cpp:11380 [autograd kernel]\nTracer: registered at /opt/conda/conda-bld/pytorch_1646755853668/work/torch/csrc/autograd/generated/TraceType_3.cpp:11220 [kernel]\nAutocastCPU: fallthrough registered at /opt/conda/conda-bld/pytorch_1646755853668/work/aten/src/ATen/autocast_mode.cpp:461 [backend fallback]\nAutocast: fallthrough registered at /opt/conda/conda-bld/pytorch_1646755853668/work/aten/src/ATen/autocast_mode.cpp:305 [backend fallback]\nBatched: registered at /opt/conda/conda-bld/pytorch_1646755853668/work/aten/src/ATen/BatchingRegistrations.cpp:1059 [backend fallback]\nVmapMode: fallthrough registered at /opt/conda/conda-bld/pytorch_1646755853668/work/aten/src/ATen/VmapModeRegistrations.cpp:33 [backend fallback]\nFunctionalize: registered at /opt/conda/conda-bld/pytorch_1646755853668/work/aten/src/ATen/FunctionalizeFallbackKernel.cpp:52 [backend fallback]\n"
     ]
    }
   ],
   "source": [
    "print(len(features))\n",
    "features = torch.cat(features, dim=0)"
   ]
  },
  {
   "cell_type": "code",
   "execution_count": 27,
   "metadata": {},
   "outputs": [],
   "source": [
    "torch.save(features, \"punzoni_res18_features_TEST.pt\")"
   ]
  },
  {
   "cell_type": "code",
   "execution_count": 73,
   "metadata": {},
   "outputs": [],
   "source": [
    "features = torch.load(\"punzoni_res18_features_TEST.pt\")"
   ]
  },
  {
   "cell_type": "code",
   "execution_count": 75,
   "metadata": {},
   "outputs": [],
   "source": [
    "testset_closeset = BasicDataset(data=features)\n",
    "testloader = DataLoader(testset_closeset, batch_size=batch_size, shuffle=True, num_workers=1)"
   ]
  },
  {
   "cell_type": "code",
   "execution_count": 76,
   "metadata": {},
   "outputs": [
    {
     "data": {
      "text/plain": [
       "770"
      ]
     },
     "execution_count": 76,
     "metadata": {},
     "output_type": "execute_result"
    }
   ],
   "source": [
    "len(testset_closeset)"
   ]
  },
  {
   "cell_type": "code",
   "execution_count": 78,
   "metadata": {},
   "outputs": [
    {
     "data": {
      "text/plain": [
       "array([5.4681915e-01, 5.4998416e-01, 6.9134593e-01, 3.9812735e-01,\n",
       "       4.8424762e-01, 4.5630208e-01, 4.7543547e-01, 4.4668356e-01,\n",
       "       2.4908355e-01, 4.7276303e-01, 3.5433048e-01, 4.7740155e-01,\n",
       "       4.9023098e-01, 3.6746266e-01, 3.9910129e-01, 3.6071619e-01,\n",
       "       3.9251909e-01, 4.4493988e-01, 3.6710623e-01, 6.2011981e-01,\n",
       "       1.4551531e-01, 6.0379994e-01, 5.3851563e-01, 4.0199724e-01,\n",
       "       5.9651732e-01, 4.8539782e-01, 4.8239484e-01, 6.4089108e-01,\n",
       "       2.8629994e-01, 5.6395477e-01, 6.4832455e-01, 3.9690807e-01,\n",
       "       4.6671659e-01, 2.9972118e-01, 2.2662856e-01, 4.7201315e-01,\n",
       "       5.1305634e-01, 4.9492052e-01, 2.5477198e-01, 3.8925600e-01,\n",
       "       6.0808432e-01, 8.6575466e-01, 3.7611747e-01, 4.6695316e-01,\n",
       "       3.6368424e-01, 4.9619651e-01, 4.7230676e-01, 5.8354187e-01,\n",
       "       4.3173307e-01, 9.6092325e-01, 3.6027578e-01, 4.1080546e-01,\n",
       "       6.4322674e-01, 3.9033142e-01, 3.8406268e-01, 5.6450844e-01,\n",
       "       4.0884873e-01, 9.2594951e-01, 3.8643524e-01, 4.2078316e-01,\n",
       "       3.2355651e-01, 3.6856672e-01, 3.6900353e-01, 3.8809469e-01,\n",
       "       3.2391983e-01, 5.3921509e-01, 4.3209067e-01, 6.5929949e-01,\n",
       "       5.1826078e-01, 5.2491701e-01, 4.4080698e-01, 5.8153528e-01,\n",
       "       5.7866597e-01, 4.5380750e-01, 4.0002152e-01, 2.5630921e-01,\n",
       "       5.6689209e-01, 4.4082710e-01, 6.7039210e-01, 4.3894291e-01,\n",
       "       4.3390000e-01, 3.9095327e-01, 8.0285126e-01, 5.8466351e-01,\n",
       "       3.7869021e-01, 5.2297616e-01, 2.7038321e-01, 6.1815894e-01,\n",
       "       3.3217141e-01, 5.6359708e-01, 4.6438891e-01, 6.3664019e-01,\n",
       "       5.4975039e-01, 3.8545358e-01, 3.6035225e-01, 4.9279183e-01,\n",
       "       6.6604972e-01, 5.0046754e-01, 3.8262933e-01, 6.5626401e-01,\n",
       "       4.3988910e-01, 3.9203206e-01, 3.4818989e-01, 4.5598331e-01,\n",
       "       4.8053658e-01, 5.7391888e-01, 3.2283995e-01, 4.2796090e-01,\n",
       "       4.2478284e-01, 3.9880347e-01, 8.9946091e-01, 7.9408705e-01,\n",
       "       3.9569464e-01, 3.7517607e-01, 5.0998545e-01, 4.5826843e-01,\n",
       "       6.2686199e-01, 4.9734366e-01, 3.9366415e-01, 4.6342468e-01,\n",
       "       6.2239844e-01, 3.0139229e-01, 4.0940619e-01, 4.7824061e-01,\n",
       "       4.4448635e-01, 4.6591273e-01, 6.0788935e-01, 4.9489611e-01,\n",
       "       3.4243265e-01, 4.6042833e-01, 3.5649806e-01, 4.4823852e-01,\n",
       "       3.7573746e-01, 4.0042847e-01, 4.2773828e-01, 5.1250851e-01,\n",
       "       3.5872823e-01, 4.7408983e-01, 5.2863395e-01, 3.5759139e-01,\n",
       "       4.5139271e-01, 3.7763372e-01, 4.6294725e-01, 3.5228831e-01,\n",
       "       5.7090068e-01, 3.6725435e-01, 6.1815894e-01, 4.4345230e-01,\n",
       "       5.8536816e-01, 4.7109163e-01, 4.6135360e-01, 4.4793066e-01,\n",
       "       4.2549476e-01, 2.3810141e-01, 2.5358793e-01, 4.2043102e-01,\n",
       "       5.7021677e-01, 4.4647598e-01, 4.6763918e-01, 3.6875364e-01,\n",
       "       5.6953871e-01, 3.5615656e-01, 4.8670420e-01, 5.5359119e-01,\n",
       "       9.4378263e-01, 4.0673938e-01, 5.2658659e-01, 4.3825260e-01,\n",
       "       5.8031642e-01, 4.1789228e-01, 4.7163376e-01, 3.4913319e-01,\n",
       "       3.2239869e-01, 6.6841942e-01, 4.5647067e-01, 5.5575269e-01,\n",
       "       5.9333950e-01, 4.8969144e-01, 3.8119754e-01, 3.4131649e-01,\n",
       "       4.3242294e-01, 4.4665757e-01, 3.9043891e-01, 5.4121208e-01,\n",
       "       4.3492970e-01, 4.8483503e-01, 4.3997031e-01, 3.9312643e-01,\n",
       "       4.1913214e-01, 4.7429633e-01, 9.1414744e-01, 4.0556577e-01,\n",
       "       4.8035312e-01, 6.6942036e-01, 8.1628376e-01, 4.7691920e-01,\n",
       "       4.2090425e-01, 4.9284562e-01, 5.8513129e-01, 3.5360977e-01,\n",
       "       2.6883525e-01, 3.6569858e-01, 6.4381468e-01, 3.5143259e-01,\n",
       "       4.2225605e-01, 6.9562608e-01, 4.2127103e-01, 3.4181979e-01,\n",
       "       4.3171325e-01, 7.6409978e-01, 3.4333670e-01, 5.3410751e-01,\n",
       "       5.5530697e-01, 3.6063311e-01, 4.1734660e-01, 4.4001472e-01,\n",
       "       3.7034097e-01, 4.4916695e-01, 4.2312539e-01, 4.6017826e-01,\n",
       "       4.7630277e-01, 4.4365090e-01, 4.4550183e-01, 4.4366553e-01,\n",
       "       4.2573377e-01, 6.5844697e-01, 1.7601712e-14, 5.5817908e-01,\n",
       "       3.9119145e-01, 4.0677720e-01, 2.8028223e-01, 6.2890363e-01,\n",
       "       4.2119756e-01, 6.6791856e-01, 8.3264256e-01, 4.6747765e-01,\n",
       "       4.2977712e-01, 4.7469217e-01, 4.7065064e-01, 2.4991384e-01,\n",
       "       4.5943639e-01, 5.6022173e-01, 4.8803630e-01, 4.6886259e-01,\n",
       "       3.8593200e-01, 4.0691373e-01, 7.7873230e-01, 3.4744281e-01,\n",
       "       3.5006788e-01, 4.8417103e-01, 4.4143263e-01, 4.9661312e-01,\n",
       "       4.8606777e-01, 5.1415896e-01, 3.3085263e-01, 3.9685282e-01,\n",
       "       5.1168025e-01, 4.0796193e-01, 4.2989987e-01, 3.5351679e-01,\n",
       "       5.7977438e-01, 5.3940988e-01, 3.4444612e-01, 5.6374055e-01,\n",
       "       4.9543720e-01, 4.6919847e-01, 4.0852952e-01, 4.7248051e-01,\n",
       "       4.4100302e-01, 9.6213776e-01, 4.6382421e-01, 3.8828403e-01,\n",
       "       4.8007089e-01, 3.9479733e-01, 3.9434072e-01, 5.5638677e-01,\n",
       "       3.5056806e-01, 4.1241515e-01, 4.8590818e-01, 6.3104701e-01,\n",
       "       5.5684447e-01, 3.6701185e-01, 2.4551025e-01, 4.6864277e-01,\n",
       "       7.9555267e-01, 3.7667561e-01, 4.0101030e-01, 3.3967462e-01,\n",
       "       4.3551871e-01, 3.2040316e-01, 6.6841942e-01, 4.6623611e-01,\n",
       "       3.3054870e-01, 6.5249354e-01, 4.8537153e-01, 4.1726077e-01,\n",
       "       5.8094448e-01, 4.8997825e-01, 4.6052903e-01, 4.7355554e-01,\n",
       "       3.9684710e-01, 4.7705686e-01, 4.6917862e-01, 2.1309599e-01,\n",
       "       6.5591252e-01, 4.5415410e-01, 5.0945544e-01, 3.7907025e-01,\n",
       "       5.9900641e-01, 4.8738390e-01, 5.3653038e-01, 4.5970568e-01,\n",
       "       8.9788544e-01, 4.5907813e-01, 5.5754012e-01, 4.8217767e-01,\n",
       "       9.1133845e-01, 4.4244811e-01, 8.6996257e-01, 4.0265793e-01,\n",
       "       5.6027400e-01, 4.6508542e-01, 4.5333558e-01, 4.4446385e-01,\n",
       "       3.5600257e-01, 3.4464777e-01, 4.1911384e-01, 5.8067787e-01,\n",
       "       4.6672443e-01, 5.0571048e-01, 6.3533908e-01, 3.1919715e-01,\n",
       "       4.6690348e-01, 4.0556577e-01, 5.5248916e-01, 7.3761362e-01,\n",
       "       2.2648736e-10, 3.6090359e-01, 4.2769378e-01, 3.6152178e-01,\n",
       "       5.3480840e-01, 3.8150740e-01, 3.7568536e-01, 3.5759583e-01,\n",
       "       3.5185221e-01, 4.2091453e-01, 1.2071920e-08, 4.9588659e-01,\n",
       "       4.8111117e-01, 6.2129819e-01, 3.9336529e-01, 5.0003910e-01,\n",
       "       4.2344385e-01, 4.1150385e-01, 2.9807198e-01, 3.7704337e-01,\n",
       "       4.4841936e-01, 3.8021263e-01, 4.1082090e-01, 4.8164630e-01,\n",
       "       5.0641072e-01, 3.6203486e-01, 4.0486002e-01, 4.2954767e-01,\n",
       "       4.8698166e-01, 6.7790562e-01, 4.5618528e-01, 4.5505813e-01,\n",
       "       3.8478470e-01, 4.5352906e-01, 5.1768482e-01, 6.3598615e-01,\n",
       "       4.3512213e-01, 4.9497449e-01, 4.0937340e-01, 4.5053184e-01,\n",
       "       3.6473238e-01, 4.5442829e-01, 4.4124898e-01, 4.5418668e-01,\n",
       "       4.7166514e-01, 4.7463199e-01, 6.1036444e-01, 4.2865005e-01,\n",
       "       5.1286167e-01, 4.5554304e-01, 4.5847544e-01, 4.2613837e-01,\n",
       "       4.4077998e-01, 4.1757885e-01, 4.8383173e-01, 9.1548127e-01,\n",
       "       3.6567044e-01, 3.7461632e-01, 3.3456993e-01, 4.1348946e-01,\n",
       "       4.3980303e-01, 6.1877239e-01, 4.8017406e-01, 7.7596641e-01,\n",
       "       4.5577672e-01, 4.8348644e-01, 4.7535378e-01, 5.8428776e-01,\n",
       "       3.9815107e-01, 3.8526893e-01, 4.0275598e-01, 8.2502747e-01,\n",
       "       5.5239797e-01, 5.5919695e-01, 5.3036016e-01, 3.5253760e-01,\n",
       "       2.9403293e-01, 3.2914600e-01, 4.2100513e-01, 4.8203123e-01,\n",
       "       4.2119756e-01, 6.0161012e-01, 4.2543709e-01, 5.4232240e-01,\n",
       "       3.6484352e-01, 5.7587856e-01, 3.7729865e-01, 4.5917839e-01,\n",
       "       4.8067999e-01, 2.8362341e-14, 4.0359595e-01, 4.7167659e-01,\n",
       "       5.8756584e-01, 4.6735701e-01, 4.1822967e-01, 5.5191404e-01,\n",
       "       3.6300761e-01, 5.3945804e-01, 3.2486489e-01, 2.7802294e-01,\n",
       "       4.0248707e-01, 4.3663669e-01, 4.5129061e-01, 3.9188552e-01,\n",
       "       3.8412428e-01, 8.5931206e-01, 8.4458762e-01, 4.5091674e-01,\n",
       "       4.6241099e-01, 4.6731240e-01, 5.7306373e-01, 4.9203613e-01,\n",
       "       5.4097182e-01, 5.4849309e-01, 4.0503630e-01, 4.1326776e-01,\n",
       "       3.6464122e-01, 4.0145999e-01, 3.5642117e-01, 3.7054127e-01,\n",
       "       4.6001595e-01, 3.6083421e-01, 4.8610178e-01, 3.9230368e-01,\n",
       "       5.0272071e-01, 5.4383135e-01, 5.0676733e-01, 5.5998927e-01,\n",
       "       4.8740247e-01, 5.5729312e-01, 3.4761801e-01, 5.3056794e-01,\n",
       "       5.8360517e-01, 5.1062262e-01, 4.6921799e-01, 4.4997725e-01,\n",
       "       5.5813652e-01, 4.6324393e-01, 4.4698039e-01, 6.7088968e-01,\n",
       "       4.8308372e-01, 4.1836846e-01, 5.1344067e-01, 3.8823193e-01,\n",
       "       4.8027572e-01, 3.7223732e-01, 4.3598279e-01, 3.3120662e-01,\n",
       "       3.2365489e-01, 4.4978380e-01, 4.3737990e-01, 5.6294137e-01,\n",
       "       4.1961196e-01, 4.6040577e-01, 4.6976781e-01, 4.4288805e-01,\n",
       "       4.6213323e-01, 3.6729231e-01, 3.7421617e-01, 6.1714810e-01,\n",
       "       3.6936277e-01, 3.8306028e-01, 9.2960608e-01, 5.4633498e-01,\n",
       "       4.9796686e-01, 4.7101057e-01, 4.6911293e-01, 5.3024805e-01,\n",
       "       6.5170340e-02, 4.9601585e-01, 8.6704248e-01, 4.5096135e-01,\n",
       "       4.4575059e-01, 4.5447010e-01, 4.5704055e-01, 4.4140008e-01,\n",
       "       3.3596495e-01, 4.5048803e-01, 3.1711105e-01, 4.8912013e-01,\n",
       "       4.5550048e-01, 5.4383135e-01, 4.8812798e-01, 4.2481518e-01,\n",
       "       3.1048104e-01, 3.5675856e-01, 3.6438540e-01, 4.4356373e-01,\n",
       "       4.7057188e-01, 4.5328391e-01, 5.4509681e-01, 4.0159988e-01,\n",
       "       4.1722071e-01, 3.8248369e-01, 3.9124042e-01, 4.3732888e-01,\n",
       "       4.3912649e-01, 4.0789387e-01, 4.2978817e-01, 3.7025487e-01,\n",
       "       4.2937428e-01, 4.9233866e-01, 5.4527175e-01, 3.9186555e-01,\n",
       "       5.4371512e-01, 4.5648295e-01, 3.6867675e-01, 5.2420074e-01,\n",
       "       4.7066143e-01, 4.6393791e-01, 3.1615564e-01, 4.6074045e-01,\n",
       "       5.9841466e-01, 5.2679849e-01, 4.6078745e-01, 1.5679733e-01,\n",
       "       4.5641941e-01, 4.2112640e-01, 5.3671873e-01, 6.7514861e-01,\n",
       "       3.0325067e-01, 5.6269473e-01, 4.7472924e-01, 3.7086225e-01,\n",
       "       5.5982220e-01, 5.2973348e-01, 4.2424521e-01, 5.1549202e-01,\n",
       "       3.7490624e-01, 4.1789228e-01, 4.2219928e-01, 4.6309447e-01,\n",
       "       4.8231679e-01, 5.2794671e-01, 4.4810107e-01, 4.2178038e-01,\n",
       "       5.2858055e-01, 4.6357784e-01, 6.8346554e-01, 3.9033666e-01,\n",
       "       4.2312393e-01, 4.4658709e-01, 6.3113040e-01, 4.5918864e-01,\n",
       "       4.4133753e-01, 3.5602933e-01, 4.8266369e-01, 2.7797353e-01,\n",
       "       6.3773042e-01, 3.8408187e-01, 3.9958024e-01, 4.8652145e-01,\n",
       "       6.7964709e-01, 4.2097744e-01, 4.4653830e-01, 3.5642117e-01,\n",
       "       4.8756951e-01, 4.5637336e-01, 4.8060331e-01, 4.5479727e-01,\n",
       "       4.7474793e-01, 5.6174517e-01, 4.5099384e-01, 4.8089668e-01,\n",
       "       4.4222689e-01, 4.3979886e-01, 3.5056967e-01, 4.4045794e-01,\n",
       "       2.8862134e-01, 3.3234787e-01, 5.2664739e-01, 1.7474362e-01,\n",
       "       4.6855912e-01, 6.4317966e-01, 3.6055085e-01, 5.8059031e-01,\n",
       "       5.8209240e-01, 2.2976801e-05, 5.5557770e-01, 4.2070127e-01,\n",
       "       5.5973446e-01, 4.4517374e-01, 2.2765763e-01, 3.4535122e-01,\n",
       "       5.4430014e-01, 4.6518219e-01, 4.0742853e-01, 3.9697060e-01,\n",
       "       3.7613034e-01, 5.4763597e-01, 3.0862233e-01, 4.7469798e-01,\n",
       "       5.8091700e-01, 5.2406633e-01, 5.9333950e-01, 5.7893807e-01,\n",
       "       4.7594205e-01, 5.7370847e-01, 4.8362994e-01, 4.1972798e-01,\n",
       "       4.1916239e-01, 3.6856672e-01, 4.1467112e-01, 4.3162298e-01,\n",
       "       4.3895549e-01, 2.6464215e-01, 3.6327279e-01, 3.8519371e-01,\n",
       "       4.7085205e-01, 5.2821434e-01, 8.8205761e-01, 4.0848377e-01,\n",
       "       4.0056640e-01, 4.6969941e-01, 5.6409097e-01, 4.5043057e-01,\n",
       "       4.3992814e-01, 5.5222124e-01, 3.4306979e-01, 6.6210467e-01,\n",
       "       5.0519902e-01, 3.0618384e-01, 5.0180125e-01, 4.0100625e-01,\n",
       "       3.7182635e-01, 3.4580088e-01, 5.0851232e-01, 5.4836464e-01,\n",
       "       3.2723454e-01, 3.1278294e-01, 3.4648454e-01, 4.0815240e-01,\n",
       "       3.6430147e-01, 6.1492014e-01, 4.4576931e-01, 3.9304948e-01,\n",
       "       5.2641624e-01, 5.1265407e-01, 7.2575736e-01, 5.0871515e-01,\n",
       "       6.5599316e-01, 3.3967450e-01, 4.6195391e-01, 3.5651153e-01,\n",
       "       3.3155289e-01, 5.2135229e-01, 3.4694141e-01, 4.5718670e-01,\n",
       "       3.9819497e-01, 3.6975709e-01, 5.1870471e-01, 3.4946749e-01,\n",
       "       3.6460802e-01, 5.3771806e-01, 5.0428498e-01, 4.9362454e-01,\n",
       "       3.9441696e-01, 5.3579021e-01, 3.5273510e-01, 6.0611844e-01,\n",
       "       4.4074631e-01, 7.5643861e-01, 5.7991248e-01, 3.9230368e-01,\n",
       "       4.5792523e-01, 3.0880928e-01, 3.8595980e-01, 4.8407045e-01,\n",
       "       5.4647082e-01, 4.2749101e-01, 4.3830705e-01, 2.7504554e-01,\n",
       "       3.6701185e-01, 3.7570450e-01, 4.7505000e-01, 6.1390024e-01,\n",
       "       3.3503437e-01, 5.3179079e-01, 6.6695732e-01, 5.7443160e-01,\n",
       "       7.9378313e-01, 6.0095656e-01, 5.4459316e-01, 3.7265083e-01,\n",
       "       5.7098371e-01, 4.5701435e-01, 3.9102647e-01, 4.3354255e-01,\n",
       "       4.3435973e-01, 4.6102992e-01, 5.1427966e-01, 4.4131890e-01,\n",
       "       5.2016819e-01, 5.9651732e-01, 3.8512522e-01, 4.2830721e-01,\n",
       "       4.3697140e-01, 4.1372526e-01, 3.6484352e-01, 4.4606808e-01,\n",
       "       4.1368073e-01, 4.0875259e-01, 4.4098976e-01, 3.3793744e-01,\n",
       "       5.8245325e-01, 3.3509573e-01, 3.8850048e-01, 4.3260565e-01,\n",
       "       4.3711200e-01, 5.0117922e-01, 4.4039449e-01, 6.6740382e-01,\n",
       "       5.8195341e-01, 3.8556273e-06, 6.6695732e-01, 4.0848377e-01,\n",
       "       7.2459443e-03, 4.3896577e-01, 3.9079577e-01, 3.9911330e-01,\n",
       "       9.1191214e-01, 5.5651003e-01, 3.8491398e-01, 4.6137679e-01,\n",
       "       4.6548504e-01, 3.9638153e-01, 4.1432759e-01, 5.2662981e-01,\n",
       "       3.2352442e-01, 5.0011706e-01, 3.7472859e-01, 5.2544457e-01,\n",
       "       3.2058814e-01, 5.3771091e-01], dtype=float32)"
      ]
     },
     "execution_count": 78,
     "metadata": {},
     "output_type": "execute_result"
    }
   ],
   "source": [
    "outputs_close"
   ]
  },
  {
   "cell_type": "code",
   "execution_count": 77,
   "metadata": {},
   "outputs": [
    {
     "name": "stdout",
     "output_type": "stream",
     "text": [
      "Correctly identified items: 0.2922077922077922\n"
     ]
    },
    {
     "ename": "IndexError",
     "evalue": "list index out of range",
     "output_type": "error",
     "traceback": [
      "\u001b[0;31m---------------------------------------------------------------------------\u001b[0m",
      "\u001b[0;31mIndexError\u001b[0m                                Traceback (most recent call last)",
      "\u001b[1;32m/media/zullich/LabControlli1/OpenGAN/demo_CrossDatasetOpenSet_train_lambda0.ipynb Cell 54'\u001b[0m in \u001b[0;36m<cell line: 20>\u001b[0;34m()\u001b[0m\n\u001b[1;32m     <a href='vscode-notebook-cell:/media/zullich/LabControlli1/OpenGAN/demo_CrossDatasetOpenSet_train_lambda0.ipynb#ch0000048?line=23'>24</a>\u001b[0m noiseimg \u001b[39m=\u001b[39m torch\u001b[39m.\u001b[39mrandn(\u001b[39m100\u001b[39m, \u001b[39m3\u001b[39m, \u001b[39m256\u001b[39m, \u001b[39m256\u001b[39m, device\u001b[39m=\u001b[39mdevice)\n\u001b[1;32m     <a href='vscode-notebook-cell:/media/zullich/LabControlli1/OpenGAN/demo_CrossDatasetOpenSet_train_lambda0.ipynb#ch0000048?line=24'>25</a>\u001b[0m _ \u001b[39m=\u001b[39m backbone(noiseimg)\n\u001b[0;32m---> <a href='vscode-notebook-cell:/media/zullich/LabControlli1/OpenGAN/demo_CrossDatasetOpenSet_train_lambda0.ipynb#ch0000048?line=25'>26</a>\u001b[0m feats \u001b[39m=\u001b[39m features[\u001b[39m0\u001b[39;49m]\u001b[39m.\u001b[39mcuda()\n\u001b[1;32m     <a href='vscode-notebook-cell:/media/zullich/LabControlli1/OpenGAN/demo_CrossDatasetOpenSet_train_lambda0.ipynb#ch0000048?line=26'>27</a>\u001b[0m \u001b[39massert\u001b[39;00m feats\u001b[39m.\u001b[39mshape \u001b[39m==\u001b[39m (\u001b[39m100\u001b[39m, \u001b[39m512\u001b[39m, \u001b[39m8\u001b[39m, \u001b[39m8\u001b[39m), \u001b[39mf\u001b[39m\u001b[39m\"\u001b[39m\u001b[39mFeatures shape is \u001b[39m\u001b[39m{\u001b[39;00mfeats\u001b[39m.\u001b[39mshape\u001b[39m}\u001b[39;00m\u001b[39m, expected (100, 512, 8, 8)\u001b[39m\u001b[39m\"\u001b[39m\n\u001b[1;32m     <a href='vscode-notebook-cell:/media/zullich/LabControlli1/OpenGAN/demo_CrossDatasetOpenSet_train_lambda0.ipynb#ch0000048?line=27'>28</a>\u001b[0m output \u001b[39m=\u001b[39m netD(feats)\u001b[39m.\u001b[39mview(\u001b[39m-\u001b[39m\u001b[39m1\u001b[39m)\n",
      "\u001b[0;31mIndexError\u001b[0m: list index out of range"
     ]
    }
   ],
   "source": [
    "x = next(iter(testloader)).cuda()\n",
    "(netD(x).view(-1) >= .5).sum().item() / x.size(0)\n",
    "\n",
    "correct = 0\n",
    "netD.eval()\n",
    "\n",
    "outputs_close = []\n",
    "with torch.no_grad():\n",
    "    for test_data in testloader:\n",
    "        output = netD(test_data.cuda()).view(-1)\n",
    "        outputs_close += [output.cpu()]\n",
    "        correct += (output >= .5).sum().item()\n",
    "\n",
    "outputs_close = torch.cat(outputs_close).numpy()\n",
    "\n",
    "print(\"Correctly identified items:\", correct/len(testloader.dataset))\n",
    "\n",
    "correct_fake = 0\n",
    "outputs_open = []\n",
    "with torch.no_grad():\n",
    "    for ite in range(10):\n",
    "        #noise = torch.randn(100, 512, 8, 8, device=device)\n",
    "        features = []\n",
    "        noiseimg = torch.randn(100, 3, 256, 256, device=device)\n",
    "        _ = backbone(noiseimg)\n",
    "        feats = features[0].cuda()\n",
    "        assert feats.shape == (100, 512, 8, 8), f\"Features shape is {feats.shape}, expected (100, 512, 8, 8)\"\n",
    "        output = netD(feats).view(-1)\n",
    "        outputs_open.append(output.cpu())\n",
    "        correct_fake += (output < .5).sum().item()\n",
    "outputs_open = torch.cat(outputs_open).numpy()\n",
    "\n",
    "print(\"Correctly identified fakes:\", correct_fake/1000)\n",
    "\n",
    "roc_score, roc_to_plot = evaluate_openset(outputs_open, outputs_close)\n",
    "plt.plot(roc_to_plot['fp'], roc_to_plot['tp'])\n",
    "plt.grid('on')\n",
    "plt.xlabel('False Positive Rate')\n",
    "plt.ylabel('True Positive Rate')\n",
    "plt.title('ROC score {:.5f}'.format(roc_score))"
   ]
  },
  {
   "cell_type": "markdown",
   "metadata": {},
   "source": [
    "test con punzoni **grandi**"
   ]
  },
  {
   "cell_type": "code",
   "execution_count": 61,
   "metadata": {},
   "outputs": [],
   "source": [
    "from PIL import Image\n",
    "\n",
    "transform = T.Compose([\n",
    "        T.Resize((256, 256)),\n",
    "        T.ToTensor(),\n",
    "        T.Normalize(mean=(0.5, 0.5, 0.5), std=(0.5, 0.5, 0.5))\n",
    "    ])\n",
    "\n",
    "batch_size_eval = 64\n",
    "\n",
    "root_data = \"../CV_thesis_GiovanniPinna/ImageSet/train/Grandi/\"\n",
    "root_testdata = \"../CV_thesis_GiovanniPinna/ImageSet/test/Grandi/\"\n",
    "\n",
    "imgs = [transform(Image.open(os.path.join(root_data,i))) for i in os.listdir(root_data)]\n",
    "imgs += [transform(Image.open(os.path.join(root_testdata,i))) for i in os.listdir(root_testdata)]\n",
    "imgs = torch.stack(imgs)"
   ]
  },
  {
   "cell_type": "code",
   "execution_count": 62,
   "metadata": {},
   "outputs": [],
   "source": [
    "features = []\n",
    "\n",
    "backbone.eval()\n",
    "_ = backbone(imgs.cuda())"
   ]
  },
  {
   "cell_type": "code",
   "execution_count": 63,
   "metadata": {},
   "outputs": [],
   "source": [
    "netD.eval()\n",
    "output_composti = netD(features[0].cuda()).view(-1).detach().cpu().numpy()"
   ]
  },
  {
   "cell_type": "code",
   "execution_count": 64,
   "metadata": {},
   "outputs": [
    {
     "data": {
      "text/plain": [
       "array([0.6739283 , 0.73266596, 0.8079949 , 0.7228598 , 0.8557588 ,\n",
       "       0.8376461 , 0.8098907 , 0.69925076, 0.71038556, 0.6860232 ,\n",
       "       0.6548502 , 0.75334454, 0.5952091 , 0.792592  , 0.75637764],\n",
       "      dtype=float32)"
      ]
     },
     "execution_count": 64,
     "metadata": {},
     "output_type": "execute_result"
    }
   ],
   "source": [
    "output_composti"
   ]
  },
  {
   "cell_type": "markdown",
   "metadata": {},
   "source": [
    "test con **no punzoni**"
   ]
  },
  {
   "cell_type": "code",
   "execution_count": 34,
   "metadata": {},
   "outputs": [],
   "source": [
    "transform = T.Compose([\n",
    "        T.Resize((256, 256)),\n",
    "        T.ToTensor(),\n",
    "        T.Normalize(mean=(0.5, 0.5, 0.5), std=(0.5, 0.5, 0.5))\n",
    "    ])\n",
    "\n",
    "batch_size_eval = 64\n",
    "\n",
    "root_data = \"../CV_thesis_GiovanniPinna/ImageSet/No_punzoni/\"\n",
    "\n",
    "imgs = [transform(Image.open(os.path.join(root_data,i))) for i in os.listdir(root_data)]\n",
    "imgs = torch.stack(imgs)\n",
    "\n",
    "features = []\n",
    "\n",
    "backbone.eval()\n",
    "_ = backbone(imgs.cuda())\n",
    "\n",
    "netD.eval()\n",
    "outputs_nopunz = netD(features[0].cuda()).view(-1)\n",
    "outputs_nopunz = outputs_nopunz.detach().cpu().numpy()\n"
   ]
  },
  {
   "cell_type": "code",
   "execution_count": 42,
   "metadata": {},
   "outputs": [
    {
     "data": {
      "text/plain": [
       "array([0.74214154, 0.49442866, 0.81020653, 0.52431124, 0.712851  ,\n",
       "       0.74693483, 0.6888532 , 0.78641886, 0.7052823 , 0.6950644 ,\n",
       "       0.5911645 , 0.67522895, 0.69293296, 0.7174795 , 0.43024367],\n",
       "      dtype=float32)"
      ]
     },
     "execution_count": 42,
     "metadata": {},
     "output_type": "execute_result"
    }
   ],
   "source": [
    "outputs_nopunz"
   ]
  },
  {
   "cell_type": "code",
   "execution_count": 40,
   "metadata": {},
   "outputs": [
    {
     "data": {
      "text/plain": [
       "Text(0.5, 1.0, 'ROC score 0.99939')"
      ]
     },
     "execution_count": 40,
     "metadata": {},
     "output_type": "execute_result"
    },
    {
     "data": {
      "image/png": "[encoded data removed]",
      "text/plain": [
       "<Figure size 432x288 with 1 Axes>"
      ]
     },
     "metadata": {
      "needs_background": "light"
     },
     "output_type": "display_data"
    }
   ],
   "source": [
    "roc_score, roc_to_plot = evaluate_openset(outputs_nopunz, outputs_close)\n",
    "plt.plot(roc_to_plot['fp'], roc_to_plot['tp'])\n",
    "plt.grid('on')\n",
    "plt.xlabel('False Positive Rate')\n",
    "plt.ylabel('True Positive Rate')\n",
    "plt.title('ROC score {:.5f}'.format(roc_score))"
   ]
  },
  {
   "cell_type": "markdown",
   "metadata": {},
   "source": [
    "test con **altri punzoni extra**"
   ]
  },
  {
   "cell_type": "code",
   "execution_count": 32,
   "metadata": {},
   "outputs": [],
   "source": [
    "transform = T.Compose([\n",
    "        T.Resize((256, 256)),\n",
    "        T.ToTensor(),\n",
    "        T.Normalize(mean=(0.5, 0.5, 0.5), std=(0.5, 0.5, 0.5))\n",
    "    ])\n",
    "\n",
    "batch_size_eval = 64\n",
    "\n",
    "root_data = \"../CV_thesis_GiovanniPinna/ImageSet/extra/\"\n",
    "\n",
    "extra_ds = torchvision.datasets.ImageFolder(root=root_data, transform=transform)\n",
    "extra_dl = torch.utils.data.DataLoader(extra_ds, batch_size=len(extra_ds), shuffle=False, num_workers=1)\n",
    "\n",
    "features = []\n",
    "\n",
    "backbone.eval()\n",
    "_ = backbone(next(iter(extra_dl))[0].cuda())\n",
    "\n",
    "netD.eval()\n",
    "outputs_extra = netD(features[0].cuda()).view(-1)\n",
    "outputs_extra = outputs_extra.detach().cpu().numpy()\n"
   ]
  },
  {
   "cell_type": "code",
   "execution_count": 44,
   "metadata": {},
   "outputs": [
    {
     "data": {
      "text/plain": [
       "array([0.83409464, 0.6774761 , 0.86624736, 0.82297736, 0.87356   ,\n",
       "       0.8917484 , 0.8913916 , 0.71042424, 0.71534586, 0.8441397 ,\n",
       "       0.88700587, 0.87881744, 0.6180905 , 0.66010606, 0.6900776 ,\n",
       "       0.7531092 , 0.69765115, 0.74281436, 0.7044879 , 0.5333768 ,\n",
       "       0.80385584, 0.83393025, 0.8236    , 0.845063  , 0.760179  ,\n",
       "       0.81495106, 0.69202167, 0.7920756 , 0.8228219 , 0.6675756 ,\n",
       "       0.66592425, 0.715242  , 0.7470552 , 0.80297697, 0.8000338 ,\n",
       "       0.77537   , 0.80657244, 0.71206415], dtype=float32)"
      ]
     },
     "execution_count": 44,
     "metadata": {},
     "output_type": "execute_result"
    }
   ],
   "source": [
    "outputs_extra"
   ]
  },
  {
   "cell_type": "code",
   "execution_count": 45,
   "metadata": {},
   "outputs": [
    {
     "data": {
      "text/plain": [
       "array([0.9132554 , 0.9037911 , 0.93699205, 0.9202374 , 0.8943375 ,\n",
       "       0.9079088 , 0.90032095, 0.8961871 , 0.91291976, 0.90685076,\n",
       "       0.9183301 , 0.8917943 , 0.90291804, 0.8512435 , 0.93417215,\n",
       "       0.88552254, 0.9110989 , 0.91039324, 0.8990096 , 0.9143753 ,\n",
       "       0.92082024, 0.90125763, 0.8946731 , 0.8995942 , 0.88718814,\n",
       "       0.91172254, 0.9087972 , 0.84590894, 0.9132098 , 0.90101564,\n",
       "       0.91614264, 0.8847292 , 0.92566717, 0.9157165 , 0.8411417 ,\n",
       "       0.9003595 , 0.89432335, 0.9080792 , 0.87849414, 0.9072918 ,\n",
       "       0.93162256, 0.8932514 , 0.90817535, 0.8681854 , 0.86253047,\n",
       "       0.910223  , 0.89075977, 0.8765441 , 0.8762655 , 0.9074947 ,\n",
       "       0.8874636 , 0.9091248 , 0.8903968 , 0.9217959 , 0.9132398 ,\n",
       "       0.91766953, 0.89548653, 0.8844044 , 0.88705504, 0.90049857,\n",
       "       0.91045713, 0.90900785, 0.9291821 , 0.88186353, 0.8918348 ,\n",
       "       0.8919235 , 0.9179774 , 0.9096839 , 0.9112863 , 0.8920392 ,\n",
       "       0.8952843 , 0.9016426 , 0.90311986, 0.8914824 , 0.9280336 ,\n",
       "       0.85545075, 0.90142405, 0.9012599 , 0.91341144, 0.9086614 ,\n",
       "       0.89181066, 0.9403333 , 0.9024997 , 0.9171468 , 0.9220976 ,\n",
       "       0.9280336 , 0.8744953 , 0.8869996 , 0.92382467, 0.9010218 ,\n",
       "       0.89336574, 0.90896744, 0.90776956, 0.90823615, 0.90728545,\n",
       "       0.9068738 , 0.91250366, 0.85347295, 0.7435208 , 0.9028138 ,\n",
       "       0.90622485, 0.9002953 , 0.8254951 , 0.9037038 , 0.90588963,\n",
       "       0.920073  , 0.8986342 , 0.9101498 , 0.9014228 , 0.84299296,\n",
       "       0.89256454, 0.8767358 , 0.8848273 , 0.88279   , 0.88971466,\n",
       "       0.8943572 , 0.92425644, 0.87911373, 0.9197791 , 0.8701    ,\n",
       "       0.91427636, 0.9145182 , 0.92838323, 0.892617  , 0.8923229 ,\n",
       "       0.90434974, 0.8471085 , 0.9072623 , 0.92305595, 0.88536054,\n",
       "       0.8655393 , 0.9170662 , 0.9078435 , 0.9427109 , 0.9056112 ,\n",
       "       0.91548747, 0.9014558 , 0.89820206, 0.88917935, 0.9007112 ,\n",
       "       0.9310442 , 0.896035  , 0.83770174, 0.9268873 , 0.91234154,\n",
       "       0.926083  , 0.90899986, 0.91094524, 0.9047115 , 0.77275586,\n",
       "       0.91050005, 0.88615733, 0.9303903 , 0.89290524, 0.9261382 ,\n",
       "       0.89275354, 0.91206765, 0.9313483 , 0.886108  , 0.8479678 ,\n",
       "       0.89937305, 0.93429005, 0.9260741 , 0.90442276, 0.8929452 ,\n",
       "       0.88859767, 0.9132493 , 0.9122063 , 0.8948649 , 0.8925538 ,\n",
       "       0.8851721 , 0.9096308 , 0.9041181 , 0.9129209 , 0.95830005,\n",
       "       0.8913084 , 0.9266349 , 0.9126689 , 0.90626496, 0.8974678 ,\n",
       "       0.86045784, 0.89817625, 0.8928296 , 0.8468022 , 0.9095911 ,\n",
       "       0.8897779 , 0.8958885 , 0.9125027 , 0.91751647, 0.9021256 ,\n",
       "       0.8486754 , 0.9180594 , 0.9137552 , 0.89193624, 0.87493587,\n",
       "       0.9109325 , 0.91941154, 0.83192414, 0.89780116, 0.86528987,\n",
       "       0.91023415, 0.9185413 , 0.93093055, 0.9195748 , 0.92514604,\n",
       "       0.9011123 , 0.9232439 , 0.91079116, 0.8934573 , 0.8871922 ,\n",
       "       0.8787352 , 0.91231275, 0.9279688 , 0.9095438 , 0.88974994,\n",
       "       0.9009928 , 0.8612303 , 0.88976705, 0.9098766 , 0.92084813,\n",
       "       0.9472892 , 0.85798866, 0.8941443 , 0.934843  , 0.9063242 ,\n",
       "       0.86528987, 0.89854246, 0.8841591 , 0.91644794, 0.886845  ,\n",
       "       0.9454922 , 0.8992686 , 0.8872159 , 0.91091913, 0.92289853,\n",
       "       0.8710596 , 0.89393896, 0.91418356, 0.92728287, 0.9498539 ,\n",
       "       0.87969965, 0.8989034 , 0.8895254 , 0.94285995, 0.8959494 ,\n",
       "       0.84436923, 0.90505606, 0.8984901 , 0.888256  , 0.91683024,\n",
       "       0.8686278 , 0.9143464 , 0.91087407, 0.91748744, 0.9046028 ,\n",
       "       0.9183553 , 0.89835536, 0.90965545, 0.90094876, 0.8966061 ,\n",
       "       0.9291033 , 0.9215165 , 0.85191816, 0.9104188 , 0.91385454,\n",
       "       0.9153424 , 0.8990618 , 0.8961175 , 0.91174406, 0.91195095,\n",
       "       0.9257985 , 0.9121509 , 0.89272904, 0.9268537 , 0.9113635 ,\n",
       "       0.90630114, 0.920107  , 0.8859821 , 0.91291916, 0.90556633,\n",
       "       0.8992786 , 0.8335254 , 0.87438023, 0.8892547 , 0.93335724,\n",
       "       0.91219467, 0.9110116 , 0.9003493 , 0.91331977, 0.9201615 ,\n",
       "       0.8945686 , 0.9074204 , 0.9413512 , 0.9228103 , 0.912184  ,\n",
       "       0.8953806 , 0.9230734 , 0.9080705 , 0.9472892 , 0.92318887,\n",
       "       0.90980256, 0.9097223 , 0.88673264, 0.9300375 , 0.8904403 ,\n",
       "       0.90492886, 0.904627  , 0.89067113, 0.916275  , 0.8830349 ,\n",
       "       0.9117099 , 0.8975143 , 0.9007178 , 0.8817044 , 0.9017929 ,\n",
       "       0.91162586, 0.90002495, 0.87616384, 0.9153557 , 0.90001196,\n",
       "       0.8623057 , 0.914375  , 0.8964708 , 0.8963395 , 0.89943874,\n",
       "       0.8866974 , 0.9120689 , 0.9242415 , 0.91829616, 0.8983005 ,\n",
       "       0.8957576 , 0.9226289 , 0.92111075, 0.9020982 , 0.89196223,\n",
       "       0.8841153 , 0.81257695, 0.8827054 , 0.8987724 , 0.9067342 ,\n",
       "       0.9094005 , 0.8909565 , 0.91237766, 0.9036294 , 0.89817625,\n",
       "       0.9062896 , 0.9022977 , 0.8908271 , 0.90741146, 0.9040474 ,\n",
       "       0.88900477, 0.912509  , 0.8703804 , 0.91754085, 0.9132543 ,\n",
       "       0.8939752 , 0.8998325 , 0.9338049 , 0.9083186 , 0.9097125 ,\n",
       "       0.9012466 , 0.89700943, 0.8855444 , 0.9274634 , 0.9015819 ,\n",
       "       0.8958251 , 0.89889205, 0.9004925 , 0.9345169 , 0.9233162 ,\n",
       "       0.90140516, 0.9127109 , 0.92639196, 0.91163397, 0.90377754,\n",
       "       0.8987084 , 0.8953751 , 0.88049805, 0.9041964 , 0.92064965,\n",
       "       0.9110587 , 0.8950026 , 0.9177888 , 0.91191894, 0.910634  ,\n",
       "       0.94231683, 0.9278313 , 0.8962421 , 0.90337056, 0.92980194,\n",
       "       0.8669304 , 0.86950314, 0.90398854, 0.8954674 , 0.89705276,\n",
       "       0.89948416, 0.8995729 , 0.92203236, 0.9252143 , 0.9243018 ,\n",
       "       0.92505777, 0.9194531 , 0.9072414 , 0.9315053 , 0.9216909 ,\n",
       "       0.9099613 , 0.90074503, 0.90411496, 0.904627  , 0.8845167 ,\n",
       "       0.86875355, 0.8927658 , 0.87164545, 0.9290662 , 0.92489   ,\n",
       "       0.90145695, 0.9072091 , 0.8710515 , 0.9396923 , 0.90932196,\n",
       "       0.8986492 , 0.91171277, 0.9181183 , 0.89118266, 0.907024  ,\n",
       "       0.9036352 , 0.81136507, 0.92959565, 0.90237355, 0.9047391 ,\n",
       "       0.88453156, 0.9179535 , 0.8912423 , 0.92233264, 0.9078991 ,\n",
       "       0.89664125, 0.88059795, 0.8951458 , 0.90397125, 0.8773952 ,\n",
       "       0.9132432 , 0.9077833 , 0.8955521 , 0.91199684, 0.9367603 ,\n",
       "       0.90905505, 0.92547834, 0.9137575 , 0.89888126, 0.90016586,\n",
       "       0.83609325, 0.8863745 , 0.8910929 , 0.84637713, 0.9101026 ,\n",
       "       0.9341916 , 0.921448  , 0.9003279 , 0.81763613, 0.8213745 ,\n",
       "       0.9072414 , 0.89199686, 0.9089652 , 0.91324794, 0.9059082 ,\n",
       "       0.9457516 , 0.9152538 , 0.89978844, 0.8787267 , 0.9107015 ,\n",
       "       0.8760038 , 0.940563  , 0.8647973 , 0.91784567, 0.9046114 ,\n",
       "       0.88053846, 0.90591705, 0.8725795 , 0.8825036 , 0.91534054,\n",
       "       0.89974606, 0.8965943 , 0.92290443, 0.927278  , 0.8995238 ,\n",
       "       0.91617745, 0.906587  , 0.8935246 , 0.8928311 , 0.8960366 ,\n",
       "       0.8990246 , 0.9162828 , 0.89945877, 0.84208107, 0.9148974 ,\n",
       "       0.89111614, 0.908963  , 0.8775305 , 0.76408184, 0.9126055 ,\n",
       "       0.9030034 , 0.8944534 , 0.90579426, 0.93989044, 0.90563774,\n",
       "       0.8481585 , 0.89899504, 0.8961744 , 0.912522  , 0.9066275 ,\n",
       "       0.8623057 , 0.89720505, 0.9129615 , 0.92327124, 0.92178816,\n",
       "       0.90681   , 0.90781784, 0.91295624, 0.8354206 , 0.8929573 ,\n",
       "       0.90623045, 0.9007385 , 0.8755865 , 0.8934711 , 0.8985774 ,\n",
       "       0.9042137 , 0.89006823, 0.8984584 , 0.90886325, 0.8761095 ,\n",
       "       0.9306641 , 0.86709434, 0.90716034, 0.8596474 , 0.9025687 ,\n",
       "       0.9081476 , 0.87143856, 0.9379011 , 0.88750374, 0.92027503,\n",
       "       0.8906422 , 0.88292104, 0.8768882 , 0.9269628 , 0.85548246,\n",
       "       0.925249  , 0.89031523, 0.8904374 , 0.89740765, 0.91511637,\n",
       "       0.91298735, 0.9106244 , 0.9259721 , 0.8923626 , 0.9181992 ,\n",
       "       0.90917146, 0.9052751 , 0.93971485, 0.8949899 , 0.8761413 ,\n",
       "       0.9097798 , 0.9184992 , 0.92934304, 0.8983251 , 0.9138058 ,\n",
       "       0.88466203, 0.87992847, 0.9159301 , 0.8908737 , 0.89614654,\n",
       "       0.90867835, 0.904456  , 0.9005948 , 0.8971147 , 0.8882891 ,\n",
       "       0.86276454, 0.881189  , 0.91299754, 0.9076739 , 0.8352738 ,\n",
       "       0.8967957 , 0.9205384 , 0.9108552 , 0.84658027, 0.9005093 ,\n",
       "       0.8802991 , 0.9047622 , 0.8885824 , 0.9060933 , 0.90956265,\n",
       "       0.90325075, 0.88411474, 0.9097857 , 0.89589024, 0.9009029 ,\n",
       "       0.8450318 , 0.88965213, 0.88516885, 0.9154424 , 0.9327608 ,\n",
       "       0.90719765, 0.89834845, 0.91653484, 0.9086513 , 0.91858506,\n",
       "       0.8517637 , 0.8986493 , 0.9334372 , 0.88788915, 0.9128539 ,\n",
       "       0.932507  , 0.88103056, 0.8843731 , 0.8909189 , 0.92030615,\n",
       "       0.89859796, 0.8680655 , 0.9118067 , 0.8937882 , 0.8996453 ,\n",
       "       0.8928603 , 0.8997453 , 0.90550554, 0.9048542 , 0.91394633,\n",
       "       0.90590364, 0.8562288 , 0.90227854, 0.8894214 , 0.90819305,\n",
       "       0.930697  , 0.9132398 , 0.8971899 , 0.9124917 , 0.9127516 ,\n",
       "       0.9227618 , 0.9209081 , 0.8927702 , 0.90723294, 0.90939504,\n",
       "       0.81244093, 0.91962886, 0.9223967 , 0.8951946 , 0.88200015,\n",
       "       0.94803596, 0.94242555, 0.8588309 , 0.8854111 , 0.9269135 ,\n",
       "       0.90595686, 0.8876245 , 0.9053052 , 0.86764735, 0.8967437 ,\n",
       "       0.9055029 , 0.94497335, 0.91245306, 0.9036129 , 0.8936829 ,\n",
       "       0.9080571 , 0.90041006, 0.9017692 , 0.90761364, 0.9291033 ,\n",
       "       0.8908552 , 0.9155567 , 0.9025415 , 0.87299424, 0.9312509 ,\n",
       "       0.9349593 , 0.8903521 , 0.91580087, 0.9135084 , 0.8821823 ,\n",
       "       0.90634036, 0.91009915, 0.9036968 , 0.9113781 , 0.9143753 ,\n",
       "       0.91339076, 0.8519046 , 0.8925538 , 0.90794134, 0.89387447,\n",
       "       0.90403944, 0.8999967 , 0.89691335, 0.8961172 , 0.90599287,\n",
       "       0.90409565, 0.8872582 , 0.88354677, 0.93365884, 0.91174465,\n",
       "       0.8553784 , 0.92587644, 0.8616057 , 0.87333536, 0.8788233 ,\n",
       "       0.89869475, 0.9093349 , 0.894605  , 0.9033375 , 0.9003527 ,\n",
       "       0.8971451 , 0.8787267 , 0.9035903 , 0.913984  , 0.8952909 ,\n",
       "       0.9096657 , 0.8941424 , 0.9074947 , 0.8789273 , 0.8917255 ,\n",
       "       0.9418897 , 0.9072806 , 0.89463466, 0.9023978 , 0.8865708 ,\n",
       "       0.91547227, 0.90276647, 0.8657625 , 0.9116643 , 0.9100251 ,\n",
       "       0.9055437 , 0.9233782 , 0.8904637 , 0.89718133, 0.9167431 ,\n",
       "       0.8945547 , 0.8987941 , 0.9107367 , 0.9090893 , 0.90823793,\n",
       "       0.90233296, 0.8984515 , 0.92934304, 0.8957576 , 0.87794745,\n",
       "       0.8723451 , 0.9050091 , 0.9041993 , 0.8282506 , 0.8884569 ,\n",
       "       0.9117635 , 0.9047133 , 0.8768591 , 0.915355  , 0.9070552 ,\n",
       "       0.8792476 , 0.87169755, 0.85070664, 0.9056828 , 0.89204013,\n",
       "       0.922375  , 0.8944353 , 0.8894545 , 0.87893975, 0.9107247 ,\n",
       "       0.9099904 , 0.8949456 , 0.9138079 , 0.92728615, 0.8956641 ,\n",
       "       0.90937716, 0.90611225, 0.83320796, 0.89934134, 0.9086635 ],\n",
       "      dtype=float32)"
      ]
     },
     "execution_count": 45,
     "metadata": {},
     "output_type": "execute_result"
    }
   ],
   "source": [
    "outputs_close"
   ]
  },
  {
   "cell_type": "code",
   "execution_count": 66,
   "metadata": {},
   "outputs": [
    {
     "data": {
      "text/plain": [
       "Text(0.5, 1.0, 'ROC score 0.97061')"
      ]
     },
     "execution_count": 66,
     "metadata": {},
     "output_type": "execute_result"
    },
    {
     "data": {
      "image/png": "[encoded data removed]",
      "text/plain": [
       "<Figure size 432x288 with 1 Axes>"
      ]
     },
     "metadata": {
      "needs_background": "light"
     },
     "output_type": "display_data"
    }
   ],
   "source": [
    "roc_score, roc_to_plot = evaluate_openset(outputs_extra, outputs_close)\n",
    "plt.plot(roc_to_plot['fp'], roc_to_plot['tp'])\n",
    "plt.grid('on')\n",
    "plt.xlabel('False Positive Rate')\n",
    "plt.ylabel('True Positive Rate')\n",
    "plt.title('ROC score {:.5f}'.format(roc_score))"
   ]
  },
  {
   "cell_type": "code",
   "execution_count": 69,
   "metadata": {},
   "outputs": [
    {
     "data": {
      "text/plain": [
       "0.9984245586353054"
      ]
     },
     "execution_count": 69,
     "metadata": {},
     "output_type": "execute_result"
    }
   ],
   "source": [
    "import sklearn\n",
    "\n",
    "def mean_ap(outputs1, outputs2):\n",
    "    y_true = [1] * len(outputs1) + [0] * len(outputs2)\n",
    "    y_score = np.concatenate([outputs1, outputs2])\n",
    "    return sklearn.metrics.average_precision_score(y_true, y_score)\n",
    "\n",
    "mean_ap(outputs_close, outputs_extra)"
   ]
  },
  {
   "cell_type": "code",
   "execution_count": 70,
   "metadata": {},
   "outputs": [
    {
     "data": {
      "text/plain": [
       "0.9999882176370101"
      ]
     },
     "execution_count": 70,
     "metadata": {},
     "output_type": "execute_result"
    }
   ],
   "source": [
    "mean_ap(outputs_close, outputs_nopunz)"
   ]
  },
  {
   "cell_type": "code",
   "execution_count": 54,
   "metadata": {},
   "outputs": [
    {
     "data": {
      "image/png": "[encoded data removed]",
      "text/plain": [
       "<Figure size 432x288 with 1 Axes>"
      ]
     },
     "metadata": {
      "needs_background": "light"
     },
     "output_type": "display_data"
    }
   ],
   "source": [
    "plt.hist(outputs_extra, label=\"punzoni extra\", density=True, alpha=0.5)\n",
    "plt.hist(outputs_close, label=\"punzoni closeset\", density=True, alpha=0.5)\n",
    "plt.legend(loc='upper right')\n",
    "plt.title('Overlapping')\n",
    "plt.show()"
   ]
  },
  {
   "cell_type": "code",
   "execution_count": 55,
   "metadata": {},
   "outputs": [
    {
     "data": {
      "image/png": "[encoded data removed]",
      "text/plain": [
       "<Figure size 432x288 with 1 Axes>"
      ]
     },
     "metadata": {
      "needs_background": "light"
     },
     "output_type": "display_data"
    }
   ],
   "source": [
    "plt.hist(outputs_nopunz, label=\"no punzoni\", density=True, alpha=0.5)\n",
    "plt.hist(outputs_close, label=\"punzoni closeset\", density=True, alpha=0.5)\n",
    "plt.legend(loc='upper right')\n",
    "plt.title('Overlapping')\n",
    "plt.show()"
   ]
  },
  {
   "cell_type": "code",
   "execution_count": 56,
   "metadata": {},
   "outputs": [
    {
     "data": {
      "image/png": "[encoded data removed]",
      "text/plain": [
       "<Figure size 432x288 with 1 Axes>"
      ]
     },
     "metadata": {
      "needs_background": "light"
     },
     "output_type": "display_data"
    }
   ],
   "source": [
    "plt.hist(outputs_open, label=\"img casuali\", density=True, alpha=0.5)\n",
    "plt.hist(outputs_close, label=\"punzoni closeset\", density=True, alpha=0.5)\n",
    "plt.legend(loc='upper right')\n",
    "plt.title('Overlapping')\n",
    "plt.show()"
   ]
  },
  {
   "cell_type": "code",
   "execution_count": 65,
   "metadata": {},
   "outputs": [
    {
     "data": {
      "image/png": "[encoded data removed]",
      "text/plain": [
       "<Figure size 432x288 with 1 Axes>"
      ]
     },
     "metadata": {
      "needs_background": "light"
     },
     "output_type": "display_data"
    }
   ],
   "source": [
    "plt.hist(output_composti, label=\"punzoni composti\", density=True, alpha=0.5)\n",
    "plt.hist(outputs_close, label=\"punzoni closeset\", density=True, alpha=0.5)\n",
    "plt.legend(loc='upper right')\n",
    "plt.title('Overlapping')\n",
    "plt.show()"
   ]
  }
 ],
 "metadata": {
  "kernelspec": {
   "display_name": "Python 3.10.4 ('giovanni')",
   "language": "python",
   "name": "python3"
  },
  "language_info": {
   "codemirror_mode": {
    "name": "ipython",
    "version": 3
   },
   "file_extension": ".py",
   "mimetype": "text/x-python",
   "name": "python",
   "nbconvert_exporter": "python",
   "pygments_lexer": "ipython3",
   "version": "3.10.4"
  },
  "vscode": {
   "interpreter": {
    "hash": "ee65a9bd9b244ab144c7288d6cb3046655f4298486ef114fafae143a4f9bde35"
   }
  }
 },
 "nbformat": 4,
 "nbformat_minor": 2
}
