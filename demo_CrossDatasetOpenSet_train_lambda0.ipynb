{
 "cells": [
  {
   "cell_type": "markdown",
   "metadata": {},
   "source": [
    "OpenGAN: Open-Set Recognition via Open Data Generation\n",
    "================\n",
    "**Supplemental Material for ICCV2021 Submission**\n",
    "\n",
    "\n",
    "In this notebook, we demonstrate how we train the GAN-fea model on the TinyImageNet train-set, providing the closed-set images."
   ]
  },
  {
   "cell_type": "markdown",
   "metadata": {},
   "source": [
    "import packages\n",
    "------------------\n",
    "\n",
    "Some packages are installed automatically through Anaconda. PyTorch should be also installed."
   ]
  },
  {
   "cell_type": "code",
   "execution_count": 10,
   "metadata": {},
   "outputs": [
    {
     "name": "stdout",
     "output_type": "stream",
     "text": [
      "3.10.4 (main, Mar 31 2022, 08:41:55) [GCC 7.5.0]\n",
      "1.11.0\n",
      "Random Seed:  999\n"
     ]
    },
    {
     "data": {
      "text/plain": [
       "<torch._C.Generator at 0x7ff5a27240d0>"
      ]
     },
     "execution_count": 10,
     "metadata": {},
     "output_type": "execute_result"
    }
   ],
   "source": [
    "from __future__ import print_function, division\n",
    "import os, random, time, copy\n",
    "from skimage import io, transform\n",
    "import numpy as np\n",
    "import pandas as pd\n",
    "import os.path as path\n",
    "import scipy.io as sio\n",
    "from scipy import misc\n",
    "from scipy import ndimage, signal\n",
    "import scipy\n",
    "import pickle\n",
    "import sys\n",
    "import math\n",
    "import matplotlib.pyplot as plt\n",
    "import PIL.Image\n",
    "from io import BytesIO\n",
    "\n",
    "\n",
    "import torch\n",
    "from torch.utils.data import Dataset, DataLoader\n",
    "import torch.nn as nn\n",
    "import torch.optim as optim\n",
    "from torch.optim import lr_scheduler \n",
    "import torch.nn.functional as F\n",
    "from torch.autograd import Variable\n",
    "import torchvision\n",
    "from torchvision import datasets, models, transforms\n",
    "import torchvision.utils as vutils\n",
    "from torchvision import transforms as T\n",
    "\n",
    "from typing import Collection\n",
    "\n",
    "from utils.eval_funcs import *\n",
    "from utils.dataset_tinyimagenet import *\n",
    "\n",
    "import warnings # ignore warnings\n",
    "warnings.filterwarnings(\"ignore\")\n",
    "print(sys.version)\n",
    "print(torch.__version__)\n",
    "\n",
    "\n",
    "manualSeed = 999\n",
    "print(\"Random Seed: \", manualSeed)\n",
    "random.seed(manualSeed)\n",
    "torch.manual_seed(manualSeed)"
   ]
  },
  {
   "cell_type": "markdown",
   "metadata": {},
   "source": [
    "Setup config parameters\n",
    " -----------------\n",
    " \n",
    " There are several things to setup, like which GPU to use, where to read images and save files, etc. Please read and understand this. By default, you should be able to run this script smoothly by changing nothing."
   ]
  },
  {
   "cell_type": "code",
   "execution_count": 2,
   "metadata": {
    "scrolled": true
   },
   "outputs": [
    {
     "name": "stdout",
     "output_type": "stream",
     "text": [
      "./exp/OpenGANFullPunzoni\n"
     ]
    }
   ],
   "source": [
    "# set the random seed\n",
    "torch.manual_seed(0)\n",
    "\n",
    "################## set attributes for this project/experiment ##################\n",
    "# config result folder\n",
    "exp_dir = './exp' # experiment directory, used for reading the init model\n",
    "\n",
    "modelFlag = 'Punzoni'\n",
    "\n",
    "project_name = 'OpenGANFull' + modelFlag   # we save all the checkpoints in this directory\n",
    "\n",
    "# set device, which gpu to use.\n",
    "device ='cpu'\n",
    "if torch.cuda.is_available(): \n",
    "    device='cuda:0'\n",
    "\n",
    "\n",
    "total_epoch_num = 500 # total number of epoch in training\n",
    "batch_size = 128    \n",
    "\n",
    "newsize = (64, 64)\n",
    "\n",
    "\n",
    "path_to_feats = './feats' # the path to cached off-the-shelf features\n",
    "pklName = path.join(path_to_feats, modelFlag.lower()+'.pkl')\n",
    "\n",
    "\n",
    "\n",
    "# For GAN-fea, we set the hyper-parameters as below.\n",
    "\n",
    "# Number of channels in the training images. For color images this is 3\n",
    "nc = 512\n",
    "\n",
    "# Size of z latent vector (i.e. size of generator input)\n",
    "nz = 100\n",
    "\n",
    "# Size of feature maps in generator\n",
    "ngf = 64\n",
    "\n",
    "# Size of feature maps in discriminator\n",
    "ndf = 64\n",
    "\n",
    "# Beta1 hyperparam for Adam optimizers\n",
    "beta1 = 0.5\n",
    "\n",
    "# Number of GPUs available. Use 0 for CPU mode.\n",
    "ngpu = 1\n",
    "\n",
    "\n",
    "\n",
    "# TinyImageNet has 200 classes.\n",
    "nClassTotal = 200\n",
    "nClassCloseset = nClassTotal\n",
    "\n",
    "#project_name += '_K{}run{}'.format(nClassCloseset, runIdx)\n",
    "if not os.path.exists(exp_dir): os.makedirs(exp_dir)\n",
    "\n",
    "\n",
    "num_epochs = total_epoch_num\n",
    "torch.cuda.device_count()\n",
    "torch.cuda.empty_cache()\n",
    "\n",
    "save_dir = os.path.join(exp_dir, project_name)\n",
    "print(save_dir)    \n",
    "if not os.path.exists(save_dir): os.makedirs(save_dir)\n",
    "\n",
    "log_filename = os.path.join(save_dir, 'train.log')"
   ]
  },
  {
   "cell_type": "markdown",
   "metadata": {},
   "source": [
    "Define model architecture\n",
    "---------\n",
    "\n",
    "Here is the definition of the model architectures for generator and discriminator. Both are multi-layer perceptron (MLP) networks."
   ]
  },
  {
   "cell_type": "code",
   "execution_count": 3,
   "metadata": {},
   "outputs": [],
   "source": [
    "def weights_init(m):\n",
    "    classname = m.__class__.__name__\n",
    "    if classname.find('Conv') != -1:\n",
    "        nn.init.normal_(m.weight.data, 0.0, 0.02)\n",
    "    elif classname.find('BatchNorm') != -1:\n",
    "        nn.init.normal_(m.weight.data, 1.0, 0.02)\n",
    "        nn.init.constant_(m.bias.data, 0)     \n",
    "        \n",
    "\n",
    "class Generator(nn.Module):\n",
    "    def __init__(self, ngpu=1, nz=100, ngf=64, nc=512):\n",
    "        super(Generator, self).__init__()\n",
    "        self.ngpu = ngpu\n",
    "        self.nz = nz\n",
    "        self.ngf = ngf\n",
    "        self.nc = nc\n",
    "        \n",
    "        self.main = nn.Sequential(\n",
    "            # input is Z, going into a convolution\n",
    "            # Conv2d(in_channels, out_channels, kernel_size, stride=1, padding=0, dilation=1, groups=1, bias=True, padding_mode='zeros')\n",
    "            nn.Conv2d( self.nz, self.ngf * 8, 1, 1, 0, bias=False),\n",
    "            nn.BatchNorm2d(self.ngf * 8),\n",
    "            nn.ReLU(True),\n",
    "            # state size. (self.ngf*8) x 4 x 4\n",
    "            nn.Conv2d(self.ngf * 8, self.ngf * 4, 1, 1, 0, bias=False),\n",
    "            nn.BatchNorm2d(self.ngf * 4),\n",
    "            nn.ReLU(True),\n",
    "            # state size. (self.ngf*4) x 8 x 8\n",
    "            nn.Conv2d( self.ngf * 4, self.ngf * 2, 1, 1, 0, bias=False),\n",
    "            nn.BatchNorm2d(self.ngf * 2),\n",
    "            nn.ReLU(True),\n",
    "            # state size. (self.ngf*2) x 16 x 16\n",
    "            nn.Conv2d( self.ngf * 2, self.ngf*4, 1, 1, 0, bias=False),\n",
    "            nn.BatchNorm2d(self.ngf*4),\n",
    "            nn.ReLU(True),\n",
    "            # state size. (self.ngf) x 32 x 32\n",
    "            nn.Conv2d( self.ngf*4, self.nc, 1, 1, 0, bias=True),\n",
    "            #nn.Tanh()\n",
    "            # state size. (self.nc) x 64 x 64\n",
    "        )\n",
    "\n",
    "    def forward(self, input):\n",
    "        return self.main(input)\n",
    "\n",
    "    \n",
    "class Discriminator(nn.Module):\n",
    "    def __init__(self, ngpu=1, nc=512, ndf=64):\n",
    "        super(Discriminator, self).__init__()\n",
    "        self.ngpu = ngpu\n",
    "        self.nc = nc\n",
    "        self.ndf = ndf\n",
    "        self.main = nn.Sequential(\n",
    "            nn.Conv2d(self.nc, self.ndf*8, 1, 1, 0, bias=False),\n",
    "            nn.LeakyReLU(0.2, inplace=True),\n",
    "            nn.Conv2d(self.ndf*8, self.ndf*4, 1, 1, 0, bias=False),\n",
    "            nn.BatchNorm2d(self.ndf*4),\n",
    "            nn.LeakyReLU(0.2, inplace=True),\n",
    "            nn.Conv2d(self.ndf*4, self.ndf*2, 1, 1, 0, bias=False),\n",
    "            nn.BatchNorm2d(self.ndf*2),\n",
    "            nn.LeakyReLU(0.2, inplace=True),\n",
    "            nn.Conv2d(self.ndf*2, self.ndf, 1, 1, 0, bias=False),\n",
    "            nn.BatchNorm2d(self.ndf),\n",
    "            nn.LeakyReLU(0.2, inplace=True),\n",
    "            nn.Conv2d(self.ndf, 1, 1, 1, 0, bias=False),\n",
    "            nn.Sigmoid()\n",
    "        )\n",
    "\n",
    "    def forward(self, input):\n",
    "        return self.main(input)\n",
    "\n",
    "class DiscriminatorFunnel(nn.Module):\n",
    "    def __init__(self, ngpu=1, nc=512, ndf=64):\n",
    "        super(DiscriminatorFunnel, self).__init__()\n",
    "        self.ngpu = ngpu\n",
    "        self.nc = nc\n",
    "        self.ndf = ndf\n",
    "        self.main = nn.Sequential(\n",
    "            nn.Conv2d(self.nc, self.ndf*8, 3, 1, 0, bias=False),\n",
    "            nn.LeakyReLU(0.2, inplace=True),\n",
    "            nn.Conv2d(self.ndf*8, self.ndf*4, 3, 1, 0, bias=False),\n",
    "            nn.BatchNorm2d(self.ndf*4),\n",
    "            nn.LeakyReLU(0.2, inplace=True),\n",
    "            nn.Conv2d(self.ndf*4, self.ndf*2, 3, 1, 0, bias=False),\n",
    "            nn.BatchNorm2d(self.ndf*2),\n",
    "            nn.LeakyReLU(0.2, inplace=True),\n",
    "            nn.Conv2d(self.ndf*2, self.ndf, 2, 1, 0, bias=False),\n",
    "            nn.BatchNorm2d(self.ndf),\n",
    "            nn.LeakyReLU(0.2, inplace=True),\n",
    "            nn.Conv2d(self.ndf, 1, 1, 1, 0, bias=False),\n",
    "            nn.Sigmoid()\n",
    "        )\n",
    "\n",
    "    def forward(self, input):\n",
    "        return self.main(input)"
   ]
  },
  {
   "cell_type": "markdown",
   "metadata": {},
   "source": [
    "## initialize the networks"
   ]
  },
  {
   "cell_type": "code",
   "execution_count": 4,
   "metadata": {},
   "outputs": [
    {
     "name": "stdout",
     "output_type": "stream",
     "text": [
      "cuda:0\n"
     ]
    }
   ],
   "source": [
    "netG = Generator(ngpu=ngpu, nz=nz, ngf=ngf, nc=nc).to(device)\n",
    "netD = DiscriminatorFunnel(ngpu=ngpu, nc=nc, ndf=ndf).to(device)\n",
    "\n",
    "# Handle multi-gpu if desired\n",
    "if ('cuda' in device) and (ngpu > 1):\n",
    "    netD = nn.DataParallel(netD, list(range(ngpu)))\n",
    "\n",
    "    # Apply the weights_init function to randomly initialize all weights\n",
    "#  to mean=0, stdev=0.2.\n",
    "netD.apply(weights_init)\n",
    "\n",
    "\n",
    "if ('cuda' in device) and (ngpu > 1):\n",
    "    netG = nn.DataParallel(netG, list(range(ngpu)))\n",
    "netG.apply(weights_init)\n",
    "\n",
    "print(device)"
   ]
  },
  {
   "cell_type": "markdown",
   "metadata": {},
   "source": [
    "## Sanity Check"
   ]
  },
  {
   "cell_type": "code",
   "execution_count": 48,
   "metadata": {},
   "outputs": [
    {
     "name": "stdout",
     "output_type": "stream",
     "text": [
      "torch.Size([128, 100, 8, 8]) torch.Size([128, 512, 8, 8]) torch.Size([128, 1, 1, 1])\n"
     ]
    }
   ],
   "source": [
    "noise = torch.randn(batch_size, nz, 8, 8, device=device)\n",
    "# Generate fake image batch with G\n",
    "fake = netG(noise)\n",
    "predLabel = netD(fake)\n",
    "\n",
    "print(noise.shape, fake.shape, predLabel.shape)"
   ]
  },
  {
   "cell_type": "markdown",
   "metadata": {},
   "source": [
    "## Dataset setup\n",
    "\n",
    "Load the pretrained network"
   ]
  },
  {
   "cell_type": "code",
   "execution_count": 8,
   "metadata": {},
   "outputs": [],
   "source": [
    "from turtle import back\n",
    "\n",
    "\n",
    "def load_pretrained_backbone(network_backbone, weights_location, device=\"cuda:0\", final_layer_weights:str=\"fc.weight\"):\n",
    "    '''\n",
    "    Load and instantiate a pretrained backbone from a given file containing a state_dict\n",
    "\n",
    "    Parameters:\n",
    "    -----------\n",
    "    network_backbone: a non-instantiated torch.nn.Module, the backbone for obtaining the features\n",
    "    weights_location: str, the location of the weights file\n",
    "    device: str, the device to load the weights to\n",
    "    final_layer_weights: str, the name of the final layer weights to load, used to set the number of classes of the final network\n",
    "    \n",
    "    Returns:\n",
    "    -----------\n",
    "    a nn.Module, the instantiated backbone on the given device with the pretrained weights\n",
    "    '''\n",
    "    backbone_weights = torch.load(weights_location)\n",
    "    backbone = network_backbone(num_classes=backbone_weights[final_layer_weights].shape[0])\n",
    "    backbone.load_state_dict(backbone_weights)\n",
    "    return backbone.to(device)"
   ]
  },
  {
   "cell_type": "code",
   "execution_count": 9,
   "metadata": {},
   "outputs": [],
   "source": [
    "backbone = load_pretrained_backbone(models.resnet18, \"../CV_thesis_GiovanniPinna/models/resnet18_no_aug.pt_resnet18_0.pt\")"
   ]
  },
  {
   "cell_type": "code",
   "execution_count": 5,
   "metadata": {},
   "outputs": [],
   "source": [
    "# backbone_weights = torch.load(\"../CV_thesis_GiovanniPinna/models/resnet18_no_aug.pt_resnet18_0.pt\")\n",
    "# backbone_weights.keys()\n",
    "# backbone_weights[\"fc.weight\"].shape\n",
    "\n",
    "# backbone = torchvision.models.resnet18(num_classes=backbone_weights[\"fc.weight\"].shape[0])\n",
    "# backbone.load_state_dict(backbone_weights)\n",
    "# backbone = backbone.cuda()\n"
   ]
  },
  {
   "cell_type": "markdown",
   "metadata": {},
   "source": [
    "Add a forward hook for storing intermediate representations"
   ]
  },
  {
   "cell_type": "code",
   "execution_count": 11,
   "metadata": {},
   "outputs": [],
   "source": [
    "def network_add_hook_for_features(network:torch.nn.Module, module_name:str, structure_for_features:list):\n",
    "    '''\n",
    "    Add a hook to a given module in a network to obtain the features of a given structure\n",
    "\n",
    "    Parameters:\n",
    "    -----------\n",
    "    network: an instantiated torch.nn.Module, the network to add the hook to\n",
    "    module_name: str, the name of the module to add the hook to\n",
    "    structure_for_features: list, the structure which will store the features obtained from the forward pass\n",
    "    \n",
    "    Returns:\n",
    "    -----------\n",
    "    a handle to the hook, to remove in case of need\n",
    "    '''\n",
    "    def get_features(module, input_, output):\n",
    "        structure_for_features.append(output.cpu().detach())\n",
    "    return getattr(network, module_name).register_forward_hook(get_features)   "
   ]
  },
  {
   "cell_type": "code",
   "execution_count": 12,
   "metadata": {},
   "outputs": [],
   "source": [
    "features = []\n",
    "handle = network_add_hook_for_features(backbone, \"layer4\", features)"
   ]
  },
  {
   "cell_type": "code",
   "execution_count": 13,
   "metadata": {},
   "outputs": [
    {
     "data": {
      "text/plain": [
       "<torch.utils.hooks.RemovableHandle at 0x7ff5948205b0>"
      ]
     },
     "execution_count": 13,
     "metadata": {},
     "output_type": "execute_result"
    }
   ],
   "source": [
    "handle"
   ]
  },
  {
   "cell_type": "code",
   "execution_count": 6,
   "metadata": {},
   "outputs": [],
   "source": [
    "# features = []\n",
    "# def get_features(module, input_, output):\n",
    "#     features.append(output.cpu().detach())\n",
    "\n",
    "# handle = backbone.layer4.register_forward_hook(get_features)"
   ]
  },
  {
   "cell_type": "markdown",
   "metadata": {},
   "source": [
    "Load the dataset"
   ]
  },
  {
   "cell_type": "code",
   "execution_count": 31,
   "metadata": {},
   "outputs": [],
   "source": [
    "class BasicDataset(Dataset):\n",
    "    '''\n",
    "    A simple dataset wrapping a container of images without labels.\n",
    "    '''\n",
    "    def __init__(self, data, transform=None):\n",
    "        '''\n",
    "        Parameters:\n",
    "        -----------\n",
    "        data: a generic container of tensors\n",
    "        transform: a pipeline of transformations to apply to the data\n",
    "        '''\n",
    "        self.data = data\n",
    "        self.current_set_len = data.shape[0]\n",
    "        self.transform = transform\n",
    "        \n",
    "    def __len__(self):        \n",
    "        return self.current_set_len\n",
    "    \n",
    "    def __getitem__(self, idx):\n",
    "        curdata = self.data[idx]\n",
    "        if self.transform is not None:\n",
    "            return transform(curdata)\n",
    "        return curdata"
   ]
  },
  {
   "cell_type": "code",
   "execution_count": 14,
   "metadata": {},
   "outputs": [],
   "source": [
    "import sys\n",
    "sys.path.append(\"../CV_thesis_GiovanniPinna/\")\n",
    "from data import get_dataloaders\n",
    "\n",
    "transform = T.Compose([\n",
    "        T.Resize((256, 256)),\n",
    "        T.ToTensor(),\n",
    "        T.Normalize(mean=(0.5, 0.5, 0.5), std=(0.5, 0.5, 0.5))\n",
    "    ])\n",
    "\n",
    "batch_size_eval = 64\n",
    "\n",
    "root_data = \"../CV_thesis_GiovanniPinna/ImageSet\"\n",
    "\n",
    "trainloader, testloader = get_dataloaders(root_data + \"/train_new\", root_data + \"/test_new\", transform, transform, batch_size_eval, batch_size_eval)"
   ]
  },
  {
   "cell_type": "code",
   "execution_count": 25,
   "metadata": {},
   "outputs": [],
   "source": [
    "root_data_open = (\"../CV_thesis_GiovanniPinna/ImageSet/extra/Punch_360/\", \n",
    "                  \"../CV_thesis_GiovanniPinna/ImageSet/extra/Punch_652/\",\n",
    "                  \"../CV_thesis_GiovanniPinna/ImageSet/extra/Punch_680/\",\n",
    "                  \"../CV_thesis_GiovanniPinna/ImageSet/No_punzoni/\")\n",
    "\n",
    "data_extra = [transform(Image.open(os.path.join(folder, img))) for folder in root_data_open for img in os.listdir(folder)]\n",
    "dataset_extra = torch.utils.data.TensorDataset(torch.stack(data_extra))"
   ]
  },
  {
   "cell_type": "code",
   "execution_count": 30,
   "metadata": {},
   "outputs": [
    {
     "data": {
      "text/plain": [
       "torch.Size([3, 256, 256])"
      ]
     },
     "execution_count": 30,
     "metadata": {},
     "output_type": "execute_result"
    }
   ],
   "source": [
    "dataset_extra[0][0].shape"
   ]
  },
  {
   "cell_type": "markdown",
   "metadata": {},
   "source": [
    "get hidden features (scroll down to get pretrained ones)"
   ]
  },
  {
   "cell_type": "code",
   "execution_count": 6,
   "metadata": {},
   "outputs": [
    {
     "name": "stdout",
     "output_type": "stream",
     "text": [
      "Done 0\n",
      "Done 1\n",
      "Done 2\n",
      "Done 3\n",
      "Done 4\n",
      "Done 5\n",
      "Done 6\n",
      "Done 7\n",
      "Done 8\n",
      "Done 9\n",
      "Done 10\n",
      "Done 11\n",
      "Done 12\n",
      "Done 13\n",
      "Done 14\n",
      "Done 15\n",
      "Done 16\n",
      "Done 17\n",
      "Done 18\n",
      "Done 19\n",
      "Done 20\n",
      "Done 21\n",
      "Done 22\n",
      "Done 23\n",
      "Done 24\n",
      "Done 25\n",
      "Done 26\n",
      "Done 27\n",
      "Done 28\n",
      "Done 29\n",
      "Done 30\n",
      "Done 31\n",
      "Done 32\n",
      "Done 33\n",
      "Done 34\n",
      "Done 35\n",
      "Done 36\n",
      "Done 37\n",
      "Done 38\n",
      "Done 39\n",
      "Done 40\n",
      "Done 41\n",
      "Done 42\n",
      "Done 43\n",
      "Done 44\n",
      "Done 45\n",
      "Done 46\n",
      "Done 47\n"
     ]
    }
   ],
   "source": [
    "for i, (data, _) in enumerate(trainloader):\n",
    "    print(f\"Done {i+1}/{len(trainloader)}\")\n",
    "    _ = backbone(data.cuda())"
   ]
  },
  {
   "cell_type": "code",
   "execution_count": 10,
   "metadata": {},
   "outputs": [],
   "source": [
    "# save\n",
    "features = torch.cat(features, dim=0)\n",
    "torch.save(features, \"punzoni_resnet18_features.pt\")"
   ]
  },
  {
   "cell_type": "markdown",
   "metadata": {},
   "source": [
    "### Load the preevaluated features"
   ]
  },
  {
   "cell_type": "code",
   "execution_count": 7,
   "metadata": {},
   "outputs": [],
   "source": [
    "features = torch.load(\"punzoni_resnet18_features.pt\")"
   ]
  },
  {
   "cell_type": "markdown",
   "metadata": {},
   "source": [
    "## a helper function to read cached off-the-shelf features per closed images"
   ]
  },
  {
   "cell_type": "code",
   "execution_count": 8,
   "metadata": {},
   "outputs": [],
   "source": [
    "class FeatDataset(Dataset):\n",
    "    def __init__(self, data):\n",
    "        self.data = data\n",
    "        self.current_set_len = data.shape[0]        \n",
    "        \n",
    "    def __len__(self):        \n",
    "        return self.current_set_len\n",
    "    \n",
    "    def __getitem__(self, idx):\n",
    "        curdata = self.data[idx]        \n",
    "        return curdata"
   ]
  },
  {
   "cell_type": "code",
   "execution_count": 9,
   "metadata": {},
   "outputs": [],
   "source": [
    "trainset_closeset = FeatDataset(data=features)\n",
    "dataloader = DataLoader(trainset_closeset, batch_size=batch_size, shuffle=True, num_workers=1)"
   ]
  },
  {
   "cell_type": "code",
   "execution_count": 10,
   "metadata": {},
   "outputs": [
    {
     "name": "stdout",
     "output_type": "stream",
     "text": [
      "torch.Size([128, 512, 8, 8])\n"
     ]
    }
   ],
   "source": [
    "data_sampler = iter(dataloader)\n",
    "feaList = next(data_sampler)\n",
    "print(feaList.shape)"
   ]
  },
  {
   "cell_type": "markdown",
   "metadata": {},
   "source": [
    "setup training\n",
    "-----------"
   ]
  },
  {
   "cell_type": "code",
   "execution_count": 49,
   "metadata": {},
   "outputs": [
    {
     "data": {
      "text/plain": [
       "'cuda:0'"
      ]
     },
     "execution_count": 49,
     "metadata": {},
     "output_type": "execute_result"
    }
   ],
   "source": [
    "device"
   ]
  },
  {
   "cell_type": "code",
   "execution_count": 110,
   "metadata": {},
   "outputs": [],
   "source": [
    "# Initialize BCELoss function\n",
    "criterion = nn.BCELoss()\n",
    "\n",
    "# Create batch of latent vectors that we will use to visualize\n",
    "#  the progression of the generator\n",
    "fixed_noise = torch.randn(64, nz, 1, 1, device=device)\n",
    "\n",
    "# Establish convention for real and fake labels during training\n",
    "real_label = 1\n",
    "fake_label = 0\n",
    "\n",
    "lr = 0.0001\n",
    "\n",
    "# Setup Adam optimizers for both G and D\n",
    "optimizerD = optim.Adam(netD.parameters(), lr=lr/5, betas=(beta1, 0.999))\n",
    "optimizerG = optim.Adam(netG.parameters(), lr=lr, betas=(beta1, 0.999))"
   ]
  },
  {
   "cell_type": "code",
   "execution_count": 114,
   "metadata": {},
   "outputs": [
    {
     "name": "stdout",
     "output_type": "stream",
     "text": [
      "Starting Training Loop...\n",
      "[0/300][0/24]\tLoss_D: 0.9325\tLoss_G: 2.6610\tD(x): 0.6516\tD(G(z)): 0.2548 / 0.0705\n",
      "[1/300][0/24]\tLoss_D: 0.5594\tLoss_G: 3.0212\tD(x): 0.9251\tD(G(z)): 0.0768 / 0.0497\n",
      "[2/300][0/24]\tLoss_D: 0.5454\tLoss_G: 2.8674\tD(x): 0.9188\tD(G(z)): 0.0999 / 0.0603\n",
      "[3/300][0/24]\tLoss_D: 0.5400\tLoss_G: 2.7946\tD(x): 0.9170\tD(G(z)): 0.0744 / 0.0624\n",
      "[4/300][0/24]\tLoss_D: 0.5337\tLoss_G: 2.7296\tD(x): 0.9001\tD(G(z)): 0.0406 / 0.0661\n",
      "[5/300][0/24]\tLoss_D: 0.5518\tLoss_G: 2.6054\tD(x): 0.9205\tD(G(z)): 0.0959 / 0.0747\n",
      "[6/300][0/24]\tLoss_D: 0.5615\tLoss_G: 2.7225\tD(x): 0.9221\tD(G(z)): 0.0967 / 0.0670\n",
      "[7/300][0/24]\tLoss_D: 0.5552\tLoss_G: 2.6145\tD(x): 0.9138\tD(G(z)): 0.0708 / 0.0745\n",
      "[8/300][0/24]\tLoss_D: 0.5418\tLoss_G: 2.5773\tD(x): 0.9227\tD(G(z)): 0.0734 / 0.0774\n",
      "[9/300][0/24]\tLoss_D: 0.5235\tLoss_G: 2.7614\tD(x): 0.9259\tD(G(z)): 0.0849 / 0.0647\n",
      "[10/300][0/24]\tLoss_D: 0.5377\tLoss_G: 2.8338\tD(x): 0.9279\tD(G(z)): 0.0914 / 0.0603\n",
      "[11/300][0/24]\tLoss_D: 0.5442\tLoss_G: 2.6391\tD(x): 0.9200\tD(G(z)): 0.0677 / 0.0733\n",
      "[12/300][0/24]\tLoss_D: 0.5561\tLoss_G: 2.6518\tD(x): 0.9195\tD(G(z)): 0.0872 / 0.0719\n",
      "[13/300][0/24]\tLoss_D: 0.5470\tLoss_G: 2.7577\tD(x): 0.9298\tD(G(z)): 0.0698 / 0.0647\n",
      "[14/300][0/24]\tLoss_D: 0.5182\tLoss_G: 2.7407\tD(x): 0.9316\tD(G(z)): 0.0805 / 0.0656\n",
      "[15/300][0/24]\tLoss_D: 0.5409\tLoss_G: 2.8498\tD(x): 0.9306\tD(G(z)): 0.0946 / 0.0587\n",
      "[16/300][0/24]\tLoss_D: 0.5226\tLoss_G: 2.8624\tD(x): 0.9228\tD(G(z)): 0.0795 / 0.0578\n",
      "[17/300][0/24]\tLoss_D: 0.5446\tLoss_G: 2.6880\tD(x): 0.9253\tD(G(z)): 0.0787 / 0.0689\n",
      "[18/300][0/24]\tLoss_D: 0.5219\tLoss_G: 2.7668\tD(x): 0.9154\tD(G(z)): 0.0780 / 0.0635\n",
      "[19/300][0/24]\tLoss_D: 0.5245\tLoss_G: 2.7527\tD(x): 0.9238\tD(G(z)): 0.0707 / 0.0643\n",
      "[20/300][0/24]\tLoss_D: 0.5188\tLoss_G: 2.8522\tD(x): 0.9164\tD(G(z)): 0.0651 / 0.0581\n",
      "[21/300][0/24]\tLoss_D: 0.5376\tLoss_G: 2.6262\tD(x): 0.9165\tD(G(z)): 0.0761 / 0.0726\n",
      "[22/300][0/24]\tLoss_D: 0.5451\tLoss_G: 2.5240\tD(x): 0.9255\tD(G(z)): 0.0747 / 0.0805\n",
      "[23/300][0/24]\tLoss_D: 0.5411\tLoss_G: 2.5303\tD(x): 0.9138\tD(G(z)): 0.0588 / 0.0798\n",
      "[24/300][0/24]\tLoss_D: 0.5441\tLoss_G: 2.5281\tD(x): 0.9188\tD(G(z)): 0.0498 / 0.0801\n",
      "[25/300][0/24]\tLoss_D: 0.5571\tLoss_G: 2.5579\tD(x): 0.9264\tD(G(z)): 0.0836 / 0.0776\n",
      "[26/300][0/24]\tLoss_D: 0.5080\tLoss_G: 2.8094\tD(x): 0.9275\tD(G(z)): 0.0827 / 0.0604\n",
      "[27/300][0/24]\tLoss_D: 0.5311\tLoss_G: 2.5629\tD(x): 0.9153\tD(G(z)): 0.0731 / 0.0773\n",
      "[28/300][0/24]\tLoss_D: 0.5428\tLoss_G: 2.6833\tD(x): 0.9198\tD(G(z)): 0.0656 / 0.0685\n",
      "[29/300][0/24]\tLoss_D: 0.5221\tLoss_G: 2.7140\tD(x): 0.9218\tD(G(z)): 0.0722 / 0.0665\n",
      "[30/300][0/24]\tLoss_D: 0.5228\tLoss_G: 2.8991\tD(x): 0.9169\tD(G(z)): 0.0798 / 0.0552\n",
      "[31/300][0/24]\tLoss_D: 0.5267\tLoss_G: 2.4046\tD(x): 0.9156\tD(G(z)): 0.0615 / 0.0905\n",
      "[32/300][0/24]\tLoss_D: 0.5623\tLoss_G: 2.6528\tD(x): 0.9152\tD(G(z)): 0.0595 / 0.0706\n",
      "[33/300][0/24]\tLoss_D: 0.5528\tLoss_G: 2.5367\tD(x): 0.9213\tD(G(z)): 0.0746 / 0.0792\n",
      "[34/300][0/24]\tLoss_D: 0.5262\tLoss_G: 2.6068\tD(x): 0.9251\tD(G(z)): 0.0679 / 0.0739\n",
      "[35/300][0/24]\tLoss_D: 0.5371\tLoss_G: 2.6916\tD(x): 0.9278\tD(G(z)): 0.0786 / 0.0679\n",
      "[36/300][0/24]\tLoss_D: 0.5159\tLoss_G: 2.6914\tD(x): 0.9125\tD(G(z)): 0.0629 / 0.0679\n",
      "[37/300][0/24]\tLoss_D: 0.5301\tLoss_G: 2.6460\tD(x): 0.9259\tD(G(z)): 0.0757 / 0.0710\n",
      "[38/300][0/24]\tLoss_D: 0.5271\tLoss_G: 2.6469\tD(x): 0.9303\tD(G(z)): 0.0732 / 0.0710\n",
      "[39/300][0/24]\tLoss_D: 0.5221\tLoss_G: 2.7117\tD(x): 0.9106\tD(G(z)): 0.0662 / 0.0665\n",
      "[40/300][0/24]\tLoss_D: 0.5398\tLoss_G: 2.5223\tD(x): 0.9289\tD(G(z)): 0.0728 / 0.0804\n",
      "[41/300][0/24]\tLoss_D: 0.5252\tLoss_G: 2.7104\tD(x): 0.9194\tD(G(z)): 0.0762 / 0.0667\n",
      "[42/300][0/24]\tLoss_D: 0.5242\tLoss_G: 2.7438\tD(x): 0.9198\tD(G(z)): 0.0724 / 0.0645\n",
      "[43/300][0/24]\tLoss_D: 0.5402\tLoss_G: 2.6213\tD(x): 0.9281\tD(G(z)): 0.0803 / 0.0729\n",
      "[44/300][0/24]\tLoss_D: 0.5039\tLoss_G: 2.7107\tD(x): 0.9265\tD(G(z)): 0.0724 / 0.0666\n",
      "[45/300][0/24]\tLoss_D: 0.5160\tLoss_G: 2.5478\tD(x): 0.9230\tD(G(z)): 0.0825 / 0.0784\n",
      "[46/300][0/24]\tLoss_D: 0.5174\tLoss_G: 2.5109\tD(x): 0.9139\tD(G(z)): 0.0788 / 0.0816\n",
      "[47/300][0/24]\tLoss_D: 0.5439\tLoss_G: 2.5847\tD(x): 0.9204\tD(G(z)): 0.0813 / 0.0756\n",
      "[48/300][0/24]\tLoss_D: 0.5110\tLoss_G: 2.7450\tD(x): 0.9299\tD(G(z)): 0.0881 / 0.0644\n",
      "[49/300][0/24]\tLoss_D: 0.5309\tLoss_G: 2.6686\tD(x): 0.9106\tD(G(z)): 0.0599 / 0.0695\n",
      "[50/300][0/24]\tLoss_D: 0.5005\tLoss_G: 2.8346\tD(x): 0.9240\tD(G(z)): 0.0685 / 0.0588\n",
      "[51/300][0/24]\tLoss_D: 0.5131\tLoss_G: 2.6663\tD(x): 0.9277\tD(G(z)): 0.0793 / 0.0696\n",
      "[52/300][0/24]\tLoss_D: 0.5386\tLoss_G: 2.6206\tD(x): 0.9215\tD(G(z)): 0.0753 / 0.0729\n",
      "[53/300][0/24]\tLoss_D: 0.5414\tLoss_G: 2.6900\tD(x): 0.9255\tD(G(z)): 0.0757 / 0.0680\n",
      "[54/300][0/24]\tLoss_D: 0.5594\tLoss_G: 2.4649\tD(x): 0.9206\tD(G(z)): 0.0667 / 0.0852\n",
      "[55/300][0/24]\tLoss_D: 0.5488\tLoss_G: 2.6495\tD(x): 0.9248\tD(G(z)): 0.0777 / 0.0708\n",
      "[56/300][0/24]\tLoss_D: 0.5345\tLoss_G: 2.5580\tD(x): 0.9131\tD(G(z)): 0.0773 / 0.0776\n",
      "[57/300][0/24]\tLoss_D: 0.5128\tLoss_G: 2.7211\tD(x): 0.9176\tD(G(z)): 0.0768 / 0.0659\n",
      "[58/300][0/24]\tLoss_D: 0.5339\tLoss_G: 2.6533\tD(x): 0.9244\tD(G(z)): 0.0647 / 0.0706\n",
      "[59/300][0/24]\tLoss_D: 0.5422\tLoss_G: 2.6138\tD(x): 0.9217\tD(G(z)): 0.0732 / 0.0734\n",
      "[60/300][0/24]\tLoss_D: 0.5369\tLoss_G: 2.5960\tD(x): 0.9323\tD(G(z)): 0.0883 / 0.0747\n",
      "[61/300][0/24]\tLoss_D: 0.5422\tLoss_G: 2.5690\tD(x): 0.9254\tD(G(z)): 0.0832 / 0.0767\n",
      "[62/300][0/24]\tLoss_D: 0.5523\tLoss_G: 2.7574\tD(x): 0.9187\tD(G(z)): 0.0468 / 0.0635\n",
      "[63/300][0/24]\tLoss_D: 0.5226\tLoss_G: 2.6968\tD(x): 0.9309\tD(G(z)): 0.0876 / 0.0675\n",
      "[64/300][0/24]\tLoss_D: 0.5342\tLoss_G: 2.5841\tD(x): 0.9249\tD(G(z)): 0.0929 / 0.0756\n",
      "[65/300][0/24]\tLoss_D: 0.5167\tLoss_G: 2.7694\tD(x): 0.9268\tD(G(z)): 0.0794 / 0.0628\n",
      "[66/300][0/24]\tLoss_D: 0.5430\tLoss_G: 2.4652\tD(x): 0.9257\tD(G(z)): 0.0770 / 0.0853\n",
      "[67/300][0/24]\tLoss_D: 0.5366\tLoss_G: 2.6140\tD(x): 0.9284\tD(G(z)): 0.0746 / 0.0733\n",
      "[68/300][0/24]\tLoss_D: 0.5318\tLoss_G: 2.5582\tD(x): 0.9265\tD(G(z)): 0.0699 / 0.0775\n",
      "[69/300][0/24]\tLoss_D: 0.5198\tLoss_G: 2.6007\tD(x): 0.9180\tD(G(z)): 0.0727 / 0.0743\n",
      "[70/300][0/24]\tLoss_D: 0.5287\tLoss_G: 2.5787\tD(x): 0.9191\tD(G(z)): 0.0732 / 0.0759\n",
      "[71/300][0/24]\tLoss_D: 0.5345\tLoss_G: 2.6384\tD(x): 0.9197\tD(G(z)): 0.0776 / 0.0715\n",
      "[72/300][0/24]\tLoss_D: 0.5349\tLoss_G: 2.6201\tD(x): 0.9289\tD(G(z)): 0.0864 / 0.0728\n",
      "[73/300][0/24]\tLoss_D: 0.5335\tLoss_G: 2.6626\tD(x): 0.9208\tD(G(z)): 0.0657 / 0.0698\n",
      "[74/300][0/24]\tLoss_D: 0.5556\tLoss_G: 2.7843\tD(x): 0.9311\tD(G(z)): 0.0844 / 0.0618\n",
      "[75/300][0/24]\tLoss_D: 0.5405\tLoss_G: 2.5899\tD(x): 0.9258\tD(G(z)): 0.0745 / 0.0751\n",
      "[76/300][0/24]\tLoss_D: 0.5308\tLoss_G: 2.6977\tD(x): 0.9338\tD(G(z)): 0.0684 / 0.0674\n",
      "[77/300][0/24]\tLoss_D: 0.5071\tLoss_G: 2.4118\tD(x): 0.9173\tD(G(z)): 0.0760 / 0.0898\n",
      "[78/300][0/24]\tLoss_D: 0.5337\tLoss_G: 2.5934\tD(x): 0.9240\tD(G(z)): 0.0699 / 0.0749\n",
      "[79/300][0/24]\tLoss_D: 0.5020\tLoss_G: 2.6491\tD(x): 0.9224\tD(G(z)): 0.0821 / 0.0708\n",
      "[80/300][0/24]\tLoss_D: 0.4871\tLoss_G: 2.8295\tD(x): 0.9237\tD(G(z)): 0.0645 / 0.0591\n",
      "[81/300][0/24]\tLoss_D: 0.5415\tLoss_G: 2.5825\tD(x): 0.9275\tD(G(z)): 0.0819 / 0.0757\n",
      "[82/300][0/24]\tLoss_D: 0.5525\tLoss_G: 2.6003\tD(x): 0.9173\tD(G(z)): 0.0663 / 0.0743\n",
      "[83/300][0/24]\tLoss_D: 0.5429\tLoss_G: 2.5614\tD(x): 0.9227\tD(G(z)): 0.0651 / 0.0772\n",
      "[84/300][0/24]\tLoss_D: 0.5605\tLoss_G: 2.6074\tD(x): 0.9270\tD(G(z)): 0.0674 / 0.0738\n",
      "[85/300][0/24]\tLoss_D: 0.5449\tLoss_G: 2.5672\tD(x): 0.9212\tD(G(z)): 0.0657 / 0.0768\n",
      "[86/300][0/24]\tLoss_D: 0.5309\tLoss_G: 2.6263\tD(x): 0.9230\tD(G(z)): 0.0760 / 0.0724\n",
      "[87/300][0/24]\tLoss_D: 0.5426\tLoss_G: 2.4584\tD(x): 0.9193\tD(G(z)): 0.0775 / 0.0856\n",
      "[88/300][0/24]\tLoss_D: 0.5232\tLoss_G: 2.5588\tD(x): 0.9270\tD(G(z)): 0.0860 / 0.0774\n",
      "[89/300][0/24]\tLoss_D: 0.5190\tLoss_G: 2.7014\tD(x): 0.9189\tD(G(z)): 0.0725 / 0.0671\n",
      "[90/300][0/24]\tLoss_D: 0.5529\tLoss_G: 2.4952\tD(x): 0.9326\tD(G(z)): 0.0864 / 0.0825\n",
      "[91/300][0/24]\tLoss_D: 0.5407\tLoss_G: 2.5904\tD(x): 0.9241\tD(G(z)): 0.0716 / 0.0750\n",
      "[92/300][0/24]\tLoss_D: 0.5152\tLoss_G: 2.7160\tD(x): 0.9118\tD(G(z)): 0.0661 / 0.0662\n",
      "[93/300][0/24]\tLoss_D: 0.5465\tLoss_G: 2.6110\tD(x): 0.9211\tD(G(z)): 0.0687 / 0.0735\n",
      "[94/300][0/24]\tLoss_D: 0.5451\tLoss_G: 2.6028\tD(x): 0.9305\tD(G(z)): 0.0741 / 0.0741\n",
      "[95/300][0/24]\tLoss_D: 0.5196\tLoss_G: 2.7733\tD(x): 0.9264\tD(G(z)): 0.0793 / 0.0625\n",
      "[96/300][0/24]\tLoss_D: 0.5136\tLoss_G: 2.6888\tD(x): 0.9261\tD(G(z)): 0.0728 / 0.0680\n",
      "[97/300][0/24]\tLoss_D: 0.5269\tLoss_G: 2.7046\tD(x): 0.9249\tD(G(z)): 0.0715 / 0.0669\n",
      "[98/300][0/24]\tLoss_D: 0.5595\tLoss_G: 2.5524\tD(x): 0.9231\tD(G(z)): 0.0784 / 0.0779\n",
      "[99/300][0/24]\tLoss_D: 0.5415\tLoss_G: 2.5560\tD(x): 0.9234\tD(G(z)): 0.0726 / 0.0776\n",
      "[100/300][0/24]\tLoss_D: 0.5215\tLoss_G: 2.6853\tD(x): 0.9253\tD(G(z)): 0.0788 / 0.0682\n",
      "[101/300][0/24]\tLoss_D: 0.5409\tLoss_G: 2.5788\tD(x): 0.9211\tD(G(z)): 0.0687 / 0.0759\n",
      "[102/300][0/24]\tLoss_D: 0.5187\tLoss_G: 2.7151\tD(x): 0.9303\tD(G(z)): 0.0715 / 0.0662\n",
      "[103/300][0/24]\tLoss_D: 0.5496\tLoss_G: 2.3795\tD(x): 0.9225\tD(G(z)): 0.0848 / 0.0926\n",
      "[104/300][0/24]\tLoss_D: 0.5073\tLoss_G: 2.6772\tD(x): 0.9280\tD(G(z)): 0.0716 / 0.0688\n",
      "[105/300][0/24]\tLoss_D: 0.5654\tLoss_G: 2.6267\tD(x): 0.9247\tD(G(z)): 0.0717 / 0.0723\n",
      "[106/300][0/24]\tLoss_D: 0.5161\tLoss_G: 2.6102\tD(x): 0.9213\tD(G(z)): 0.0721 / 0.0735\n",
      "[107/300][0/24]\tLoss_D: 0.5287\tLoss_G: 2.6260\tD(x): 0.9125\tD(G(z)): 0.0744 / 0.0724\n",
      "[108/300][0/24]\tLoss_D: 0.5541\tLoss_G: 2.5909\tD(x): 0.9242\tD(G(z)): 0.0729 / 0.0750\n",
      "[109/300][0/24]\tLoss_D: 0.5254\tLoss_G: 2.6788\tD(x): 0.9270\tD(G(z)): 0.0729 / 0.0686\n",
      "[110/300][0/24]\tLoss_D: 0.5309\tLoss_G: 2.5639\tD(x): 0.9222\tD(G(z)): 0.0762 / 0.0770\n",
      "[111/300][0/24]\tLoss_D: 0.5288\tLoss_G: 2.6859\tD(x): 0.9186\tD(G(z)): 0.0676 / 0.0682\n",
      "[112/300][0/24]\tLoss_D: 0.5398\tLoss_G: 2.7208\tD(x): 0.9162\tD(G(z)): 0.0616 / 0.0658\n",
      "[113/300][0/24]\tLoss_D: 0.5382\tLoss_G: 2.5974\tD(x): 0.9217\tD(G(z)): 0.0800 / 0.0745\n",
      "[114/300][0/24]\tLoss_D: 0.5478\tLoss_G: 2.4603\tD(x): 0.9264\tD(G(z)): 0.0800 / 0.0854\n",
      "[115/300][0/24]\tLoss_D: 0.5205\tLoss_G: 2.6794\tD(x): 0.9249\tD(G(z)): 0.0774 / 0.0686\n",
      "[116/300][0/24]\tLoss_D: 0.5133\tLoss_G: 2.7235\tD(x): 0.9160\tD(G(z)): 0.0676 / 0.0657\n",
      "[117/300][0/24]\tLoss_D: 0.5329\tLoss_G: 2.6053\tD(x): 0.9322\tD(G(z)): 0.0822 / 0.0739\n",
      "[118/300][0/24]\tLoss_D: 0.5404\tLoss_G: 2.7079\tD(x): 0.9302\tD(G(z)): 0.0646 / 0.0667\n",
      "[119/300][0/24]\tLoss_D: 0.5461\tLoss_G: 2.5381\tD(x): 0.9224\tD(G(z)): 0.0615 / 0.0790\n",
      "[120/300][0/24]\tLoss_D: 0.5320\tLoss_G: 2.5881\tD(x): 0.9285\tD(G(z)): 0.0846 / 0.0752\n",
      "[121/300][0/24]\tLoss_D: 0.5522\tLoss_G: 2.5460\tD(x): 0.9209\tD(G(z)): 0.0686 / 0.0784\n",
      "[122/300][0/24]\tLoss_D: 0.5419\tLoss_G: 2.5403\tD(x): 0.9277\tD(G(z)): 0.0805 / 0.0789\n",
      "[123/300][0/24]\tLoss_D: 0.5362\tLoss_G: 2.6538\tD(x): 0.9268\tD(G(z)): 0.0714 / 0.0704\n",
      "[124/300][0/24]\tLoss_D: 0.5208\tLoss_G: 2.5902\tD(x): 0.9300\tD(G(z)): 0.0739 / 0.0750\n",
      "[125/300][0/24]\tLoss_D: 0.5266\tLoss_G: 2.6827\tD(x): 0.9207\tD(G(z)): 0.0793 / 0.0684\n",
      "[126/300][0/24]\tLoss_D: 0.5395\tLoss_G: 2.5909\tD(x): 0.9268\tD(G(z)): 0.0774 / 0.0750\n",
      "[127/300][0/24]\tLoss_D: 0.5058\tLoss_G: 2.6859\tD(x): 0.9322\tD(G(z)): 0.0679 / 0.0682\n",
      "[128/300][0/24]\tLoss_D: 0.5435\tLoss_G: 2.6200\tD(x): 0.9227\tD(G(z)): 0.0621 / 0.0728\n",
      "[129/300][0/24]\tLoss_D: 0.5305\tLoss_G: 2.5845\tD(x): 0.9256\tD(G(z)): 0.0810 / 0.0754\n",
      "[130/300][0/24]\tLoss_D: 0.5237\tLoss_G: 2.5660\tD(x): 0.9182\tD(G(z)): 0.0731 / 0.0769\n",
      "[131/300][0/24]\tLoss_D: 0.5323\tLoss_G: 2.5936\tD(x): 0.9169\tD(G(z)): 0.0749 / 0.0748\n",
      "[132/300][0/24]\tLoss_D: 0.5281\tLoss_G: 2.4922\tD(x): 0.9234\tD(G(z)): 0.0779 / 0.0827\n",
      "[133/300][0/24]\tLoss_D: 0.5479\tLoss_G: 2.5976\tD(x): 0.9264\tD(G(z)): 0.0748 / 0.0745\n",
      "[134/300][0/24]\tLoss_D: 0.5409\tLoss_G: 2.6896\tD(x): 0.9181\tD(G(z)): 0.0803 / 0.0679\n",
      "[135/300][0/24]\tLoss_D: 0.5325\tLoss_G: 2.6400\tD(x): 0.9204\tD(G(z)): 0.0756 / 0.0714\n",
      "[136/300][0/24]\tLoss_D: 0.5460\tLoss_G: 2.5107\tD(x): 0.9236\tD(G(z)): 0.0828 / 0.0812\n",
      "[137/300][0/24]\tLoss_D: 0.5365\tLoss_G: 2.5308\tD(x): 0.9290\tD(G(z)): 0.0704 / 0.0796\n",
      "[138/300][0/24]\tLoss_D: 0.5335\tLoss_G: 2.6589\tD(x): 0.9185\tD(G(z)): 0.0740 / 0.0700\n",
      "[139/300][0/24]\tLoss_D: 0.5422\tLoss_G: 2.8146\tD(x): 0.9219\tD(G(z)): 0.0619 / 0.0599\n",
      "[140/300][0/24]\tLoss_D: 0.5345\tLoss_G: 2.6249\tD(x): 0.9203\tD(G(z)): 0.0847 / 0.0725\n",
      "[141/300][0/24]\tLoss_D: 0.5288\tLoss_G: 2.5430\tD(x): 0.9263\tD(G(z)): 0.0703 / 0.0786\n",
      "[142/300][0/24]\tLoss_D: 0.5225\tLoss_G: 2.9726\tD(x): 0.9195\tD(G(z)): 0.0979 / 0.0512\n",
      "[143/300][0/24]\tLoss_D: 0.5332\tLoss_G: 2.5737\tD(x): 0.9252\tD(G(z)): 0.0762 / 0.0763\n",
      "[144/300][0/24]\tLoss_D: 0.5207\tLoss_G: 2.5517\tD(x): 0.9234\tD(G(z)): 0.0769 / 0.0780\n",
      "[145/300][0/24]\tLoss_D: 0.5235\tLoss_G: 2.5768\tD(x): 0.9216\tD(G(z)): 0.0757 / 0.0760\n",
      "[146/300][0/24]\tLoss_D: 0.5245\tLoss_G: 2.5967\tD(x): 0.9198\tD(G(z)): 0.0752 / 0.0745\n",
      "[147/300][0/24]\tLoss_D: 0.5512\tLoss_G: 2.6388\tD(x): 0.9245\tD(G(z)): 0.0746 / 0.0715\n",
      "[148/300][0/24]\tLoss_D: 0.5553\tLoss_G: 2.5538\tD(x): 0.9267\tD(G(z)): 0.0696 / 0.0778\n",
      "[149/300][0/24]\tLoss_D: 0.5223\tLoss_G: 2.5646\tD(x): 0.9236\tD(G(z)): 0.0819 / 0.0770\n",
      "[150/300][0/24]\tLoss_D: 0.5704\tLoss_G: 2.5292\tD(x): 0.9154\tD(G(z)): 0.0752 / 0.0797\n",
      "[151/300][0/24]\tLoss_D: 0.5398\tLoss_G: 2.5147\tD(x): 0.9249\tD(G(z)): 0.0827 / 0.0809\n",
      "[152/300][0/24]\tLoss_D: 0.5454\tLoss_G: 2.6391\tD(x): 0.9262\tD(G(z)): 0.0746 / 0.0714\n",
      "[153/300][0/24]\tLoss_D: 0.5320\tLoss_G: 2.6366\tD(x): 0.9198\tD(G(z)): 0.0702 / 0.0716\n",
      "[154/300][0/24]\tLoss_D: 0.5459\tLoss_G: 2.5056\tD(x): 0.9299\tD(G(z)): 0.0796 / 0.0816\n",
      "[155/300][0/24]\tLoss_D: 0.5458\tLoss_G: 2.6213\tD(x): 0.9250\tD(G(z)): 0.0725 / 0.0727\n",
      "[156/300][0/24]\tLoss_D: 0.5327\tLoss_G: 2.6497\tD(x): 0.9283\tD(G(z)): 0.0758 / 0.0707\n",
      "[157/300][0/24]\tLoss_D: 0.5384\tLoss_G: 2.6613\tD(x): 0.9200\tD(G(z)): 0.0709 / 0.0699\n",
      "[158/300][0/24]\tLoss_D: 0.5229\tLoss_G: 2.6822\tD(x): 0.9242\tD(G(z)): 0.0699 / 0.0684\n",
      "[159/300][0/24]\tLoss_D: 0.5384\tLoss_G: 2.5498\tD(x): 0.9230\tD(G(z)): 0.0783 / 0.0781\n",
      "[160/300][0/24]\tLoss_D: 0.5284\tLoss_G: 2.5888\tD(x): 0.9302\tD(G(z)): 0.0655 / 0.0751\n",
      "[161/300][0/24]\tLoss_D: 0.5419\tLoss_G: 2.5968\tD(x): 0.9235\tD(G(z)): 0.0728 / 0.0745\n",
      "[162/300][0/24]\tLoss_D: 0.5359\tLoss_G: 2.6416\tD(x): 0.9220\tD(G(z)): 0.0750 / 0.0713\n",
      "[163/300][0/24]\tLoss_D: 0.5300\tLoss_G: 2.6176\tD(x): 0.9267\tD(G(z)): 0.0821 / 0.0730\n",
      "[164/300][0/24]\tLoss_D: 0.5366\tLoss_G: 2.6225\tD(x): 0.9245\tD(G(z)): 0.0791 / 0.0726\n",
      "[165/300][0/24]\tLoss_D: 0.5176\tLoss_G: 2.6283\tD(x): 0.9185\tD(G(z)): 0.0794 / 0.0722\n",
      "[166/300][0/24]\tLoss_D: 0.5216\tLoss_G: 2.6569\tD(x): 0.9275\tD(G(z)): 0.0841 / 0.0702\n",
      "[167/300][0/24]\tLoss_D: 0.5302\tLoss_G: 2.6072\tD(x): 0.9257\tD(G(z)): 0.0797 / 0.0738\n",
      "[168/300][0/24]\tLoss_D: 0.5218\tLoss_G: 2.4914\tD(x): 0.9296\tD(G(z)): 0.0734 / 0.0828\n",
      "[169/300][0/24]\tLoss_D: 0.5383\tLoss_G: 2.5652\tD(x): 0.9264\tD(G(z)): 0.0733 / 0.0770\n",
      "[170/300][0/24]\tLoss_D: 0.5365\tLoss_G: 2.5878\tD(x): 0.9254\tD(G(z)): 0.0675 / 0.0752\n",
      "[171/300][0/24]\tLoss_D: 0.5059\tLoss_G: 2.7209\tD(x): 0.9300\tD(G(z)): 0.0874 / 0.0658\n",
      "[172/300][0/24]\tLoss_D: 0.5531\tLoss_G: 2.5314\tD(x): 0.9215\tD(G(z)): 0.0772 / 0.0796\n",
      "[173/300][0/24]\tLoss_D: 0.5249\tLoss_G: 2.6157\tD(x): 0.9259\tD(G(z)): 0.0735 / 0.0731\n",
      "[174/300][0/24]\tLoss_D: 0.5129\tLoss_G: 2.6680\tD(x): 0.9209\tD(G(z)): 0.0732 / 0.0694\n",
      "[175/300][0/24]\tLoss_D: 0.5302\tLoss_G: 2.6398\tD(x): 0.9246\tD(G(z)): 0.0741 / 0.0714\n",
      "[176/300][0/24]\tLoss_D: 0.5180\tLoss_G: 2.6773\tD(x): 0.9262\tD(G(z)): 0.0708 / 0.0688\n",
      "[177/300][0/24]\tLoss_D: 0.5352\tLoss_G: 2.6047\tD(x): 0.9281\tD(G(z)): 0.0752 / 0.0739\n",
      "[178/300][0/24]\tLoss_D: 0.5280\tLoss_G: 2.6348\tD(x): 0.9305\tD(G(z)): 0.0745 / 0.0718\n",
      "[179/300][0/24]\tLoss_D: 0.5105\tLoss_G: 2.7232\tD(x): 0.9224\tD(G(z)): 0.0748 / 0.0657\n",
      "[180/300][0/24]\tLoss_D: 0.4957\tLoss_G: 2.7419\tD(x): 0.9269\tD(G(z)): 0.0609 / 0.0645\n",
      "[181/300][0/24]\tLoss_D: 0.5180\tLoss_G: 2.6418\tD(x): 0.9210\tD(G(z)): 0.0780 / 0.0713\n",
      "[182/300][0/24]\tLoss_D: 0.5173\tLoss_G: 2.7547\tD(x): 0.9362\tD(G(z)): 0.0829 / 0.0637\n",
      "[183/300][0/24]\tLoss_D: 0.5327\tLoss_G: 2.5480\tD(x): 0.9286\tD(G(z)): 0.0752 / 0.0783\n",
      "[184/300][0/24]\tLoss_D: 0.5211\tLoss_G: 2.6503\tD(x): 0.9317\tD(G(z)): 0.0790 / 0.0707\n",
      "[185/300][0/24]\tLoss_D: 0.5346\tLoss_G: 2.5901\tD(x): 0.9218\tD(G(z)): 0.0738 / 0.0750\n",
      "[186/300][0/24]\tLoss_D: 0.5396\tLoss_G: 2.5028\tD(x): 0.9242\tD(G(z)): 0.0790 / 0.0820\n",
      "[187/300][0/24]\tLoss_D: 0.5323\tLoss_G: 2.6440\tD(x): 0.9266\tD(G(z)): 0.0656 / 0.0711\n",
      "[188/300][0/24]\tLoss_D: 0.5324\tLoss_G: 2.5898\tD(x): 0.9189\tD(G(z)): 0.0718 / 0.0751\n",
      "[189/300][0/24]\tLoss_D: 0.5226\tLoss_G: 2.6291\tD(x): 0.9274\tD(G(z)): 0.0851 / 0.0722\n",
      "[190/300][0/24]\tLoss_D: 0.5476\tLoss_G: 2.5836\tD(x): 0.9223\tD(G(z)): 0.0711 / 0.0755\n",
      "[191/300][0/24]\tLoss_D: 0.5475\tLoss_G: 2.5754\tD(x): 0.9237\tD(G(z)): 0.0750 / 0.0762\n",
      "[192/300][0/24]\tLoss_D: 0.5442\tLoss_G: 2.5156\tD(x): 0.9192\tD(G(z)): 0.0774 / 0.0808\n",
      "[193/300][0/24]\tLoss_D: 0.5402\tLoss_G: 2.6124\tD(x): 0.9308\tD(G(z)): 0.0782 / 0.0734\n",
      "[194/300][0/24]\tLoss_D: 0.5368\tLoss_G: 2.5410\tD(x): 0.9180\tD(G(z)): 0.0745 / 0.0791\n",
      "[195/300][0/24]\tLoss_D: 0.5307\tLoss_G: 2.5884\tD(x): 0.9236\tD(G(z)): 0.0714 / 0.0752\n",
      "[196/300][0/24]\tLoss_D: 0.5523\tLoss_G: 2.5248\tD(x): 0.9267\tD(G(z)): 0.0723 / 0.0801\n",
      "[197/300][0/24]\tLoss_D: 0.5053\tLoss_G: 2.7018\tD(x): 0.9274\tD(G(z)): 0.0705 / 0.0671\n",
      "[198/300][0/24]\tLoss_D: 0.5414\tLoss_G: 2.5876\tD(x): 0.9258\tD(G(z)): 0.0716 / 0.0752\n",
      "[199/300][0/24]\tLoss_D: 0.5313\tLoss_G: 2.5506\tD(x): 0.9268\tD(G(z)): 0.0762 / 0.0781\n",
      "[200/300][0/24]\tLoss_D: 0.5340\tLoss_G: 2.6024\tD(x): 0.9262\tD(G(z)): 0.0755 / 0.0741\n",
      "[201/300][0/24]\tLoss_D: 0.5260\tLoss_G: 2.6145\tD(x): 0.9306\tD(G(z)): 0.0745 / 0.0732\n",
      "[202/300][0/24]\tLoss_D: 0.5374\tLoss_G: 2.4886\tD(x): 0.9249\tD(G(z)): 0.0850 / 0.0830\n",
      "[203/300][0/24]\tLoss_D: 0.5189\tLoss_G: 2.6795\tD(x): 0.9251\tD(G(z)): 0.0726 / 0.0686\n",
      "[204/300][0/24]\tLoss_D: 0.5387\tLoss_G: 2.5583\tD(x): 0.9233\tD(G(z)): 0.0667 / 0.0774\n",
      "[205/300][0/24]\tLoss_D: 0.5219\tLoss_G: 2.5290\tD(x): 0.9269\tD(G(z)): 0.0775 / 0.0798\n",
      "[206/300][0/24]\tLoss_D: 0.5339\tLoss_G: 2.5699\tD(x): 0.9303\tD(G(z)): 0.0699 / 0.0765\n",
      "[207/300][0/24]\tLoss_D: 0.5378\tLoss_G: 2.6350\tD(x): 0.9249\tD(G(z)): 0.0735 / 0.0717\n",
      "[208/300][0/24]\tLoss_D: 0.5624\tLoss_G: 2.5324\tD(x): 0.9271\tD(G(z)): 0.0782 / 0.0795\n",
      "[209/300][0/24]\tLoss_D: 0.5397\tLoss_G: 2.6617\tD(x): 0.9214\tD(G(z)): 0.0673 / 0.0698\n",
      "[210/300][0/24]\tLoss_D: 0.5463\tLoss_G: 2.6019\tD(x): 0.9189\tD(G(z)): 0.0802 / 0.0741\n",
      "[211/300][0/24]\tLoss_D: 0.5214\tLoss_G: 2.5507\tD(x): 0.9300\tD(G(z)): 0.0786 / 0.0780\n",
      "[212/300][0/24]\tLoss_D: 0.5349\tLoss_G: 2.5831\tD(x): 0.9218\tD(G(z)): 0.0716 / 0.0756\n",
      "[213/300][0/24]\tLoss_D: 0.5149\tLoss_G: 2.6126\tD(x): 0.9270\tD(G(z)): 0.0830 / 0.0734\n",
      "[214/300][0/24]\tLoss_D: 0.5326\tLoss_G: 2.6355\tD(x): 0.9284\tD(G(z)): 0.0731 / 0.0717\n",
      "[215/300][0/24]\tLoss_D: 0.5270\tLoss_G: 2.5947\tD(x): 0.9178\tD(G(z)): 0.0776 / 0.0747\n",
      "[216/300][0/24]\tLoss_D: 0.5077\tLoss_G: 2.6327\tD(x): 0.9291\tD(G(z)): 0.0706 / 0.0719\n",
      "[217/300][0/24]\tLoss_D: 0.5317\tLoss_G: 2.6207\tD(x): 0.9222\tD(G(z)): 0.0803 / 0.0728\n",
      "[218/300][0/24]\tLoss_D: 0.5409\tLoss_G: 2.5793\tD(x): 0.9183\tD(G(z)): 0.0773 / 0.0758\n",
      "[219/300][0/24]\tLoss_D: 0.5587\tLoss_G: 2.5142\tD(x): 0.9199\tD(G(z)): 0.0718 / 0.0809\n",
      "[220/300][0/24]\tLoss_D: 0.5235\tLoss_G: 2.6688\tD(x): 0.9245\tD(G(z)): 0.0671 / 0.0694\n",
      "[221/300][0/24]\tLoss_D: 0.5436\tLoss_G: 2.5665\tD(x): 0.9189\tD(G(z)): 0.0778 / 0.0768\n",
      "[222/300][0/24]\tLoss_D: 0.5278\tLoss_G: 2.6088\tD(x): 0.9201\tD(G(z)): 0.0907 / 0.0736\n",
      "[223/300][0/24]\tLoss_D: 0.5215\tLoss_G: 2.5959\tD(x): 0.9212\tD(G(z)): 0.0749 / 0.0747\n",
      "[224/300][0/24]\tLoss_D: 0.5444\tLoss_G: 2.4435\tD(x): 0.9150\tD(G(z)): 0.0748 / 0.0870\n",
      "[225/300][0/24]\tLoss_D: 0.5448\tLoss_G: 2.5481\tD(x): 0.9283\tD(G(z)): 0.0865 / 0.0784\n",
      "[226/300][0/24]\tLoss_D: 0.5367\tLoss_G: 2.7512\tD(x): 0.9259\tD(G(z)): 0.0687 / 0.0640\n",
      "[227/300][0/24]\tLoss_D: 0.5454\tLoss_G: 2.6490\tD(x): 0.9209\tD(G(z)): 0.0591 / 0.0708\n",
      "[228/300][0/24]\tLoss_D: 0.5055\tLoss_G: 2.7552\tD(x): 0.9294\tD(G(z)): 0.0707 / 0.0637\n",
      "[229/300][0/24]\tLoss_D: 0.5179\tLoss_G: 2.6346\tD(x): 0.9244\tD(G(z)): 0.0740 / 0.0718\n",
      "[230/300][0/24]\tLoss_D: 0.5475\tLoss_G: 2.6623\tD(x): 0.9222\tD(G(z)): 0.0840 / 0.0699\n",
      "[231/300][0/24]\tLoss_D: 0.5210\tLoss_G: 2.5960\tD(x): 0.9221\tD(G(z)): 0.0832 / 0.0746\n",
      "[232/300][0/24]\tLoss_D: 0.5422\tLoss_G: 2.5652\tD(x): 0.9278\tD(G(z)): 0.0696 / 0.0769\n",
      "[233/300][0/24]\tLoss_D: 0.5168\tLoss_G: 2.7626\tD(x): 0.9246\tD(G(z)): 0.0733 / 0.0632\n",
      "[234/300][0/24]\tLoss_D: 0.5535\tLoss_G: 2.6182\tD(x): 0.9184\tD(G(z)): 0.0763 / 0.0730\n",
      "[235/300][0/24]\tLoss_D: 0.5213\tLoss_G: 2.6090\tD(x): 0.9244\tD(G(z)): 0.0746 / 0.0736\n",
      "[236/300][0/24]\tLoss_D: 0.5586\tLoss_G: 2.5290\tD(x): 0.9224\tD(G(z)): 0.0792 / 0.0798\n",
      "[237/300][0/24]\tLoss_D: 0.5248\tLoss_G: 2.7023\tD(x): 0.9194\tD(G(z)): 0.0722 / 0.0671\n",
      "[238/300][0/24]\tLoss_D: 0.5373\tLoss_G: 2.5831\tD(x): 0.9241\tD(G(z)): 0.0728 / 0.0756\n",
      "[239/300][0/24]\tLoss_D: 0.5797\tLoss_G: 2.4871\tD(x): 0.9261\tD(G(z)): 0.0758 / 0.0832\n",
      "[240/300][0/24]\tLoss_D: 0.5280\tLoss_G: 2.5242\tD(x): 0.9231\tD(G(z)): 0.0669 / 0.0801\n",
      "[241/300][0/24]\tLoss_D: 0.5647\tLoss_G: 2.4984\tD(x): 0.9223\tD(G(z)): 0.0744 / 0.0822\n",
      "[242/300][0/24]\tLoss_D: 0.5124\tLoss_G: 2.6364\tD(x): 0.9256\tD(G(z)): 0.0801 / 0.0716\n",
      "[243/300][0/24]\tLoss_D: 0.5607\tLoss_G: 2.5162\tD(x): 0.9234\tD(G(z)): 0.0831 / 0.0808\n",
      "[244/300][0/24]\tLoss_D: 0.5182\tLoss_G: 2.6002\tD(x): 0.9255\tD(G(z)): 0.0757 / 0.0743\n",
      "[245/300][0/24]\tLoss_D: 0.5361\tLoss_G: 2.5746\tD(x): 0.9245\tD(G(z)): 0.0761 / 0.0762\n",
      "[246/300][0/24]\tLoss_D: 0.5428\tLoss_G: 2.4891\tD(x): 0.9309\tD(G(z)): 0.0837 / 0.0830\n",
      "[247/300][0/24]\tLoss_D: 0.5371\tLoss_G: 2.6066\tD(x): 0.9195\tD(G(z)): 0.0800 / 0.0738\n",
      "[248/300][0/24]\tLoss_D: 0.5338\tLoss_G: 2.5814\tD(x): 0.9210\tD(G(z)): 0.0766 / 0.0757\n",
      "[249/300][0/24]\tLoss_D: 0.5216\tLoss_G: 2.5619\tD(x): 0.9204\tD(G(z)): 0.0800 / 0.0772\n",
      "[250/300][0/24]\tLoss_D: 0.5241\tLoss_G: 2.8079\tD(x): 0.9274\tD(G(z)): 0.0689 / 0.0603\n",
      "[251/300][0/24]\tLoss_D: 0.5200\tLoss_G: 2.5872\tD(x): 0.9276\tD(G(z)): 0.0708 / 0.0752\n",
      "[252/300][0/24]\tLoss_D: 0.5243\tLoss_G: 2.6398\tD(x): 0.9247\tD(G(z)): 0.0691 / 0.0714\n",
      "[253/300][0/24]\tLoss_D: 0.5406\tLoss_G: 2.4688\tD(x): 0.9283\tD(G(z)): 0.0797 / 0.0847\n",
      "[254/300][0/24]\tLoss_D: 0.5330\tLoss_G: 2.6982\tD(x): 0.9226\tD(G(z)): 0.0662 / 0.0673\n",
      "[255/300][0/24]\tLoss_D: 0.5382\tLoss_G: 2.5587\tD(x): 0.9301\tD(G(z)): 0.0732 / 0.0774\n",
      "[256/300][0/24]\tLoss_D: 0.5247\tLoss_G: 2.6266\tD(x): 0.9247\tD(G(z)): 0.0754 / 0.0723\n",
      "[257/300][0/24]\tLoss_D: 0.5185\tLoss_G: 2.5848\tD(x): 0.9272\tD(G(z)): 0.0723 / 0.0754\n",
      "[258/300][0/24]\tLoss_D: 0.5458\tLoss_G: 2.4686\tD(x): 0.9202\tD(G(z)): 0.0738 / 0.0847\n",
      "[259/300][0/24]\tLoss_D: 0.5429\tLoss_G: 2.5206\tD(x): 0.9265\tD(G(z)): 0.0674 / 0.0804\n",
      "[260/300][0/24]\tLoss_D: 0.5233\tLoss_G: 2.8148\tD(x): 0.9267\tD(G(z)): 0.0801 / 0.0600\n",
      "[261/300][0/24]\tLoss_D: 0.5033\tLoss_G: 2.7181\tD(x): 0.9233\tD(G(z)): 0.0825 / 0.0660\n",
      "[262/300][0/24]\tLoss_D: 0.5119\tLoss_G: 2.6280\tD(x): 0.9254\tD(G(z)): 0.0742 / 0.0723\n",
      "[263/300][0/24]\tLoss_D: 0.5402\tLoss_G: 2.8288\tD(x): 0.9248\tD(G(z)): 0.0982 / 0.0591\n",
      "[264/300][0/24]\tLoss_D: 0.5227\tLoss_G: 2.6170\tD(x): 0.9305\tD(G(z)): 0.0812 / 0.0731\n",
      "[265/300][0/24]\tLoss_D: 0.5167\tLoss_G: 2.6196\tD(x): 0.9296\tD(G(z)): 0.0822 / 0.0729\n",
      "[266/300][0/24]\tLoss_D: 0.5575\tLoss_G: 2.5898\tD(x): 0.9298\tD(G(z)): 0.0899 / 0.0751\n",
      "[267/300][0/24]\tLoss_D: 0.5236\tLoss_G: 2.6687\tD(x): 0.9212\tD(G(z)): 0.0648 / 0.0694\n",
      "[268/300][0/24]\tLoss_D: 0.5457\tLoss_G: 2.5444\tD(x): 0.9302\tD(G(z)): 0.0797 / 0.0786\n",
      "[269/300][0/24]\tLoss_D: 0.5190\tLoss_G: 2.7079\tD(x): 0.9289\tD(G(z)): 0.0737 / 0.0667\n",
      "[270/300][0/24]\tLoss_D: 0.5371\tLoss_G: 2.6414\tD(x): 0.9331\tD(G(z)): 0.0745 / 0.0713\n",
      "[271/300][0/24]\tLoss_D: 0.5096\tLoss_G: 2.6691\tD(x): 0.9172\tD(G(z)): 0.0793 / 0.0693\n",
      "[272/300][0/24]\tLoss_D: 0.5269\tLoss_G: 2.5519\tD(x): 0.9177\tD(G(z)): 0.0789 / 0.0780\n",
      "[273/300][0/24]\tLoss_D: 0.5536\tLoss_G: 2.5121\tD(x): 0.9217\tD(G(z)): 0.0748 / 0.0812\n",
      "[274/300][0/24]\tLoss_D: 0.5507\tLoss_G: 2.5453\tD(x): 0.9281\tD(G(z)): 0.0751 / 0.0785\n",
      "[275/300][0/24]\tLoss_D: 0.5425\tLoss_G: 2.5987\tD(x): 0.9341\tD(G(z)): 0.0764 / 0.0744\n",
      "[276/300][0/24]\tLoss_D: 0.5158\tLoss_G: 2.6186\tD(x): 0.9297\tD(G(z)): 0.0793 / 0.0729\n",
      "[277/300][0/24]\tLoss_D: 0.5182\tLoss_G: 2.6749\tD(x): 0.9218\tD(G(z)): 0.0899 / 0.0689\n",
      "[278/300][0/24]\tLoss_D: 0.5197\tLoss_G: 2.5783\tD(x): 0.9196\tD(G(z)): 0.0761 / 0.0759\n",
      "[279/300][0/24]\tLoss_D: 0.5294\tLoss_G: 2.6948\tD(x): 0.9232\tD(G(z)): 0.0716 / 0.0676\n",
      "[280/300][0/24]\tLoss_D: 0.5283\tLoss_G: 2.5517\tD(x): 0.9266\tD(G(z)): 0.0666 / 0.0780\n",
      "[281/300][0/24]\tLoss_D: 0.5409\tLoss_G: 2.5648\tD(x): 0.9250\tD(G(z)): 0.0798 / 0.0770\n",
      "[282/300][0/24]\tLoss_D: 0.5471\tLoss_G: 2.5651\tD(x): 0.9235\tD(G(z)): 0.0745 / 0.0769\n",
      "[283/300][0/24]\tLoss_D: 0.5490\tLoss_G: 2.6170\tD(x): 0.9299\tD(G(z)): 0.0720 / 0.0730\n",
      "[284/300][0/24]\tLoss_D: 0.5351\tLoss_G: 2.5748\tD(x): 0.9178\tD(G(z)): 0.0758 / 0.0762\n",
      "[285/300][0/24]\tLoss_D: 0.5356\tLoss_G: 2.6154\tD(x): 0.9275\tD(G(z)): 0.0731 / 0.0732\n",
      "[286/300][0/24]\tLoss_D: 0.5324\tLoss_G: 2.5197\tD(x): 0.9236\tD(G(z)): 0.0835 / 0.0805\n",
      "[287/300][0/24]\tLoss_D: 0.5055\tLoss_G: 2.7656\tD(x): 0.9310\tD(G(z)): 0.0680 / 0.0629\n",
      "[288/300][0/24]\tLoss_D: 0.5273\tLoss_G: 2.5706\tD(x): 0.9273\tD(G(z)): 0.0742 / 0.0765\n",
      "[289/300][0/24]\tLoss_D: 0.5167\tLoss_G: 2.7365\tD(x): 0.9232\tD(G(z)): 0.0766 / 0.0648\n",
      "[290/300][0/24]\tLoss_D: 0.5466\tLoss_G: 2.5068\tD(x): 0.9217\tD(G(z)): 0.0750 / 0.0815\n",
      "[291/300][0/24]\tLoss_D: 0.5580\tLoss_G: 2.5430\tD(x): 0.9276\tD(G(z)): 0.0794 / 0.0786\n",
      "[292/300][0/24]\tLoss_D: 0.5400\tLoss_G: 2.5939\tD(x): 0.9290\tD(G(z)): 0.0642 / 0.0747\n",
      "[293/300][0/24]\tLoss_D: 0.5287\tLoss_G: 2.6544\tD(x): 0.9259\tD(G(z)): 0.0708 / 0.0704\n",
      "[294/300][0/24]\tLoss_D: 0.5232\tLoss_G: 2.6517\tD(x): 0.9233\tD(G(z)): 0.0751 / 0.0705\n",
      "[295/300][0/24]\tLoss_D: 0.5485\tLoss_G: 2.5180\tD(x): 0.9263\tD(G(z)): 0.0774 / 0.0806\n",
      "[296/300][0/24]\tLoss_D: 0.5410\tLoss_G: 2.5461\tD(x): 0.9197\tD(G(z)): 0.0789 / 0.0784\n",
      "[297/300][0/24]\tLoss_D: 0.5528\tLoss_G: 2.5826\tD(x): 0.9221\tD(G(z)): 0.0762 / 0.0756\n",
      "[298/300][0/24]\tLoss_D: 0.5388\tLoss_G: 2.5602\tD(x): 0.9271\tD(G(z)): 0.0825 / 0.0773\n",
      "[299/300][0/24]\tLoss_D: 0.5194\tLoss_G: 2.6570\tD(x): 0.9323\tD(G(z)): 0.0831 / 0.0702\n"
     ]
    }
   ],
   "source": [
    "# Training Loop\n",
    "\n",
    "# Lists to keep track of progress\n",
    "img_list = []\n",
    "G_losses = []\n",
    "D_losses = []\n",
    "iters = 0\n",
    "\n",
    "label_smoothing_factor = 0.15\n",
    "\n",
    "print(\"Starting Training Loop...\")\n",
    "# For each epoch\n",
    "for epoch in range(num_epochs):\n",
    "    # For each batch in the dataloader\n",
    "    for i, data in enumerate(dataloader, 0):\n",
    "        ############################\n",
    "        # (1) Update D network: maximize log(D(x)) + log(1 - D(G(z)))\n",
    "        ###########################\n",
    "        ## Train with all-real batch\n",
    "        netD.zero_grad()\n",
    "        # Format batch\n",
    "        real_cpu = data.to(device)\n",
    "        b_size = real_cpu.size(0)\n",
    "        label = torch.full((b_size,), real_label, dtype=torch.float, device=device)\n",
    "        # labels smoothing\n",
    "        label -= (torch.rand(b_size, device=device) * label_smoothing_factor * (1 if real_label==1 else -1))\n",
    "        # Forward pass real batch through D\n",
    "        output = netD(real_cpu).view(-1)\n",
    "        # Calculate loss on all-real batch\n",
    "        errD_real = criterion(output, label)\n",
    "        # Calculate gradients for D in backward pass\n",
    "        errD_real.backward()\n",
    "        D_x = output.mean().item()\n",
    "\n",
    "        ## Train with all-fake batch\n",
    "        # Generate batch of latent vectors\n",
    "        noise = torch.randn(b_size, nz, 8, 8, device=device)\n",
    "        # Generate fake image batch with G\n",
    "        fake = netG(noise)\n",
    "        label.fill_(fake_label)\n",
    "        # labels smoothing\n",
    "        label += (torch.rand(b_size, device=device) * label_smoothing_factor * (1 if fake_label==0 else -1))\n",
    "        # Classify all fake batch with D\n",
    "        output = netD(fake.detach()).view(-1)\n",
    "        # Calculate D's loss on the all-fake batch\n",
    "        errD_fake = criterion(output, label)\n",
    "        # Calculate the gradients for this batch\n",
    "        errD_fake.backward()\n",
    "        D_G_z1 = output.mean().item()\n",
    "        # Add the gradients from the all-real and all-fake batches\n",
    "        errD = errD_real + errD_fake\n",
    "        # Update D\n",
    "        optimizerD.step()\n",
    "        \n",
    "\n",
    "        ############################\n",
    "        # (2) Update G network: maximize log(D(G(z)))\n",
    "        ###########################\n",
    "        netG.zero_grad()\n",
    "        label.fill_(real_label)  # fake labels are real for generator cost\n",
    "        # Since we just updated D, perform another forward pass of all-fake batch through D\n",
    "        output = netD(fake).view(-1)\n",
    "        # Calculate G's loss based on this output\n",
    "        errG = criterion(output, label)\n",
    "        # Calculate gradients for G\n",
    "        errG.backward()\n",
    "        D_G_z2 = output.mean().item()\n",
    "        # Update G\n",
    "        optimizerG.step()\n",
    "\n",
    "        # Output training stats\n",
    "        if i % 200 == 0:\n",
    "            print('[%d/%d][%d/%d]\\tLoss_D: %.4f\\tLoss_G: %.4f\\tD(x): %.4f\\tD(G(z)): %.4f / %.4f'\n",
    "                  % (epoch, num_epochs, i, len(dataloader),\n",
    "                     errD.item(), errG.item(), D_x, D_G_z1, D_G_z2))\n",
    "\n",
    "        # Save Losses for plotting later\n",
    "        G_losses.append(errG.item())\n",
    "        D_losses.append(errD.item())\n",
    "\n",
    "        # Check how the generator is doing by saving G's output on fixed_noise\n",
    "        if (iters % 500 == 0) or ((epoch == num_epochs-1) and (i == len(dataloader)-1)):\n",
    "            with torch.no_grad():\n",
    "                fake = netG(fixed_noise).detach().cpu()\n",
    "            img_list.append(vutils.make_grid(fake, padding=2, normalize=True))\n",
    "\n",
    "        iters += 1\n",
    "        \n",
    "        \n",
    "    cur_model_wts = copy.deepcopy(netG.state_dict())\n",
    "    path_to_save_paramOnly = os.path.join(save_dir, 'epoch-{}.GNet'.format(epoch+1))\n",
    "    torch.save(cur_model_wts, path_to_save_paramOnly)\n",
    "    \n",
    "    cur_model_wts = copy.deepcopy(netD.state_dict())\n",
    "    path_to_save_paramOnly = os.path.join(save_dir, 'epoch-{}.DNet'.format(epoch+1))\n",
    "    torch.save(cur_model_wts, path_to_save_paramOnly)"
   ]
  },
  {
   "cell_type": "markdown",
   "metadata": {},
   "source": [
    "## drawing the error curves"
   ]
  },
  {
   "cell_type": "code",
   "execution_count": 115,
   "metadata": {},
   "outputs": [
    {
     "data": {
      "image/png": "[encoded data removed]",
      "text/plain": [
       "<Figure size 720x360 with 1 Axes>"
      ]
     },
     "metadata": {
      "needs_background": "light"
     },
     "output_type": "display_data"
    }
   ],
   "source": [
    "plt.figure(figsize=(10,5))\n",
    "plt.title(\"Generator and Discriminator Loss During Training\")\n",
    "plt.plot(G_losses,label=\"G\")\n",
    "plt.plot(D_losses,label=\"D\")\n",
    "plt.xlabel(\"iterations\")\n",
    "plt.ylabel(\"Loss\")\n",
    "plt.legend()\n",
    "plt.savefig('learningCurves_{}.png'.format(modelFlag), bbox_inches='tight',transparent=True)\n",
    "# plt.show()"
   ]
  },
  {
   "cell_type": "markdown",
   "metadata": {},
   "source": [
    "## Testing"
   ]
  },
  {
   "cell_type": "code",
   "execution_count": 11,
   "metadata": {},
   "outputs": [
    {
     "data": {
      "text/plain": [
       "<All keys matched successfully>"
      ]
     },
     "execution_count": 11,
     "metadata": {},
     "output_type": "execute_result"
    }
   ],
   "source": [
    "netD.load_state_dict(torch.load(\"exp/step002_GANfea_v1_Res18sc/epoch-300.DNet\"))"
   ]
  },
  {
   "cell_type": "code",
   "execution_count": 12,
   "metadata": {},
   "outputs": [
    {
     "ename": "NameError",
     "evalue": "name 'testloader' is not defined",
     "output_type": "error",
     "traceback": [
      "\u001b[0;31m---------------------------------------------------------------------------\u001b[0m",
      "\u001b[0;31mNameError\u001b[0m                                 Traceback (most recent call last)",
      "\u001b[1;32m/media/zullich/LabControlli1/OpenGAN/demo_CrossDatasetOpenSet_training.ipynb Cell 36'\u001b[0m in \u001b[0;36m<cell line: 4>\u001b[0;34m()\u001b[0m\n\u001b[1;32m      <a href='vscode-notebook-cell:/media/zullich/LabControlli1/OpenGAN/demo_CrossDatasetOpenSet_training.ipynb#ch0000035?line=0'>1</a>\u001b[0m features \u001b[39m=\u001b[39m []\n\u001b[1;32m      <a href='vscode-notebook-cell:/media/zullich/LabControlli1/OpenGAN/demo_CrossDatasetOpenSet_training.ipynb#ch0000035?line=2'>3</a>\u001b[0m backbone\u001b[39m.\u001b[39meval()\n\u001b[0;32m----> <a href='vscode-notebook-cell:/media/zullich/LabControlli1/OpenGAN/demo_CrossDatasetOpenSet_training.ipynb#ch0000035?line=3'>4</a>\u001b[0m \u001b[39mfor\u001b[39;00m i, (data, _) \u001b[39min\u001b[39;00m \u001b[39menumerate\u001b[39m(testloader):\n\u001b[1;32m      <a href='vscode-notebook-cell:/media/zullich/LabControlli1/OpenGAN/demo_CrossDatasetOpenSet_training.ipynb#ch0000035?line=4'>5</a>\u001b[0m     \u001b[39mprint\u001b[39m(\u001b[39mf\u001b[39m\u001b[39m\"\u001b[39m\u001b[39mDoing \u001b[39m\u001b[39m{\u001b[39;00mi\u001b[39m+\u001b[39m\u001b[39m1\u001b[39m\u001b[39m}\u001b[39;00m\u001b[39m/\u001b[39m\u001b[39m{\u001b[39;00m\u001b[39mlen\u001b[39m(testloader)\u001b[39m}\u001b[39;00m\u001b[39m\"\u001b[39m)\n\u001b[1;32m      <a href='vscode-notebook-cell:/media/zullich/LabControlli1/OpenGAN/demo_CrossDatasetOpenSet_training.ipynb#ch0000035?line=5'>6</a>\u001b[0m     _ \u001b[39m=\u001b[39m backbone(data\u001b[39m.\u001b[39mcuda())\n",
      "\u001b[0;31mNameError\u001b[0m: name 'testloader' is not defined"
     ]
    }
   ],
   "source": [
    "features = []\n",
    "\n",
    "backbone.eval()\n",
    "for i, (data, _) in enumerate(testloader):\n",
    "    print(f\"Doing {i+1}/{len(testloader)}\")\n",
    "    _ = backbone(data.cuda())"
   ]
  },
  {
   "cell_type": "code",
   "execution_count": 12,
   "metadata": {},
   "outputs": [
    {
     "ename": "NotImplementedError",
     "evalue": "There were no tensor arguments to this function (e.g., you passed an empty list of Tensors), but no fallback function is registered for schema aten::_cat.  This usually means that this function requires a non-empty list of Tensors, or that you (the operator writer) forgot to register a fallback function.  Available functions are [CPU, CUDA, QuantizedCPU, BackendSelect, Python, Named, Conjugate, Negative, ZeroTensor, ADInplaceOrView, AutogradOther, AutogradCPU, AutogradCUDA, AutogradXLA, AutogradLazy, AutogradXPU, AutogradMLC, AutogradHPU, AutogradNestedTensor, AutogradPrivateUse1, AutogradPrivateUse2, AutogradPrivateUse3, Tracer, AutocastCPU, Autocast, Batched, VmapMode, Functionalize].\n\nCPU: registered at /opt/conda/conda-bld/pytorch_1646755853668/work/build/aten/src/ATen/RegisterCPU.cpp:21063 [kernel]\nCUDA: registered at /opt/conda/conda-bld/pytorch_1646755853668/work/build/aten/src/ATen/RegisterCUDA.cpp:29726 [kernel]\nQuantizedCPU: registered at /opt/conda/conda-bld/pytorch_1646755853668/work/build/aten/src/ATen/RegisterQuantizedCPU.cpp:1258 [kernel]\nBackendSelect: fallthrough registered at /opt/conda/conda-bld/pytorch_1646755853668/work/aten/src/ATen/core/BackendSelectFallbackKernel.cpp:3 [backend fallback]\nPython: registered at /opt/conda/conda-bld/pytorch_1646755853668/work/aten/src/ATen/core/PythonFallbackKernel.cpp:47 [backend fallback]\nNamed: registered at /opt/conda/conda-bld/pytorch_1646755853668/work/aten/src/ATen/core/NamedRegistrations.cpp:7 [backend fallback]\nConjugate: registered at /opt/conda/conda-bld/pytorch_1646755853668/work/aten/src/ATen/ConjugateFallback.cpp:18 [backend fallback]\nNegative: registered at /opt/conda/conda-bld/pytorch_1646755853668/work/aten/src/ATen/native/NegateFallback.cpp:18 [backend fallback]\nZeroTensor: registered at /opt/conda/conda-bld/pytorch_1646755853668/work/aten/src/ATen/ZeroTensorFallback.cpp:86 [backend fallback]\nADInplaceOrView: fallthrough registered at /opt/conda/conda-bld/pytorch_1646755853668/work/aten/src/ATen/core/VariableFallbackKernel.cpp:64 [backend fallback]\nAutogradOther: registered at /opt/conda/conda-bld/pytorch_1646755853668/work/torch/csrc/autograd/generated/VariableType_3.cpp:11380 [autograd kernel]\nAutogradCPU: registered at /opt/conda/conda-bld/pytorch_1646755853668/work/torch/csrc/autograd/generated/VariableType_3.cpp:11380 [autograd kernel]\nAutogradCUDA: registered at /opt/conda/conda-bld/pytorch_1646755853668/work/torch/csrc/autograd/generated/VariableType_3.cpp:11380 [autograd kernel]\nAutogradXLA: registered at /opt/conda/conda-bld/pytorch_1646755853668/work/torch/csrc/autograd/generated/VariableType_3.cpp:11380 [autograd kernel]\nAutogradLazy: registered at /opt/conda/conda-bld/pytorch_1646755853668/work/torch/csrc/autograd/generated/VariableType_3.cpp:11380 [autograd kernel]\nAutogradXPU: registered at /opt/conda/conda-bld/pytorch_1646755853668/work/torch/csrc/autograd/generated/VariableType_3.cpp:11380 [autograd kernel]\nAutogradMLC: registered at /opt/conda/conda-bld/pytorch_1646755853668/work/torch/csrc/autograd/generated/VariableType_3.cpp:11380 [autograd kernel]\nAutogradHPU: registered at /opt/conda/conda-bld/pytorch_1646755853668/work/torch/csrc/autograd/generated/VariableType_3.cpp:11380 [autograd kernel]\nAutogradNestedTensor: registered at /opt/conda/conda-bld/pytorch_1646755853668/work/torch/csrc/autograd/generated/VariableType_3.cpp:11380 [autograd kernel]\nAutogradPrivateUse1: registered at /opt/conda/conda-bld/pytorch_1646755853668/work/torch/csrc/autograd/generated/VariableType_3.cpp:11380 [autograd kernel]\nAutogradPrivateUse2: registered at /opt/conda/conda-bld/pytorch_1646755853668/work/torch/csrc/autograd/generated/VariableType_3.cpp:11380 [autograd kernel]\nAutogradPrivateUse3: registered at /opt/conda/conda-bld/pytorch_1646755853668/work/torch/csrc/autograd/generated/VariableType_3.cpp:11380 [autograd kernel]\nTracer: registered at /opt/conda/conda-bld/pytorch_1646755853668/work/torch/csrc/autograd/generated/TraceType_3.cpp:11220 [kernel]\nAutocastCPU: fallthrough registered at /opt/conda/conda-bld/pytorch_1646755853668/work/aten/src/ATen/autocast_mode.cpp:461 [backend fallback]\nAutocast: fallthrough registered at /opt/conda/conda-bld/pytorch_1646755853668/work/aten/src/ATen/autocast_mode.cpp:305 [backend fallback]\nBatched: registered at /opt/conda/conda-bld/pytorch_1646755853668/work/aten/src/ATen/BatchingRegistrations.cpp:1059 [backend fallback]\nVmapMode: fallthrough registered at /opt/conda/conda-bld/pytorch_1646755853668/work/aten/src/ATen/VmapModeRegistrations.cpp:33 [backend fallback]\nFunctionalize: registered at /opt/conda/conda-bld/pytorch_1646755853668/work/aten/src/ATen/FunctionalizeFallbackKernel.cpp:52 [backend fallback]\n",
     "output_type": "error",
     "traceback": [
      "\u001b[0;31m---------------------------------------------------------------------------\u001b[0m",
      "\u001b[0;31mNotImplementedError\u001b[0m                       Traceback (most recent call last)",
      "\u001b[1;32m/media/zullich/LabControlli1/OpenGAN/demo_CrossDatasetOpenSet_training.ipynb Cell 37'\u001b[0m in \u001b[0;36m<cell line: 1>\u001b[0;34m()\u001b[0m\n\u001b[0;32m----> <a href='vscode-notebook-cell:/media/zullich/LabControlli1/OpenGAN/demo_CrossDatasetOpenSet_training.ipynb#ch0000036?line=0'>1</a>\u001b[0m features \u001b[39m=\u001b[39m torch\u001b[39m.\u001b[39;49mcat(features, dim\u001b[39m=\u001b[39;49m\u001b[39m0\u001b[39;49m)\n",
      "\u001b[0;31mNotImplementedError\u001b[0m: There were no tensor arguments to this function (e.g., you passed an empty list of Tensors), but no fallback function is registered for schema aten::_cat.  This usually means that this function requires a non-empty list of Tensors, or that you (the operator writer) forgot to register a fallback function.  Available functions are [CPU, CUDA, QuantizedCPU, BackendSelect, Python, Named, Conjugate, Negative, ZeroTensor, ADInplaceOrView, AutogradOther, AutogradCPU, AutogradCUDA, AutogradXLA, AutogradLazy, AutogradXPU, AutogradMLC, AutogradHPU, AutogradNestedTensor, AutogradPrivateUse1, AutogradPrivateUse2, AutogradPrivateUse3, Tracer, AutocastCPU, Autocast, Batched, VmapMode, Functionalize].\n\nCPU: registered at /opt/conda/conda-bld/pytorch_1646755853668/work/build/aten/src/ATen/RegisterCPU.cpp:21063 [kernel]\nCUDA: registered at /opt/conda/conda-bld/pytorch_1646755853668/work/build/aten/src/ATen/RegisterCUDA.cpp:29726 [kernel]\nQuantizedCPU: registered at /opt/conda/conda-bld/pytorch_1646755853668/work/build/aten/src/ATen/RegisterQuantizedCPU.cpp:1258 [kernel]\nBackendSelect: fallthrough registered at /opt/conda/conda-bld/pytorch_1646755853668/work/aten/src/ATen/core/BackendSelectFallbackKernel.cpp:3 [backend fallback]\nPython: registered at /opt/conda/conda-bld/pytorch_1646755853668/work/aten/src/ATen/core/PythonFallbackKernel.cpp:47 [backend fallback]\nNamed: registered at /opt/conda/conda-bld/pytorch_1646755853668/work/aten/src/ATen/core/NamedRegistrations.cpp:7 [backend fallback]\nConjugate: registered at /opt/conda/conda-bld/pytorch_1646755853668/work/aten/src/ATen/ConjugateFallback.cpp:18 [backend fallback]\nNegative: registered at /opt/conda/conda-bld/pytorch_1646755853668/work/aten/src/ATen/native/NegateFallback.cpp:18 [backend fallback]\nZeroTensor: registered at /opt/conda/conda-bld/pytorch_1646755853668/work/aten/src/ATen/ZeroTensorFallback.cpp:86 [backend fallback]\nADInplaceOrView: fallthrough registered at /opt/conda/conda-bld/pytorch_1646755853668/work/aten/src/ATen/core/VariableFallbackKernel.cpp:64 [backend fallback]\nAutogradOther: registered at /opt/conda/conda-bld/pytorch_1646755853668/work/torch/csrc/autograd/generated/VariableType_3.cpp:11380 [autograd kernel]\nAutogradCPU: registered at /opt/conda/conda-bld/pytorch_1646755853668/work/torch/csrc/autograd/generated/VariableType_3.cpp:11380 [autograd kernel]\nAutogradCUDA: registered at /opt/conda/conda-bld/pytorch_1646755853668/work/torch/csrc/autograd/generated/VariableType_3.cpp:11380 [autograd kernel]\nAutogradXLA: registered at /opt/conda/conda-bld/pytorch_1646755853668/work/torch/csrc/autograd/generated/VariableType_3.cpp:11380 [autograd kernel]\nAutogradLazy: registered at /opt/conda/conda-bld/pytorch_1646755853668/work/torch/csrc/autograd/generated/VariableType_3.cpp:11380 [autograd kernel]\nAutogradXPU: registered at /opt/conda/conda-bld/pytorch_1646755853668/work/torch/csrc/autograd/generated/VariableType_3.cpp:11380 [autograd kernel]\nAutogradMLC: registered at /opt/conda/conda-bld/pytorch_1646755853668/work/torch/csrc/autograd/generated/VariableType_3.cpp:11380 [autograd kernel]\nAutogradHPU: registered at /opt/conda/conda-bld/pytorch_1646755853668/work/torch/csrc/autograd/generated/VariableType_3.cpp:11380 [autograd kernel]\nAutogradNestedTensor: registered at /opt/conda/conda-bld/pytorch_1646755853668/work/torch/csrc/autograd/generated/VariableType_3.cpp:11380 [autograd kernel]\nAutogradPrivateUse1: registered at /opt/conda/conda-bld/pytorch_1646755853668/work/torch/csrc/autograd/generated/VariableType_3.cpp:11380 [autograd kernel]\nAutogradPrivateUse2: registered at /opt/conda/conda-bld/pytorch_1646755853668/work/torch/csrc/autograd/generated/VariableType_3.cpp:11380 [autograd kernel]\nAutogradPrivateUse3: registered at /opt/conda/conda-bld/pytorch_1646755853668/work/torch/csrc/autograd/generated/VariableType_3.cpp:11380 [autograd kernel]\nTracer: registered at /opt/conda/conda-bld/pytorch_1646755853668/work/torch/csrc/autograd/generated/TraceType_3.cpp:11220 [kernel]\nAutocastCPU: fallthrough registered at /opt/conda/conda-bld/pytorch_1646755853668/work/aten/src/ATen/autocast_mode.cpp:461 [backend fallback]\nAutocast: fallthrough registered at /opt/conda/conda-bld/pytorch_1646755853668/work/aten/src/ATen/autocast_mode.cpp:305 [backend fallback]\nBatched: registered at /opt/conda/conda-bld/pytorch_1646755853668/work/aten/src/ATen/BatchingRegistrations.cpp:1059 [backend fallback]\nVmapMode: fallthrough registered at /opt/conda/conda-bld/pytorch_1646755853668/work/aten/src/ATen/VmapModeRegistrations.cpp:33 [backend fallback]\nFunctionalize: registered at /opt/conda/conda-bld/pytorch_1646755853668/work/aten/src/ATen/FunctionalizeFallbackKernel.cpp:52 [backend fallback]\n"
     ]
    }
   ],
   "source": [
    "features = torch.cat(features, dim=0)"
   ]
  },
  {
   "cell_type": "code",
   "execution_count": 27,
   "metadata": {},
   "outputs": [],
   "source": [
    "torch.save(features, \"punzoni_res18_features_TEST.pt\")"
   ]
  },
  {
   "cell_type": "code",
   "execution_count": 13,
   "metadata": {},
   "outputs": [],
   "source": [
    "features = torch.load(\"punzoni_res18_features_TEST.pt\")"
   ]
  },
  {
   "cell_type": "code",
   "execution_count": 14,
   "metadata": {},
   "outputs": [],
   "source": [
    "testset_closeset = FeatDataset(data=features)\n",
    "testloader = DataLoader(testset_closeset, batch_size=batch_size, shuffle=True, num_workers=1)"
   ]
  },
  {
   "cell_type": "code",
   "execution_count": 15,
   "metadata": {},
   "outputs": [
    {
     "data": {
      "text/plain": [
       "770"
      ]
     },
     "execution_count": 15,
     "metadata": {},
     "output_type": "execute_result"
    }
   ],
   "source": [
    "len(testset_closeset)"
   ]
  },
  {
   "cell_type": "code",
   "execution_count": 16,
   "metadata": {},
   "outputs": [
    {
     "name": "stdout",
     "output_type": "stream",
     "text": [
      "Correctly identified items: 1.0\n",
      "Correctly identified fakes: 0.528\n"
     ]
    },
    {
     "data": {
      "text/plain": [
       "Text(0.5, 1.0, 'ROC score 1.00000')"
      ]
     },
     "execution_count": 16,
     "metadata": {},
     "output_type": "execute_result"
    },
    {
     "data": {
      "image/png": "[encoded data removed]",
      "text/plain": [
       "<Figure size 432x288 with 1 Axes>"
      ]
     },
     "metadata": {
      "needs_background": "light"
     },
     "output_type": "display_data"
    }
   ],
   "source": [
    "x = next(iter(testloader)).cuda()\n",
    "(netD(x).view(-1) >= .5).sum().item() / x.size(0)\n",
    "\n",
    "correct = 0\n",
    "netD.eval()\n",
    "\n",
    "outputs_close = []\n",
    "with torch.no_grad():\n",
    "    for test_data in testloader:\n",
    "        output = netD(test_data.cuda()).view(-1)\n",
    "        outputs_close += [output.cpu()]\n",
    "        correct += (output >= .5).sum().item()\n",
    "\n",
    "outputs_close = torch.cat(outputs_close).numpy()\n",
    "\n",
    "print(\"Correctly identified items:\", correct/len(testloader.dataset))\n",
    "\n",
    "correct_fake = 0\n",
    "outputs_open = []\n",
    "with torch.no_grad():\n",
    "    for ite in range(10):\n",
    "        #noise = torch.randn(100, 512, 8, 8, device=device)\n",
    "        features = []\n",
    "        noiseimg = torch.randn(100, 3, 256, 256, device=device)\n",
    "        _ = backbone(noiseimg)\n",
    "        feats = features[0].cuda()\n",
    "        assert feats.shape == (100, 512, 8, 8), f\"Features shape is {feats.shape}, expected (100, 512, 8, 8)\"\n",
    "        output = netD(feats).view(-1)\n",
    "        outputs_open.append(output.cpu())\n",
    "        correct_fake += (output < .5).sum().item()\n",
    "outputs_open = torch.cat(outputs_open).numpy()\n",
    "\n",
    "print(\"Correctly identified fakes:\", correct_fake/1000)\n",
    "\n",
    "roc_score, roc_to_plot = evaluate_openset(outputs_open, outputs_close)\n",
    "plt.plot(roc_to_plot['fp'], roc_to_plot['tp'])\n",
    "plt.grid('on')\n",
    "plt.xlabel('False Positive Rate')\n",
    "plt.ylabel('True Positive Rate')\n",
    "plt.title('ROC score {:.5f}'.format(roc_score))"
   ]
  },
  {
   "cell_type": "markdown",
   "metadata": {},
   "source": [
    "test con punzoni **grandi**"
   ]
  },
  {
   "cell_type": "code",
   "execution_count": 61,
   "metadata": {},
   "outputs": [],
   "source": [
    "from PIL import Image\n",
    "\n",
    "transform = T.Compose([\n",
    "        T.Resize((256, 256)),\n",
    "        T.ToTensor(),\n",
    "        T.Normalize(mean=(0.5, 0.5, 0.5), std=(0.5, 0.5, 0.5))\n",
    "    ])\n",
    "\n",
    "batch_size_eval = 64\n",
    "\n",
    "root_data = \"../CV_thesis_GiovanniPinna/ImageSet/train/Grandi/\"\n",
    "root_testdata = \"../CV_thesis_GiovanniPinna/ImageSet/test/Grandi/\"\n",
    "\n",
    "imgs = [transform(Image.open(os.path.join(root_data,i))) for i in os.listdir(root_data)]\n",
    "imgs += [transform(Image.open(os.path.join(root_testdata,i))) for i in os.listdir(root_testdata)]\n",
    "imgs = torch.stack(imgs)"
   ]
  },
  {
   "cell_type": "code",
   "execution_count": 62,
   "metadata": {},
   "outputs": [],
   "source": [
    "features = []\n",
    "\n",
    "backbone.eval()\n",
    "_ = backbone(imgs.cuda())"
   ]
  },
  {
   "cell_type": "code",
   "execution_count": 63,
   "metadata": {},
   "outputs": [],
   "source": [
    "netD.eval()\n",
    "output_composti = netD(features[0].cuda()).view(-1).detach().cpu().numpy()"
   ]
  },
  {
   "cell_type": "code",
   "execution_count": 64,
   "metadata": {},
   "outputs": [
    {
     "data": {
      "text/plain": [
       "array([0.6739283 , 0.73266596, 0.8079949 , 0.7228598 , 0.8557588 ,\n",
       "       0.8376461 , 0.8098907 , 0.69925076, 0.71038556, 0.6860232 ,\n",
       "       0.6548502 , 0.75334454, 0.5952091 , 0.792592  , 0.75637764],\n",
       "      dtype=float32)"
      ]
     },
     "execution_count": 64,
     "metadata": {},
     "output_type": "execute_result"
    }
   ],
   "source": [
    "output_composti"
   ]
  },
  {
   "cell_type": "markdown",
   "metadata": {},
   "source": [
    "test con **no punzoni**"
   ]
  },
  {
   "cell_type": "code",
   "execution_count": 34,
   "metadata": {},
   "outputs": [],
   "source": [
    "transform = T.Compose([\n",
    "        T.Resize((256, 256)),\n",
    "        T.ToTensor(),\n",
    "        T.Normalize(mean=(0.5, 0.5, 0.5), std=(0.5, 0.5, 0.5))\n",
    "    ])\n",
    "\n",
    "batch_size_eval = 64\n",
    "\n",
    "root_data = \"../CV_thesis_GiovanniPinna/ImageSet/No_punzoni/\"\n",
    "\n",
    "imgs = [transform(Image.open(os.path.join(root_data,i))) for i in os.listdir(root_data)]\n",
    "imgs = torch.stack(imgs)\n",
    "\n",
    "features = []\n",
    "\n",
    "backbone.eval()\n",
    "_ = backbone(imgs.cuda())\n",
    "\n",
    "netD.eval()\n",
    "outputs_nopunz = netD(features[0].cuda()).view(-1)\n",
    "outputs_nopunz = outputs_nopunz.detach().cpu().numpy()\n"
   ]
  },
  {
   "cell_type": "code",
   "execution_count": 42,
   "metadata": {},
   "outputs": [
    {
     "data": {
      "text/plain": [
       "array([0.74214154, 0.49442866, 0.81020653, 0.52431124, 0.712851  ,\n",
       "       0.74693483, 0.6888532 , 0.78641886, 0.7052823 , 0.6950644 ,\n",
       "       0.5911645 , 0.67522895, 0.69293296, 0.7174795 , 0.43024367],\n",
       "      dtype=float32)"
      ]
     },
     "execution_count": 42,
     "metadata": {},
     "output_type": "execute_result"
    }
   ],
   "source": [
    "outputs_nopunz"
   ]
  },
  {
   "cell_type": "code",
   "execution_count": 40,
   "metadata": {},
   "outputs": [
    {
     "data": {
      "text/plain": [
       "Text(0.5, 1.0, 'ROC score 0.99939')"
      ]
     },
     "execution_count": 40,
     "metadata": {},
     "output_type": "execute_result"
    },
    {
     "data": {
      "image/png": "[encoded data removed]",
      "text/plain": [
       "<Figure size 432x288 with 1 Axes>"
      ]
     },
     "metadata": {
      "needs_background": "light"
     },
     "output_type": "display_data"
    }
   ],
   "source": [
    "roc_score, roc_to_plot = evaluate_openset(outputs_nopunz, outputs_close)\n",
    "plt.plot(roc_to_plot['fp'], roc_to_plot['tp'])\n",
    "plt.grid('on')\n",
    "plt.xlabel('False Positive Rate')\n",
    "plt.ylabel('True Positive Rate')\n",
    "plt.title('ROC score {:.5f}'.format(roc_score))"
   ]
  },
  {
   "cell_type": "markdown",
   "metadata": {},
   "source": [
    "test con **altri punzoni extra**"
   ]
  },
  {
   "cell_type": "code",
   "execution_count": 32,
   "metadata": {},
   "outputs": [],
   "source": [
    "transform = T.Compose([\n",
    "        T.Resize((256, 256)),\n",
    "        T.ToTensor(),\n",
    "        T.Normalize(mean=(0.5, 0.5, 0.5), std=(0.5, 0.5, 0.5))\n",
    "    ])\n",
    "\n",
    "batch_size_eval = 64\n",
    "\n",
    "root_data = \"../CV_thesis_GiovanniPinna/ImageSet/extra/\"\n",
    "\n",
    "extra_ds = torchvision.datasets.ImageFolder(root=root_data, transform=transform)\n",
    "extra_dl = torch.utils.data.DataLoader(extra_ds, batch_size=len(extra_ds), shuffle=False, num_workers=1)\n",
    "\n",
    "features = []\n",
    "\n",
    "backbone.eval()\n",
    "_ = backbone(next(iter(extra_dl))[0].cuda())\n",
    "\n",
    "netD.eval()\n",
    "outputs_extra = netD(features[0].cuda()).view(-1)\n",
    "outputs_extra = outputs_extra.detach().cpu().numpy()\n"
   ]
  },
  {
   "cell_type": "code",
   "execution_count": 44,
   "metadata": {},
   "outputs": [
    {
     "data": {
      "text/plain": [
       "array([0.83409464, 0.6774761 , 0.86624736, 0.82297736, 0.87356   ,\n",
       "       0.8917484 , 0.8913916 , 0.71042424, 0.71534586, 0.8441397 ,\n",
       "       0.88700587, 0.87881744, 0.6180905 , 0.66010606, 0.6900776 ,\n",
       "       0.7531092 , 0.69765115, 0.74281436, 0.7044879 , 0.5333768 ,\n",
       "       0.80385584, 0.83393025, 0.8236    , 0.845063  , 0.760179  ,\n",
       "       0.81495106, 0.69202167, 0.7920756 , 0.8228219 , 0.6675756 ,\n",
       "       0.66592425, 0.715242  , 0.7470552 , 0.80297697, 0.8000338 ,\n",
       "       0.77537   , 0.80657244, 0.71206415], dtype=float32)"
      ]
     },
     "execution_count": 44,
     "metadata": {},
     "output_type": "execute_result"
    }
   ],
   "source": [
    "outputs_extra"
   ]
  },
  {
   "cell_type": "code",
   "execution_count": 45,
   "metadata": {},
   "outputs": [
    {
     "data": {
      "text/plain": [
       "array([0.9132554 , 0.9037911 , 0.93699205, 0.9202374 , 0.8943375 ,\n",
       "       0.9079088 , 0.90032095, 0.8961871 , 0.91291976, 0.90685076,\n",
       "       0.9183301 , 0.8917943 , 0.90291804, 0.8512435 , 0.93417215,\n",
       "       0.88552254, 0.9110989 , 0.91039324, 0.8990096 , 0.9143753 ,\n",
       "       0.92082024, 0.90125763, 0.8946731 , 0.8995942 , 0.88718814,\n",
       "       0.91172254, 0.9087972 , 0.84590894, 0.9132098 , 0.90101564,\n",
       "       0.91614264, 0.8847292 , 0.92566717, 0.9157165 , 0.8411417 ,\n",
       "       0.9003595 , 0.89432335, 0.9080792 , 0.87849414, 0.9072918 ,\n",
       "       0.93162256, 0.8932514 , 0.90817535, 0.8681854 , 0.86253047,\n",
       "       0.910223  , 0.89075977, 0.8765441 , 0.8762655 , 0.9074947 ,\n",
       "       0.8874636 , 0.9091248 , 0.8903968 , 0.9217959 , 0.9132398 ,\n",
       "       0.91766953, 0.89548653, 0.8844044 , 0.88705504, 0.90049857,\n",
       "       0.91045713, 0.90900785, 0.9291821 , 0.88186353, 0.8918348 ,\n",
       "       0.8919235 , 0.9179774 , 0.9096839 , 0.9112863 , 0.8920392 ,\n",
       "       0.8952843 , 0.9016426 , 0.90311986, 0.8914824 , 0.9280336 ,\n",
       "       0.85545075, 0.90142405, 0.9012599 , 0.91341144, 0.9086614 ,\n",
       "       0.89181066, 0.9403333 , 0.9024997 , 0.9171468 , 0.9220976 ,\n",
       "       0.9280336 , 0.8744953 , 0.8869996 , 0.92382467, 0.9010218 ,\n",
       "       0.89336574, 0.90896744, 0.90776956, 0.90823615, 0.90728545,\n",
       "       0.9068738 , 0.91250366, 0.85347295, 0.7435208 , 0.9028138 ,\n",
       "       0.90622485, 0.9002953 , 0.8254951 , 0.9037038 , 0.90588963,\n",
       "       0.920073  , 0.8986342 , 0.9101498 , 0.9014228 , 0.84299296,\n",
       "       0.89256454, 0.8767358 , 0.8848273 , 0.88279   , 0.88971466,\n",
       "       0.8943572 , 0.92425644, 0.87911373, 0.9197791 , 0.8701    ,\n",
       "       0.91427636, 0.9145182 , 0.92838323, 0.892617  , 0.8923229 ,\n",
       "       0.90434974, 0.8471085 , 0.9072623 , 0.92305595, 0.88536054,\n",
       "       0.8655393 , 0.9170662 , 0.9078435 , 0.9427109 , 0.9056112 ,\n",
       "       0.91548747, 0.9014558 , 0.89820206, 0.88917935, 0.9007112 ,\n",
       "       0.9310442 , 0.896035  , 0.83770174, 0.9268873 , 0.91234154,\n",
       "       0.926083  , 0.90899986, 0.91094524, 0.9047115 , 0.77275586,\n",
       "       0.91050005, 0.88615733, 0.9303903 , 0.89290524, 0.9261382 ,\n",
       "       0.89275354, 0.91206765, 0.9313483 , 0.886108  , 0.8479678 ,\n",
       "       0.89937305, 0.93429005, 0.9260741 , 0.90442276, 0.8929452 ,\n",
       "       0.88859767, 0.9132493 , 0.9122063 , 0.8948649 , 0.8925538 ,\n",
       "       0.8851721 , 0.9096308 , 0.9041181 , 0.9129209 , 0.95830005,\n",
       "       0.8913084 , 0.9266349 , 0.9126689 , 0.90626496, 0.8974678 ,\n",
       "       0.86045784, 0.89817625, 0.8928296 , 0.8468022 , 0.9095911 ,\n",
       "       0.8897779 , 0.8958885 , 0.9125027 , 0.91751647, 0.9021256 ,\n",
       "       0.8486754 , 0.9180594 , 0.9137552 , 0.89193624, 0.87493587,\n",
       "       0.9109325 , 0.91941154, 0.83192414, 0.89780116, 0.86528987,\n",
       "       0.91023415, 0.9185413 , 0.93093055, 0.9195748 , 0.92514604,\n",
       "       0.9011123 , 0.9232439 , 0.91079116, 0.8934573 , 0.8871922 ,\n",
       "       0.8787352 , 0.91231275, 0.9279688 , 0.9095438 , 0.88974994,\n",
       "       0.9009928 , 0.8612303 , 0.88976705, 0.9098766 , 0.92084813,\n",
       "       0.9472892 , 0.85798866, 0.8941443 , 0.934843  , 0.9063242 ,\n",
       "       0.86528987, 0.89854246, 0.8841591 , 0.91644794, 0.886845  ,\n",
       "       0.9454922 , 0.8992686 , 0.8872159 , 0.91091913, 0.92289853,\n",
       "       0.8710596 , 0.89393896, 0.91418356, 0.92728287, 0.9498539 ,\n",
       "       0.87969965, 0.8989034 , 0.8895254 , 0.94285995, 0.8959494 ,\n",
       "       0.84436923, 0.90505606, 0.8984901 , 0.888256  , 0.91683024,\n",
       "       0.8686278 , 0.9143464 , 0.91087407, 0.91748744, 0.9046028 ,\n",
       "       0.9183553 , 0.89835536, 0.90965545, 0.90094876, 0.8966061 ,\n",
       "       0.9291033 , 0.9215165 , 0.85191816, 0.9104188 , 0.91385454,\n",
       "       0.9153424 , 0.8990618 , 0.8961175 , 0.91174406, 0.91195095,\n",
       "       0.9257985 , 0.9121509 , 0.89272904, 0.9268537 , 0.9113635 ,\n",
       "       0.90630114, 0.920107  , 0.8859821 , 0.91291916, 0.90556633,\n",
       "       0.8992786 , 0.8335254 , 0.87438023, 0.8892547 , 0.93335724,\n",
       "       0.91219467, 0.9110116 , 0.9003493 , 0.91331977, 0.9201615 ,\n",
       "       0.8945686 , 0.9074204 , 0.9413512 , 0.9228103 , 0.912184  ,\n",
       "       0.8953806 , 0.9230734 , 0.9080705 , 0.9472892 , 0.92318887,\n",
       "       0.90980256, 0.9097223 , 0.88673264, 0.9300375 , 0.8904403 ,\n",
       "       0.90492886, 0.904627  , 0.89067113, 0.916275  , 0.8830349 ,\n",
       "       0.9117099 , 0.8975143 , 0.9007178 , 0.8817044 , 0.9017929 ,\n",
       "       0.91162586, 0.90002495, 0.87616384, 0.9153557 , 0.90001196,\n",
       "       0.8623057 , 0.914375  , 0.8964708 , 0.8963395 , 0.89943874,\n",
       "       0.8866974 , 0.9120689 , 0.9242415 , 0.91829616, 0.8983005 ,\n",
       "       0.8957576 , 0.9226289 , 0.92111075, 0.9020982 , 0.89196223,\n",
       "       0.8841153 , 0.81257695, 0.8827054 , 0.8987724 , 0.9067342 ,\n",
       "       0.9094005 , 0.8909565 , 0.91237766, 0.9036294 , 0.89817625,\n",
       "       0.9062896 , 0.9022977 , 0.8908271 , 0.90741146, 0.9040474 ,\n",
       "       0.88900477, 0.912509  , 0.8703804 , 0.91754085, 0.9132543 ,\n",
       "       0.8939752 , 0.8998325 , 0.9338049 , 0.9083186 , 0.9097125 ,\n",
       "       0.9012466 , 0.89700943, 0.8855444 , 0.9274634 , 0.9015819 ,\n",
       "       0.8958251 , 0.89889205, 0.9004925 , 0.9345169 , 0.9233162 ,\n",
       "       0.90140516, 0.9127109 , 0.92639196, 0.91163397, 0.90377754,\n",
       "       0.8987084 , 0.8953751 , 0.88049805, 0.9041964 , 0.92064965,\n",
       "       0.9110587 , 0.8950026 , 0.9177888 , 0.91191894, 0.910634  ,\n",
       "       0.94231683, 0.9278313 , 0.8962421 , 0.90337056, 0.92980194,\n",
       "       0.8669304 , 0.86950314, 0.90398854, 0.8954674 , 0.89705276,\n",
       "       0.89948416, 0.8995729 , 0.92203236, 0.9252143 , 0.9243018 ,\n",
       "       0.92505777, 0.9194531 , 0.9072414 , 0.9315053 , 0.9216909 ,\n",
       "       0.9099613 , 0.90074503, 0.90411496, 0.904627  , 0.8845167 ,\n",
       "       0.86875355, 0.8927658 , 0.87164545, 0.9290662 , 0.92489   ,\n",
       "       0.90145695, 0.9072091 , 0.8710515 , 0.9396923 , 0.90932196,\n",
       "       0.8986492 , 0.91171277, 0.9181183 , 0.89118266, 0.907024  ,\n",
       "       0.9036352 , 0.81136507, 0.92959565, 0.90237355, 0.9047391 ,\n",
       "       0.88453156, 0.9179535 , 0.8912423 , 0.92233264, 0.9078991 ,\n",
       "       0.89664125, 0.88059795, 0.8951458 , 0.90397125, 0.8773952 ,\n",
       "       0.9132432 , 0.9077833 , 0.8955521 , 0.91199684, 0.9367603 ,\n",
       "       0.90905505, 0.92547834, 0.9137575 , 0.89888126, 0.90016586,\n",
       "       0.83609325, 0.8863745 , 0.8910929 , 0.84637713, 0.9101026 ,\n",
       "       0.9341916 , 0.921448  , 0.9003279 , 0.81763613, 0.8213745 ,\n",
       "       0.9072414 , 0.89199686, 0.9089652 , 0.91324794, 0.9059082 ,\n",
       "       0.9457516 , 0.9152538 , 0.89978844, 0.8787267 , 0.9107015 ,\n",
       "       0.8760038 , 0.940563  , 0.8647973 , 0.91784567, 0.9046114 ,\n",
       "       0.88053846, 0.90591705, 0.8725795 , 0.8825036 , 0.91534054,\n",
       "       0.89974606, 0.8965943 , 0.92290443, 0.927278  , 0.8995238 ,\n",
       "       0.91617745, 0.906587  , 0.8935246 , 0.8928311 , 0.8960366 ,\n",
       "       0.8990246 , 0.9162828 , 0.89945877, 0.84208107, 0.9148974 ,\n",
       "       0.89111614, 0.908963  , 0.8775305 , 0.76408184, 0.9126055 ,\n",
       "       0.9030034 , 0.8944534 , 0.90579426, 0.93989044, 0.90563774,\n",
       "       0.8481585 , 0.89899504, 0.8961744 , 0.912522  , 0.9066275 ,\n",
       "       0.8623057 , 0.89720505, 0.9129615 , 0.92327124, 0.92178816,\n",
       "       0.90681   , 0.90781784, 0.91295624, 0.8354206 , 0.8929573 ,\n",
       "       0.90623045, 0.9007385 , 0.8755865 , 0.8934711 , 0.8985774 ,\n",
       "       0.9042137 , 0.89006823, 0.8984584 , 0.90886325, 0.8761095 ,\n",
       "       0.9306641 , 0.86709434, 0.90716034, 0.8596474 , 0.9025687 ,\n",
       "       0.9081476 , 0.87143856, 0.9379011 , 0.88750374, 0.92027503,\n",
       "       0.8906422 , 0.88292104, 0.8768882 , 0.9269628 , 0.85548246,\n",
       "       0.925249  , 0.89031523, 0.8904374 , 0.89740765, 0.91511637,\n",
       "       0.91298735, 0.9106244 , 0.9259721 , 0.8923626 , 0.9181992 ,\n",
       "       0.90917146, 0.9052751 , 0.93971485, 0.8949899 , 0.8761413 ,\n",
       "       0.9097798 , 0.9184992 , 0.92934304, 0.8983251 , 0.9138058 ,\n",
       "       0.88466203, 0.87992847, 0.9159301 , 0.8908737 , 0.89614654,\n",
       "       0.90867835, 0.904456  , 0.9005948 , 0.8971147 , 0.8882891 ,\n",
       "       0.86276454, 0.881189  , 0.91299754, 0.9076739 , 0.8352738 ,\n",
       "       0.8967957 , 0.9205384 , 0.9108552 , 0.84658027, 0.9005093 ,\n",
       "       0.8802991 , 0.9047622 , 0.8885824 , 0.9060933 , 0.90956265,\n",
       "       0.90325075, 0.88411474, 0.9097857 , 0.89589024, 0.9009029 ,\n",
       "       0.8450318 , 0.88965213, 0.88516885, 0.9154424 , 0.9327608 ,\n",
       "       0.90719765, 0.89834845, 0.91653484, 0.9086513 , 0.91858506,\n",
       "       0.8517637 , 0.8986493 , 0.9334372 , 0.88788915, 0.9128539 ,\n",
       "       0.932507  , 0.88103056, 0.8843731 , 0.8909189 , 0.92030615,\n",
       "       0.89859796, 0.8680655 , 0.9118067 , 0.8937882 , 0.8996453 ,\n",
       "       0.8928603 , 0.8997453 , 0.90550554, 0.9048542 , 0.91394633,\n",
       "       0.90590364, 0.8562288 , 0.90227854, 0.8894214 , 0.90819305,\n",
       "       0.930697  , 0.9132398 , 0.8971899 , 0.9124917 , 0.9127516 ,\n",
       "       0.9227618 , 0.9209081 , 0.8927702 , 0.90723294, 0.90939504,\n",
       "       0.81244093, 0.91962886, 0.9223967 , 0.8951946 , 0.88200015,\n",
       "       0.94803596, 0.94242555, 0.8588309 , 0.8854111 , 0.9269135 ,\n",
       "       0.90595686, 0.8876245 , 0.9053052 , 0.86764735, 0.8967437 ,\n",
       "       0.9055029 , 0.94497335, 0.91245306, 0.9036129 , 0.8936829 ,\n",
       "       0.9080571 , 0.90041006, 0.9017692 , 0.90761364, 0.9291033 ,\n",
       "       0.8908552 , 0.9155567 , 0.9025415 , 0.87299424, 0.9312509 ,\n",
       "       0.9349593 , 0.8903521 , 0.91580087, 0.9135084 , 0.8821823 ,\n",
       "       0.90634036, 0.91009915, 0.9036968 , 0.9113781 , 0.9143753 ,\n",
       "       0.91339076, 0.8519046 , 0.8925538 , 0.90794134, 0.89387447,\n",
       "       0.90403944, 0.8999967 , 0.89691335, 0.8961172 , 0.90599287,\n",
       "       0.90409565, 0.8872582 , 0.88354677, 0.93365884, 0.91174465,\n",
       "       0.8553784 , 0.92587644, 0.8616057 , 0.87333536, 0.8788233 ,\n",
       "       0.89869475, 0.9093349 , 0.894605  , 0.9033375 , 0.9003527 ,\n",
       "       0.8971451 , 0.8787267 , 0.9035903 , 0.913984  , 0.8952909 ,\n",
       "       0.9096657 , 0.8941424 , 0.9074947 , 0.8789273 , 0.8917255 ,\n",
       "       0.9418897 , 0.9072806 , 0.89463466, 0.9023978 , 0.8865708 ,\n",
       "       0.91547227, 0.90276647, 0.8657625 , 0.9116643 , 0.9100251 ,\n",
       "       0.9055437 , 0.9233782 , 0.8904637 , 0.89718133, 0.9167431 ,\n",
       "       0.8945547 , 0.8987941 , 0.9107367 , 0.9090893 , 0.90823793,\n",
       "       0.90233296, 0.8984515 , 0.92934304, 0.8957576 , 0.87794745,\n",
       "       0.8723451 , 0.9050091 , 0.9041993 , 0.8282506 , 0.8884569 ,\n",
       "       0.9117635 , 0.9047133 , 0.8768591 , 0.915355  , 0.9070552 ,\n",
       "       0.8792476 , 0.87169755, 0.85070664, 0.9056828 , 0.89204013,\n",
       "       0.922375  , 0.8944353 , 0.8894545 , 0.87893975, 0.9107247 ,\n",
       "       0.9099904 , 0.8949456 , 0.9138079 , 0.92728615, 0.8956641 ,\n",
       "       0.90937716, 0.90611225, 0.83320796, 0.89934134, 0.9086635 ],\n",
       "      dtype=float32)"
      ]
     },
     "execution_count": 45,
     "metadata": {},
     "output_type": "execute_result"
    }
   ],
   "source": [
    "outputs_close"
   ]
  },
  {
   "cell_type": "code",
   "execution_count": 66,
   "metadata": {},
   "outputs": [
    {
     "data": {
      "text/plain": [
       "Text(0.5, 1.0, 'ROC score 0.97061')"
      ]
     },
     "execution_count": 66,
     "metadata": {},
     "output_type": "execute_result"
    },
    {
     "data": {
      "image/png": "[encoded data removed]",
      "text/plain": [
       "<Figure size 432x288 with 1 Axes>"
      ]
     },
     "metadata": {
      "needs_background": "light"
     },
     "output_type": "display_data"
    }
   ],
   "source": [
    "roc_score, roc_to_plot = evaluate_openset(outputs_extra, outputs_close)\n",
    "plt.plot(roc_to_plot['fp'], roc_to_plot['tp'])\n",
    "plt.grid('on')\n",
    "plt.xlabel('False Positive Rate')\n",
    "plt.ylabel('True Positive Rate')\n",
    "plt.title('ROC score {:.5f}'.format(roc_score))"
   ]
  },
  {
   "cell_type": "code",
   "execution_count": 69,
   "metadata": {},
   "outputs": [
    {
     "data": {
      "text/plain": [
       "0.9984245586353054"
      ]
     },
     "execution_count": 69,
     "metadata": {},
     "output_type": "execute_result"
    }
   ],
   "source": [
    "import sklearn\n",
    "\n",
    "def mean_ap(outputs1, outputs2):\n",
    "    y_true = [1] * len(outputs1) + [0] * len(outputs2)\n",
    "    y_score = np.concatenate([outputs1, outputs2])\n",
    "    return sklearn.metrics.average_precision_score(y_true, y_score)\n",
    "\n",
    "mean_ap(outputs_close, outputs_extra)"
   ]
  },
  {
   "cell_type": "code",
   "execution_count": 70,
   "metadata": {},
   "outputs": [
    {
     "data": {
      "text/plain": [
       "0.9999882176370101"
      ]
     },
     "execution_count": 70,
     "metadata": {},
     "output_type": "execute_result"
    }
   ],
   "source": [
    "mean_ap(outputs_close, outputs_nopunz)"
   ]
  },
  {
   "cell_type": "code",
   "execution_count": 54,
   "metadata": {},
   "outputs": [
    {
     "data": {
      "image/png": "[encoded data removed]",
      "text/plain": [
       "<Figure size 432x288 with 1 Axes>"
      ]
     },
     "metadata": {
      "needs_background": "light"
     },
     "output_type": "display_data"
    }
   ],
   "source": [
    "plt.hist(outputs_extra, label=\"punzoni extra\", density=True, alpha=0.5)\n",
    "plt.hist(outputs_close, label=\"punzoni closeset\", density=True, alpha=0.5)\n",
    "plt.legend(loc='upper right')\n",
    "plt.title('Overlapping')\n",
    "plt.show()"
   ]
  },
  {
   "cell_type": "code",
   "execution_count": 55,
   "metadata": {},
   "outputs": [
    {
     "data": {
      "image/png": "[encoded data removed]",
      "text/plain": [
       "<Figure size 432x288 with 1 Axes>"
      ]
     },
     "metadata": {
      "needs_background": "light"
     },
     "output_type": "display_data"
    }
   ],
   "source": [
    "plt.hist(outputs_nopunz, label=\"no punzoni\", density=True, alpha=0.5)\n",
    "plt.hist(outputs_close, label=\"punzoni closeset\", density=True, alpha=0.5)\n",
    "plt.legend(loc='upper right')\n",
    "plt.title('Overlapping')\n",
    "plt.show()"
   ]
  },
  {
   "cell_type": "code",
   "execution_count": 56,
   "metadata": {},
   "outputs": [
    {
     "data": {
      "image/png": "[encoded data removed]",
      "text/plain": [
       "<Figure size 432x288 with 1 Axes>"
      ]
     },
     "metadata": {
      "needs_background": "light"
     },
     "output_type": "display_data"
    }
   ],
   "source": [
    "plt.hist(outputs_open, label=\"img casuali\", density=True, alpha=0.5)\n",
    "plt.hist(outputs_close, label=\"punzoni closeset\", density=True, alpha=0.5)\n",
    "plt.legend(loc='upper right')\n",
    "plt.title('Overlapping')\n",
    "plt.show()"
   ]
  },
  {
   "cell_type": "code",
   "execution_count": 65,
   "metadata": {},
   "outputs": [
    {
     "data": {
      "image/png": "[encoded data removed]",
      "text/plain": [
       "<Figure size 432x288 with 1 Axes>"
      ]
     },
     "metadata": {
      "needs_background": "light"
     },
     "output_type": "display_data"
    }
   ],
   "source": [
    "plt.hist(output_composti, label=\"punzoni composti\", density=True, alpha=0.5)\n",
    "plt.hist(outputs_close, label=\"punzoni closeset\", density=True, alpha=0.5)\n",
    "plt.legend(loc='upper right')\n",
    "plt.title('Overlapping')\n",
    "plt.show()"
   ]
  }
 ],
 "metadata": {
  "kernelspec": {
   "display_name": "Python 3.10.4 ('giovanni')",
   "language": "python",
   "name": "python3"
  },
  "language_info": {
   "codemirror_mode": {
    "name": "ipython",
    "version": 3
   },
   "file_extension": ".py",
   "mimetype": "text/x-python",
   "name": "python",
   "nbconvert_exporter": "python",
   "pygments_lexer": "ipython3",
   "version": "3.10.4"
  },
  "vscode": {
   "interpreter": {
    "hash": "ee65a9bd9b244ab144c7288d6cb3046655f4298486ef114fafae143a4f9bde35"
   }
  }
 },
 "nbformat": 4,
 "nbformat_minor": 2
}
